{
  "nbformat": 4,
  "nbformat_minor": 0,
  "metadata": {
    "colab": {
      "name": "[E-15].ipynb",
      "provenance": [],
      "mount_file_id": "1v71T34HTMiY_04k4V30lmWKTzI-mVj0v",
      "authorship_tag": "ABX9TyOsDmEzWs5v74Tq/SsakTnU",
      "include_colab_link": true
    },
    "kernelspec": {
      "name": "python3",
      "display_name": "Python 3"
    },
    "language_info": {
      "name": "python"
    },
    "accelerator": "GPU",
    "gpuClass": "standard",
    "widgets": {
      "application/vnd.jupyter.widget-state+json": {
        "b5a6316d138242efa6a21aba3e7c8f7a": {
          "model_module": "@jupyter-widgets/controls",
          "model_name": "HBoxModel",
          "model_module_version": "1.5.0",
          "state": {
            "_dom_classes": [],
            "_model_module": "@jupyter-widgets/controls",
            "_model_module_version": "1.5.0",
            "_model_name": "HBoxModel",
            "_view_count": null,
            "_view_module": "@jupyter-widgets/controls",
            "_view_module_version": "1.5.0",
            "_view_name": "HBoxView",
            "box_style": "",
            "children": [
              "IPY_MODEL_40811dcd4490402c96329a9f1c5afb27",
              "IPY_MODEL_3c9e890997c947e6bd9ab6651f6927a3",
              "IPY_MODEL_4cc8a501cddc4289a03f09c46e58ba76"
            ],
            "layout": "IPY_MODEL_eda64556a7b4467da7a8b196c9ede730"
          }
        },
        "40811dcd4490402c96329a9f1c5afb27": {
          "model_module": "@jupyter-widgets/controls",
          "model_name": "HTMLModel",
          "model_module_version": "1.5.0",
          "state": {
            "_dom_classes": [],
            "_model_module": "@jupyter-widgets/controls",
            "_model_module_version": "1.5.0",
            "_model_name": "HTMLModel",
            "_view_count": null,
            "_view_module": "@jupyter-widgets/controls",
            "_view_module_version": "1.5.0",
            "_view_name": "HTMLView",
            "description": "",
            "description_tooltip": null,
            "layout": "IPY_MODEL_1df5f9389b4342f4889e69b59c97a356",
            "placeholder": "​",
            "style": "IPY_MODEL_83f92f389de34bd0a82e18e7f6c08630",
            "value": "100%"
          }
        },
        "3c9e890997c947e6bd9ab6651f6927a3": {
          "model_module": "@jupyter-widgets/controls",
          "model_name": "FloatProgressModel",
          "model_module_version": "1.5.0",
          "state": {
            "_dom_classes": [],
            "_model_module": "@jupyter-widgets/controls",
            "_model_module_version": "1.5.0",
            "_model_name": "FloatProgressModel",
            "_view_count": null,
            "_view_module": "@jupyter-widgets/controls",
            "_view_module_version": "1.5.0",
            "_view_name": "ProgressView",
            "bar_style": "success",
            "description": "",
            "description_tooltip": null,
            "layout": "IPY_MODEL_83db2323ef314033a5529e251957d02b",
            "max": 30,
            "min": 0,
            "orientation": "horizontal",
            "style": "IPY_MODEL_70bf4fcfb66246ca97e75235bb3eddb0",
            "value": 30
          }
        },
        "4cc8a501cddc4289a03f09c46e58ba76": {
          "model_module": "@jupyter-widgets/controls",
          "model_name": "HTMLModel",
          "model_module_version": "1.5.0",
          "state": {
            "_dom_classes": [],
            "_model_module": "@jupyter-widgets/controls",
            "_model_module_version": "1.5.0",
            "_model_name": "HTMLModel",
            "_view_count": null,
            "_view_module": "@jupyter-widgets/controls",
            "_view_module_version": "1.5.0",
            "_view_name": "HTMLView",
            "description": "",
            "description_tooltip": null,
            "layout": "IPY_MODEL_40366651f441485c83440b0321413345",
            "placeholder": "​",
            "style": "IPY_MODEL_b5ef1c0edb994072a99e4cfd84362aad",
            "value": " 30/30 [02:55&lt;00:00,  5.90s/it]"
          }
        },
        "eda64556a7b4467da7a8b196c9ede730": {
          "model_module": "@jupyter-widgets/base",
          "model_name": "LayoutModel",
          "model_module_version": "1.2.0",
          "state": {
            "_model_module": "@jupyter-widgets/base",
            "_model_module_version": "1.2.0",
            "_model_name": "LayoutModel",
            "_view_count": null,
            "_view_module": "@jupyter-widgets/base",
            "_view_module_version": "1.2.0",
            "_view_name": "LayoutView",
            "align_content": null,
            "align_items": null,
            "align_self": null,
            "border": null,
            "bottom": null,
            "display": null,
            "flex": null,
            "flex_flow": null,
            "grid_area": null,
            "grid_auto_columns": null,
            "grid_auto_flow": null,
            "grid_auto_rows": null,
            "grid_column": null,
            "grid_gap": null,
            "grid_row": null,
            "grid_template_areas": null,
            "grid_template_columns": null,
            "grid_template_rows": null,
            "height": null,
            "justify_content": null,
            "justify_items": null,
            "left": null,
            "margin": null,
            "max_height": null,
            "max_width": null,
            "min_height": null,
            "min_width": null,
            "object_fit": null,
            "object_position": null,
            "order": null,
            "overflow": null,
            "overflow_x": null,
            "overflow_y": null,
            "padding": null,
            "right": null,
            "top": null,
            "visibility": null,
            "width": null
          }
        },
        "1df5f9389b4342f4889e69b59c97a356": {
          "model_module": "@jupyter-widgets/base",
          "model_name": "LayoutModel",
          "model_module_version": "1.2.0",
          "state": {
            "_model_module": "@jupyter-widgets/base",
            "_model_module_version": "1.2.0",
            "_model_name": "LayoutModel",
            "_view_count": null,
            "_view_module": "@jupyter-widgets/base",
            "_view_module_version": "1.2.0",
            "_view_name": "LayoutView",
            "align_content": null,
            "align_items": null,
            "align_self": null,
            "border": null,
            "bottom": null,
            "display": null,
            "flex": null,
            "flex_flow": null,
            "grid_area": null,
            "grid_auto_columns": null,
            "grid_auto_flow": null,
            "grid_auto_rows": null,
            "grid_column": null,
            "grid_gap": null,
            "grid_row": null,
            "grid_template_areas": null,
            "grid_template_columns": null,
            "grid_template_rows": null,
            "height": null,
            "justify_content": null,
            "justify_items": null,
            "left": null,
            "margin": null,
            "max_height": null,
            "max_width": null,
            "min_height": null,
            "min_width": null,
            "object_fit": null,
            "object_position": null,
            "order": null,
            "overflow": null,
            "overflow_x": null,
            "overflow_y": null,
            "padding": null,
            "right": null,
            "top": null,
            "visibility": null,
            "width": null
          }
        },
        "83f92f389de34bd0a82e18e7f6c08630": {
          "model_module": "@jupyter-widgets/controls",
          "model_name": "DescriptionStyleModel",
          "model_module_version": "1.5.0",
          "state": {
            "_model_module": "@jupyter-widgets/controls",
            "_model_module_version": "1.5.0",
            "_model_name": "DescriptionStyleModel",
            "_view_count": null,
            "_view_module": "@jupyter-widgets/base",
            "_view_module_version": "1.2.0",
            "_view_name": "StyleView",
            "description_width": ""
          }
        },
        "83db2323ef314033a5529e251957d02b": {
          "model_module": "@jupyter-widgets/base",
          "model_name": "LayoutModel",
          "model_module_version": "1.2.0",
          "state": {
            "_model_module": "@jupyter-widgets/base",
            "_model_module_version": "1.2.0",
            "_model_name": "LayoutModel",
            "_view_count": null,
            "_view_module": "@jupyter-widgets/base",
            "_view_module_version": "1.2.0",
            "_view_name": "LayoutView",
            "align_content": null,
            "align_items": null,
            "align_self": null,
            "border": null,
            "bottom": null,
            "display": null,
            "flex": null,
            "flex_flow": null,
            "grid_area": null,
            "grid_auto_columns": null,
            "grid_auto_flow": null,
            "grid_auto_rows": null,
            "grid_column": null,
            "grid_gap": null,
            "grid_row": null,
            "grid_template_areas": null,
            "grid_template_columns": null,
            "grid_template_rows": null,
            "height": null,
            "justify_content": null,
            "justify_items": null,
            "left": null,
            "margin": null,
            "max_height": null,
            "max_width": null,
            "min_height": null,
            "min_width": null,
            "object_fit": null,
            "object_position": null,
            "order": null,
            "overflow": null,
            "overflow_x": null,
            "overflow_y": null,
            "padding": null,
            "right": null,
            "top": null,
            "visibility": null,
            "width": null
          }
        },
        "70bf4fcfb66246ca97e75235bb3eddb0": {
          "model_module": "@jupyter-widgets/controls",
          "model_name": "ProgressStyleModel",
          "model_module_version": "1.5.0",
          "state": {
            "_model_module": "@jupyter-widgets/controls",
            "_model_module_version": "1.5.0",
            "_model_name": "ProgressStyleModel",
            "_view_count": null,
            "_view_module": "@jupyter-widgets/base",
            "_view_module_version": "1.2.0",
            "_view_name": "StyleView",
            "bar_color": null,
            "description_width": ""
          }
        },
        "40366651f441485c83440b0321413345": {
          "model_module": "@jupyter-widgets/base",
          "model_name": "LayoutModel",
          "model_module_version": "1.2.0",
          "state": {
            "_model_module": "@jupyter-widgets/base",
            "_model_module_version": "1.2.0",
            "_model_name": "LayoutModel",
            "_view_count": null,
            "_view_module": "@jupyter-widgets/base",
            "_view_module_version": "1.2.0",
            "_view_name": "LayoutView",
            "align_content": null,
            "align_items": null,
            "align_self": null,
            "border": null,
            "bottom": null,
            "display": null,
            "flex": null,
            "flex_flow": null,
            "grid_area": null,
            "grid_auto_columns": null,
            "grid_auto_flow": null,
            "grid_auto_rows": null,
            "grid_column": null,
            "grid_gap": null,
            "grid_row": null,
            "grid_template_areas": null,
            "grid_template_columns": null,
            "grid_template_rows": null,
            "height": null,
            "justify_content": null,
            "justify_items": null,
            "left": null,
            "margin": null,
            "max_height": null,
            "max_width": null,
            "min_height": null,
            "min_width": null,
            "object_fit": null,
            "object_position": null,
            "order": null,
            "overflow": null,
            "overflow_x": null,
            "overflow_y": null,
            "padding": null,
            "right": null,
            "top": null,
            "visibility": null,
            "width": null
          }
        },
        "b5ef1c0edb994072a99e4cfd84362aad": {
          "model_module": "@jupyter-widgets/controls",
          "model_name": "DescriptionStyleModel",
          "model_module_version": "1.5.0",
          "state": {
            "_model_module": "@jupyter-widgets/controls",
            "_model_module_version": "1.5.0",
            "_model_name": "DescriptionStyleModel",
            "_view_count": null,
            "_view_module": "@jupyter-widgets/base",
            "_view_module_version": "1.2.0",
            "_view_name": "StyleView",
            "description_width": ""
          }
        }
      }
    }
  },
  "cells": [
    {
      "cell_type": "markdown",
      "metadata": {
        "id": "view-in-github",
        "colab_type": "text"
      },
      "source": [
        "<a href=\"https://colab.research.google.com/github/BYK82/AIFFEL/blob/main/%5BE_15%5D.ipynb\" target=\"_parent\"><img src=\"https://colab.research.google.com/assets/colab-badge.svg\" alt=\"Open In Colab\"/></a>"
      ]
    },
    {
      "cell_type": "markdown",
      "source": [
        "## 15-9. 프로젝트 - Movielens 영화 추천 실습\n",
        "\n",
        "이전 스텝에서 배운 MF 모델 학습 방법을 토대로, 내가 좋아할 만한 영화 추천 시스템을 제작해 보겠습니다.\n",
        "\n",
        "이번에 활용할 데이터셋은 추천 시스템의 MNIST라고 부를만한 Movielens 데이터입니다.\n",
        "\n",
        "  - 유저가 영화에 대해 평점을 매긴 데이터가 데이터 크기 별로 있습니다. MovieLens 1M Dataset 사용을 권장합니다.\n",
        "  - 별점 데이터는 대표적인 explicit 데이터입니다. 하지만 implicit 데이터로 간주하고 테스트해 볼 수 있습니다.\n",
        "  - 별점을 시청횟수로 해석해서 생각하겠습니다.\n",
        "  - 또한 유저가 3점 미만으로 준 데이터는 선호하지 않는다고 가정하고 제외하겠습니다.\n"
      ],
      "metadata": {
        "id": "W4qBFadHCoYa"
      }
    },
    {
      "cell_type": "markdown",
      "source": [
        "![image.png](data:image/png;base64,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)"
      ],
      "metadata": {
        "id": "sfBidGepDvxu"
      }
    },
    {
      "cell_type": "code",
      "source": [
        "%%capture\n",
        "!pip install implicit"
      ],
      "metadata": {
        "id": "7wVktq9mUqRh"
      },
      "execution_count": 1,
      "outputs": []
    },
    {
      "cell_type": "code",
      "execution_count": 2,
      "metadata": {
        "id": "iHkEnn2JCaJA"
      },
      "outputs": [],
      "source": [
        "import matplotlib.pyplot as plt   \n",
        "import math   \n",
        "import time   \n",
        "from datetime import datetime   \n",
        "import pandas as pd   \n",
        "import numpy as np\n",
        "import pandas as pd\n",
        "import os\n",
        "\n",
        "import scipy\n",
        "import implicit\n",
        "from scipy.sparse import csr_matrix\n",
        "from implicit.als import AlternatingLeastSquares\n",
        "\n",
        "# implicit 라이브러리에서 권장 사항\n",
        "os.environ['OPENBLAS_NUM_THREADS']='1'\n",
        "os.environ['KMP_DUPLICATE_LIB_OK']='True'\n",
        "os.environ['MKL_NUM_THREADS']='1'\n"
      ]
    },
    {
      "cell_type": "code",
      "source": [
        "from google.colab import drive\n",
        "drive.mount('/content/drive')"
      ],
      "metadata": {
        "colab": {
          "base_uri": "https://localhost:8080/"
        },
        "id": "Q3mN0bGqE7qV",
        "outputId": "0bc12406-48c4-4af0-86d5-6d63983de265"
      },
      "execution_count": 3,
      "outputs": [
        {
          "output_type": "stream",
          "name": "stdout",
          "text": [
            "Mounted at /content/drive\n"
          ]
        }
      ]
    },
    {
      "cell_type": "markdown",
      "source": [
        "## 1) 데이터 준비와 전처리"
      ],
      "metadata": {
        "id": "bkQMwaj_DKJC"
      }
    },
    {
      "cell_type": "code",
      "source": [
        "# 파일 불러오기\n",
        "ratings_file_path = '/content/drive/MyDrive/0.AIFFEL/LMS node/Exp 15/data/ml-1m/ratings.dat'\n",
        "ratings_cols = ['user_id', 'movie_id', 'rating', 'timestamp']\n",
        "ratings = pd.read_csv(ratings_file_path, sep='::', names=ratings_cols, engine='python')\n",
        "orginal_data_size = len(ratings)\n",
        "ratings.head()"
      ],
      "metadata": {
        "colab": {
          "base_uri": "https://localhost:8080/",
          "height": 206
        },
        "id": "LLAAKZBYDjb2",
        "outputId": "2c99e18e-8283-400e-f31b-e7cc5cd36b94"
      },
      "execution_count": 4,
      "outputs": [
        {
          "output_type": "execute_result",
          "data": {
            "text/plain": [
              "   user_id  movie_id  rating  timestamp\n",
              "0        1      1193       5  978300760\n",
              "1        1       661       3  978302109\n",
              "2        1       914       3  978301968\n",
              "3        1      3408       4  978300275\n",
              "4        1      2355       5  978824291"
            ],
            "text/html": [
              "\n",
              "  <div id=\"df-8bfc1475-86e7-4621-9c2b-c29d78616ff6\">\n",
              "    <div class=\"colab-df-container\">\n",
              "      <div>\n",
              "<style scoped>\n",
              "    .dataframe tbody tr th:only-of-type {\n",
              "        vertical-align: middle;\n",
              "    }\n",
              "\n",
              "    .dataframe tbody tr th {\n",
              "        vertical-align: top;\n",
              "    }\n",
              "\n",
              "    .dataframe thead th {\n",
              "        text-align: right;\n",
              "    }\n",
              "</style>\n",
              "<table border=\"1\" class=\"dataframe\">\n",
              "  <thead>\n",
              "    <tr style=\"text-align: right;\">\n",
              "      <th></th>\n",
              "      <th>user_id</th>\n",
              "      <th>movie_id</th>\n",
              "      <th>rating</th>\n",
              "      <th>timestamp</th>\n",
              "    </tr>\n",
              "  </thead>\n",
              "  <tbody>\n",
              "    <tr>\n",
              "      <th>0</th>\n",
              "      <td>1</td>\n",
              "      <td>1193</td>\n",
              "      <td>5</td>\n",
              "      <td>978300760</td>\n",
              "    </tr>\n",
              "    <tr>\n",
              "      <th>1</th>\n",
              "      <td>1</td>\n",
              "      <td>661</td>\n",
              "      <td>3</td>\n",
              "      <td>978302109</td>\n",
              "    </tr>\n",
              "    <tr>\n",
              "      <th>2</th>\n",
              "      <td>1</td>\n",
              "      <td>914</td>\n",
              "      <td>3</td>\n",
              "      <td>978301968</td>\n",
              "    </tr>\n",
              "    <tr>\n",
              "      <th>3</th>\n",
              "      <td>1</td>\n",
              "      <td>3408</td>\n",
              "      <td>4</td>\n",
              "      <td>978300275</td>\n",
              "    </tr>\n",
              "    <tr>\n",
              "      <th>4</th>\n",
              "      <td>1</td>\n",
              "      <td>2355</td>\n",
              "      <td>5</td>\n",
              "      <td>978824291</td>\n",
              "    </tr>\n",
              "  </tbody>\n",
              "</table>\n",
              "</div>\n",
              "      <button class=\"colab-df-convert\" onclick=\"convertToInteractive('df-8bfc1475-86e7-4621-9c2b-c29d78616ff6')\"\n",
              "              title=\"Convert this dataframe to an interactive table.\"\n",
              "              style=\"display:none;\">\n",
              "        \n",
              "  <svg xmlns=\"http://www.w3.org/2000/svg\" height=\"24px\"viewBox=\"0 0 24 24\"\n",
              "       width=\"24px\">\n",
              "    <path d=\"M0 0h24v24H0V0z\" fill=\"none\"/>\n",
              "    <path d=\"M18.56 5.44l.94 2.06.94-2.06 2.06-.94-2.06-.94-.94-2.06-.94 2.06-2.06.94zm-11 1L8.5 8.5l.94-2.06 2.06-.94-2.06-.94L8.5 2.5l-.94 2.06-2.06.94zm10 10l.94 2.06.94-2.06 2.06-.94-2.06-.94-.94-2.06-.94 2.06-2.06.94z\"/><path d=\"M17.41 7.96l-1.37-1.37c-.4-.4-.92-.59-1.43-.59-.52 0-1.04.2-1.43.59L10.3 9.45l-7.72 7.72c-.78.78-.78 2.05 0 2.83L4 21.41c.39.39.9.59 1.41.59.51 0 1.02-.2 1.41-.59l7.78-7.78 2.81-2.81c.8-.78.8-2.07 0-2.86zM5.41 20L4 18.59l7.72-7.72 1.47 1.35L5.41 20z\"/>\n",
              "  </svg>\n",
              "      </button>\n",
              "      \n",
              "  <style>\n",
              "    .colab-df-container {\n",
              "      display:flex;\n",
              "      flex-wrap:wrap;\n",
              "      gap: 12px;\n",
              "    }\n",
              "\n",
              "    .colab-df-convert {\n",
              "      background-color: #E8F0FE;\n",
              "      border: none;\n",
              "      border-radius: 50%;\n",
              "      cursor: pointer;\n",
              "      display: none;\n",
              "      fill: #1967D2;\n",
              "      height: 32px;\n",
              "      padding: 0 0 0 0;\n",
              "      width: 32px;\n",
              "    }\n",
              "\n",
              "    .colab-df-convert:hover {\n",
              "      background-color: #E2EBFA;\n",
              "      box-shadow: 0px 1px 2px rgba(60, 64, 67, 0.3), 0px 1px 3px 1px rgba(60, 64, 67, 0.15);\n",
              "      fill: #174EA6;\n",
              "    }\n",
              "\n",
              "    [theme=dark] .colab-df-convert {\n",
              "      background-color: #3B4455;\n",
              "      fill: #D2E3FC;\n",
              "    }\n",
              "\n",
              "    [theme=dark] .colab-df-convert:hover {\n",
              "      background-color: #434B5C;\n",
              "      box-shadow: 0px 1px 3px 1px rgba(0, 0, 0, 0.15);\n",
              "      filter: drop-shadow(0px 1px 2px rgba(0, 0, 0, 0.3));\n",
              "      fill: #FFFFFF;\n",
              "    }\n",
              "  </style>\n",
              "\n",
              "      <script>\n",
              "        const buttonEl =\n",
              "          document.querySelector('#df-8bfc1475-86e7-4621-9c2b-c29d78616ff6 button.colab-df-convert');\n",
              "        buttonEl.style.display =\n",
              "          google.colab.kernel.accessAllowed ? 'block' : 'none';\n",
              "\n",
              "        async function convertToInteractive(key) {\n",
              "          const element = document.querySelector('#df-8bfc1475-86e7-4621-9c2b-c29d78616ff6');\n",
              "          const dataTable =\n",
              "            await google.colab.kernel.invokeFunction('convertToInteractive',\n",
              "                                                     [key], {});\n",
              "          if (!dataTable) return;\n",
              "\n",
              "          const docLinkHtml = 'Like what you see? Visit the ' +\n",
              "            '<a target=\"_blank\" href=https://colab.research.google.com/notebooks/data_table.ipynb>data table notebook</a>'\n",
              "            + ' to learn more about interactive tables.';\n",
              "          element.innerHTML = '';\n",
              "          dataTable['output_type'] = 'display_data';\n",
              "          await google.colab.output.renderOutput(dataTable, element);\n",
              "          const docLink = document.createElement('div');\n",
              "          docLink.innerHTML = docLinkHtml;\n",
              "          element.appendChild(docLink);\n",
              "        }\n",
              "      </script>\n",
              "    </div>\n",
              "  </div>\n",
              "  "
            ]
          },
          "metadata": {},
          "execution_count": 4
        }
      ]
    },
    {
      "cell_type": "code",
      "source": [
        "# rating 컬럼의 이름을 counts로 변경\n",
        "ratings.rename(columns={'rating':'counts'}, inplace=True)\n",
        "ratings"
      ],
      "metadata": {
        "id": "3sOvlAYJZL_y",
        "colab": {
          "base_uri": "https://localhost:8080/",
          "height": 424
        },
        "outputId": "d5eea6a4-f665-4beb-f613-a55d788043e9"
      },
      "execution_count": 5,
      "outputs": [
        {
          "output_type": "execute_result",
          "data": {
            "text/plain": [
              "         user_id  movie_id  counts  timestamp\n",
              "0              1      1193       5  978300760\n",
              "1              1       661       3  978302109\n",
              "2              1       914       3  978301968\n",
              "3              1      3408       4  978300275\n",
              "4              1      2355       5  978824291\n",
              "...          ...       ...     ...        ...\n",
              "1000204     6040      1091       1  956716541\n",
              "1000205     6040      1094       5  956704887\n",
              "1000206     6040       562       5  956704746\n",
              "1000207     6040      1096       4  956715648\n",
              "1000208     6040      1097       4  956715569\n",
              "\n",
              "[1000209 rows x 4 columns]"
            ],
            "text/html": [
              "\n",
              "  <div id=\"df-4e8c0fbf-7b11-4b3f-b1e4-08b20efa44aa\">\n",
              "    <div class=\"colab-df-container\">\n",
              "      <div>\n",
              "<style scoped>\n",
              "    .dataframe tbody tr th:only-of-type {\n",
              "        vertical-align: middle;\n",
              "    }\n",
              "\n",
              "    .dataframe tbody tr th {\n",
              "        vertical-align: top;\n",
              "    }\n",
              "\n",
              "    .dataframe thead th {\n",
              "        text-align: right;\n",
              "    }\n",
              "</style>\n",
              "<table border=\"1\" class=\"dataframe\">\n",
              "  <thead>\n",
              "    <tr style=\"text-align: right;\">\n",
              "      <th></th>\n",
              "      <th>user_id</th>\n",
              "      <th>movie_id</th>\n",
              "      <th>counts</th>\n",
              "      <th>timestamp</th>\n",
              "    </tr>\n",
              "  </thead>\n",
              "  <tbody>\n",
              "    <tr>\n",
              "      <th>0</th>\n",
              "      <td>1</td>\n",
              "      <td>1193</td>\n",
              "      <td>5</td>\n",
              "      <td>978300760</td>\n",
              "    </tr>\n",
              "    <tr>\n",
              "      <th>1</th>\n",
              "      <td>1</td>\n",
              "      <td>661</td>\n",
              "      <td>3</td>\n",
              "      <td>978302109</td>\n",
              "    </tr>\n",
              "    <tr>\n",
              "      <th>2</th>\n",
              "      <td>1</td>\n",
              "      <td>914</td>\n",
              "      <td>3</td>\n",
              "      <td>978301968</td>\n",
              "    </tr>\n",
              "    <tr>\n",
              "      <th>3</th>\n",
              "      <td>1</td>\n",
              "      <td>3408</td>\n",
              "      <td>4</td>\n",
              "      <td>978300275</td>\n",
              "    </tr>\n",
              "    <tr>\n",
              "      <th>4</th>\n",
              "      <td>1</td>\n",
              "      <td>2355</td>\n",
              "      <td>5</td>\n",
              "      <td>978824291</td>\n",
              "    </tr>\n",
              "    <tr>\n",
              "      <th>...</th>\n",
              "      <td>...</td>\n",
              "      <td>...</td>\n",
              "      <td>...</td>\n",
              "      <td>...</td>\n",
              "    </tr>\n",
              "    <tr>\n",
              "      <th>1000204</th>\n",
              "      <td>6040</td>\n",
              "      <td>1091</td>\n",
              "      <td>1</td>\n",
              "      <td>956716541</td>\n",
              "    </tr>\n",
              "    <tr>\n",
              "      <th>1000205</th>\n",
              "      <td>6040</td>\n",
              "      <td>1094</td>\n",
              "      <td>5</td>\n",
              "      <td>956704887</td>\n",
              "    </tr>\n",
              "    <tr>\n",
              "      <th>1000206</th>\n",
              "      <td>6040</td>\n",
              "      <td>562</td>\n",
              "      <td>5</td>\n",
              "      <td>956704746</td>\n",
              "    </tr>\n",
              "    <tr>\n",
              "      <th>1000207</th>\n",
              "      <td>6040</td>\n",
              "      <td>1096</td>\n",
              "      <td>4</td>\n",
              "      <td>956715648</td>\n",
              "    </tr>\n",
              "    <tr>\n",
              "      <th>1000208</th>\n",
              "      <td>6040</td>\n",
              "      <td>1097</td>\n",
              "      <td>4</td>\n",
              "      <td>956715569</td>\n",
              "    </tr>\n",
              "  </tbody>\n",
              "</table>\n",
              "<p>1000209 rows × 4 columns</p>\n",
              "</div>\n",
              "      <button class=\"colab-df-convert\" onclick=\"convertToInteractive('df-4e8c0fbf-7b11-4b3f-b1e4-08b20efa44aa')\"\n",
              "              title=\"Convert this dataframe to an interactive table.\"\n",
              "              style=\"display:none;\">\n",
              "        \n",
              "  <svg xmlns=\"http://www.w3.org/2000/svg\" height=\"24px\"viewBox=\"0 0 24 24\"\n",
              "       width=\"24px\">\n",
              "    <path d=\"M0 0h24v24H0V0z\" fill=\"none\"/>\n",
              "    <path d=\"M18.56 5.44l.94 2.06.94-2.06 2.06-.94-2.06-.94-.94-2.06-.94 2.06-2.06.94zm-11 1L8.5 8.5l.94-2.06 2.06-.94-2.06-.94L8.5 2.5l-.94 2.06-2.06.94zm10 10l.94 2.06.94-2.06 2.06-.94-2.06-.94-.94-2.06-.94 2.06-2.06.94z\"/><path d=\"M17.41 7.96l-1.37-1.37c-.4-.4-.92-.59-1.43-.59-.52 0-1.04.2-1.43.59L10.3 9.45l-7.72 7.72c-.78.78-.78 2.05 0 2.83L4 21.41c.39.39.9.59 1.41.59.51 0 1.02-.2 1.41-.59l7.78-7.78 2.81-2.81c.8-.78.8-2.07 0-2.86zM5.41 20L4 18.59l7.72-7.72 1.47 1.35L5.41 20z\"/>\n",
              "  </svg>\n",
              "      </button>\n",
              "      \n",
              "  <style>\n",
              "    .colab-df-container {\n",
              "      display:flex;\n",
              "      flex-wrap:wrap;\n",
              "      gap: 12px;\n",
              "    }\n",
              "\n",
              "    .colab-df-convert {\n",
              "      background-color: #E8F0FE;\n",
              "      border: none;\n",
              "      border-radius: 50%;\n",
              "      cursor: pointer;\n",
              "      display: none;\n",
              "      fill: #1967D2;\n",
              "      height: 32px;\n",
              "      padding: 0 0 0 0;\n",
              "      width: 32px;\n",
              "    }\n",
              "\n",
              "    .colab-df-convert:hover {\n",
              "      background-color: #E2EBFA;\n",
              "      box-shadow: 0px 1px 2px rgba(60, 64, 67, 0.3), 0px 1px 3px 1px rgba(60, 64, 67, 0.15);\n",
              "      fill: #174EA6;\n",
              "    }\n",
              "\n",
              "    [theme=dark] .colab-df-convert {\n",
              "      background-color: #3B4455;\n",
              "      fill: #D2E3FC;\n",
              "    }\n",
              "\n",
              "    [theme=dark] .colab-df-convert:hover {\n",
              "      background-color: #434B5C;\n",
              "      box-shadow: 0px 1px 3px 1px rgba(0, 0, 0, 0.15);\n",
              "      filter: drop-shadow(0px 1px 2px rgba(0, 0, 0, 0.3));\n",
              "      fill: #FFFFFF;\n",
              "    }\n",
              "  </style>\n",
              "\n",
              "      <script>\n",
              "        const buttonEl =\n",
              "          document.querySelector('#df-4e8c0fbf-7b11-4b3f-b1e4-08b20efa44aa button.colab-df-convert');\n",
              "        buttonEl.style.display =\n",
              "          google.colab.kernel.accessAllowed ? 'block' : 'none';\n",
              "\n",
              "        async function convertToInteractive(key) {\n",
              "          const element = document.querySelector('#df-4e8c0fbf-7b11-4b3f-b1e4-08b20efa44aa');\n",
              "          const dataTable =\n",
              "            await google.colab.kernel.invokeFunction('convertToInteractive',\n",
              "                                                     [key], {});\n",
              "          if (!dataTable) return;\n",
              "\n",
              "          const docLinkHtml = 'Like what you see? Visit the ' +\n",
              "            '<a target=\"_blank\" href=https://colab.research.google.com/notebooks/data_table.ipynb>data table notebook</a>'\n",
              "            + ' to learn more about interactive tables.';\n",
              "          element.innerHTML = '';\n",
              "          dataTable['output_type'] = 'display_data';\n",
              "          await google.colab.output.renderOutput(dataTable, element);\n",
              "          const docLink = document.createElement('div');\n",
              "          docLink.innerHTML = docLinkHtml;\n",
              "          element.appendChild(docLink);\n",
              "        }\n",
              "      </script>\n",
              "    </div>\n",
              "  </div>\n",
              "  "
            ]
          },
          "metadata": {},
          "execution_count": 5
        }
      ]
    },
    {
      "cell_type": "code",
      "source": [
        "# 사용하는 컬럼 재정의\n",
        "using_cols = ['user_id', 'movie_id', 'counts']\n",
        "ratings = ratings[using_cols]\n",
        "ratings.head(10)"
      ],
      "metadata": {
        "colab": {
          "base_uri": "https://localhost:8080/",
          "height": 363
        },
        "id": "d9ULFWDYLxT5",
        "outputId": "fa192607-3fd5-49b4-9428-c80a79b0c249"
      },
      "execution_count": 6,
      "outputs": [
        {
          "output_type": "execute_result",
          "data": {
            "text/plain": [
              "   user_id  movie_id  counts\n",
              "0        1      1193       5\n",
              "1        1       661       3\n",
              "2        1       914       3\n",
              "3        1      3408       4\n",
              "4        1      2355       5\n",
              "5        1      1197       3\n",
              "6        1      1287       5\n",
              "7        1      2804       5\n",
              "8        1       594       4\n",
              "9        1       919       4"
            ],
            "text/html": [
              "\n",
              "  <div id=\"df-074c2acb-88cc-4208-a30e-1e8ba861faf8\">\n",
              "    <div class=\"colab-df-container\">\n",
              "      <div>\n",
              "<style scoped>\n",
              "    .dataframe tbody tr th:only-of-type {\n",
              "        vertical-align: middle;\n",
              "    }\n",
              "\n",
              "    .dataframe tbody tr th {\n",
              "        vertical-align: top;\n",
              "    }\n",
              "\n",
              "    .dataframe thead th {\n",
              "        text-align: right;\n",
              "    }\n",
              "</style>\n",
              "<table border=\"1\" class=\"dataframe\">\n",
              "  <thead>\n",
              "    <tr style=\"text-align: right;\">\n",
              "      <th></th>\n",
              "      <th>user_id</th>\n",
              "      <th>movie_id</th>\n",
              "      <th>counts</th>\n",
              "    </tr>\n",
              "  </thead>\n",
              "  <tbody>\n",
              "    <tr>\n",
              "      <th>0</th>\n",
              "      <td>1</td>\n",
              "      <td>1193</td>\n",
              "      <td>5</td>\n",
              "    </tr>\n",
              "    <tr>\n",
              "      <th>1</th>\n",
              "      <td>1</td>\n",
              "      <td>661</td>\n",
              "      <td>3</td>\n",
              "    </tr>\n",
              "    <tr>\n",
              "      <th>2</th>\n",
              "      <td>1</td>\n",
              "      <td>914</td>\n",
              "      <td>3</td>\n",
              "    </tr>\n",
              "    <tr>\n",
              "      <th>3</th>\n",
              "      <td>1</td>\n",
              "      <td>3408</td>\n",
              "      <td>4</td>\n",
              "    </tr>\n",
              "    <tr>\n",
              "      <th>4</th>\n",
              "      <td>1</td>\n",
              "      <td>2355</td>\n",
              "      <td>5</td>\n",
              "    </tr>\n",
              "    <tr>\n",
              "      <th>5</th>\n",
              "      <td>1</td>\n",
              "      <td>1197</td>\n",
              "      <td>3</td>\n",
              "    </tr>\n",
              "    <tr>\n",
              "      <th>6</th>\n",
              "      <td>1</td>\n",
              "      <td>1287</td>\n",
              "      <td>5</td>\n",
              "    </tr>\n",
              "    <tr>\n",
              "      <th>7</th>\n",
              "      <td>1</td>\n",
              "      <td>2804</td>\n",
              "      <td>5</td>\n",
              "    </tr>\n",
              "    <tr>\n",
              "      <th>8</th>\n",
              "      <td>1</td>\n",
              "      <td>594</td>\n",
              "      <td>4</td>\n",
              "    </tr>\n",
              "    <tr>\n",
              "      <th>9</th>\n",
              "      <td>1</td>\n",
              "      <td>919</td>\n",
              "      <td>4</td>\n",
              "    </tr>\n",
              "  </tbody>\n",
              "</table>\n",
              "</div>\n",
              "      <button class=\"colab-df-convert\" onclick=\"convertToInteractive('df-074c2acb-88cc-4208-a30e-1e8ba861faf8')\"\n",
              "              title=\"Convert this dataframe to an interactive table.\"\n",
              "              style=\"display:none;\">\n",
              "        \n",
              "  <svg xmlns=\"http://www.w3.org/2000/svg\" height=\"24px\"viewBox=\"0 0 24 24\"\n",
              "       width=\"24px\">\n",
              "    <path d=\"M0 0h24v24H0V0z\" fill=\"none\"/>\n",
              "    <path d=\"M18.56 5.44l.94 2.06.94-2.06 2.06-.94-2.06-.94-.94-2.06-.94 2.06-2.06.94zm-11 1L8.5 8.5l.94-2.06 2.06-.94-2.06-.94L8.5 2.5l-.94 2.06-2.06.94zm10 10l.94 2.06.94-2.06 2.06-.94-2.06-.94-.94-2.06-.94 2.06-2.06.94z\"/><path d=\"M17.41 7.96l-1.37-1.37c-.4-.4-.92-.59-1.43-.59-.52 0-1.04.2-1.43.59L10.3 9.45l-7.72 7.72c-.78.78-.78 2.05 0 2.83L4 21.41c.39.39.9.59 1.41.59.51 0 1.02-.2 1.41-.59l7.78-7.78 2.81-2.81c.8-.78.8-2.07 0-2.86zM5.41 20L4 18.59l7.72-7.72 1.47 1.35L5.41 20z\"/>\n",
              "  </svg>\n",
              "      </button>\n",
              "      \n",
              "  <style>\n",
              "    .colab-df-container {\n",
              "      display:flex;\n",
              "      flex-wrap:wrap;\n",
              "      gap: 12px;\n",
              "    }\n",
              "\n",
              "    .colab-df-convert {\n",
              "      background-color: #E8F0FE;\n",
              "      border: none;\n",
              "      border-radius: 50%;\n",
              "      cursor: pointer;\n",
              "      display: none;\n",
              "      fill: #1967D2;\n",
              "      height: 32px;\n",
              "      padding: 0 0 0 0;\n",
              "      width: 32px;\n",
              "    }\n",
              "\n",
              "    .colab-df-convert:hover {\n",
              "      background-color: #E2EBFA;\n",
              "      box-shadow: 0px 1px 2px rgba(60, 64, 67, 0.3), 0px 1px 3px 1px rgba(60, 64, 67, 0.15);\n",
              "      fill: #174EA6;\n",
              "    }\n",
              "\n",
              "    [theme=dark] .colab-df-convert {\n",
              "      background-color: #3B4455;\n",
              "      fill: #D2E3FC;\n",
              "    }\n",
              "\n",
              "    [theme=dark] .colab-df-convert:hover {\n",
              "      background-color: #434B5C;\n",
              "      box-shadow: 0px 1px 3px 1px rgba(0, 0, 0, 0.15);\n",
              "      filter: drop-shadow(0px 1px 2px rgba(0, 0, 0, 0.3));\n",
              "      fill: #FFFFFF;\n",
              "    }\n",
              "  </style>\n",
              "\n",
              "      <script>\n",
              "        const buttonEl =\n",
              "          document.querySelector('#df-074c2acb-88cc-4208-a30e-1e8ba861faf8 button.colab-df-convert');\n",
              "        buttonEl.style.display =\n",
              "          google.colab.kernel.accessAllowed ? 'block' : 'none';\n",
              "\n",
              "        async function convertToInteractive(key) {\n",
              "          const element = document.querySelector('#df-074c2acb-88cc-4208-a30e-1e8ba861faf8');\n",
              "          const dataTable =\n",
              "            await google.colab.kernel.invokeFunction('convertToInteractive',\n",
              "                                                     [key], {});\n",
              "          if (!dataTable) return;\n",
              "\n",
              "          const docLinkHtml = 'Like what you see? Visit the ' +\n",
              "            '<a target=\"_blank\" href=https://colab.research.google.com/notebooks/data_table.ipynb>data table notebook</a>'\n",
              "            + ' to learn more about interactive tables.';\n",
              "          element.innerHTML = '';\n",
              "          dataTable['output_type'] = 'display_data';\n",
              "          await google.colab.output.renderOutput(dataTable, element);\n",
              "          const docLink = document.createElement('div');\n",
              "          docLink.innerHTML = docLinkHtml;\n",
              "          element.appendChild(docLink);\n",
              "        }\n",
              "      </script>\n",
              "    </div>\n",
              "  </div>\n",
              "  "
            ]
          },
          "metadata": {},
          "execution_count": 6
        }
      ]
    },
    {
      "cell_type": "code",
      "source": [
        "# 메타데이터 확인\n",
        "movie_file_path = '/content/drive/MyDrive/0.AIFFEL/LMS node/Exp 15/data/ml-1m/movies.dat'\n",
        "cols = ['movie_id', 'title', 'genre'] \n",
        "movies = pd.read_csv(movie_file_path, sep='::', names=cols, engine='python', encoding = 'ISO-8859-1')\n",
        "movies.head(10)"
      ],
      "metadata": {
        "colab": {
          "base_uri": "https://localhost:8080/",
          "height": 363
        },
        "id": "BETsXIBnGDSv",
        "outputId": "1109ea09-227f-4b9b-9c8a-5c47adead963"
      },
      "execution_count": 7,
      "outputs": [
        {
          "output_type": "execute_result",
          "data": {
            "text/plain": [
              "   movie_id                               title                         genre\n",
              "0         1                    Toy Story (1995)   Animation|Children's|Comedy\n",
              "1         2                      Jumanji (1995)  Adventure|Children's|Fantasy\n",
              "2         3             Grumpier Old Men (1995)                Comedy|Romance\n",
              "3         4            Waiting to Exhale (1995)                  Comedy|Drama\n",
              "4         5  Father of the Bride Part II (1995)                        Comedy\n",
              "5         6                         Heat (1995)         Action|Crime|Thriller\n",
              "6         7                      Sabrina (1995)                Comedy|Romance\n",
              "7         8                 Tom and Huck (1995)          Adventure|Children's\n",
              "8         9                 Sudden Death (1995)                        Action\n",
              "9        10                    GoldenEye (1995)     Action|Adventure|Thriller"
            ],
            "text/html": [
              "\n",
              "  <div id=\"df-6534b717-6c9d-4547-96e2-6730169aaaf1\">\n",
              "    <div class=\"colab-df-container\">\n",
              "      <div>\n",
              "<style scoped>\n",
              "    .dataframe tbody tr th:only-of-type {\n",
              "        vertical-align: middle;\n",
              "    }\n",
              "\n",
              "    .dataframe tbody tr th {\n",
              "        vertical-align: top;\n",
              "    }\n",
              "\n",
              "    .dataframe thead th {\n",
              "        text-align: right;\n",
              "    }\n",
              "</style>\n",
              "<table border=\"1\" class=\"dataframe\">\n",
              "  <thead>\n",
              "    <tr style=\"text-align: right;\">\n",
              "      <th></th>\n",
              "      <th>movie_id</th>\n",
              "      <th>title</th>\n",
              "      <th>genre</th>\n",
              "    </tr>\n",
              "  </thead>\n",
              "  <tbody>\n",
              "    <tr>\n",
              "      <th>0</th>\n",
              "      <td>1</td>\n",
              "      <td>Toy Story (1995)</td>\n",
              "      <td>Animation|Children's|Comedy</td>\n",
              "    </tr>\n",
              "    <tr>\n",
              "      <th>1</th>\n",
              "      <td>2</td>\n",
              "      <td>Jumanji (1995)</td>\n",
              "      <td>Adventure|Children's|Fantasy</td>\n",
              "    </tr>\n",
              "    <tr>\n",
              "      <th>2</th>\n",
              "      <td>3</td>\n",
              "      <td>Grumpier Old Men (1995)</td>\n",
              "      <td>Comedy|Romance</td>\n",
              "    </tr>\n",
              "    <tr>\n",
              "      <th>3</th>\n",
              "      <td>4</td>\n",
              "      <td>Waiting to Exhale (1995)</td>\n",
              "      <td>Comedy|Drama</td>\n",
              "    </tr>\n",
              "    <tr>\n",
              "      <th>4</th>\n",
              "      <td>5</td>\n",
              "      <td>Father of the Bride Part II (1995)</td>\n",
              "      <td>Comedy</td>\n",
              "    </tr>\n",
              "    <tr>\n",
              "      <th>5</th>\n",
              "      <td>6</td>\n",
              "      <td>Heat (1995)</td>\n",
              "      <td>Action|Crime|Thriller</td>\n",
              "    </tr>\n",
              "    <tr>\n",
              "      <th>6</th>\n",
              "      <td>7</td>\n",
              "      <td>Sabrina (1995)</td>\n",
              "      <td>Comedy|Romance</td>\n",
              "    </tr>\n",
              "    <tr>\n",
              "      <th>7</th>\n",
              "      <td>8</td>\n",
              "      <td>Tom and Huck (1995)</td>\n",
              "      <td>Adventure|Children's</td>\n",
              "    </tr>\n",
              "    <tr>\n",
              "      <th>8</th>\n",
              "      <td>9</td>\n",
              "      <td>Sudden Death (1995)</td>\n",
              "      <td>Action</td>\n",
              "    </tr>\n",
              "    <tr>\n",
              "      <th>9</th>\n",
              "      <td>10</td>\n",
              "      <td>GoldenEye (1995)</td>\n",
              "      <td>Action|Adventure|Thriller</td>\n",
              "    </tr>\n",
              "  </tbody>\n",
              "</table>\n",
              "</div>\n",
              "      <button class=\"colab-df-convert\" onclick=\"convertToInteractive('df-6534b717-6c9d-4547-96e2-6730169aaaf1')\"\n",
              "              title=\"Convert this dataframe to an interactive table.\"\n",
              "              style=\"display:none;\">\n",
              "        \n",
              "  <svg xmlns=\"http://www.w3.org/2000/svg\" height=\"24px\"viewBox=\"0 0 24 24\"\n",
              "       width=\"24px\">\n",
              "    <path d=\"M0 0h24v24H0V0z\" fill=\"none\"/>\n",
              "    <path d=\"M18.56 5.44l.94 2.06.94-2.06 2.06-.94-2.06-.94-.94-2.06-.94 2.06-2.06.94zm-11 1L8.5 8.5l.94-2.06 2.06-.94-2.06-.94L8.5 2.5l-.94 2.06-2.06.94zm10 10l.94 2.06.94-2.06 2.06-.94-2.06-.94-.94-2.06-.94 2.06-2.06.94z\"/><path d=\"M17.41 7.96l-1.37-1.37c-.4-.4-.92-.59-1.43-.59-.52 0-1.04.2-1.43.59L10.3 9.45l-7.72 7.72c-.78.78-.78 2.05 0 2.83L4 21.41c.39.39.9.59 1.41.59.51 0 1.02-.2 1.41-.59l7.78-7.78 2.81-2.81c.8-.78.8-2.07 0-2.86zM5.41 20L4 18.59l7.72-7.72 1.47 1.35L5.41 20z\"/>\n",
              "  </svg>\n",
              "      </button>\n",
              "      \n",
              "  <style>\n",
              "    .colab-df-container {\n",
              "      display:flex;\n",
              "      flex-wrap:wrap;\n",
              "      gap: 12px;\n",
              "    }\n",
              "\n",
              "    .colab-df-convert {\n",
              "      background-color: #E8F0FE;\n",
              "      border: none;\n",
              "      border-radius: 50%;\n",
              "      cursor: pointer;\n",
              "      display: none;\n",
              "      fill: #1967D2;\n",
              "      height: 32px;\n",
              "      padding: 0 0 0 0;\n",
              "      width: 32px;\n",
              "    }\n",
              "\n",
              "    .colab-df-convert:hover {\n",
              "      background-color: #E2EBFA;\n",
              "      box-shadow: 0px 1px 2px rgba(60, 64, 67, 0.3), 0px 1px 3px 1px rgba(60, 64, 67, 0.15);\n",
              "      fill: #174EA6;\n",
              "    }\n",
              "\n",
              "    [theme=dark] .colab-df-convert {\n",
              "      background-color: #3B4455;\n",
              "      fill: #D2E3FC;\n",
              "    }\n",
              "\n",
              "    [theme=dark] .colab-df-convert:hover {\n",
              "      background-color: #434B5C;\n",
              "      box-shadow: 0px 1px 3px 1px rgba(0, 0, 0, 0.15);\n",
              "      filter: drop-shadow(0px 1px 2px rgba(0, 0, 0, 0.3));\n",
              "      fill: #FFFFFF;\n",
              "    }\n",
              "  </style>\n",
              "\n",
              "      <script>\n",
              "        const buttonEl =\n",
              "          document.querySelector('#df-6534b717-6c9d-4547-96e2-6730169aaaf1 button.colab-df-convert');\n",
              "        buttonEl.style.display =\n",
              "          google.colab.kernel.accessAllowed ? 'block' : 'none';\n",
              "\n",
              "        async function convertToInteractive(key) {\n",
              "          const element = document.querySelector('#df-6534b717-6c9d-4547-96e2-6730169aaaf1');\n",
              "          const dataTable =\n",
              "            await google.colab.kernel.invokeFunction('convertToInteractive',\n",
              "                                                     [key], {});\n",
              "          if (!dataTable) return;\n",
              "\n",
              "          const docLinkHtml = 'Like what you see? Visit the ' +\n",
              "            '<a target=\"_blank\" href=https://colab.research.google.com/notebooks/data_table.ipynb>data table notebook</a>'\n",
              "            + ' to learn more about interactive tables.';\n",
              "          element.innerHTML = '';\n",
              "          dataTable['output_type'] = 'display_data';\n",
              "          await google.colab.output.renderOutput(dataTable, element);\n",
              "          const docLink = document.createElement('div');\n",
              "          docLink.innerHTML = docLinkHtml;\n",
              "          element.appendChild(docLink);\n",
              "        }\n",
              "      </script>\n",
              "    </div>\n",
              "  </div>\n",
              "  "
            ]
          },
          "metadata": {},
          "execution_count": 7
        }
      ]
    },
    {
      "cell_type": "markdown",
      "source": [
        "## 2) 분석해 봅시다.\n",
        "\n",
        "  - ratings에 있는 유니크한 영화 개수\n",
        "  - ratings에 있는 유니크한 사용자 수\n",
        "  - 가장 인기 있는 영화 30개(인기순)"
      ],
      "metadata": {
        "id": "foDFVQOgDOAk"
      }
    },
    {
      "cell_type": "code",
      "source": [
        "# ratings에 있는 유니크한 영화 개수\n",
        "ratings['movie_id'].nunique()"
      ],
      "metadata": {
        "colab": {
          "base_uri": "https://localhost:8080/"
        },
        "id": "plETqH1lDjvg",
        "outputId": "b09fc7ec-2774-4588-c523-6b0df18615dd"
      },
      "execution_count": 8,
      "outputs": [
        {
          "output_type": "execute_result",
          "data": {
            "text/plain": [
              "3706"
            ]
          },
          "metadata": {},
          "execution_count": 8
        }
      ]
    },
    {
      "cell_type": "code",
      "source": [
        "# ratings에 있는 유니크한 사용자 수\n",
        "ratings['user_id'].nunique()"
      ],
      "metadata": {
        "colab": {
          "base_uri": "https://localhost:8080/"
        },
        "id": "R2F1qYwHZsBD",
        "outputId": "f96de87d-f80e-4d99-fb38-b50c7098bfb6"
      },
      "execution_count": 9,
      "outputs": [
        {
          "output_type": "execute_result",
          "data": {
            "text/plain": [
              "6040"
            ]
          },
          "metadata": {},
          "execution_count": 9
        }
      ]
    },
    {
      "cell_type": "code",
      "source": [
        "# 가장 인기 있는 영화 30개(인기순)\n",
        "movie_count = ratings.groupby('movie_id')['user_id'].count()\n",
        "movie_top30 = movie_count.sort_values(ascending=False).head(30)"
      ],
      "metadata": {
        "id": "ZZLMSFEZZvqi"
      },
      "execution_count": 10,
      "outputs": []
    },
    {
      "cell_type": "code",
      "source": [
        "# 30개의 영화 누적 count수\n",
        "for i, k in zip(movie_top30.index, movie_top30.values):\n",
        "    print(movies[movies['movie_id']==i]['title'].values[0],k)"
      ],
      "metadata": {
        "colab": {
          "base_uri": "https://localhost:8080/"
        },
        "id": "Oo3egOcEZyRJ",
        "outputId": "266605c3-649d-4b0d-9468-e00250d06a11"
      },
      "execution_count": 11,
      "outputs": [
        {
          "output_type": "stream",
          "name": "stdout",
          "text": [
            "American Beauty (1999) 3428\n",
            "Star Wars: Episode IV - A New Hope (1977) 2991\n",
            "Star Wars: Episode V - The Empire Strikes Back (1980) 2990\n",
            "Star Wars: Episode VI - Return of the Jedi (1983) 2883\n",
            "Jurassic Park (1993) 2672\n",
            "Saving Private Ryan (1998) 2653\n",
            "Terminator 2: Judgment Day (1991) 2649\n",
            "Matrix, The (1999) 2590\n",
            "Back to the Future (1985) 2583\n",
            "Silence of the Lambs, The (1991) 2578\n",
            "Men in Black (1997) 2538\n",
            "Raiders of the Lost Ark (1981) 2514\n",
            "Fargo (1996) 2513\n",
            "Sixth Sense, The (1999) 2459\n",
            "Braveheart (1995) 2443\n",
            "Shakespeare in Love (1998) 2369\n",
            "Princess Bride, The (1987) 2318\n",
            "Schindler's List (1993) 2304\n",
            "L.A. Confidential (1997) 2288\n",
            "Groundhog Day (1993) 2278\n",
            "E.T. the Extra-Terrestrial (1982) 2269\n",
            "Star Wars: Episode I - The Phantom Menace (1999) 2250\n",
            "Being John Malkovich (1999) 2241\n",
            "Shawshank Redemption, The (1994) 2227\n",
            "Godfather, The (1972) 2223\n",
            "Forrest Gump (1994) 2194\n",
            "Ghostbusters (1984) 2181\n",
            "Pulp Fiction (1994) 2171\n",
            "Terminator, The (1984) 2098\n",
            "Toy Story (1995) 2077\n"
          ]
        }
      ]
    },
    {
      "cell_type": "markdown",
      "source": [
        "## 3) 내가 선호하는 영화를 5가지 골라서 ratings에 추가해 줍시다."
      ],
      "metadata": {
        "id": "gqO2IM11DVSt"
      }
    },
    {
      "cell_type": "code",
      "source": [
        "# 본인이 좋아하시는 아티스트 데이터로 바꿔서 추가하셔도 됩니다! 단, 이름은 꼭 데이터셋에 있는 것과 동일하게 맞춰주세요. \n",
        "my_favorite_name = ['Home Alone 2: Lost in New York (1992)' , 'Home Alone 3 (1997)' ,'Home Alone (1990)','Lion King, The (1994)','Toy Story (1995)']\n",
        "my_favorite = [movies[movies['title'] == name]['movie_id'].values[0] for name in my_favorite_name]\n",
        "\n",
        "# my(맨끝에 추가되는 id)이라는 user_id가 위 영화를 5회씩 봤다고 가정하겠습니다.\n",
        "my = max(ratings['user_id']) + 1\n",
        "my_playlist = pd.DataFrame({'user_id': [my]*5, 'movie_id': my_favorite, 'counts':[5]*5})\n",
        "\n",
        "if not ratings.isin({'user_id':[my]})['user_id'].any():  # user_id에 'zimin'이라는 데이터가 없다면\n",
        "    ratings = ratings.append(my_playlist)                           # 위에 임의로 만든 my_favorite 데이터를 추가해 줍니다. \n",
        "ratings.tail(10)       # 잘 추가되었는지 확인해 봅시다."
      ],
      "metadata": {
        "colab": {
          "base_uri": "https://localhost:8080/",
          "height": 363
        },
        "id": "2uF3a-iEDkDS",
        "outputId": "26125708-590b-4258-a41c-e2f6eb9b2dbe"
      },
      "execution_count": 12,
      "outputs": [
        {
          "output_type": "execute_result",
          "data": {
            "text/plain": [
              "         user_id  movie_id  counts\n",
              "1000204     6040      1091       1\n",
              "1000205     6040      1094       5\n",
              "1000206     6040       562       5\n",
              "1000207     6040      1096       4\n",
              "1000208     6040      1097       4\n",
              "0           6041      2953       5\n",
              "1           6041      1707       5\n",
              "2           6041       586       5\n",
              "3           6041       364       5\n",
              "4           6041         1       5"
            ],
            "text/html": [
              "\n",
              "  <div id=\"df-dc8b2123-b4f8-45cd-ae06-a486b5f444a2\">\n",
              "    <div class=\"colab-df-container\">\n",
              "      <div>\n",
              "<style scoped>\n",
              "    .dataframe tbody tr th:only-of-type {\n",
              "        vertical-align: middle;\n",
              "    }\n",
              "\n",
              "    .dataframe tbody tr th {\n",
              "        vertical-align: top;\n",
              "    }\n",
              "\n",
              "    .dataframe thead th {\n",
              "        text-align: right;\n",
              "    }\n",
              "</style>\n",
              "<table border=\"1\" class=\"dataframe\">\n",
              "  <thead>\n",
              "    <tr style=\"text-align: right;\">\n",
              "      <th></th>\n",
              "      <th>user_id</th>\n",
              "      <th>movie_id</th>\n",
              "      <th>counts</th>\n",
              "    </tr>\n",
              "  </thead>\n",
              "  <tbody>\n",
              "    <tr>\n",
              "      <th>1000204</th>\n",
              "      <td>6040</td>\n",
              "      <td>1091</td>\n",
              "      <td>1</td>\n",
              "    </tr>\n",
              "    <tr>\n",
              "      <th>1000205</th>\n",
              "      <td>6040</td>\n",
              "      <td>1094</td>\n",
              "      <td>5</td>\n",
              "    </tr>\n",
              "    <tr>\n",
              "      <th>1000206</th>\n",
              "      <td>6040</td>\n",
              "      <td>562</td>\n",
              "      <td>5</td>\n",
              "    </tr>\n",
              "    <tr>\n",
              "      <th>1000207</th>\n",
              "      <td>6040</td>\n",
              "      <td>1096</td>\n",
              "      <td>4</td>\n",
              "    </tr>\n",
              "    <tr>\n",
              "      <th>1000208</th>\n",
              "      <td>6040</td>\n",
              "      <td>1097</td>\n",
              "      <td>4</td>\n",
              "    </tr>\n",
              "    <tr>\n",
              "      <th>0</th>\n",
              "      <td>6041</td>\n",
              "      <td>2953</td>\n",
              "      <td>5</td>\n",
              "    </tr>\n",
              "    <tr>\n",
              "      <th>1</th>\n",
              "      <td>6041</td>\n",
              "      <td>1707</td>\n",
              "      <td>5</td>\n",
              "    </tr>\n",
              "    <tr>\n",
              "      <th>2</th>\n",
              "      <td>6041</td>\n",
              "      <td>586</td>\n",
              "      <td>5</td>\n",
              "    </tr>\n",
              "    <tr>\n",
              "      <th>3</th>\n",
              "      <td>6041</td>\n",
              "      <td>364</td>\n",
              "      <td>5</td>\n",
              "    </tr>\n",
              "    <tr>\n",
              "      <th>4</th>\n",
              "      <td>6041</td>\n",
              "      <td>1</td>\n",
              "      <td>5</td>\n",
              "    </tr>\n",
              "  </tbody>\n",
              "</table>\n",
              "</div>\n",
              "      <button class=\"colab-df-convert\" onclick=\"convertToInteractive('df-dc8b2123-b4f8-45cd-ae06-a486b5f444a2')\"\n",
              "              title=\"Convert this dataframe to an interactive table.\"\n",
              "              style=\"display:none;\">\n",
              "        \n",
              "  <svg xmlns=\"http://www.w3.org/2000/svg\" height=\"24px\"viewBox=\"0 0 24 24\"\n",
              "       width=\"24px\">\n",
              "    <path d=\"M0 0h24v24H0V0z\" fill=\"none\"/>\n",
              "    <path d=\"M18.56 5.44l.94 2.06.94-2.06 2.06-.94-2.06-.94-.94-2.06-.94 2.06-2.06.94zm-11 1L8.5 8.5l.94-2.06 2.06-.94-2.06-.94L8.5 2.5l-.94 2.06-2.06.94zm10 10l.94 2.06.94-2.06 2.06-.94-2.06-.94-.94-2.06-.94 2.06-2.06.94z\"/><path d=\"M17.41 7.96l-1.37-1.37c-.4-.4-.92-.59-1.43-.59-.52 0-1.04.2-1.43.59L10.3 9.45l-7.72 7.72c-.78.78-.78 2.05 0 2.83L4 21.41c.39.39.9.59 1.41.59.51 0 1.02-.2 1.41-.59l7.78-7.78 2.81-2.81c.8-.78.8-2.07 0-2.86zM5.41 20L4 18.59l7.72-7.72 1.47 1.35L5.41 20z\"/>\n",
              "  </svg>\n",
              "      </button>\n",
              "      \n",
              "  <style>\n",
              "    .colab-df-container {\n",
              "      display:flex;\n",
              "      flex-wrap:wrap;\n",
              "      gap: 12px;\n",
              "    }\n",
              "\n",
              "    .colab-df-convert {\n",
              "      background-color: #E8F0FE;\n",
              "      border: none;\n",
              "      border-radius: 50%;\n",
              "      cursor: pointer;\n",
              "      display: none;\n",
              "      fill: #1967D2;\n",
              "      height: 32px;\n",
              "      padding: 0 0 0 0;\n",
              "      width: 32px;\n",
              "    }\n",
              "\n",
              "    .colab-df-convert:hover {\n",
              "      background-color: #E2EBFA;\n",
              "      box-shadow: 0px 1px 2px rgba(60, 64, 67, 0.3), 0px 1px 3px 1px rgba(60, 64, 67, 0.15);\n",
              "      fill: #174EA6;\n",
              "    }\n",
              "\n",
              "    [theme=dark] .colab-df-convert {\n",
              "      background-color: #3B4455;\n",
              "      fill: #D2E3FC;\n",
              "    }\n",
              "\n",
              "    [theme=dark] .colab-df-convert:hover {\n",
              "      background-color: #434B5C;\n",
              "      box-shadow: 0px 1px 3px 1px rgba(0, 0, 0, 0.15);\n",
              "      filter: drop-shadow(0px 1px 2px rgba(0, 0, 0, 0.3));\n",
              "      fill: #FFFFFF;\n",
              "    }\n",
              "  </style>\n",
              "\n",
              "      <script>\n",
              "        const buttonEl =\n",
              "          document.querySelector('#df-dc8b2123-b4f8-45cd-ae06-a486b5f444a2 button.colab-df-convert');\n",
              "        buttonEl.style.display =\n",
              "          google.colab.kernel.accessAllowed ? 'block' : 'none';\n",
              "\n",
              "        async function convertToInteractive(key) {\n",
              "          const element = document.querySelector('#df-dc8b2123-b4f8-45cd-ae06-a486b5f444a2');\n",
              "          const dataTable =\n",
              "            await google.colab.kernel.invokeFunction('convertToInteractive',\n",
              "                                                     [key], {});\n",
              "          if (!dataTable) return;\n",
              "\n",
              "          const docLinkHtml = 'Like what you see? Visit the ' +\n",
              "            '<a target=\"_blank\" href=https://colab.research.google.com/notebooks/data_table.ipynb>data table notebook</a>'\n",
              "            + ' to learn more about interactive tables.';\n",
              "          element.innerHTML = '';\n",
              "          dataTable['output_type'] = 'display_data';\n",
              "          await google.colab.output.renderOutput(dataTable, element);\n",
              "          const docLink = document.createElement('div');\n",
              "          docLink.innerHTML = docLinkHtml;\n",
              "          element.appendChild(docLink);\n",
              "        }\n",
              "      </script>\n",
              "    </div>\n",
              "  </div>\n",
              "  "
            ]
          },
          "metadata": {},
          "execution_count": 12
        }
      ]
    },
    {
      "cell_type": "markdown",
      "source": [
        "## 4) CSR matrix를 직접 만들어 봅시다."
      ],
      "metadata": {
        "id": "iIY_pCQ-DXzM"
      }
    },
    {
      "cell_type": "code",
      "source": [
        "# 실습 위에 설명보고 이해해서 만들어보기\n",
        "\n",
        "num_user = ratings['user_id'].nunique()\n",
        "num_movie = ratings['movie_id'].nunique()\n",
        "print(num_user, num_movie)\n",
        "\n",
        "# csr_data 생성\n",
        "csr_data = csr_matrix((ratings['counts'], (ratings['user_id'], ratings['movie_id'])))\n",
        "csr_data \n"
      ],
      "metadata": {
        "id": "cUYO9kHYDkXJ",
        "colab": {
          "base_uri": "https://localhost:8080/"
        },
        "outputId": "b81eb41f-73f7-4a1a-9ab7-9ebf6c0a93f4"
      },
      "execution_count": 13,
      "outputs": [
        {
          "output_type": "stream",
          "name": "stdout",
          "text": [
            "6041 3706\n"
          ]
        },
        {
          "output_type": "execute_result",
          "data": {
            "text/plain": [
              "<6042x3953 sparse matrix of type '<class 'numpy.longlong'>'\n",
              "\twith 1000214 stored elements in Compressed Sparse Row format>"
            ]
          },
          "metadata": {},
          "execution_count": 13
        }
      ]
    },
    {
      "cell_type": "markdown",
      "source": [
        "## 5) als_model = AlternatingLeastSquares 모델을 직접 구성하여 훈련시켜 봅시다."
      ],
      "metadata": {
        "id": "gqLebUtyDZoy"
      }
    },
    {
      "cell_type": "code",
      "source": [
        "# implicit 라이브러리에서 권장하고 있는 부분입니다. 학습 내용과는 무관합니다.\n",
        "os.environ['OPENBLAS_NUM_THREADS']='1'\n",
        "os.environ['KMP_DUPLICATE_LIB_OK']='True'\n",
        "os.environ['MKL_NUM_THREADS']='1'"
      ],
      "metadata": {
        "id": "0V8ZpqMRJQ2G"
      },
      "execution_count": 14,
      "outputs": []
    },
    {
      "cell_type": "code",
      "source": [
        "# Implicit AlternatingLeastSquares 모델의 선언\n",
        "als_model = AlternatingLeastSquares(factors=100, regularization=0.01, use_gpu=False, iterations=15, dtype=np.float32)"
      ],
      "metadata": {
        "id": "qaCTacDsDk0o"
      },
      "execution_count": 15,
      "outputs": []
    },
    {
      "cell_type": "code",
      "source": [
        "als_model = AlternatingLeastSquares(\n",
        "    factors=512,   #user 및 movie vector 차원\n",
        "    regularization=0.01,   #정규화 값\n",
        "    use_gpu=False,   #GPU 사용 여부\n",
        "    iterations=30,   #epochs\n",
        "    dtype=np.float32\n",
        ")\n"
      ],
      "metadata": {
        "id": "PhT4FSvQGD1C"
      },
      "execution_count": 16,
      "outputs": []
    },
    {
      "cell_type": "code",
      "source": [
        "# als 모델은 input으로 (item X user 꼴의 matrix를 받기 때문에 Transpose해줍니다.)\n",
        "csr_data_transpose = csr_data.T\n",
        "csr_data_transpose"
      ],
      "metadata": {
        "id": "tgD7kedDDlOz",
        "colab": {
          "base_uri": "https://localhost:8080/"
        },
        "outputId": "eddec64d-2af8-4347-8df5-e8e6fcf10f4e"
      },
      "execution_count": 17,
      "outputs": [
        {
          "output_type": "execute_result",
          "data": {
            "text/plain": [
              "<3953x6042 sparse matrix of type '<class 'numpy.longlong'>'\n",
              "\twith 1000214 stored elements in Compressed Sparse Column format>"
            ]
          },
          "metadata": {},
          "execution_count": 17
        }
      ]
    },
    {
      "cell_type": "code",
      "source": [
        "# 모델 훈련\n",
        "als_model.fit(csr_data)"
      ],
      "metadata": {
        "id": "8KuZki4oDltO",
        "colab": {
          "base_uri": "https://localhost:8080/",
          "height": 49,
          "referenced_widgets": [
            "b5a6316d138242efa6a21aba3e7c8f7a",
            "40811dcd4490402c96329a9f1c5afb27",
            "3c9e890997c947e6bd9ab6651f6927a3",
            "4cc8a501cddc4289a03f09c46e58ba76",
            "eda64556a7b4467da7a8b196c9ede730",
            "1df5f9389b4342f4889e69b59c97a356",
            "83f92f389de34bd0a82e18e7f6c08630",
            "83db2323ef314033a5529e251957d02b",
            "70bf4fcfb66246ca97e75235bb3eddb0",
            "40366651f441485c83440b0321413345",
            "b5ef1c0edb994072a99e4cfd84362aad"
          ]
        },
        "outputId": "9126c261-668f-45fc-a30f-417b0229bfb2"
      },
      "execution_count": 18,
      "outputs": [
        {
          "output_type": "display_data",
          "data": {
            "text/plain": [
              "  0%|          | 0/30 [00:00<?, ?it/s]"
            ],
            "application/vnd.jupyter.widget-view+json": {
              "version_major": 2,
              "version_minor": 0,
              "model_id": "b5a6316d138242efa6a21aba3e7c8f7a"
            }
          },
          "metadata": {}
        }
      ]
    },
    {
      "cell_type": "markdown",
      "source": [
        "## 6) 내가 선호하는 5가지 영화 중 하나와 그 외의 영화 하나를 골라 훈련된 모델이 예측한 나의 선호도를 파악해 보세요."
      ],
      "metadata": {
        "id": "ySPkUp5NDcSF"
      }
    },
    {
      "cell_type": "code",
      "source": [
        "# 영화의 이름을 movie id로 바꿔주는 함수\n",
        "def movie_name_to_id(name):\n",
        "    return movies[movies['title']==name]['movie_id'].values[0]"
      ],
      "metadata": {
        "id": "b8mvAKG1AI-b"
      },
      "execution_count": 19,
      "outputs": []
    },
    {
      "cell_type": "code",
      "source": [
        "len(als_model.user_factors)"
      ],
      "metadata": {
        "colab": {
          "base_uri": "https://localhost:8080/"
        },
        "id": "jVeoLEvVNGrQ",
        "outputId": "f95a71bd-ab90-4e73-aa2d-99c4d1b5d296"
      },
      "execution_count": 20,
      "outputs": [
        {
          "output_type": "execute_result",
          "data": {
            "text/plain": [
              "6042"
            ]
          },
          "metadata": {},
          "execution_count": 20
        }
      ]
    },
    {
      "cell_type": "code",
      "source": [
        "my_vector, home_vector = als_model.user_factors[6041], als_model.item_factors[movie_name_to_id('Home Alone 3 (1997)')]\n",
        "other_vector = als_model.item_factors[movie_name_to_id('American Beauty (1999)')]"
      ],
      "metadata": {
        "id": "RJBVC36bAR4u"
      },
      "execution_count": 21,
      "outputs": []
    },
    {
      "cell_type": "code",
      "source": [
        "print(\"user - Home alone 3:\", round(np.dot(my_vector, home_vector), 3))\n",
        "print(\"user - American Beauty:\", round(np.dot(my_vector, other_vector), 3))"
      ],
      "metadata": {
        "colab": {
          "base_uri": "https://localhost:8080/"
        },
        "id": "zfiIDn5fF5Qd",
        "outputId": "103c76c3-482e-4870-cab6-6d4d9b7c2abe"
      },
      "execution_count": 22,
      "outputs": [
        {
          "output_type": "stream",
          "name": "stdout",
          "text": [
            "user - Home alone 3: 0.364\n",
            "user - American Beauty: -0.008\n"
          ]
        }
      ]
    },
    {
      "cell_type": "code",
      "source": [
        "def score_movie(movie_name):\n",
        "    my_vector, movie_vector = als_model.user_factors[6041], als_model.item_factors[movie_name_to_id(movie_name)]\n",
        "    return np.dot(my_vector, movie_vector)"
      ],
      "metadata": {
        "id": "wJtrFgxRU9M6"
      },
      "execution_count": 23,
      "outputs": []
    },
    {
      "cell_type": "code",
      "source": [
        "for i in movie_top30.index:\n",
        "    tmp = movies[movies['movie_id']==i]['title'].values[0]\n",
        "    print(tmp,\" :\",  score_movie(tmp))"
      ],
      "metadata": {
        "colab": {
          "base_uri": "https://localhost:8080/"
        },
        "id": "T_ybMfW0U_Yl",
        "outputId": "d69a07e8-c82c-4510-c947-f286ce3b28d4"
      },
      "execution_count": 24,
      "outputs": [
        {
          "output_type": "stream",
          "name": "stdout",
          "text": [
            "American Beauty (1999)  : -0.007651292\n",
            "Star Wars: Episode IV - A New Hope (1977)  : 0.020104993\n",
            "Star Wars: Episode V - The Empire Strikes Back (1980)  : 0.015600955\n",
            "Star Wars: Episode VI - Return of the Jedi (1983)  : -0.0036715046\n",
            "Jurassic Park (1993)  : -0.004579095\n",
            "Saving Private Ryan (1998)  : 0.009556277\n",
            "Terminator 2: Judgment Day (1991)  : 0.033362404\n",
            "Matrix, The (1999)  : -0.022494648\n",
            "Back to the Future (1985)  : 0.010393247\n",
            "Silence of the Lambs, The (1991)  : -0.034770228\n",
            "Men in Black (1997)  : -0.03382908\n",
            "Raiders of the Lost Ark (1981)  : -0.027664255\n",
            "Fargo (1996)  : -0.054084897\n",
            "Sixth Sense, The (1999)  : -0.0637238\n",
            "Braveheart (1995)  : -0.0039866064\n",
            "Shakespeare in Love (1998)  : -0.019284727\n",
            "Princess Bride, The (1987)  : 0.0066091567\n",
            "Schindler's List (1993)  : -0.0015523285\n",
            "L.A. Confidential (1997)  : -0.042148504\n",
            "Groundhog Day (1993)  : 0.09726547\n",
            "E.T. the Extra-Terrestrial (1982)  : -0.025871767\n",
            "Star Wars: Episode I - The Phantom Menace (1999)  : 0.030360911\n",
            "Being John Malkovich (1999)  : 0.020564493\n",
            "Shawshank Redemption, The (1994)  : 0.041815948\n",
            "Godfather, The (1972)  : -0.038799834\n",
            "Forrest Gump (1994)  : 0.044782445\n",
            "Ghostbusters (1984)  : 0.019196846\n",
            "Pulp Fiction (1994)  : 0.060655173\n",
            "Terminator, The (1984)  : -0.016120195\n",
            "Toy Story (1995)  : 0.95002806\n"
          ]
        }
      ]
    },
    {
      "cell_type": "markdown",
      "source": [
        "## 7) 내가 좋아하는 영화와 비슷한 영화를 추천받아 봅시다."
      ],
      "metadata": {
        "id": "2XJnSBqCDeWE"
      }
    },
    {
      "cell_type": "code",
      "source": [
        "favorite_movie = 'Home Alone 2: Lost in New York (1992)'\n",
        "movie_id = movie_name_to_id(favorite_movie)\n",
        "similar_movie = als_model.similar_items(movie_id, N=15)\n",
        "similar_movie"
      ],
      "metadata": {
        "colab": {
          "base_uri": "https://localhost:8080/"
        },
        "id": "v2MuS-AzVOce",
        "outputId": "005ae195-cb0d-4690-f2aa-da851fd89750"
      },
      "execution_count": 25,
      "outputs": [
        {
          "output_type": "execute_result",
          "data": {
            "text/plain": [
              "(array([2953, 1707,  355, 2798, 2799, 2042,  374,   87, 1474,  575, 1822,\n",
              "        2449,  310,  419, 2223], dtype=int32),\n",
              " array([1.0000001 , 0.71716946, 0.6590477 , 0.6443831 , 0.633258  ,\n",
              "        0.61206084, 0.59908545, 0.5862424 , 0.58276975, 0.5790444 ,\n",
              "        0.577404  , 0.57586455, 0.57582426, 0.57567567, 0.5724028 ],\n",
              "       dtype=float32))"
            ]
          },
          "metadata": {},
          "execution_count": 25
        }
      ]
    },
    {
      "cell_type": "code",
      "source": [
        "sim_movie = []\n",
        "for i, j in zip(similar_movie[0],similar_movie[1]):\n",
        "  sim_movie.append((i,j))\n",
        "sim_movie"
      ],
      "metadata": {
        "colab": {
          "base_uri": "https://localhost:8080/"
        },
        "id": "noIHeB3EWUm_",
        "outputId": "b72cc398-8569-467a-d979-11b570f80880"
      },
      "execution_count": 26,
      "outputs": [
        {
          "output_type": "execute_result",
          "data": {
            "text/plain": [
              "[(2953, 1.0000001),\n",
              " (1707, 0.71716946),\n",
              " (355, 0.6590477),\n",
              " (2798, 0.6443831),\n",
              " (2799, 0.633258),\n",
              " (2042, 0.61206084),\n",
              " (374, 0.59908545),\n",
              " (87, 0.5862424),\n",
              " (1474, 0.58276975),\n",
              " (575, 0.5790444),\n",
              " (1822, 0.577404),\n",
              " (2449, 0.57586455),\n",
              " (310, 0.57582426),\n",
              " (419, 0.57567567),\n",
              " (2223, 0.5724028)]"
            ]
          },
          "metadata": {},
          "execution_count": 26
        }
      ]
    },
    {
      "cell_type": "code",
      "source": [
        "for i, k in sim_movie:\n",
        "    print(movies[movies['movie_id']==i]['title'].values[0],' :', k)"
      ],
      "metadata": {
        "colab": {
          "base_uri": "https://localhost:8080/"
        },
        "id": "kbdfVpekVSwY",
        "outputId": "eaa4bc18-d239-42db-f9f0-2ceaaa6b0c51"
      },
      "execution_count": 27,
      "outputs": [
        {
          "output_type": "stream",
          "name": "stdout",
          "text": [
            "Home Alone 2: Lost in New York (1992)  : 1.0000001\n",
            "Home Alone 3 (1997)  : 0.71716946\n",
            "Flintstones, The (1994)  : 0.6590477\n",
            "Problem Child (1990)  : 0.6443831\n",
            "Problem Child 2 (1991)  : 0.633258\n",
            "D2: The Mighty Ducks (1994)  : 0.61206084\n",
            "Richie Rich (1994)  : 0.59908545\n",
            "Dunston Checks In (1996)  : 0.5862424\n",
            "Jungle2Jungle (a.k.a. Jungle 2 Jungle) (1997)  : 0.58276975\n",
            "Little Rascals, The (1994)  : 0.5790444\n",
            "Meet the Deedles (1998)  : 0.577404\n",
            "Garbage Pail Kids Movie, The (1987)  : 0.57586455\n",
            "Rent-a-Kid (1995)  : 0.57582426\n",
            "Beverly Hillbillies, The (1993)  : 0.57567567\n",
            "Farmer's Wife, The (1928)  : 0.5724028\n"
          ]
        }
      ]
    },
    {
      "cell_type": "code",
      "source": [
        "movies[movies['movie_id'].isin([s[0] for s in sim_movie])][['title','genre']]"
      ],
      "metadata": {
        "colab": {
          "base_uri": "https://localhost:8080/",
          "height": 520
        },
        "id": "5AF8A2yiXHRI",
        "outputId": "54689ffc-66a2-427b-b9b6-46958f8e86f1"
      },
      "execution_count": 28,
      "outputs": [
        {
          "output_type": "execute_result",
          "data": {
            "text/plain": [
              "                                              title                 genre\n",
              "86                         Dunston Checks In (1996)     Children's|Comedy\n",
              "307                               Rent-a-Kid (1995)                Comedy\n",
              "351                         Flintstones, The (1994)     Children's|Comedy\n",
              "370                              Richie Rich (1994)     Children's|Comedy\n",
              "415                 Beverly Hillbillies, The (1993)                Comedy\n",
              "571                      Little Rascals, The (1994)     Children's|Comedy\n",
              "1446  Jungle2Jungle (a.k.a. Jungle 2 Jungle) (1997)     Children's|Comedy\n",
              "1659                            Home Alone 3 (1997)     Children's|Comedy\n",
              "1756                        Meet the Deedles (1998)     Children's|Comedy\n",
              "1973                    D2: The Mighty Ducks (1994)     Children's|Comedy\n",
              "2154                      Farmer's Wife, The (1928)                Comedy\n",
              "2380            Garbage Pail Kids Movie, The (1987)  Adventure|Children's\n",
              "2729                           Problem Child (1990)                Comedy\n",
              "2730                         Problem Child 2 (1991)                Comedy\n",
              "2884          Home Alone 2: Lost in New York (1992)     Children's|Comedy"
            ],
            "text/html": [
              "\n",
              "  <div id=\"df-f9bc20aa-804f-432c-9ae0-055142f4b171\">\n",
              "    <div class=\"colab-df-container\">\n",
              "      <div>\n",
              "<style scoped>\n",
              "    .dataframe tbody tr th:only-of-type {\n",
              "        vertical-align: middle;\n",
              "    }\n",
              "\n",
              "    .dataframe tbody tr th {\n",
              "        vertical-align: top;\n",
              "    }\n",
              "\n",
              "    .dataframe thead th {\n",
              "        text-align: right;\n",
              "    }\n",
              "</style>\n",
              "<table border=\"1\" class=\"dataframe\">\n",
              "  <thead>\n",
              "    <tr style=\"text-align: right;\">\n",
              "      <th></th>\n",
              "      <th>title</th>\n",
              "      <th>genre</th>\n",
              "    </tr>\n",
              "  </thead>\n",
              "  <tbody>\n",
              "    <tr>\n",
              "      <th>86</th>\n",
              "      <td>Dunston Checks In (1996)</td>\n",
              "      <td>Children's|Comedy</td>\n",
              "    </tr>\n",
              "    <tr>\n",
              "      <th>307</th>\n",
              "      <td>Rent-a-Kid (1995)</td>\n",
              "      <td>Comedy</td>\n",
              "    </tr>\n",
              "    <tr>\n",
              "      <th>351</th>\n",
              "      <td>Flintstones, The (1994)</td>\n",
              "      <td>Children's|Comedy</td>\n",
              "    </tr>\n",
              "    <tr>\n",
              "      <th>370</th>\n",
              "      <td>Richie Rich (1994)</td>\n",
              "      <td>Children's|Comedy</td>\n",
              "    </tr>\n",
              "    <tr>\n",
              "      <th>415</th>\n",
              "      <td>Beverly Hillbillies, The (1993)</td>\n",
              "      <td>Comedy</td>\n",
              "    </tr>\n",
              "    <tr>\n",
              "      <th>571</th>\n",
              "      <td>Little Rascals, The (1994)</td>\n",
              "      <td>Children's|Comedy</td>\n",
              "    </tr>\n",
              "    <tr>\n",
              "      <th>1446</th>\n",
              "      <td>Jungle2Jungle (a.k.a. Jungle 2 Jungle) (1997)</td>\n",
              "      <td>Children's|Comedy</td>\n",
              "    </tr>\n",
              "    <tr>\n",
              "      <th>1659</th>\n",
              "      <td>Home Alone 3 (1997)</td>\n",
              "      <td>Children's|Comedy</td>\n",
              "    </tr>\n",
              "    <tr>\n",
              "      <th>1756</th>\n",
              "      <td>Meet the Deedles (1998)</td>\n",
              "      <td>Children's|Comedy</td>\n",
              "    </tr>\n",
              "    <tr>\n",
              "      <th>1973</th>\n",
              "      <td>D2: The Mighty Ducks (1994)</td>\n",
              "      <td>Children's|Comedy</td>\n",
              "    </tr>\n",
              "    <tr>\n",
              "      <th>2154</th>\n",
              "      <td>Farmer's Wife, The (1928)</td>\n",
              "      <td>Comedy</td>\n",
              "    </tr>\n",
              "    <tr>\n",
              "      <th>2380</th>\n",
              "      <td>Garbage Pail Kids Movie, The (1987)</td>\n",
              "      <td>Adventure|Children's</td>\n",
              "    </tr>\n",
              "    <tr>\n",
              "      <th>2729</th>\n",
              "      <td>Problem Child (1990)</td>\n",
              "      <td>Comedy</td>\n",
              "    </tr>\n",
              "    <tr>\n",
              "      <th>2730</th>\n",
              "      <td>Problem Child 2 (1991)</td>\n",
              "      <td>Comedy</td>\n",
              "    </tr>\n",
              "    <tr>\n",
              "      <th>2884</th>\n",
              "      <td>Home Alone 2: Lost in New York (1992)</td>\n",
              "      <td>Children's|Comedy</td>\n",
              "    </tr>\n",
              "  </tbody>\n",
              "</table>\n",
              "</div>\n",
              "      <button class=\"colab-df-convert\" onclick=\"convertToInteractive('df-f9bc20aa-804f-432c-9ae0-055142f4b171')\"\n",
              "              title=\"Convert this dataframe to an interactive table.\"\n",
              "              style=\"display:none;\">\n",
              "        \n",
              "  <svg xmlns=\"http://www.w3.org/2000/svg\" height=\"24px\"viewBox=\"0 0 24 24\"\n",
              "       width=\"24px\">\n",
              "    <path d=\"M0 0h24v24H0V0z\" fill=\"none\"/>\n",
              "    <path d=\"M18.56 5.44l.94 2.06.94-2.06 2.06-.94-2.06-.94-.94-2.06-.94 2.06-2.06.94zm-11 1L8.5 8.5l.94-2.06 2.06-.94-2.06-.94L8.5 2.5l-.94 2.06-2.06.94zm10 10l.94 2.06.94-2.06 2.06-.94-2.06-.94-.94-2.06-.94 2.06-2.06.94z\"/><path d=\"M17.41 7.96l-1.37-1.37c-.4-.4-.92-.59-1.43-.59-.52 0-1.04.2-1.43.59L10.3 9.45l-7.72 7.72c-.78.78-.78 2.05 0 2.83L4 21.41c.39.39.9.59 1.41.59.51 0 1.02-.2 1.41-.59l7.78-7.78 2.81-2.81c.8-.78.8-2.07 0-2.86zM5.41 20L4 18.59l7.72-7.72 1.47 1.35L5.41 20z\"/>\n",
              "  </svg>\n",
              "      </button>\n",
              "      \n",
              "  <style>\n",
              "    .colab-df-container {\n",
              "      display:flex;\n",
              "      flex-wrap:wrap;\n",
              "      gap: 12px;\n",
              "    }\n",
              "\n",
              "    .colab-df-convert {\n",
              "      background-color: #E8F0FE;\n",
              "      border: none;\n",
              "      border-radius: 50%;\n",
              "      cursor: pointer;\n",
              "      display: none;\n",
              "      fill: #1967D2;\n",
              "      height: 32px;\n",
              "      padding: 0 0 0 0;\n",
              "      width: 32px;\n",
              "    }\n",
              "\n",
              "    .colab-df-convert:hover {\n",
              "      background-color: #E2EBFA;\n",
              "      box-shadow: 0px 1px 2px rgba(60, 64, 67, 0.3), 0px 1px 3px 1px rgba(60, 64, 67, 0.15);\n",
              "      fill: #174EA6;\n",
              "    }\n",
              "\n",
              "    [theme=dark] .colab-df-convert {\n",
              "      background-color: #3B4455;\n",
              "      fill: #D2E3FC;\n",
              "    }\n",
              "\n",
              "    [theme=dark] .colab-df-convert:hover {\n",
              "      background-color: #434B5C;\n",
              "      box-shadow: 0px 1px 3px 1px rgba(0, 0, 0, 0.15);\n",
              "      filter: drop-shadow(0px 1px 2px rgba(0, 0, 0, 0.3));\n",
              "      fill: #FFFFFF;\n",
              "    }\n",
              "  </style>\n",
              "\n",
              "      <script>\n",
              "        const buttonEl =\n",
              "          document.querySelector('#df-f9bc20aa-804f-432c-9ae0-055142f4b171 button.colab-df-convert');\n",
              "        buttonEl.style.display =\n",
              "          google.colab.kernel.accessAllowed ? 'block' : 'none';\n",
              "\n",
              "        async function convertToInteractive(key) {\n",
              "          const element = document.querySelector('#df-f9bc20aa-804f-432c-9ae0-055142f4b171');\n",
              "          const dataTable =\n",
              "            await google.colab.kernel.invokeFunction('convertToInteractive',\n",
              "                                                     [key], {});\n",
              "          if (!dataTable) return;\n",
              "\n",
              "          const docLinkHtml = 'Like what you see? Visit the ' +\n",
              "            '<a target=\"_blank\" href=https://colab.research.google.com/notebooks/data_table.ipynb>data table notebook</a>'\n",
              "            + ' to learn more about interactive tables.';\n",
              "          element.innerHTML = '';\n",
              "          dataTable['output_type'] = 'display_data';\n",
              "          await google.colab.output.renderOutput(dataTable, element);\n",
              "          const docLink = document.createElement('div');\n",
              "          docLink.innerHTML = docLinkHtml;\n",
              "          element.appendChild(docLink);\n",
              "        }\n",
              "      </script>\n",
              "    </div>\n",
              "  </div>\n",
              "  "
            ]
          },
          "metadata": {},
          "execution_count": 28
        }
      ]
    },
    {
      "cell_type": "markdown",
      "source": [
        "## 8) 내가 가장 좋아할 만한 영화들을 추천받아 봅시다.\n"
      ],
      "metadata": {
        "id": "Najk4-c0DhFj"
      }
    },
    {
      "cell_type": "code",
      "source": [
        "user = 6041\n",
        "movie_recommended = als_model.recommend(user, csr_data, N=25, filter_already_liked_items=False)\n",
        "movie_recommended"
      ],
      "metadata": {
        "id": "hO3Im1-fDUKl",
        "colab": {
          "base_uri": "https://localhost:8080/"
        },
        "outputId": "40857f78-85ec-4270-f07b-458436ddd9d6"
      },
      "execution_count": 35,
      "outputs": [
        {
          "output_type": "execute_result",
          "data": {
            "text/plain": [
              "(array([   1,  364,  586, 2953, 1707,  595, 2082,  588,  355, 2053, 2042,\n",
              "           2,  370, 1588,  348, 3179,  455, 3578, 1013, 2798, 2139, 2424,\n",
              "         575, 1474,   48], dtype=int32),\n",
              " array([0.9500282 , 0.7703785 , 0.74885553, 0.5694762 , 0.36389214,\n",
              "        0.2576836 , 0.24871233, 0.21498282, 0.20477667, 0.16175416,\n",
              "        0.16110778, 0.1538847 , 0.1503897 , 0.14857227, 0.14078681,\n",
              "        0.1403049 , 0.13943928, 0.13856015, 0.1382789 , 0.1347419 ,\n",
              "        0.13363126, 0.13240556, 0.13182864, 0.13114882, 0.13091335],\n",
              "       dtype=float32))"
            ]
          },
          "metadata": {},
          "execution_count": 35
        }
      ]
    },
    {
      "cell_type": "code",
      "source": [
        "recom_movie = []\n",
        "for i, j in zip(movie_recommended[0],movie_recommended[1]):\n",
        "  recom_movie.append((i,j))\n",
        "recom_movie"
      ],
      "metadata": {
        "colab": {
          "base_uri": "https://localhost:8080/"
        },
        "id": "7NPTPqUNaf_a",
        "outputId": "ada70071-10f0-4938-ede5-6becb39ce613"
      },
      "execution_count": 36,
      "outputs": [
        {
          "output_type": "execute_result",
          "data": {
            "text/plain": [
              "[(1, 0.9500282),\n",
              " (364, 0.7703785),\n",
              " (586, 0.74885553),\n",
              " (2953, 0.5694762),\n",
              " (1707, 0.36389214),\n",
              " (595, 0.2576836),\n",
              " (2082, 0.24871233),\n",
              " (588, 0.21498282),\n",
              " (355, 0.20477667),\n",
              " (2053, 0.16175416),\n",
              " (2042, 0.16110778),\n",
              " (2, 0.1538847),\n",
              " (370, 0.1503897),\n",
              " (1588, 0.14857227),\n",
              " (348, 0.14078681),\n",
              " (3179, 0.1403049),\n",
              " (455, 0.13943928),\n",
              " (3578, 0.13856015),\n",
              " (1013, 0.1382789),\n",
              " (2798, 0.1347419),\n",
              " (2139, 0.13363126),\n",
              " (2424, 0.13240556),\n",
              " (575, 0.13182864),\n",
              " (1474, 0.13114882),\n",
              " (48, 0.13091335)]"
            ]
          },
          "metadata": {},
          "execution_count": 36
        }
      ]
    },
    {
      "cell_type": "code",
      "source": [
        "# 좋아할만한 영화와 수치 장르 확인\n",
        "for i, k in recom_movie:\n",
        "    print(movies[movies['movie_id']==i]['title'].values[0],' :',k)"
      ],
      "metadata": {
        "colab": {
          "base_uri": "https://localhost:8080/"
        },
        "id": "Q3RHQWesaq8P",
        "outputId": "a60af2ec-66bb-452d-eff2-5ce5d141df96"
      },
      "execution_count": 37,
      "outputs": [
        {
          "output_type": "stream",
          "name": "stdout",
          "text": [
            "Toy Story (1995)  : 0.9500282\n",
            "Lion King, The (1994)  : 0.7703785\n",
            "Home Alone (1990)  : 0.74885553\n",
            "Home Alone 2: Lost in New York (1992)  : 0.5694762\n",
            "Home Alone 3 (1997)  : 0.36389214\n",
            "Beauty and the Beast (1991)  : 0.2576836\n",
            "Mighty Ducks, The (1992)  : 0.24871233\n",
            "Aladdin (1992)  : 0.21498282\n",
            "Flintstones, The (1994)  : 0.20477667\n",
            "Honey, I Blew Up the Kid (1992)  : 0.16175416\n",
            "D2: The Mighty Ducks (1994)  : 0.16110778\n",
            "Jumanji (1995)  : 0.1538847\n",
            "Naked Gun 33 1/3: The Final Insult (1994)  : 0.1503897\n",
            "George of the Jungle (1997)  : 0.14857227\n",
            "Bullets Over Broadway (1994)  : 0.14078681\n",
            "Angela's Ashes (1999)  : 0.1403049\n",
            "Free Willy (1993)  : 0.13943928\n",
            "Gladiator (2000)  : 0.13856015\n",
            "Parent Trap, The (1961)  : 0.1382789\n",
            "Problem Child (1990)  : 0.1347419\n",
            "Secret of NIMH, The (1982)  : 0.13363126\n",
            "You've Got Mail (1998)  : 0.13240556\n",
            "Little Rascals, The (1994)  : 0.13182864\n",
            "Jungle2Jungle (a.k.a. Jungle 2 Jungle) (1997)  : 0.13114882\n",
            "Pocahontas (1995)  : 0.13091335\n"
          ]
        }
      ]
    },
    {
      "cell_type": "code",
      "source": [
        "movies[movies['movie_id'].isin([m[0] for m in recom_movie])][['title','genre']]\n"
      ],
      "metadata": {
        "colab": {
          "base_uri": "https://localhost:8080/",
          "height": 833
        },
        "id": "firNE-jra4P4",
        "outputId": "8ad8c372-01a1-4fff-de03-e01d70c29d8c"
      },
      "execution_count": 38,
      "outputs": [
        {
          "output_type": "execute_result",
          "data": {
            "text/plain": [
              "                                              title  \\\n",
              "0                                  Toy Story (1995)   \n",
              "1                                    Jumanji (1995)   \n",
              "47                                Pocahontas (1995)   \n",
              "344                    Bullets Over Broadway (1994)   \n",
              "351                         Flintstones, The (1994)   \n",
              "360                           Lion King, The (1994)   \n",
              "366       Naked Gun 33 1/3: The Final Insult (1994)   \n",
              "451                               Free Willy (1993)   \n",
              "571                      Little Rascals, The (1994)   \n",
              "582                               Home Alone (1990)   \n",
              "584                                  Aladdin (1992)   \n",
              "591                     Beauty and the Beast (1991)   \n",
              "1000                        Parent Trap, The (1961)   \n",
              "1446  Jungle2Jungle (a.k.a. Jungle 2 Jungle) (1997)   \n",
              "1547                    George of the Jungle (1997)   \n",
              "1659                            Home Alone 3 (1997)   \n",
              "1973                    D2: The Mighty Ducks (1994)   \n",
              "1984                Honey, I Blew Up the Kid (1992)   \n",
              "2013                       Mighty Ducks, The (1992)   \n",
              "2070                     Secret of NIMH, The (1982)   \n",
              "2355                         You've Got Mail (1998)   \n",
              "2729                           Problem Child (1990)   \n",
              "2884          Home Alone 2: Lost in New York (1992)   \n",
              "3110                          Angela's Ashes (1999)   \n",
              "3509                               Gladiator (2000)   \n",
              "\n",
              "                                     genre  \n",
              "0              Animation|Children's|Comedy  \n",
              "1             Adventure|Children's|Fantasy  \n",
              "47    Animation|Children's|Musical|Romance  \n",
              "344                                 Comedy  \n",
              "351                      Children's|Comedy  \n",
              "360           Animation|Children's|Musical  \n",
              "366                                 Comedy  \n",
              "451             Adventure|Children's|Drama  \n",
              "571                      Children's|Comedy  \n",
              "582                      Children's|Comedy  \n",
              "584    Animation|Children's|Comedy|Musical  \n",
              "591           Animation|Children's|Musical  \n",
              "1000                      Children's|Drama  \n",
              "1446                     Children's|Comedy  \n",
              "1547                     Children's|Comedy  \n",
              "1659                     Children's|Comedy  \n",
              "1973                     Children's|Comedy  \n",
              "1984              Children's|Comedy|Sci-Fi  \n",
              "2013                     Children's|Comedy  \n",
              "2070                  Animation|Children's  \n",
              "2355                        Comedy|Romance  \n",
              "2729                                Comedy  \n",
              "2884                     Children's|Comedy  \n",
              "3110                                 Drama  \n",
              "3509                          Action|Drama  "
            ],
            "text/html": [
              "\n",
              "  <div id=\"df-9fbb6c72-7230-4eb2-8ff2-20c682f90a9e\">\n",
              "    <div class=\"colab-df-container\">\n",
              "      <div>\n",
              "<style scoped>\n",
              "    .dataframe tbody tr th:only-of-type {\n",
              "        vertical-align: middle;\n",
              "    }\n",
              "\n",
              "    .dataframe tbody tr th {\n",
              "        vertical-align: top;\n",
              "    }\n",
              "\n",
              "    .dataframe thead th {\n",
              "        text-align: right;\n",
              "    }\n",
              "</style>\n",
              "<table border=\"1\" class=\"dataframe\">\n",
              "  <thead>\n",
              "    <tr style=\"text-align: right;\">\n",
              "      <th></th>\n",
              "      <th>title</th>\n",
              "      <th>genre</th>\n",
              "    </tr>\n",
              "  </thead>\n",
              "  <tbody>\n",
              "    <tr>\n",
              "      <th>0</th>\n",
              "      <td>Toy Story (1995)</td>\n",
              "      <td>Animation|Children's|Comedy</td>\n",
              "    </tr>\n",
              "    <tr>\n",
              "      <th>1</th>\n",
              "      <td>Jumanji (1995)</td>\n",
              "      <td>Adventure|Children's|Fantasy</td>\n",
              "    </tr>\n",
              "    <tr>\n",
              "      <th>47</th>\n",
              "      <td>Pocahontas (1995)</td>\n",
              "      <td>Animation|Children's|Musical|Romance</td>\n",
              "    </tr>\n",
              "    <tr>\n",
              "      <th>344</th>\n",
              "      <td>Bullets Over Broadway (1994)</td>\n",
              "      <td>Comedy</td>\n",
              "    </tr>\n",
              "    <tr>\n",
              "      <th>351</th>\n",
              "      <td>Flintstones, The (1994)</td>\n",
              "      <td>Children's|Comedy</td>\n",
              "    </tr>\n",
              "    <tr>\n",
              "      <th>360</th>\n",
              "      <td>Lion King, The (1994)</td>\n",
              "      <td>Animation|Children's|Musical</td>\n",
              "    </tr>\n",
              "    <tr>\n",
              "      <th>366</th>\n",
              "      <td>Naked Gun 33 1/3: The Final Insult (1994)</td>\n",
              "      <td>Comedy</td>\n",
              "    </tr>\n",
              "    <tr>\n",
              "      <th>451</th>\n",
              "      <td>Free Willy (1993)</td>\n",
              "      <td>Adventure|Children's|Drama</td>\n",
              "    </tr>\n",
              "    <tr>\n",
              "      <th>571</th>\n",
              "      <td>Little Rascals, The (1994)</td>\n",
              "      <td>Children's|Comedy</td>\n",
              "    </tr>\n",
              "    <tr>\n",
              "      <th>582</th>\n",
              "      <td>Home Alone (1990)</td>\n",
              "      <td>Children's|Comedy</td>\n",
              "    </tr>\n",
              "    <tr>\n",
              "      <th>584</th>\n",
              "      <td>Aladdin (1992)</td>\n",
              "      <td>Animation|Children's|Comedy|Musical</td>\n",
              "    </tr>\n",
              "    <tr>\n",
              "      <th>591</th>\n",
              "      <td>Beauty and the Beast (1991)</td>\n",
              "      <td>Animation|Children's|Musical</td>\n",
              "    </tr>\n",
              "    <tr>\n",
              "      <th>1000</th>\n",
              "      <td>Parent Trap, The (1961)</td>\n",
              "      <td>Children's|Drama</td>\n",
              "    </tr>\n",
              "    <tr>\n",
              "      <th>1446</th>\n",
              "      <td>Jungle2Jungle (a.k.a. Jungle 2 Jungle) (1997)</td>\n",
              "      <td>Children's|Comedy</td>\n",
              "    </tr>\n",
              "    <tr>\n",
              "      <th>1547</th>\n",
              "      <td>George of the Jungle (1997)</td>\n",
              "      <td>Children's|Comedy</td>\n",
              "    </tr>\n",
              "    <tr>\n",
              "      <th>1659</th>\n",
              "      <td>Home Alone 3 (1997)</td>\n",
              "      <td>Children's|Comedy</td>\n",
              "    </tr>\n",
              "    <tr>\n",
              "      <th>1973</th>\n",
              "      <td>D2: The Mighty Ducks (1994)</td>\n",
              "      <td>Children's|Comedy</td>\n",
              "    </tr>\n",
              "    <tr>\n",
              "      <th>1984</th>\n",
              "      <td>Honey, I Blew Up the Kid (1992)</td>\n",
              "      <td>Children's|Comedy|Sci-Fi</td>\n",
              "    </tr>\n",
              "    <tr>\n",
              "      <th>2013</th>\n",
              "      <td>Mighty Ducks, The (1992)</td>\n",
              "      <td>Children's|Comedy</td>\n",
              "    </tr>\n",
              "    <tr>\n",
              "      <th>2070</th>\n",
              "      <td>Secret of NIMH, The (1982)</td>\n",
              "      <td>Animation|Children's</td>\n",
              "    </tr>\n",
              "    <tr>\n",
              "      <th>2355</th>\n",
              "      <td>You've Got Mail (1998)</td>\n",
              "      <td>Comedy|Romance</td>\n",
              "    </tr>\n",
              "    <tr>\n",
              "      <th>2729</th>\n",
              "      <td>Problem Child (1990)</td>\n",
              "      <td>Comedy</td>\n",
              "    </tr>\n",
              "    <tr>\n",
              "      <th>2884</th>\n",
              "      <td>Home Alone 2: Lost in New York (1992)</td>\n",
              "      <td>Children's|Comedy</td>\n",
              "    </tr>\n",
              "    <tr>\n",
              "      <th>3110</th>\n",
              "      <td>Angela's Ashes (1999)</td>\n",
              "      <td>Drama</td>\n",
              "    </tr>\n",
              "    <tr>\n",
              "      <th>3509</th>\n",
              "      <td>Gladiator (2000)</td>\n",
              "      <td>Action|Drama</td>\n",
              "    </tr>\n",
              "  </tbody>\n",
              "</table>\n",
              "</div>\n",
              "      <button class=\"colab-df-convert\" onclick=\"convertToInteractive('df-9fbb6c72-7230-4eb2-8ff2-20c682f90a9e')\"\n",
              "              title=\"Convert this dataframe to an interactive table.\"\n",
              "              style=\"display:none;\">\n",
              "        \n",
              "  <svg xmlns=\"http://www.w3.org/2000/svg\" height=\"24px\"viewBox=\"0 0 24 24\"\n",
              "       width=\"24px\">\n",
              "    <path d=\"M0 0h24v24H0V0z\" fill=\"none\"/>\n",
              "    <path d=\"M18.56 5.44l.94 2.06.94-2.06 2.06-.94-2.06-.94-.94-2.06-.94 2.06-2.06.94zm-11 1L8.5 8.5l.94-2.06 2.06-.94-2.06-.94L8.5 2.5l-.94 2.06-2.06.94zm10 10l.94 2.06.94-2.06 2.06-.94-2.06-.94-.94-2.06-.94 2.06-2.06.94z\"/><path d=\"M17.41 7.96l-1.37-1.37c-.4-.4-.92-.59-1.43-.59-.52 0-1.04.2-1.43.59L10.3 9.45l-7.72 7.72c-.78.78-.78 2.05 0 2.83L4 21.41c.39.39.9.59 1.41.59.51 0 1.02-.2 1.41-.59l7.78-7.78 2.81-2.81c.8-.78.8-2.07 0-2.86zM5.41 20L4 18.59l7.72-7.72 1.47 1.35L5.41 20z\"/>\n",
              "  </svg>\n",
              "      </button>\n",
              "      \n",
              "  <style>\n",
              "    .colab-df-container {\n",
              "      display:flex;\n",
              "      flex-wrap:wrap;\n",
              "      gap: 12px;\n",
              "    }\n",
              "\n",
              "    .colab-df-convert {\n",
              "      background-color: #E8F0FE;\n",
              "      border: none;\n",
              "      border-radius: 50%;\n",
              "      cursor: pointer;\n",
              "      display: none;\n",
              "      fill: #1967D2;\n",
              "      height: 32px;\n",
              "      padding: 0 0 0 0;\n",
              "      width: 32px;\n",
              "    }\n",
              "\n",
              "    .colab-df-convert:hover {\n",
              "      background-color: #E2EBFA;\n",
              "      box-shadow: 0px 1px 2px rgba(60, 64, 67, 0.3), 0px 1px 3px 1px rgba(60, 64, 67, 0.15);\n",
              "      fill: #174EA6;\n",
              "    }\n",
              "\n",
              "    [theme=dark] .colab-df-convert {\n",
              "      background-color: #3B4455;\n",
              "      fill: #D2E3FC;\n",
              "    }\n",
              "\n",
              "    [theme=dark] .colab-df-convert:hover {\n",
              "      background-color: #434B5C;\n",
              "      box-shadow: 0px 1px 3px 1px rgba(0, 0, 0, 0.15);\n",
              "      filter: drop-shadow(0px 1px 2px rgba(0, 0, 0, 0.3));\n",
              "      fill: #FFFFFF;\n",
              "    }\n",
              "  </style>\n",
              "\n",
              "      <script>\n",
              "        const buttonEl =\n",
              "          document.querySelector('#df-9fbb6c72-7230-4eb2-8ff2-20c682f90a9e button.colab-df-convert');\n",
              "        buttonEl.style.display =\n",
              "          google.colab.kernel.accessAllowed ? 'block' : 'none';\n",
              "\n",
              "        async function convertToInteractive(key) {\n",
              "          const element = document.querySelector('#df-9fbb6c72-7230-4eb2-8ff2-20c682f90a9e');\n",
              "          const dataTable =\n",
              "            await google.colab.kernel.invokeFunction('convertToInteractive',\n",
              "                                                     [key], {});\n",
              "          if (!dataTable) return;\n",
              "\n",
              "          const docLinkHtml = 'Like what you see? Visit the ' +\n",
              "            '<a target=\"_blank\" href=https://colab.research.google.com/notebooks/data_table.ipynb>data table notebook</a>'\n",
              "            + ' to learn more about interactive tables.';\n",
              "          element.innerHTML = '';\n",
              "          dataTable['output_type'] = 'display_data';\n",
              "          await google.colab.output.renderOutput(dataTable, element);\n",
              "          const docLink = document.createElement('div');\n",
              "          docLink.innerHTML = docLinkHtml;\n",
              "          element.appendChild(docLink);\n",
              "        }\n",
              "      </script>\n",
              "    </div>\n",
              "  </div>\n",
              "  "
            ]
          },
          "metadata": {},
          "execution_count": 38
        }
      ]
    },
    {
      "cell_type": "markdown",
      "source": [
        "## 회고\n",
        "\n",
        "- 추천 시스템은 처음 하는 거라서 지난 몇번의 노드와 비슷하게 깃헙과 구글과 조원분들의 도움을 받아서 ctrl+c,v 의 역할이 컸다. 문제는 왜인지 모르겠지만 거의 비슷하게 복붙을 했는데 als.model 에 csr data를 transpose 한 후에 넣은 것들은 User와 item이 바껴서 나오는 것이었다. 참고한 레퍼런스들에서는 모델에서 user와 item이 바껴서 들어가기때문에 입력할때 transpose를 한다고 적혀있었지만 내가 실행했을 때는 transpose 한 데이터를 넣었을 때 transpose되서 결과가 나왔다. 첨엔 복붙이라 어디가 틀린줄 알고 여러번 반복했는데.. 다르게 나오는대로 다시 코드를 짜서 실행해보니 분석 결과는 transpose를 시키지 않고 넣은 것이 제대로 나오는 것으로 확인되었다. (내가 선택한 영화들이 추천 목록 상위에 높은 점수로 그대로 나오는것을 확인함) 결국은 버전이 다른게 아닌가...\n",
        "\n",
        "- 노드와 참고한 레퍼런스에서는 데이터 전처리로 평점 3점 이하는 지웠는데 굳이 그럴 필요성을 못느껴서 그대로 진행했다. (3을 제외하고도 해봤는데 결과는 같은 조건에서 빼지 않았을 때 유사도가 더 높게 나오는 것을 확인했다. \n",
        "\n",
        "- 학습차원을 100에서 512로 늘리고 에폭을 10->30->100으로 바꿔가면서 진행했는데 예상과 다르게 100일때보다 30일때 나홀로집에와 my벡터의 유사도가 더 높게 잡혔다. 에폭이 높다고 무조건 추천을 잘하는 것은 아닌 것 같다.\n",
        "\n",
        "- 역시나 혼자서 하라고 하면 1도 이해하지 못했지만, 추천을 이렇게 해주는구나는 알게된 노드인것같다. \n"
      ],
      "metadata": {
        "id": "El4o1swZRHq3"
      }
    }
  ]
}