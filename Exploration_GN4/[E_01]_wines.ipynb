{
  "nbformat": 4,
  "nbformat_minor": 0,
  "metadata": {
    "colab": {
      "name": "[E-01] wines.ipynb",
      "provenance": []
    },
    "kernelspec": {
      "name": "python3",
      "display_name": "Python 3"
    },
    "language_info": {
      "name": "python"
    }
  },
  "cells": [
    {
      "cell_type": "markdown",
      "source": [
        "# 프로젝트 (\b2) load_wine\n",
        "\n",
        "# 1. 필요한 모듈 Import 하기\n"
      ],
      "metadata": {
        "id": "UM55pCkA9jKi"
      }
    },
    {
      "cell_type": "code",
      "execution_count": 1,
      "metadata": {
        "id": "rs2E2fVZ9eS2"
      },
      "outputs": [],
      "source": [
        "from sklearn.datasets import load_wine\n",
        "from sklearn.model_selection import train_test_split\n",
        "from sklearn.metrics import classification_report"
      ]
    },
    {
      "cell_type": "markdown",
      "source": [
        "# 2. 데이터 준비"
      ],
      "metadata": {
        "id": "CHe9TP2L99JC"
      }
    },
    {
      "cell_type": "code",
      "source": [
        "wines = load_wine()"
      ],
      "metadata": {
        "id": "Xsuu_p5e98er"
      },
      "execution_count": 2,
      "outputs": []
    },
    {
      "cell_type": "markdown",
      "source": [
        "# 3. 데이터 이해하기"
      ],
      "metadata": {
        "id": "2m0NXkGj911W"
      }
    },
    {
      "cell_type": "code",
      "source": [
        "### Feature Data 지정하기\n",
        "wines_data = wines.data\n",
        "\n",
        "### Label Data 지정하기\n",
        "wines_label = wines.target\n",
        "\n",
        "### Target Names 출력해 보기\n",
        "print(wines.target_names)\n",
        "\n",
        "### 데이터 Describe 해보기\n",
        "wines.DESCR"
      ],
      "metadata": {
        "colab": {
          "base_uri": "https://localhost:8080/",
          "height": 232
        },
        "id": "1nd4ntDM94Sb",
        "outputId": "07127bb0-2e87-4c0a-fdea-25fc821ed50d"
      },
      "execution_count": 3,
      "outputs": [
        {
          "output_type": "stream",
          "name": "stdout",
          "text": [
            "['class_0' 'class_1' 'class_2']\n"
          ]
        },
        {
          "output_type": "execute_result",
          "data": {
            "text/plain": [
              "'.. _wine_dataset:\\n\\nWine recognition dataset\\n------------------------\\n\\n**Data Set Characteristics:**\\n\\n    :Number of Instances: 178 (50 in each of three classes)\\n    :Number of Attributes: 13 numeric, predictive attributes and the class\\n    :Attribute Information:\\n \\t\\t- Alcohol\\n \\t\\t- Malic acid\\n \\t\\t- Ash\\n\\t\\t- Alcalinity of ash  \\n \\t\\t- Magnesium\\n\\t\\t- Total phenols\\n \\t\\t- Flavanoids\\n \\t\\t- Nonflavanoid phenols\\n \\t\\t- Proanthocyanins\\n\\t\\t- Color intensity\\n \\t\\t- Hue\\n \\t\\t- OD280/OD315 of diluted wines\\n \\t\\t- Proline\\n\\n    - class:\\n            - class_0\\n            - class_1\\n            - class_2\\n\\t\\t\\n    :Summary Statistics:\\n    \\n    ============================= ==== ===== ======= =====\\n                                   Min   Max   Mean     SD\\n    ============================= ==== ===== ======= =====\\n    Alcohol:                      11.0  14.8    13.0   0.8\\n    Malic Acid:                   0.74  5.80    2.34  1.12\\n    Ash:                          1.36  3.23    2.36  0.27\\n    Alcalinity of Ash:            10.6  30.0    19.5   3.3\\n    Magnesium:                    70.0 162.0    99.7  14.3\\n    Total Phenols:                0.98  3.88    2.29  0.63\\n    Flavanoids:                   0.34  5.08    2.03  1.00\\n    Nonflavanoid Phenols:         0.13  0.66    0.36  0.12\\n    Proanthocyanins:              0.41  3.58    1.59  0.57\\n    Colour Intensity:              1.3  13.0     5.1   2.3\\n    Hue:                          0.48  1.71    0.96  0.23\\n    OD280/OD315 of diluted wines: 1.27  4.00    2.61  0.71\\n    Proline:                       278  1680     746   315\\n    ============================= ==== ===== ======= =====\\n\\n    :Missing Attribute Values: None\\n    :Class Distribution: class_0 (59), class_1 (71), class_2 (48)\\n    :Creator: R.A. Fisher\\n    :Donor: Michael Marshall (MARSHALL%PLU@io.arc.nasa.gov)\\n    :Date: July, 1988\\n\\nThis is a copy of UCI ML Wine recognition datasets.\\nhttps://archive.ics.uci.edu/ml/machine-learning-databases/wine/wine.data\\n\\nThe data is the results of a chemical analysis of wines grown in the same\\nregion in Italy by three different cultivators. There are thirteen different\\nmeasurements taken for different constituents found in the three types of\\nwine.\\n\\nOriginal Owners: \\n\\nForina, M. et al, PARVUS - \\nAn Extendible Package for Data Exploration, Classification and Correlation. \\nInstitute of Pharmaceutical and Food Analysis and Technologies,\\nVia Brigata Salerno, 16147 Genoa, Italy.\\n\\nCitation:\\n\\nLichman, M. (2013). UCI Machine Learning Repository\\n[https://archive.ics.uci.edu/ml]. Irvine, CA: University of California,\\nSchool of Information and Computer Science. \\n\\n.. topic:: References\\n\\n  (1) S. Aeberhard, D. Coomans and O. de Vel, \\n  Comparison of Classifiers in High Dimensional Settings, \\n  Tech. Rep. no. 92-02, (1992), Dept. of Computer Science and Dept. of  \\n  Mathematics and Statistics, James Cook University of North Queensland. \\n  (Also submitted to Technometrics). \\n\\n  The data was used with many others for comparing various \\n  classifiers. The classes are separable, though only RDA \\n  has achieved 100% correct classification. \\n  (RDA : 100%, QDA 99.4%, LDA 98.9%, 1NN 96.1% (z-transformed data)) \\n  (All results using the leave-one-out technique) \\n\\n  (2) S. Aeberhard, D. Coomans and O. de Vel, \\n  \"THE CLASSIFICATION PERFORMANCE OF RDA\" \\n  Tech. Rep. no. 92-01, (1992), Dept. of Computer Science and Dept. of \\n  Mathematics and Statistics, James Cook University of North Queensland. \\n  (Also submitted to Journal of Chemometrics).\\n'"
            ],
            "application/vnd.google.colaboratory.intrinsic+json": {
              "type": "string"
            }
          },
          "metadata": {},
          "execution_count": 3
        }
      ]
    },
    {
      "cell_type": "markdown",
      "source": [
        "# 4. train, test 데이터 분리"
      ],
      "metadata": {
        "id": "7PV0gUyc_RRL"
      }
    },
    {
      "cell_type": "code",
      "source": [
        "X_train, X_test, y_train, y_test = train_test_split(wines_data, \n",
        "                                                    wines_label, \n",
        "                                                    test_size = 0.2, \n",
        "                                                    random_state = 77)"
      ],
      "metadata": {
        "id": "m4j95NBq9zRp"
      },
      "execution_count": 4,
      "outputs": []
    },
    {
      "cell_type": "markdown",
      "source": [
        "# 5. 다양한 모델로 학습시켜보기, 6. 모델을 평가해 보기\n",
        "\n",
        "  \n",
        "\n",
        "> (1) Decision Tree 사용 및 모델 평가\n",
        "\n"
      ],
      "metadata": {
        "id": "TxDqeiFJ_WHC"
      }
    },
    {
      "cell_type": "code",
      "source": [
        "from sklearn.tree import DecisionTreeClassifier\n",
        "\n",
        "decision_tree = DecisionTreeClassifier(random_state = 7)\n",
        "decision_tree.fit(X_train, y_train)\n",
        "y_pred_dtree = decision_tree.predict(X_test)\n",
        "\n",
        "print(classification_report(y_test, y_pred_dtree))"
      ],
      "metadata": {
        "colab": {
          "base_uri": "https://localhost:8080/"
        },
        "id": "aFU7od8aAAX7",
        "outputId": "ef51f9a8-7bec-41b9-f362-03e0d0a4d099"
      },
      "execution_count": 5,
      "outputs": [
        {
          "output_type": "stream",
          "name": "stdout",
          "text": [
            "              precision    recall  f1-score   support\n",
            "\n",
            "           0       1.00      0.91      0.95        11\n",
            "           1       0.88      1.00      0.93        14\n",
            "           2       1.00      0.91      0.95        11\n",
            "\n",
            "    accuracy                           0.94        36\n",
            "   macro avg       0.96      0.94      0.95        36\n",
            "weighted avg       0.95      0.94      0.94        36\n",
            "\n"
          ]
        }
      ]
    },
    {
      "cell_type": "markdown",
      "source": [
        "> (2) Random Forest 사용 및 모델 평가\n"
      ],
      "metadata": {
        "id": "Yd8UReGmAB45"
      }
    },
    {
      "cell_type": "code",
      "source": [
        "from sklearn.ensemble import RandomForestClassifier\n",
        "\n",
        "random_forest = RandomForestClassifier(random_state=7)\n",
        "random_forest.fit(X_train, y_train)\n",
        "y_pred_rforest = random_forest.predict(X_test)\n",
        "\n",
        "print(classification_report(y_test, y_pred_rforest))"
      ],
      "metadata": {
        "colab": {
          "base_uri": "https://localhost:8080/"
        },
        "id": "RRIk-Xvb_6m3",
        "outputId": "e603def1-b4cf-4fc7-b67e-9c3542b3881f"
      },
      "execution_count": 6,
      "outputs": [
        {
          "output_type": "stream",
          "name": "stdout",
          "text": [
            "              precision    recall  f1-score   support\n",
            "\n",
            "           0       1.00      1.00      1.00        11\n",
            "           1       1.00      1.00      1.00        14\n",
            "           2       1.00      1.00      1.00        11\n",
            "\n",
            "    accuracy                           1.00        36\n",
            "   macro avg       1.00      1.00      1.00        36\n",
            "weighted avg       1.00      1.00      1.00        36\n",
            "\n"
          ]
        }
      ]
    },
    {
      "cell_type": "markdown",
      "source": [
        "\n",
        "> (3) \bSVM 사용 및 모델 평가\n",
        "\n",
        "\n"
      ],
      "metadata": {
        "id": "8gMPHH5o_gFO"
      }
    },
    {
      "cell_type": "code",
      "source": [
        "from sklearn import svm\n",
        "\n",
        "svm_model = svm.SVC(random_state=7)\n",
        "svm_model.fit(X_train, y_train)\n",
        "y_pred_svm = svm_model.predict(X_test)\n",
        "\n",
        "print(classification_report(y_test, y_pred_svm))"
      ],
      "metadata": {
        "colab": {
          "base_uri": "https://localhost:8080/"
        },
        "id": "VyZfcYGV_cFq",
        "outputId": "59cd3ec5-3729-42c1-caff-208d28b72c9b"
      },
      "execution_count": 7,
      "outputs": [
        {
          "output_type": "stream",
          "name": "stdout",
          "text": [
            "              precision    recall  f1-score   support\n",
            "\n",
            "           0       0.90      0.82      0.86        11\n",
            "           1       0.58      0.79      0.67        14\n",
            "           2       0.43      0.27      0.33        11\n",
            "\n",
            "    accuracy                           0.64        36\n",
            "   macro avg       0.64      0.63      0.62        36\n",
            "weighted avg       0.63      0.64      0.62        36\n",
            "\n"
          ]
        }
      ]
    },
    {
      "cell_type": "markdown",
      "source": [
        "> (4) SGD Classifier 사용 및 모델 평가\n"
      ],
      "metadata": {
        "id": "r0t3Dq6-_vy7"
      }
    },
    {
      "cell_type": "code",
      "source": [
        "from sklearn.linear_model import SGDClassifier\n",
        "\n",
        "sgd_model = SGDClassifier(random_state=7)\n",
        "sgd_model.fit(X_train, y_train)\n",
        "y_pred_sgd = sgd_model.predict(X_test)\n",
        "\n",
        "print(classification_report(y_test, y_pred_sgd))"
      ],
      "metadata": {
        "colab": {
          "base_uri": "https://localhost:8080/"
        },
        "id": "RD5MimzdAOTj",
        "outputId": "630d97a8-443a-435e-cfe3-c2cb547f9e1f"
      },
      "execution_count": 8,
      "outputs": [
        {
          "output_type": "stream",
          "name": "stdout",
          "text": [
            "              precision    recall  f1-score   support\n",
            "\n",
            "           0       0.59      0.91      0.71        11\n",
            "           1       0.58      0.79      0.67        14\n",
            "           2       0.00      0.00      0.00        11\n",
            "\n",
            "    accuracy                           0.58        36\n",
            "   macro avg       0.39      0.56      0.46        36\n",
            "weighted avg       0.40      0.58      0.48        36\n",
            "\n"
          ]
        },
        {
          "output_type": "stream",
          "name": "stderr",
          "text": [
            "/usr/local/lib/python3.7/dist-packages/sklearn/metrics/_classification.py:1318: UndefinedMetricWarning: Precision and F-score are ill-defined and being set to 0.0 in labels with no predicted samples. Use `zero_division` parameter to control this behavior.\n",
            "  _warn_prf(average, modifier, msg_start, len(result))\n",
            "/usr/local/lib/python3.7/dist-packages/sklearn/metrics/_classification.py:1318: UndefinedMetricWarning: Precision and F-score are ill-defined and being set to 0.0 in labels with no predicted samples. Use `zero_division` parameter to control this behavior.\n",
            "  _warn_prf(average, modifier, msg_start, len(result))\n",
            "/usr/local/lib/python3.7/dist-packages/sklearn/metrics/_classification.py:1318: UndefinedMetricWarning: Precision and F-score are ill-defined and being set to 0.0 in labels with no predicted samples. Use `zero_division` parameter to control this behavior.\n",
            "  _warn_prf(average, modifier, msg_start, len(result))\n"
          ]
        }
      ]
    },
    {
      "cell_type": "markdown",
      "source": [
        "> (5) Logisitic Regression 사용 및 모델 평가\n"
      ],
      "metadata": {
        "id": "9_8J9nfrAO_b"
      }
    },
    {
      "cell_type": "code",
      "source": [
        "from sklearn.linear_model import LogisticRegression\n",
        "\n",
        "logistic_model = LogisticRegression(max_iter = 10000, random_state=7)\n",
        "logistic_model.fit(X_train, y_train)\n",
        "y_pred_logisitic = logistic_model.predict(X_test)\n",
        "\n",
        "print(classification_report(y_test, y_pred_logisitic))"
      ],
      "metadata": {
        "colab": {
          "base_uri": "https://localhost:8080/"
        },
        "id": "1e0k1XODAPpt",
        "outputId": "86355f94-6b61-4a46-ac63-6704e434014f"
      },
      "execution_count": 9,
      "outputs": [
        {
          "output_type": "stream",
          "name": "stdout",
          "text": [
            "              precision    recall  f1-score   support\n",
            "\n",
            "           0       1.00      1.00      1.00        11\n",
            "           1       0.93      1.00      0.97        14\n",
            "           2       1.00      0.91      0.95        11\n",
            "\n",
            "    accuracy                           0.97        36\n",
            "   macro avg       0.98      0.97      0.97        36\n",
            "weighted avg       0.97      0.97      0.97        36\n",
            "\n"
          ]
        }
      ]
    },
    {
      "cell_type": "markdown",
      "source": [
        "# 6. 모델을 평가해 보기"
      ],
      "metadata": {
        "id": "5r8CkcmWLt9r"
      }
    },
    {
      "cell_type": "code",
      "source": [
        "from sklearn.metrics import accuracy_score\n",
        "\n",
        "scoring = {'Decision Tree accuracy':accuracy_score(y_test, y_pred_dtree), \n",
        "           'Random Forest accuracy':accuracy_score(y_test, y_pred_rforest),\n",
        "           'SVM accuracy':accuracy_score(y_test, y_pred_svm),\n",
        "           'SGD Classifier accuracy':accuracy_score(y_test, y_pred_sgd),\n",
        "           'Logistic accuracy':accuracy_score(y_test, y_pred_logisitic)}\n",
        "\n",
        "print(scoring)"
      ],
      "metadata": {
        "colab": {
          "base_uri": "https://localhost:8080/"
        },
        "id": "6BdmN3xHHkUg",
        "outputId": "93676c7d-3b51-4b6a-84a7-0f72e2e7929b"
      },
      "execution_count": 10,
      "outputs": [
        {
          "output_type": "stream",
          "name": "stdout",
          "text": [
            "{'Decision Tree accuracy': 0.9444444444444444, 'Random Forest accuracy': 1.0, 'SVM accuracy': 0.6388888888888888, 'SGD Classifier accuracy': 0.5833333333333334, 'Logistic accuracy': 0.9722222222222222}\n"
          ]
        }
      ]
    },
    {
      "cell_type": "markdown",
      "source": [
        "# 결론 \n",
        "\n",
        "-> Random Forest Model 을 사용했을 때 정확도가 1로 가장 높게 나왔습니다.이는 \bwines 데이터의 경우 총 13개의 특성을 바탕으로 3개의 label로 분류하는 작업이라 랜덤 특성을 뽑아서 ensemble 로 처리하는 모델인 random forest 모델이 높은 것으로 이해했습니다. \n",
        "\n",
        "-> \b\bwine 역시 분류 문제이기 때문에 True positive 와 True negative를 같이 평가하는 accuracy로 판단하는 것이 적절한 것 같습니다. "
      ],
      "metadata": {
        "id": "45qTzMNECxH1"
      }
    },
    {
      "cell_type": "code",
      "source": [
        ""
      ],
      "metadata": {
        "id": "jfaKhJjAIDc4"
      },
      "execution_count": null,
      "outputs": []
    }
  ]
}