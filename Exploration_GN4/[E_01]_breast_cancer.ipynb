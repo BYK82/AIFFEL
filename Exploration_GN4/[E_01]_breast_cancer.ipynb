{
  "nbformat": 4,
  "nbformat_minor": 0,
  "metadata": {
    "colab": {
      "name": "[E-01] breast cancer.ipynb",
      "provenance": []
    },
    "kernelspec": {
      "name": "python3",
      "display_name": "Python 3"
    },
    "language_info": {
      "name": "python"
    }
  },
  "cells": [
    {
      "cell_type": "markdown",
      "source": [
        "# 프로젝트 (\b3) load_breast_cancer\n",
        "\n",
        "# 1. 필요한 모듈 Import 하기\n"
      ],
      "metadata": {
        "id": "UM55pCkA9jKi"
      }
    },
    {
      "cell_type": "code",
      "execution_count": 1,
      "metadata": {
        "id": "rs2E2fVZ9eS2"
      },
      "outputs": [],
      "source": [
        "from sklearn.datasets import load_breast_cancer\n",
        "from sklearn.model_selection import train_test_split\n",
        "from sklearn.metrics import classification_report"
      ]
    },
    {
      "cell_type": "markdown",
      "source": [
        "# 2. 데이터 준비"
      ],
      "metadata": {
        "id": "CHe9TP2L99JC"
      }
    },
    {
      "cell_type": "code",
      "source": [
        "breast_cancers = load_breast_cancer()"
      ],
      "metadata": {
        "id": "Xsuu_p5e98er"
      },
      "execution_count": 2,
      "outputs": []
    },
    {
      "cell_type": "markdown",
      "source": [
        "# 3. 데이터 이해하기"
      ],
      "metadata": {
        "id": "2m0NXkGj911W"
      }
    },
    {
      "cell_type": "code",
      "source": [
        "### Feature Data 지정하기\n",
        "breast_cancers_data = breast_cancers.data\n",
        "\n",
        "### Label Data 지정하기\n",
        "breast_cancers_label = breast_cancers.target\n",
        "\n",
        "### Target Names 출력해 보기\n",
        "print(breast_cancers.target_names)\n",
        "\n",
        "### 데이터 Describe 해보기\n",
        "breast_cancers.DESCR"
      ],
      "metadata": {
        "colab": {
          "base_uri": "https://localhost:8080/",
          "height": 232
        },
        "id": "1nd4ntDM94Sb",
        "outputId": "bf66e891-fb25-40a7-c92d-b6e07f9407ac"
      },
      "execution_count": 3,
      "outputs": [
        {
          "output_type": "stream",
          "name": "stdout",
          "text": [
            "['malignant' 'benign']\n"
          ]
        },
        {
          "output_type": "execute_result",
          "data": {
            "text/plain": [
              "'.. _breast_cancer_dataset:\\n\\nBreast cancer wisconsin (diagnostic) dataset\\n--------------------------------------------\\n\\n**Data Set Characteristics:**\\n\\n    :Number of Instances: 569\\n\\n    :Number of Attributes: 30 numeric, predictive attributes and the class\\n\\n    :Attribute Information:\\n        - radius (mean of distances from center to points on the perimeter)\\n        - texture (standard deviation of gray-scale values)\\n        - perimeter\\n        - area\\n        - smoothness (local variation in radius lengths)\\n        - compactness (perimeter^2 / area - 1.0)\\n        - concavity (severity of concave portions of the contour)\\n        - concave points (number of concave portions of the contour)\\n        - symmetry\\n        - fractal dimension (\"coastline approximation\" - 1)\\n\\n        The mean, standard error, and \"worst\" or largest (mean of the three\\n        worst/largest values) of these features were computed for each image,\\n        resulting in 30 features.  For instance, field 0 is Mean Radius, field\\n        10 is Radius SE, field 20 is Worst Radius.\\n\\n        - class:\\n                - WDBC-Malignant\\n                - WDBC-Benign\\n\\n    :Summary Statistics:\\n\\n    ===================================== ====== ======\\n                                           Min    Max\\n    ===================================== ====== ======\\n    radius (mean):                        6.981  28.11\\n    texture (mean):                       9.71   39.28\\n    perimeter (mean):                     43.79  188.5\\n    area (mean):                          143.5  2501.0\\n    smoothness (mean):                    0.053  0.163\\n    compactness (mean):                   0.019  0.345\\n    concavity (mean):                     0.0    0.427\\n    concave points (mean):                0.0    0.201\\n    symmetry (mean):                      0.106  0.304\\n    fractal dimension (mean):             0.05   0.097\\n    radius (standard error):              0.112  2.873\\n    texture (standard error):             0.36   4.885\\n    perimeter (standard error):           0.757  21.98\\n    area (standard error):                6.802  542.2\\n    smoothness (standard error):          0.002  0.031\\n    compactness (standard error):         0.002  0.135\\n    concavity (standard error):           0.0    0.396\\n    concave points (standard error):      0.0    0.053\\n    symmetry (standard error):            0.008  0.079\\n    fractal dimension (standard error):   0.001  0.03\\n    radius (worst):                       7.93   36.04\\n    texture (worst):                      12.02  49.54\\n    perimeter (worst):                    50.41  251.2\\n    area (worst):                         185.2  4254.0\\n    smoothness (worst):                   0.071  0.223\\n    compactness (worst):                  0.027  1.058\\n    concavity (worst):                    0.0    1.252\\n    concave points (worst):               0.0    0.291\\n    symmetry (worst):                     0.156  0.664\\n    fractal dimension (worst):            0.055  0.208\\n    ===================================== ====== ======\\n\\n    :Missing Attribute Values: None\\n\\n    :Class Distribution: 212 - Malignant, 357 - Benign\\n\\n    :Creator:  Dr. William H. Wolberg, W. Nick Street, Olvi L. Mangasarian\\n\\n    :Donor: Nick Street\\n\\n    :Date: November, 1995\\n\\nThis is a copy of UCI ML Breast Cancer Wisconsin (Diagnostic) datasets.\\nhttps://goo.gl/U2Uwz2\\n\\nFeatures are computed from a digitized image of a fine needle\\naspirate (FNA) of a breast mass.  They describe\\ncharacteristics of the cell nuclei present in the image.\\n\\nSeparating plane described above was obtained using\\nMultisurface Method-Tree (MSM-T) [K. P. Bennett, \"Decision Tree\\nConstruction Via Linear Programming.\" Proceedings of the 4th\\nMidwest Artificial Intelligence and Cognitive Science Society,\\npp. 97-101, 1992], a classification method which uses linear\\nprogramming to construct a decision tree.  Relevant features\\nwere selected using an exhaustive search in the space of 1-4\\nfeatures and 1-3 separating planes.\\n\\nThe actual linear program used to obtain the separating plane\\nin the 3-dimensional space is that described in:\\n[K. P. Bennett and O. L. Mangasarian: \"Robust Linear\\nProgramming Discrimination of Two Linearly Inseparable Sets\",\\nOptimization Methods and Software 1, 1992, 23-34].\\n\\nThis database is also available through the UW CS ftp server:\\n\\nftp ftp.cs.wisc.edu\\ncd math-prog/cpo-dataset/machine-learn/WDBC/\\n\\n.. topic:: References\\n\\n   - W.N. Street, W.H. Wolberg and O.L. Mangasarian. Nuclear feature extraction \\n     for breast tumor diagnosis. IS&T/SPIE 1993 International Symposium on \\n     Electronic Imaging: Science and Technology, volume 1905, pages 861-870,\\n     San Jose, CA, 1993.\\n   - O.L. Mangasarian, W.N. Street and W.H. Wolberg. Breast cancer diagnosis and \\n     prognosis via linear programming. Operations Research, 43(4), pages 570-577, \\n     July-August 1995.\\n   - W.H. Wolberg, W.N. Street, and O.L. Mangasarian. Machine learning techniques\\n     to diagnose breast cancer from fine-needle aspirates. Cancer Letters 77 (1994) \\n     163-171.'"
            ],
            "application/vnd.google.colaboratory.intrinsic+json": {
              "type": "string"
            }
          },
          "metadata": {},
          "execution_count": 3
        }
      ]
    },
    {
      "cell_type": "markdown",
      "source": [
        "# 4. train, test 데이터 분리"
      ],
      "metadata": {
        "id": "7PV0gUyc_RRL"
      }
    },
    {
      "cell_type": "code",
      "source": [
        "X_train, X_test, y_train, y_test = train_test_split(breast_cancers_data, \n",
        "                                                    breast_cancers_label, \n",
        "                                                    test_size = 0.2, \n",
        "                                                    random_state = 77)"
      ],
      "metadata": {
        "id": "m4j95NBq9zRp"
      },
      "execution_count": 4,
      "outputs": []
    },
    {
      "cell_type": "markdown",
      "source": [
        "# 5. 다양한 모델로 학습시켜보기, 6. 모델을 평가해 보기\n",
        "\n",
        "  \n",
        "\n",
        "> (1) Decision Tree 사용 및 모델 평가\n",
        "\n"
      ],
      "metadata": {
        "id": "TxDqeiFJ_WHC"
      }
    },
    {
      "cell_type": "code",
      "source": [
        "from sklearn.tree import DecisionTreeClassifier\n",
        "\n",
        "decision_tree = DecisionTreeClassifier(random_state = 7)\n",
        "decision_tree.fit(X_train, y_train)\n",
        "y_pred_dtree = decision_tree.predict(X_test)\n",
        "\n",
        "print(classification_report(y_test, y_pred_dtree))"
      ],
      "metadata": {
        "colab": {
          "base_uri": "https://localhost:8080/"
        },
        "id": "aFU7od8aAAX7",
        "outputId": "44682a5a-2cd6-4355-97cc-71db790407fa"
      },
      "execution_count": 5,
      "outputs": [
        {
          "output_type": "stream",
          "name": "stdout",
          "text": [
            "              precision    recall  f1-score   support\n",
            "\n",
            "           0       0.90      0.92      0.91        39\n",
            "           1       0.96      0.95      0.95        75\n",
            "\n",
            "    accuracy                           0.94       114\n",
            "   macro avg       0.93      0.93      0.93       114\n",
            "weighted avg       0.94      0.94      0.94       114\n",
            "\n"
          ]
        }
      ]
    },
    {
      "cell_type": "markdown",
      "source": [
        "> (2) Random Forest 사용 및 모델 평가\n"
      ],
      "metadata": {
        "id": "Yd8UReGmAB45"
      }
    },
    {
      "cell_type": "code",
      "source": [
        "from sklearn.ensemble import RandomForestClassifier\n",
        "\n",
        "random_forest = RandomForestClassifier(random_state=7)\n",
        "random_forest.fit(X_train, y_train)\n",
        "y_pred_rforest = random_forest.predict(X_test)\n",
        "\n",
        "print(classification_report(y_test, y_pred_rforest))"
      ],
      "metadata": {
        "colab": {
          "base_uri": "https://localhost:8080/"
        },
        "id": "RRIk-Xvb_6m3",
        "outputId": "b0830c31-f997-4b73-adef-881e06e17784"
      },
      "execution_count": 6,
      "outputs": [
        {
          "output_type": "stream",
          "name": "stdout",
          "text": [
            "              precision    recall  f1-score   support\n",
            "\n",
            "           0       0.94      0.87      0.91        39\n",
            "           1       0.94      0.97      0.95        75\n",
            "\n",
            "    accuracy                           0.94       114\n",
            "   macro avg       0.94      0.92      0.93       114\n",
            "weighted avg       0.94      0.94      0.94       114\n",
            "\n"
          ]
        }
      ]
    },
    {
      "cell_type": "markdown",
      "source": [
        "\n",
        "> (3) \bSVM 사용 및 모델 평가\n",
        "\n",
        "\n"
      ],
      "metadata": {
        "id": "8gMPHH5o_gFO"
      }
    },
    {
      "cell_type": "code",
      "source": [
        "from sklearn import svm\n",
        "\n",
        "svm_model = svm.SVC(random_state=7)\n",
        "svm_model.fit(X_train, y_train)\n",
        "y_pred_svm = svm_model.predict(X_test)\n",
        "\n",
        "print(classification_report(y_test, y_pred_svm))"
      ],
      "metadata": {
        "colab": {
          "base_uri": "https://localhost:8080/"
        },
        "id": "VyZfcYGV_cFq",
        "outputId": "125baa1e-0277-47a6-bc4c-b0e0432a5b02"
      },
      "execution_count": 7,
      "outputs": [
        {
          "output_type": "stream",
          "name": "stdout",
          "text": [
            "              precision    recall  f1-score   support\n",
            "\n",
            "           0       0.97      0.77      0.86        39\n",
            "           1       0.89      0.99      0.94        75\n",
            "\n",
            "    accuracy                           0.91       114\n",
            "   macro avg       0.93      0.88      0.90       114\n",
            "weighted avg       0.92      0.91      0.91       114\n",
            "\n"
          ]
        }
      ]
    },
    {
      "cell_type": "markdown",
      "source": [
        "> (4) SGD Classifier 사용 및 모델 평가\n"
      ],
      "metadata": {
        "id": "r0t3Dq6-_vy7"
      }
    },
    {
      "cell_type": "code",
      "source": [
        "from sklearn.linear_model import SGDClassifier\n",
        "\n",
        "sgd_model = SGDClassifier(random_state=7)\n",
        "sgd_model.fit(X_train, y_train)\n",
        "y_pred_sgd = sgd_model.predict(X_test)\n",
        "\n",
        "print(classification_report(y_test, y_pred_sgd))"
      ],
      "metadata": {
        "colab": {
          "base_uri": "https://localhost:8080/"
        },
        "id": "RD5MimzdAOTj",
        "outputId": "a0dcfb67-7223-43ea-8e6d-c69e9283981d"
      },
      "execution_count": 8,
      "outputs": [
        {
          "output_type": "stream",
          "name": "stdout",
          "text": [
            "              precision    recall  f1-score   support\n",
            "\n",
            "           0       0.78      0.92      0.85        39\n",
            "           1       0.96      0.87      0.91        75\n",
            "\n",
            "    accuracy                           0.89       114\n",
            "   macro avg       0.87      0.89      0.88       114\n",
            "weighted avg       0.90      0.89      0.89       114\n",
            "\n"
          ]
        }
      ]
    },
    {
      "cell_type": "markdown",
      "source": [
        "> (5) Logisitic Regression 사용 및 모델 평가\n"
      ],
      "metadata": {
        "id": "9_8J9nfrAO_b"
      }
    },
    {
      "cell_type": "code",
      "source": [
        "from sklearn.linear_model import LogisticRegression\n",
        "\n",
        "logistic_model = LogisticRegression(max_iter = 10000, random_state=7)\n",
        "logistic_model.fit(X_train, y_train)\n",
        "y_pred_logisitic = logistic_model.predict(X_test)\n",
        "\n",
        "print(classification_report(y_test, y_pred_logisitic))"
      ],
      "metadata": {
        "colab": {
          "base_uri": "https://localhost:8080/"
        },
        "id": "1e0k1XODAPpt",
        "outputId": "37ca0c60-a876-4b2d-8403-b43df6ee1583"
      },
      "execution_count": 9,
      "outputs": [
        {
          "output_type": "stream",
          "name": "stdout",
          "text": [
            "              precision    recall  f1-score   support\n",
            "\n",
            "           0       0.95      0.90      0.92        39\n",
            "           1       0.95      0.97      0.96        75\n",
            "\n",
            "    accuracy                           0.95       114\n",
            "   macro avg       0.95      0.94      0.94       114\n",
            "weighted avg       0.95      0.95      0.95       114\n",
            "\n"
          ]
        }
      ]
    },
    {
      "cell_type": "markdown",
      "source": [
        "# 6. 모델을 평가해 보기"
      ],
      "metadata": {
        "id": "5r8CkcmWLt9r"
      }
    },
    {
      "cell_type": "code",
      "source": [
        "from sklearn.metrics import recall_score\n",
        "\n",
        "scoring = {'Decision Tree accuracy':recall_score(y_test, y_pred_dtree), \n",
        "           'Random Forest accuracy':recall_score(y_test, y_pred_rforest),\n",
        "           'SVM accuracy':recall_score(y_test, y_pred_svm),\n",
        "           'SGD Classifier accuracy':recall_score(y_test, y_pred_sgd),\n",
        "           'Logistic accuracy':recall_score(y_test, y_pred_logisitic)}\n",
        "\n",
        "print(scoring)"
      ],
      "metadata": {
        "colab": {
          "base_uri": "https://localhost:8080/"
        },
        "id": "6BdmN3xHHkUg",
        "outputId": "2410bfe5-f499-48f6-8a5c-3bd38c0e4453"
      },
      "execution_count": 11,
      "outputs": [
        {
          "output_type": "stream",
          "name": "stdout",
          "text": [
            "{'Decision Tree accuracy': 0.9466666666666667, 'Random Forest accuracy': 0.9733333333333334, 'SVM accuracy': 0.9866666666666667, 'SGD Classifier accuracy': 0.8666666666666667, 'Logistic accuracy': 0.9733333333333334}\n"
          ]
        }
      ]
    },
    {
      "cell_type": "markdown",
      "source": [
        "# 결론 \n",
        "\n",
        "-> SVM Model 을 사용했을 때 정확도가 1로 가장 높게 나왔습니다.\n",
        "\n",
        "-> 유방암을 진단하는 경우는 실제 암환자를 놓치면 안되기 때문에 recall로 판단하는 것이 적절한 것 같습니다. "
      ],
      "metadata": {
        "id": "45qTzMNECxH1"
      }
    },
    {
      "cell_type": "markdown",
      "source": [
        "# 회고\n",
        "\n",
        "*   모델을 학습하고 평가하는 것 자체가 처음이라 생소했지만 기초부터 차근차근 설명되어 있어서 따라하는데에는 큰 문제는 없었습니다. \n",
        "*   다만, 총 5가지의 모델을 실습했는데, 각 모델들이 어떤 문제를 푸는데 적합한지 개념적으로 이해는 아직 하지 못했습니다. \n",
        "*   모델의 성능 평가를 위한 지표를 선택하는 부분이 직관적으로 이해가 되지 않아서 검색을 통해 다시 각 지표들을 공부했습니다.\n",
        "*   처음이라 100% 이해를 하지는 못했지만 과정을 진행하면서 이해할 수 있도록 공부해보겠습니다.  \n",
        "\n",
        "\n",
        "\n",
        "\n"
      ],
      "metadata": {
        "id": "zWdqBfkFSwJW"
      }
    }
  ]
}