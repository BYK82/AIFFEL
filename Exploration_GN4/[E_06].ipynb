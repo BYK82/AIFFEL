{
  "nbformat": 4,
  "nbformat_minor": 0,
  "metadata": {
    "colab": {
      "name": "[E-06].ipynb",
      "provenance": []
    },
    "kernelspec": {
      "name": "python3",
      "display_name": "Python 3"
    },
    "language_info": {
      "name": "python"
    },
    "accelerator": "GPU"
  },
  "cells": [
    {
      "cell_type": "markdown",
      "source": [
        "# 6-7. 프로젝트: 멋진 작사가 만들기"
      ],
      "metadata": {
        "id": "i3_09L7_JkTE"
      }
    },
    {
      "cell_type": "markdown",
      "source": [
        "1. 가사 텍스트 생성 모델이 정상적으로 동작하는가? 텍스트 제너레이션 결과가 그럴듯한 문장으로 생성되는가?\n",
        "\n",
        "2. 데이터의 전처리와 데이터셋 구성 과정이 체계적으로 진행되었는가?\n",
        "특수문자 제거, 토크나이저 생성, 패딩 처리 등의 과정이 빠짐없이 진행되었는가?\n",
        "\n",
        "3. 텍스트 생성모델이 안정적으로 학습되었는가?\n",
        "텍스트 생성모델의 validation loss 가 2.2 이하로 낮아졌는가?\n"
      ],
      "metadata": {
        "id": "sXTGpqgva3BM"
      }
    },
    {
      "cell_type": "code",
      "execution_count": null,
      "metadata": {
        "id": "-HrAG7fFJXhb"
      },
      "outputs": [],
      "source": [
        "# 라이브러리 버전 확인\n",
        "!pip list | grep glob\n",
        "\n",
        "import glob\n",
        "import tensorflow\n",
        "\n",
        "#print(glob.__version__)\n",
        "print(tensorflow.__version__)"
      ]
    },
    {
      "cell_type": "markdown",
      "source": [
        "## Step 1. 데이터 다운로드\n",
        "## Step 2. 데이터 읽어오기\n",
        "\n",
        "glob 모듈을 사용하면 파일을 읽어오는 작업을 하기가 아주 용이해요. glob 를 활용하여 모든 txt 파일을 읽어온 후, raw_corpus 리스트에 문장 단위로 저장하도록 할게요!"
      ],
      "metadata": {
        "id": "6zN41uaHLFip"
      }
    },
    {
      "cell_type": "code",
      "source": [
        "import glob\n",
        "import os\n",
        "\n",
        "txt_file_path = '/content/drive/MyDrive/0.AIFFEL/LMS node/Exp 06/lyricist/data/lyrics/*'\n",
        "\n",
        "txt_list = glob.glob(txt_file_path)\n",
        "\n",
        "raw_corpus = []\n",
        "\n",
        "# 여러개의 txt 파일을 모두 읽어서 raw_corpus 에 담습니다.\n",
        "for txt_file in txt_list:\n",
        "    with open(txt_file, \"r\") as f:\n",
        "        raw = f.read().splitlines()\n",
        "        raw_corpus.extend(raw)\n",
        "\n",
        "print(\"데이터 크기:\", len(raw_corpus))\n",
        "print(\"Examples:\\n\", raw_corpus[:3])"
      ],
      "metadata": {
        "id": "5JgTAElsJq0D"
      },
      "execution_count": null,
      "outputs": []
    },
    {
      "cell_type": "code",
      "source": [
        "txt_list"
      ],
      "metadata": {
        "id": "RyDdRxvkzMf9",
        "colab": {
          "base_uri": "https://localhost:8080/"
        },
        "outputId": "39c388ca-02b8-4919-ca38-28768034e021"
      },
      "execution_count": 63,
      "outputs": [
        {
          "output_type": "execute_result",
          "data": {
            "text/plain": [
              "['/content/drive/MyDrive/0.AIFFEL/LMS node/Exp 06/lyricist/data/lyrics/janisjoplin.txt',\n",
              " '/content/drive/MyDrive/0.AIFFEL/LMS node/Exp 06/lyricist/data/lyrics/nursery_rhymes.txt',\n",
              " '/content/drive/MyDrive/0.AIFFEL/LMS node/Exp 06/lyricist/data/lyrics/dickinson.txt',\n",
              " '/content/drive/MyDrive/0.AIFFEL/LMS node/Exp 06/lyricist/data/lyrics/nicki-minaj.txt',\n",
              " '/content/drive/MyDrive/0.AIFFEL/LMS node/Exp 06/lyricist/data/lyrics/disney.txt',\n",
              " '/content/drive/MyDrive/0.AIFFEL/LMS node/Exp 06/lyricist/data/lyrics/bob-marley.txt',\n",
              " '/content/drive/MyDrive/0.AIFFEL/LMS node/Exp 06/lyricist/data/lyrics/beatles.txt',\n",
              " '/content/drive/MyDrive/0.AIFFEL/LMS node/Exp 06/lyricist/data/lyrics/dj-khaled.txt',\n",
              " '/content/drive/MyDrive/0.AIFFEL/LMS node/Exp 06/lyricist/data/lyrics/kanye.txt',\n",
              " '/content/drive/MyDrive/0.AIFFEL/LMS node/Exp 06/lyricist/data/lyrics/patti-smith.txt',\n",
              " '/content/drive/MyDrive/0.AIFFEL/LMS node/Exp 06/lyricist/data/lyrics/drake.txt',\n",
              " '/content/drive/MyDrive/0.AIFFEL/LMS node/Exp 06/lyricist/data/lyrics/r-kelly.txt',\n",
              " '/content/drive/MyDrive/0.AIFFEL/LMS node/Exp 06/lyricist/data/lyrics/rihanna.txt',\n",
              " '/content/drive/MyDrive/0.AIFFEL/LMS node/Exp 06/lyricist/data/lyrics/cake.txt',\n",
              " '/content/drive/MyDrive/0.AIFFEL/LMS node/Exp 06/lyricist/data/lyrics/bruno-mars.txt',\n",
              " '/content/drive/MyDrive/0.AIFFEL/LMS node/Exp 06/lyricist/data/lyrics/leonard-cohen.txt',\n",
              " '/content/drive/MyDrive/0.AIFFEL/LMS node/Exp 06/lyricist/data/lyrics/ludacris.txt',\n",
              " '/content/drive/MyDrive/0.AIFFEL/LMS node/Exp 06/lyricist/data/lyrics/kanye-west.txt',\n",
              " '/content/drive/MyDrive/0.AIFFEL/LMS node/Exp 06/lyricist/data/lyrics/eminem.txt',\n",
              " '/content/drive/MyDrive/0.AIFFEL/LMS node/Exp 06/lyricist/data/lyrics/radiohead.txt',\n",
              " '/content/drive/MyDrive/0.AIFFEL/LMS node/Exp 06/lyricist/data/lyrics/lorde.txt',\n",
              " '/content/drive/MyDrive/0.AIFFEL/LMS node/Exp 06/lyricist/data/lyrics/notorious-big.txt',\n",
              " '/content/drive/MyDrive/0.AIFFEL/LMS node/Exp 06/lyricist/data/lyrics/prince.txt',\n",
              " '/content/drive/MyDrive/0.AIFFEL/LMS node/Exp 06/lyricist/data/lyrics/paul-simon.txt',\n",
              " '/content/drive/MyDrive/0.AIFFEL/LMS node/Exp 06/lyricist/data/lyrics/bieber.txt',\n",
              " '/content/drive/MyDrive/0.AIFFEL/LMS node/Exp 06/lyricist/data/lyrics/lin-manuel-miranda.txt',\n",
              " '/content/drive/MyDrive/0.AIFFEL/LMS node/Exp 06/lyricist/data/lyrics/Kanye_West.txt',\n",
              " '/content/drive/MyDrive/0.AIFFEL/LMS node/Exp 06/lyricist/data/lyrics/joni-mitchell.txt',\n",
              " '/content/drive/MyDrive/0.AIFFEL/LMS node/Exp 06/lyricist/data/lyrics/alicia-keys.txt',\n",
              " '/content/drive/MyDrive/0.AIFFEL/LMS node/Exp 06/lyricist/data/lyrics/nirvana.txt',\n",
              " '/content/drive/MyDrive/0.AIFFEL/LMS node/Exp 06/lyricist/data/lyrics/johnny-cash.txt',\n",
              " '/content/drive/MyDrive/0.AIFFEL/LMS node/Exp 06/lyricist/data/lyrics/missy-elliott.txt',\n",
              " '/content/drive/MyDrive/0.AIFFEL/LMS node/Exp 06/lyricist/data/lyrics/bruce-springsteen.txt',\n",
              " '/content/drive/MyDrive/0.AIFFEL/LMS node/Exp 06/lyricist/data/lyrics/jimi-hendrix.txt',\n",
              " '/content/drive/MyDrive/0.AIFFEL/LMS node/Exp 06/lyricist/data/lyrics/bob-dylan.txt',\n",
              " '/content/drive/MyDrive/0.AIFFEL/LMS node/Exp 06/lyricist/data/lyrics/bjork.txt',\n",
              " '/content/drive/MyDrive/0.AIFFEL/LMS node/Exp 06/lyricist/data/lyrics/dolly-parton.txt',\n",
              " '/content/drive/MyDrive/0.AIFFEL/LMS node/Exp 06/lyricist/data/lyrics/blink-182.txt',\n",
              " '/content/drive/MyDrive/0.AIFFEL/LMS node/Exp 06/lyricist/data/lyrics/michael-jackson.txt',\n",
              " '/content/drive/MyDrive/0.AIFFEL/LMS node/Exp 06/lyricist/data/lyrics/britney-spears.txt',\n",
              " '/content/drive/MyDrive/0.AIFFEL/LMS node/Exp 06/lyricist/data/lyrics/al-green.txt',\n",
              " '/content/drive/MyDrive/0.AIFFEL/LMS node/Exp 06/lyricist/data/lyrics/Lil_Wayne.txt',\n",
              " '/content/drive/MyDrive/0.AIFFEL/LMS node/Exp 06/lyricist/data/lyrics/lil-wayne.txt',\n",
              " '/content/drive/MyDrive/0.AIFFEL/LMS node/Exp 06/lyricist/data/lyrics/dr-seuss.txt',\n",
              " '/content/drive/MyDrive/0.AIFFEL/LMS node/Exp 06/lyricist/data/lyrics/notorious_big.txt',\n",
              " '/content/drive/MyDrive/0.AIFFEL/LMS node/Exp 06/lyricist/data/lyrics/lady-gaga.txt',\n",
              " '/content/drive/MyDrive/0.AIFFEL/LMS node/Exp 06/lyricist/data/lyrics/nickelback.txt',\n",
              " '/content/drive/MyDrive/0.AIFFEL/LMS node/Exp 06/lyricist/data/lyrics/amy-winehouse.txt',\n",
              " '/content/drive/MyDrive/0.AIFFEL/LMS node/Exp 06/lyricist/data/lyrics/adele.txt']"
            ]
          },
          "metadata": {},
          "execution_count": 63
        }
      ]
    },
    {
      "cell_type": "code",
      "source": [
        "# 데이터 확인 \n",
        "\n",
        "raw_corpus"
      ],
      "metadata": {
        "id": "pgmwnKWYRNpe",
        "colab": {
          "base_uri": "https://localhost:8080/"
        },
        "outputId": "55bec369-3366-4e22-80a2-dab5b2cdeef9"
      },
      "execution_count": 64,
      "outputs": [
        {
          "output_type": "execute_result",
          "data": {
            "text/plain": [
              "['',\n",
              " \"I've got a lot of work to do\",\n",
              " \"I ain't finished blowin' it, nice bra\",\n",
              " 'My slow flows remarkable',\n",
              " 'Call up DJ Mano, shout out Twilite Tone',\n",
              " 'Can I have a drink of water?',\n",
              " 'Come on babe, come on, oh yeah',\n",
              " 'You have the same passion that I have',\n",
              " \"(Stop while it's not too late) And I still don't know Finally taking flight\",\n",
              " 'In the magazines',\n",
              " \"I'm rich (I'm rich)\",\n",
              " 'Toronto',\n",
              " \"I don't know but boy what's up (Throw it up, throw it up girl)\",\n",
              " 'Why we just speak at night',\n",
              " \"When night comes and you're on your own\",\n",
              " 'NiXga creep up on your ass hahaha',\n",
              " 'But I can be tonight',\n",
              " 'I’m gazing out the window',\n",
              " 'Little sparrow, little sparrow',\n",
              " \"In every way I love you (In every way I'll help you?)\",\n",
              " \"And I admit that I'm feeling a little pressure, when you're telling me I better come get it\",\n",
              " \"That kush I promise that's my dude\",\n",
              " 'Depende da paixao -- It depends on the passion',\n",
              " 'When I know that I could be more than you could ever dream',\n",
              " \"There's so much more that I wanted and\",\n",
              " 'For yet to buy another pair',\n",
              " 'This that fuck you in the air, no service dick',\n",
              " \"and he's gone again\",\n",
              " 'But deep down inside I just love me dick',\n",
              " 'Of your loving arms',\n",
              " 'Join The Party',\n",
              " 'Fuck that beef shit that shit is played out',\n",
              " 'You there, I here,',\n",
              " 'Just around the river bend for me, coming for me I feel it there beyond those trees',\n",
              " 'Me and all your main girls get along too',\n",
              " 'Go with it, go with it, go with it',\n",
              " \"And I'll laugh when I think about the past\",\n",
              " \"And it's pimpin' in my blood, you can tell by the way I walk\",\n",
              " 'Now the whole party is melted like Dali',\n",
              " 'Chika-Chika',\n",
              " \"'Cause living with him must have\",\n",
              " 'thicker thighs',\n",
              " 'Hustle till I ball (ball), get money till I die (Die)',\n",
              " 'Was before he left, he went and named me \"Sue\" Well, he must o\\' thought that is quite a joke',\n",
              " 'I cannot sleep, I cannot dream tonight',\n",
              " 'Who wrote the Bible',\n",
              " '    Mew-mew, says the cat;',\n",
              " 'Legacy, legacy I used to be the type of kid that would always think the sky is falling',\n",
              " 'Not right now',\n",
              " 'No phone No phone I just want to be alone today',\n",
              " \"Your screen name used to be mine, why can't we just pretend? And she said, (na na na na na na na na na na na na na)\",\n",
              " \"I'm in the building and I'm feeling myself\",\n",
              " 'Oh No, No No . . .',\n",
              " 'Should I close the door?',\n",
              " 'She could fight for my love like Aaliyah',\n",
              " 'Right between the eyes, baby, point blank',\n",
              " 'The mothers and the fathers',\n",
              " '\\t\\t\\tHigh water risin’—risin’ night and day',\n",
              " 'Abandoned love songs smashed across the hardwood floors',\n",
              " 'Lucky that you stayed on',\n",
              " \"Someone's hi-fi drumming Jelly Roll\",\n",
              " \"(I'm the one gon' hold you down) D-J Khaled\",\n",
              " 'The prettiest people do the ugliest things',\n",
              " 'Until we get to the core Did I imagine it would be like this',\n",
              " 'Ooh, yeah, yeah',\n",
              " \"Now I'm all gone, gone, gone, gone\",\n",
              " 'Favorite subject was PE Pablo Escobar',\n",
              " \"I'mma run up on you I fly with the stars in the skies,\",\n",
              " 'I am one Joe blow, you know my narrative',\n",
              " 'I place no one above thee',\n",
              " 'And if them niXgas comin for me Im goin out like Tony',\n",
              " 'that bounce on his Italian leather sofa Well Jolene unlocked the thick breezeway door',\n",
              " 'You rolling on dubs, I roll right into clubs',\n",
              " \"To read it sanctifies it, 'fies it\",\n",
              " 'You made me love you',\n",
              " \"He's cryin', cryin, my baby\",\n",
              " \"I'm gonna' rock to the beat till' it hurt\",\n",
              " 'Draw conclusions on the wall',\n",
              " \"In St. Andrew's hall not a stray slidin' all over the place\",\n",
              " 'You took away the rain and brought the sunshine,',\n",
              " 'Yeah! You could smell it',\n",
              " 'Hey now, mama, mama, mama, mama, baby',\n",
              " 'Call me and I can get it juicy',\n",
              " 'They took it in the first place.',\n",
              " 'As the 12th station',\n",
              " \"That motherfucker's got nuts like King Kong\",\n",
              " 'Take me by the hand while we do what lovers do',\n",
              " \"For he's touched your perfect body with her mind Now, Suzanne takes your hand and she leads you to the river\",\n",
              " 'His voice to me is calling',\n",
              " 'Let the morningtime drop all its petals on me...',\n",
              " 'Or will the blood we shed begin an endless cycle of vengeance and death with no defendants?',\n",
              " 'Packin askin who want it you got it niXga flaunt it',\n",
              " 'His eyes were like yours',\n",
              " \"You're my son\",\n",
              " 'Pee, pee, yes, I make R&B;, I sing song',\n",
              " 'I have only one request of your life',\n",
              " '    The Queen of Hearts she made some tarts,',\n",
              " 'where the tolling suspends',\n",
              " 'I got 40 in the studio, every night, late night',\n",
              " 'To give you happiness',\n",
              " 'And yet it tasted like them all;',\n",
              " 'Seven-hundred tons of metal a day',\n",
              " 'A real suicide case, but there was nothin’ I could do to stop it',\n",
              " 'Oh what the dealio, can I speak to you',\n",
              " 'They you wanna call Missy and beg me, (who) ooh beg me beg me',\n",
              " \"This is me and my liquor store blues. I'll take one shot for my pain,\",\n",
              " 'Man of peace or man of war',\n",
              " 'We waited while she passed;',\n",
              " 'In the box with the hook.',\n",
              " \"I'm gonna be the 1 and if (u don't understand)\",\n",
              " \"But I'm struggling\",\n",
              " 'Member we all was broke',\n",
              " 'Here the man come with the anthem, hands up',\n",
              " 'A Kingston they come from, A Kingston they come through',\n",
              " \"Homie, this sick, you can normally ask a hater Don't it make sense\",\n",
              " 'Gone forever from a loaded bullet',\n",
              " \"Oh I'm so fucking hot, and you're so fucking hot,\",\n",
              " 'That when she passes',\n",
              " 'Then you would know where you coming from',\n",
              " 'Rev for stride',\n",
              " 'Of all these weird creatures',\n",
              " 'And let the whole world know it',\n",
              " 'Wandering free',\n",
              " 'So go head pop some Cristal',\n",
              " 'Flies so high and feels no pain All ye maidens fair and tender',\n",
              " \"Where I'd put on some porn or have sex on the phone\",\n",
              " 'Upstream',\n",
              " \"When you was in New York, you was fuckin' a yankee\",\n",
              " \"That's the kind of dude I was lookin' fo'\",\n",
              " \"That's how broken I would be\",\n",
              " \"'Cause what we got's too good to say goodbye, goodbye Yeah, I'm still in love with you darlin'\",\n",
              " 'What makes a man wanna play guitar? (A double A double arrogance)',\n",
              " \"I'll swallow up flies?\",\n",
              " 'Through all kinds of weather, through everything we done',\n",
              " 'From the river dark. And he covered me,',\n",
              " 'Igniting the heat of the moment, let the sparks fuse',\n",
              " \"Hey, there's a concept that works\",\n",
              " \"World ending, it's just beginning\",\n",
              " 'Bread of your bread, ghost of your host,',\n",
              " 'Lost forever I know you',\n",
              " 'Adore ya',\n",
              " \"You said I'm crazy,\",\n",
              " \"askin' who is he?\",\n",
              " 'I suck my tongue',\n",
              " \"But now I hold my head up high. And you'll see me with somebody new.\",\n",
              " 'Its the praying mantis',\n",
              " 'I went back to the projects, and two mill in Mercedes',\n",
              " 'Some are dead and some are living',\n",
              " 'Take off her draws',\n",
              " 'And now my heart is breaking but I just keep on saying Baby, baby, baby, oh',\n",
              " 'Versace promises I will, Dolce Vita What do you wanna wear this spring?',\n",
              " 'By making his world a little colder',\n",
              " 'I walk alone on a lonely road',\n",
              " \"She Said I'm All Yours\",\n",
              " 'While every night I put that blanket on the floor for her',\n",
              " 'I just want you here with me Maria ',\n",
              " \"'Cause what's inside her it never dies So he tries to pacify her\",\n",
              " 'But all the girls still dreamed about him.',\n",
              " \"So won't the real Slim Shady, please stand up,\",\n",
              " 'round the bend',\n",
              " \"(Yo, it's gonna be alright, right?)\",\n",
              " 'Because ours (are the moments I play in the dark)',\n",
              " 'Mommy look fresh and respect me sweats',\n",
              " 'You coulda been anywhere in the world',\n",
              " 'Their skin in craters like the moon',\n",
              " 'Let me live a little longer Etc. Well I wish, I was a catfish',\n",
              " 'White folks looking at us like were weirdos',\n",
              " 'Straight up to my face, straight up to my face [Verse 2]',\n",
              " 'Juliet said back to Romeo, “Why don’t you just shove off',\n",
              " 'For just about fifteen',\n",
              " \"We can keep it on the down low (on the down low), nobody has to know (nobody has to know) Listen babe I won't whisper a word\",\n",
              " 'Because you got me hypnotized',\n",
              " 'My life is a movie I got a leading lady',\n",
              " 'Flow dyin not sick',\n",
              " 'And suck my fucking dick while I take a shit',\n",
              " 'As guest who would be gone.',\n",
              " 'But we can make it to Jacobs and to the dealership',\n",
              " 'A stagecoach full of feathers and footprints,',\n",
              " 'State of humanity',\n",
              " 'Back in the Chi them Folks aint from Moe Town',\n",
              " 'Step this way.',\n",
              " \"This ain't ?, I can't crawl for you\",\n",
              " \"'Cause it feels so empty without me Little hellions kids feeling rebellious\",\n",
              " \"And show her that she's my girl \",\n",
              " 'I just wanna be your favorite)',\n",
              " 'The young so educated they never grow old',\n",
              " 'They had a kind of glow around them',\n",
              " \"Uh! Don't try it!\",\n",
              " \"You can't remember where you are\",\n",
              " '   Remember, as thou flee,',\n",
              " 'We just chilling milk em Top Billin',\n",
              " 'Virgina bitch galactic [Chorus:]',\n",
              " \"It's like eatin' caviar and dirt\",\n",
              " 'I Try So Hard To Love You',\n",
              " \"Oh but it's all spilt milk to me.\",\n",
              " 'Whoa oh, whoa oh,',\n",
              " \"What's it gonna be\",\n",
              " 'Still in love (Still in love, in love with you)',\n",
              " 'Got A Mojo',\n",
              " 'Thats real nigga talk these niggas speechless',\n",
              " 'Ayo I know I got it first',\n",
              " 'Because something is happening here',\n",
              " 'Holy Mary mercy me',\n",
              " \"It's up to me and I'm still alive\",\n",
              " '      The cat has bit it quite in two.',\n",
              " \"You've indicated your interest, I'm educated in sex, yes\",\n",
              " \"He stole his uncle's 44 last Friday night\",\n",
              " \"Whoa, won't you let me hold you ?\",\n",
              " 'pero vuelvo a casa pronto',\n",
              " 'They all laugh at Edison',\n",
              " 'Oh like an uplifting song the first time heard',\n",
              " 'Love was taken from a young life',\n",
              " \"Your mom don't know that you were missing\",\n",
              " 'Almost had a thousand dollars till someone broke in and stole it',\n",
              " \"Nobody but you, nobody but you, nobody but you, yeah Darling you, I'm not gonna hurry\",\n",
              " \"If I get hit again I can't do it, I scoop deep\",\n",
              " \"All night (All night) Just one more moment, that's all that's needed,\",\n",
              " 'To write off lines',\n",
              " 'She gone with the man',\n",
              " \"Prayer changes (and trouble's chasing you)\",\n",
              " \"Hatahs keep on hating cause them don't worry we Dem no worry we or me and timothy\",\n",
              " 'Call him drunken Ira Hayes,',\n",
              " 'Love can save us all',\n",
              " 'Your Mouth Is So Sweet',\n",
              " 'Got to bang a niXga and bang a niXga good',\n",
              " \"I'll wash his feet with my hair if he needs\",\n",
              " 'That momma carefully wrote',\n",
              " 'And a fighter by his trade',\n",
              " 'With no one to share, with no one who truly cares for me Some people want it all',\n",
              " \"Ooo, everything's gonna be alright, alright, alright\",\n",
              " 'And then he kneels',\n",
              " 'Someone to hold you Want you, talk, listen, hold ya, want you, need you,',\n",
              " \"It's only mountains and the sea\",\n",
              " 'Attracting mens and spending dividence blowing like the wind Damn Ma I love you like a lot',\n",
              " 'There’s a woman on my lap and she’s drinking champagne',\n",
              " 'Say which murder weapon was used to do what and which one,',\n",
              " \"He's fighting and biting and riding on his horse He's going the distance\",\n",
              " 'But I cant feel that hardcore appeal',\n",
              " \"Screamin' out You're contagious, touch me, baby\",\n",
              " 'If thine is the glory then mine must be the shame',\n",
              " 'She became a vacuum',\n",
              " \"Well, let's get on with the show\",\n",
              " '    When I send for thee, then come thou.\"',\n",
              " 'Get d- get down, get down, get down down,',\n",
              " 'And cry and cry and laugh about it all again Well, you know that I love to live with you',\n",
              " 'You know it’s not like that',\n",
              " \"It really doesn't, really doesn't bother me too much at all\",\n",
              " 'all Remember what I have said',\n",
              " 'All this love we feel',\n",
              " 'I miss my mother, I miss it when',\n",
              " 'When sherif John Brown come for you?',\n",
              " 'We so mother fuckin cooler than you',\n",
              " 'Talk to a nigga with a tenyear ago swag',\n",
              " 'Can you just visualize it',\n",
              " \"Where she'll sleep beside daddy again\",\n",
              " 'To curbs ’neath holes where babies wail',\n",
              " 'The ray he can play',\n",
              " 'No more wasting time you cant wait for life',\n",
              " \"I'll leave when I wanna This place was never the same again\",\n",
              " 'They want to have fun.',\n",
              " 'The bombs bursting in air!',\n",
              " \"'Cause girl my heart's breaking (heart is breaking) So what I'm really tryin' to say is, and what I hope you understand\",\n",
              " 'bring the remedy when you play the field whats the penalty',\n",
              " 'And it seems to me',\n",
              " \"Sexy and hotter, let's shut it down Pound the alarm!\",\n",
              " 'On and on and on it came',\n",
              " 'Dearly departed erased deleted',\n",
              " \"Don't want to end up inside my refrigerator freezer,\",\n",
              " \"I spied a sheriff comin' down the line\",\n",
              " 'Too near thou art for seeking thee,',\n",
              " 'I wanna dance',\n",
              " \"And that's why\",\n",
              " \"She gon' see some shit that she don't wanna see\",\n",
              " \"It's not your turn 'cause I ain't done yet\",\n",
              " \"but I'll find a way to go and start doin' without you \",\n",
              " 'Just like, just like a grave, just like a grave to call',\n",
              " 'Cold, cold morning',\n",
              " 'Whistled itself a tune, —',\n",
              " \"Advice and religion, you can't take it\",\n",
              " 'Wishing our families well',\n",
              " \"Crown Vics, Monte Carlos, even Cutlass Supreme's\",\n",
              " 'Aaliyah if you see Left Eye (uh huh)',\n",
              " 'In you I hear a song I look to you, you About to lose my breathe,',\n",
              " 'You built cathedrals',\n",
              " '(Been there, done that) I want a new tour bus full of old guitars',\n",
              " 'Beauty and the Beast Think of a wonderful thought',\n",
              " \"Don't meet expectations\",\n",
              " \"When I'm in a sad and lonely mood dear, I cry 4 u dear (I cry 4 u)\",\n",
              " \"'Cause it feels so empty without me A-tiskit a-taskit,\",\n",
              " 'If I love you too oh please',\n",
              " 'I know she looks much better with them clothes up off',\n",
              " 'For the times they are a-changin’\\t\\t\\t\\t\\t\\t\\t\\t\\t\\t ',\n",
              " 'Im in the twodoor true that niggas telling me You back',\n",
              " 'Bring the crowd and Im loud and living color',\n",
              " \"Hey, the same girl same girl Now usually I don't do this but uh\",\n",
              " 'The original bread winna of DTP',\n",
              " \"So I'll just say good night to you\",\n",
              " 'I was working part time in a five-and-dime',\n",
              " \"I may not have a lot to give but what I got I'll give to you\",\n",
              " \"I'm gonna make you really love me\",\n",
              " '(Busted in the blinding lights)',\n",
              " \"It's sorta fly you get a chance to say hi to\",\n",
              " 'What you going through, ladies',\n",
              " 'I’m forty miles from the mill—I’m droppin’ it into overdrive',\n",
              " \"Little darling, it seems like years since it's been clear\",\n",
              " 'Back in the days our parents used to take care of us',\n",
              " 'I swear Im a walkin movie you ain even gotta cue me',\n",
              " \"They've all been said before you know\",\n",
              " 'But I drove home all alone',\n",
              " \"From the bottomless pit But my 'and was made strong\",\n",
              " \"I'm sitting down here in the campfire light\",\n",
              " 'The only living boy in New York,',\n",
              " 'Better play it by ear you aint nothing but a deer',\n",
              " \"Oh, tell me what you're willing to do? (Kiss it, kiss it better, baby) What are you willing to do\",\n",
              " 'Young Money to the Core',\n",
              " 'Grab a knife, erase my vision',\n",
              " 'Put it where it feels good (grind, grind, grind, grind)',\n",
              " \"Drop it off, get to work nigga keep it runnin'\",\n",
              " \"Booty bouncing goin' hit Everybody here\",\n",
              " \"I just want to hold you, won't let me hold you\",\n",
              " 'The game got switched on some Ludacris shit',\n",
              " \"And I don't seem to be happy about that I don't want no part of this crazy love\",\n",
              " 'They outside of the emergency room room',\n",
              " 'Just flew in from Paris voulezvous',\n",
              " 'Acceleration into temporal space continuum now begins...',\n",
              " \"Mother's hands are serving meals\",\n",
              " \"Where I'm from we don't play no games\",\n",
              " '    I know a child, and who she is',\n",
              " \"Is it any wonder they're spitting at the sun\",\n",
              " 'Her lips of amber never part;',\n",
              " 'Oh, what the hell, U always surrender',\n",
              " \"You'll love me at once The way you did once upon a dream You've got a friend in me\",\n",
              " 'And he never shows his feelings But the fool on the hill',\n",
              " 'But please dont get to spazzin on em',\n",
              " 'I sink and then some Bell on door clanks, come on in',\n",
              " \"Then won't you slap my face..\",\n",
              " \"PETA's mad cause I made a jacket outta possum\",\n",
              " \"Won't take my eyes off the ball again\",\n",
              " \"Through it all When you're down and out\",\n",
              " '\"Do you think this can be real?\" Still, I sent up my prayer',\n",
              " 'Not all, just some',\n",
              " \"L'll make you scream [Chorus:] Aiyyo\",\n",
              " 'Is woven indelibly',\n",
              " \"Oh yeah, we puffin' on one of them thangs too\",\n",
              " 'And listened to the songs they were singing',\n",
              " 'And they took drugs they tried to jerk us',\n",
              " 'A door left open',\n",
              " 'I dont worry cuz',\n",
              " \"Like nuts, an' bolts, and all four shocks\",\n",
              " \"I won't be complanin'\",\n",
              " \"didn't know what would go with the bacon and the eggs,\",\n",
              " \"She's Driving Me Wild\",\n",
              " 'Like impressionist pictures, or Wagner\\'s rugged music, the very absence of conventional form challenges attention. In Emily Dickinson\\'s exacting hands, the especial, intrinsic fitness of a particular order of words might not be sacrificed to anything virtually extrinsic; and her verses all show a strange cadence of inner rhythmical music. Lines are always daringly constructed, and the \"thought-rhyme\" appears frequently,—appealing, indeed, to an unrecognized sense more elusive than hearing.',\n",
              " 'My name Kanye from the Jigga set',\n",
              " 'Dreams of clean teeth',\n",
              " 'Far from the twisted reach of crazy sorrow',\n",
              " 'Only before you I go humble I go humble',\n",
              " 'First check for rapping on back for the first time',\n",
              " \"'Cause it's me and Mr Jones\",\n",
              " 'Came back in with a box.',\n",
              " 'Toward the homes where the Whos Lay asnooze in their town.',\n",
              " \"Know that motherfucker well, what you gon' do now\",\n",
              " 'Gotta ride big cause I am like a captain',\n",
              " 'So I pulled up in the Jag, Mayweather with the jab like',\n",
              " \"'Cause it's where you're at not where you've been\",\n",
              " '   I will contented be;',\n",
              " 'Fry us and eat us',\n",
              " '\\t\\t\\tWhen the rain is blowing in your face',\n",
              " 'Blood dripping on me looking like a nigga stabbed him',\n",
              " 'And the ladies treat me kindly',\n",
              " \"What's the point in even trying\",\n",
              " 'Now you wanna know how strong I am',\n",
              " \"Pardon us for caring, we didn't know it was against the rules (shout it out)\",\n",
              " 'The limits of the sea',\n",
              " 'Just to see what we find',\n",
              " 'Unlike you, Chris Brown and Rihanna:',\n",
              " '    Round about the dishes creep,',\n",
              " 'People say \"beware!\"',\n",
              " \"I'll be what you make me, my darling Oh baby, you make me feel so good\",\n",
              " 'À la Manicouagan. Tell me again',\n",
              " 'Watch it spill on the clothes',\n",
              " 'when I told yall last week that shit was too hot',\n",
              " 'What school did I go to, what hood I grew up in, the why, the who, what',\n",
              " 'Yeah, with me Singing I love rock and roll',\n",
              " \"How you feelin', how you feelin, how you feelin' in this mother fucker, god damn\",\n",
              " '67, 67',\n",
              " \"Gotta have 'em sticks on us in every city\",\n",
              " 'From a man with a strap in his hand',\n",
              " 'War down south',\n",
              " 'They tryna take the wave from a nigga',\n",
              " \"I'll be the last face you see before you pass\",\n",
              " \"Since U've been gone\",\n",
              " \"Cause that's Jay and them bitch [Twista]\",\n",
              " 'Cat you see at all events bent',\n",
              " 'When the night will begin',\n",
              " \"Don't do nothing for ya.\",\n",
              " 'You want a boss or an RB nigga with a six pack',\n",
              " 'Uptown funk you up uh',\n",
              " \"Marilyn's so worried about her 2 left feet\",\n",
              " \"Get the fuck...man, you know what Girl I'm not about to sit up here and argue with you about who's to blame\",\n",
              " 'As long as you want it',\n",
              " 'You know I played scrabble with L.B.J.',\n",
              " \"And tell your brothers I'm in town\",\n",
              " \"I'm gonna drive U crazy\",\n",
              " 'There is something new in,',\n",
              " \"I'd have me a car worth at least a hundred grand. I'd get it one piece at a time\",\n",
              " 'Who bribed the company to come and see you, honey',\n",
              " 'I fear the sentence of this solitude',\n",
              " 'And that bitch go boom',\n",
              " 'Can I come inside?',\n",
              " 'In working and being a mama',\n",
              " 'We play a game called ring the Gack.',\n",
              " 'Are you ready for a real good time',\n",
              " 'When he’s standing in front of you',\n",
              " 'Do what I can to',\n",
              " '    Cut them on Thursday, a pair of new shoes;',\n",
              " \"Can't put the puppet bowing\",\n",
              " 'On an island of noise',\n",
              " \"I thought I'd stop and have myself a brew\",\n",
              " 'And the little light in the trees',\n",
              " 'Hey Joe, alright',\n",
              " 'All the love you can give',\n",
              " 'She make a nigga wanna holla even throw a couple dollars',\n",
              " 'All the things that were down.',\n",
              " \"I don't need anyone Tied up to a heart of stone\",\n",
              " 'Im like damn you fly,',\n",
              " 'You seen that list? It was me, Baby, Jay Z and Diddy Want some more',\n",
              " \"It's okay, don't be alarmed, come in to me\",\n",
              " 'And this bag, of this weed',\n",
              " 'In a dark age',\n",
              " \"Can you tell me what I've done\",\n",
              " \"The bum's as holy as the seraphim\",\n",
              " \"If your love is good, let's get 2 rammin' (now)\",\n",
              " \"But I know a change is gonna come, oh yes it will It's been too hard living, but I'm afraid to die\",\n",
              " 'You sank our toy ship',\n",
              " \"I'll give you all of my time Sometimes I feel\",\n",
              " 'To say \"I love you\" right out loud',\n",
              " 'God knows it’s fragile',\n",
              " 'But my features and my shows ten times your pay',\n",
              " 'I kill em all Ill be set for life',\n",
              " 'You so fine that your body need a body guard',\n",
              " 'I\\'ll write a hundred more\" ',\n",
              " '    Put them in the salting-tub,',\n",
              " '\"What are you?\"',\n",
              " 'And if I brought it in the club',\n",
              " \"My fallen star I'm running late\",\n",
              " 'Mama bitch squeeze the life out of yall niXgas',\n",
              " \"and you do the same just like him (Lord it's so lonely here, hmmm, yeah)\",\n",
              " \"And I'll see you sometime\",\n",
              " 'Public visitation',\n",
              " \"'Cause we'll be doin' this 'till six in the mornin'\",\n",
              " 'They run a brick-and-tile company',\n",
              " 'And our spirits shall sorrow no more,',\n",
              " \"In the air, I don't care who was there and who saw me just jaw you\",\n",
              " \"And when you get there don't stop don't hesitate (sex in the morning, sex all day)\",\n",
              " \"No I don't (I don't mind)\",\n",
              " \"And you know we're on each other's team We're on each other's team\",\n",
              " 'Just need somebody to love. (just need somebody to love)',\n",
              " 'I would like to...watch',\n",
              " 'Lift Your Head Up High',\n",
              " \"Mama, she's home in the window, waitin' up for us\",\n",
              " 'Hides in the air Can I hide there too',\n",
              " 'Follow where we go',\n",
              " \"life's waiting to begin\",\n",
              " \"Uh, yo don't get mad at me\",\n",
              " \"Don't you see when you're looking at me\",\n",
              " \"Now they see that you know I'm from Port City\",\n",
              " \"There Ain't Nobody There But Us\",\n",
              " \"But you I'll remember always\",\n",
              " 'Follow me around, and wiping my ass',\n",
              " '\\t\\t\\tWell, I had to go down and see a guy named Mr. Goldsmith',\n",
              " 'To go to Miss Sixty and pick up my new jeans. Chorus: (x2)',\n",
              " 'They got the cars the boat and the beautiful house by the shore',\n",
              " 'Yeah my niXga Fame up in Prospect',\n",
              " 'In the corner of an empty home',\n",
              " 'And my breath comes fast',\n",
              " 'Please',\n",
              " 'Elderberry wine (1,2,3,4,5,6,7)',\n",
              " 'Ooh, ooh Looking for some affirmation',\n",
              " \"Me? No I'm not a man. Jerome? He's an adventure.\",\n",
              " 'Ghetto girl, you drive me cray',\n",
              " \"Couldn't help myself, you're too good to be true.\",\n",
              " 'No use dwelling on.',\n",
              " 'With you, dozen a day',\n",
              " \"Life Ain't So Bad At All (Live Life Off The Wall)\",\n",
              " \"There's no limit on how far I would go\",\n",
              " 'And I turned my amp up loud and I began to play',\n",
              " 'I wish that I could touch you now',\n",
              " 'Im the Gap like Banana Republic and Old Navy and oooh',\n",
              " 'Stay humble stay low blow like Hootie',\n",
              " \"You've got a genie for charge d'affaires. I've got a powerful urge to help you out,\",\n",
              " 'Ooh If I believe in love',\n",
              " \"And that's old news Would you like to hear my voice\",\n",
              " 'And You Will See',\n",
              " \"And I'm sorry that I hurt you,\",\n",
              " 'At every funeral it rained every time I sang',\n",
              " 'One name Mack one name Nina',\n",
              " 'This is the only kind of love',\n",
              " '(yeah yeah)',\n",
              " \"Missy be the mack, that's a true fact Ching-ching, gettin' paid over here\",\n",
              " 'All of my niggas draw but none of them cartoonists',\n",
              " 'And the horses wonder who U are',\n",
              " 'From where we came',\n",
              " 'Fuckin fast in your ho oooh Kowabunga',\n",
              " 'I show you the ropes connect the dots',\n",
              " 'She’s got everything she needs',\n",
              " 'Im way better than the best of all',\n",
              " 'Found my way downstairs and drank a cup',\n",
              " 'Im so live with it look how I did it',\n",
              " 'I sold Hip Hop is alive',\n",
              " 'Fly to the moon and straight on to heaven',\n",
              " \"By the way, what's his name\",\n",
              " \"Wake up wake up wake up wake up wake up If you don't gotta gun (it's alright)\",\n",
              " 'I was the clown',\n",
              " 'A simple excuse Nana na na na, Nana na na na',\n",
              " 'Waiting for him to drop dead, was it?',\n",
              " 'Piya-Mpenziwe)',\n",
              " 'Just to figure you out',\n",
              " 'Can I ignore that sound of distant drumming? For a handsome sturdy husband who builds handsome sturdy walls',\n",
              " \"I love a nasty girl who swallow what's on the menu\",\n",
              " 'Until death do us part no one no one could ever interrupt the beats of our',\n",
              " '(If You Wanna Make The',\n",
              " 'Breathe (breathe) on (on) me, (me) oh',\n",
              " 'ummm what a treat',\n",
              " 'og thad sst ekki stari mey. - And there is no sweeter girl',\n",
              " 'Last night, I came to a realization',\n",
              " \"If they said I'm talkin' shit\",\n",
              " 'I left hungover?',\n",
              " 'With what we throw away',\n",
              " \"I'm about to change your life Then by all means, lead the way Elizabeth Schuyler\",\n",
              " 'Oh my, dirty bass oh you got that small, I can break that off',\n",
              " 'i bag bad bitches motherfucker kat stacks',\n",
              " '\\t\\t\\tCan’t you hear that rooster crowin’?',\n",
              " 'Feeling Passion And Lust',\n",
              " 'I do love U. I do.',\n",
              " 'Put your house up for sale, did you get a good lawyer?',\n",
              " 'And the ride',\n",
              " \"But I'm having fun I think I'm dumb\",\n",
              " 'I want you to know',\n",
              " \"No goodbyeI don't wanna say goodbye to you\",\n",
              " \"And show 'em how we feel You're who I'm thinking of\",\n",
              " 'No phone no phone',\n",
              " 'So keep it steady, like this. (I like it like this)',\n",
              " 'If U had a chance 2 see the future would U try?',\n",
              " \"O'ertook by blast,\",\n",
              " 'So many light years from home.',\n",
              " 'His presence is enchantment,',\n",
              " \"If I offend, I'm sorry! Please, please, forgive!\",\n",
              " 'While I go shit on a mix like this',\n",
              " \"Threw the bums a dime in your prime, didn't you\",\n",
              " 'At one time there was nothing wrong with me',\n",
              " 'A bald wig for Jack the Ripper who sits',\n",
              " '(Fool, fool)',\n",
              " '    They that wash on Friday, wash in need;',\n",
              " 'Well, I wake in the morning',\n",
              " 'The soul should always stand ajar,',\n",
              " \"When I see your naked body's wet (when your body's wet,body's wet)\",\n",
              " 'Reach down in your heart and say',\n",
              " 'And I gotta move Ohh I, I feel like shouting for joy',\n",
              " 'More than anything And when I went skating after Golden Reggie',\n",
              " 'I got my honey on the Amtrak',\n",
              " 'Your sons and your daughters',\n",
              " 'You might want to sing it note for note',\n",
              " 'You can only get so much from someone yeah',\n",
              " 'Without my right of frost,',\n",
              " \"(It's like you took me to heaven girl)\",\n",
              " 'You reverse you reverse and I impregnated your mouth girl ooooh',\n",
              " 'I am limelight Blueprint five mics',\n",
              " 'That you were coming, — I declare,',\n",
              " \"I'm sailing on a bluebird's mission\",\n",
              " 'Me and my friends got your Benz',\n",
              " 'I love a notion',\n",
              " 'And see the sun come up We could nick a boat',\n",
              " 'Headlights shining in the dark night, I drive on',\n",
              " \"Why can't we love like we did before\",\n",
              " \"That we're broken [Pre-Chorus]\",\n",
              " 'Damn I forgot to call her, shit I thought it was Thursday',\n",
              " \"So I'd do it all over again Oh, who ever thought a day gone\",\n",
              " \"Cause ain't nobody been around here lovin' on me [Young Jeezy:]\",\n",
              " 'For us not to make the bed squeak There goes the bed sheets',\n",
              " 'Make it right',\n",
              " 'For them it was hustle or death, I reshuffled my deck',\n",
              " 'And cry and cry and laugh about it all again I loved you in the morning, our kisses deep and warm',\n",
              " 'The waves were coming in like Arabian stallions',\n",
              " 'They french kiss and say bonjour I got my own shine but I want yours',\n",
              " \"Wantin' me as much as I want you [Chorus] Makes me blue\",\n",
              " 'Oh, oh, oh, oh, oh, oh,',\n",
              " 'Yea yea yea yea',\n",
              " 'Yay Mickey Mouse Club! Whale of a Tale',\n",
              " \"I feel it when you're with me\",\n",
              " 'Before I wreck myself disrespect myself',\n",
              " \"The fun don't stop the bacon\",\n",
              " 'Though your kisses',\n",
              " 'I used 2 cry 4 Tracy because I wanted to see him again,',\n",
              " 'The ink he likes to drink is pink.',\n",
              " \"The bastard won't even eat nothing he's fed\",\n",
              " 'I wanna be loved 4 all time (4 all time)',\n",
              " 'And she aims at the streetlight',\n",
              " 'Virgil Pyrex Don C snapback',\n",
              " 'Without the sterile perquisite',\n",
              " 'When you dance the bedroom turn to Magic City',\n",
              " 'About all of the money that done came and went',\n",
              " \"Don't understand it!\",\n",
              " '    Threescore men, and threescore more,',\n",
              " 'Still a little down home, there was never a doubt.',\n",
              " '\"Southern Hospitality\" or overall mean',\n",
              " \"I'm a gypsy, gypsy, gypsy hey Ooh, ooh, ooh, ooh, ooh, ooh, ooh, ooh, oh\",\n",
              " 'About my vision',\n",
              " \"Hey, I've got nothing to do today but smile\",\n",
              " \"And boy I'll tell you, folks don't know the half\",\n",
              " 'The rest of my life is so hard',\n",
              " 'Cause I know go is on our side And now every kiss',\n",
              " 'Owns a tobacco farm of six hundred acres',\n",
              " 'Half a mili on the Maybach Pullman, bought it',\n",
              " 'for the Childhood',\n",
              " \"I know you've been eager to fly now\",\n",
              " 'Bread is for man to eat (let man eat bread)',\n",
              " 'Cause we about to slip and slide',\n",
              " \"I know you're feeling it too\",\n",
              " 'Carried by men to-day,',\n",
              " 'Take it easy',\n",
              " \"You know I'm saucy\",\n",
              " \"Seein't it\",\n",
              " \"Gettin' my dough, cigars are hand-rolled\",\n",
              " \"I'm aware I'm a wolf\",\n",
              " 'Let me go in her room',\n",
              " 'Than when the winter came,',\n",
              " 'Bullfrog, doing it again',\n",
              " 'The realest n****s say \"your lyrics do s*** for me\"',\n",
              " 'few yeah',\n",
              " 'One look outside Im already upset yo',\n",
              " 'If he was fire, oh then she must be wood.',\n",
              " 'I love you so',\n",
              " 'Shaves in the dark, tryin to save paper',\n",
              " 'Believe me I failed this effort',\n",
              " 'And revery.',\n",
              " 'Because heaven is upon you',\n",
              " \"Fernando Don't call my name,\",\n",
              " \"Is 'cuz you're from the old school, and they know it\",\n",
              " 'Ring the bells that still can ring',\n",
              " '      With its two little hands.',\n",
              " 'Shes stressin me to fuck like she was in a rush',\n",
              " \"That would be nice While we're talking, let me offer you some free advice\",\n",
              " 'Beacouse the side and up you too t bae I guess beacouse the',\n",
              " 'And I drink to that.',\n",
              " 'Been broke before and now its open doors',\n",
              " 'What does that have 2 do with the funk?',\n",
              " \"Some sunny day Yeah we'll meet again\",\n",
              " \"It's still my favorite flower\",\n",
              " 'Look hot in a bikini? You better work bitch',\n",
              " \"Ooh na na, what's my name\",\n",
              " 'Hot thing, where we could be alone',\n",
              " 'Talk a little shit',\n",
              " 'Hoo ooh ooh',\n",
              " '    I never would cry old clothes to sell.',\n",
              " \"But it's not\",\n",
              " \"Well, I guess this is growing up I never thought I'd die alone\",\n",
              " \"'Cause don't you know you crush my tiny figure And anyway we're still so young\",\n",
              " 'I believe in the children listen to the kids bro',\n",
              " 'What a pretty girl like you doing in this part of town',\n",
              " 'Save my soul',\n",
              " '   To stay as if, or go.',\n",
              " 'What do you care when the other men are far, far better?',\n",
              " 'Do we run Should we hide',\n",
              " \"she gimme tha booty, i'm breakin it off i can't tell her stop\",\n",
              " 'Uprising in me tonight',\n",
              " 'They know, they know, they know',\n",
              " 'From some old fortress on the sun',\n",
              " 'Come winds of the Caspian Sea',\n",
              " 'And Im like if you dont get your ass in this ride from Enterprise',\n",
              " 'My head is aching as I drink and breathe',\n",
              " \"(You can't tame the tiger)\",\n",
              " \"Goin', girl? Honestly, I know where you're goin'\",\n",
              " \"You had me from the start, won't let this end\",\n",
              " 'And if I gain, — oh, gun at sea,',\n",
              " 'Flickin Starter coats man',\n",
              " 'Would u be a happy boy or a girl',\n",
              " 'Pour myself over him',\n",
              " 'You have, so thank you very much. time to make things happen.',\n",
              " \"And now u plead insanity and u don't even know the score\",\n",
              " \"But now it's elevated cause once you put someone's kids in it\",\n",
              " 'But when I put my bet on her',\n",
              " 'I say fly away home to Zion (fly away home)',\n",
              " 'A foul tasting medicine',\n",
              " 'I treat it so special, now ya ho jealous',\n",
              " \"When I'm short of falling So let's go back there, back to the star\",\n",
              " 'You smile I smile (whoa)',\n",
              " \"I'ma lay this Vandross, you gon take yo pants off\",\n",
              " 'I just throwed a private dinner in LA',\n",
              " 'A titan like Tennessee but she chiefing like Kansas City',\n",
              " 'Why do we say that until we get that person that we think is',\n",
              " 'Unfold in a generous way',\n",
              " \"I love women so I'm in it to win it\",\n",
              " 'When he built a fire on Main Street',\n",
              " \"Sorry I ain't called you back\",\n",
              " \"C'mon get rhythm, when you get the blues\",\n",
              " 'Snortcane niXgas',\n",
              " \"Keep drinking up 'til you get me drunk\",\n",
              " '   To rest, — to rest would be',\n",
              " 'Let me run to see who came undone',\n",
              " 'When all the children sleep',\n",
              " 'cause I wanna get freaky witchou',\n",
              " 'And everything else becomes nothing at all It was the morning of October 6th, 1960',\n",
              " 'Will I Do',\n",
              " 'How did it how done it I aint braggin I aint boastin',\n",
              " 'Everybody get ready to lift your glasses and sing',\n",
              " 'I spoke too soon',\n",
              " \"Got to be good looking 'cause he's so hard to see\",\n",
              " 'God forsake it ',\n",
              " 'We can hear the night watchman click his flashlight',\n",
              " 'Lost and cold and fading fast',\n",
              " 'And laugh and laugh and laugh ?',\n",
              " 'The man I wanted to be',\n",
              " 'Man I try to rap for the nigga,',\n",
              " 'You know I love you and I always will',\n",
              " \"If I weren't pimpin' I'd be gettin' it, period\",\n",
              " 'When you tried your first molly',\n",
              " 'Love me, love me (yeah) I like the way you touch me there',\n",
              " 'By fastening your safety belts',\n",
              " \"To women I condone better write me when I'm gone\",\n",
              " 'So when Im on vacay I need to kick back',\n",
              " 'See you know my style',\n",
              " 'We waltzed beneath motionless skies',\n",
              " 'Dont be a jerk and get smoked over being resistant',\n",
              " '    His master came in,',\n",
              " 'It was the hexagram of the heavens',\n",
              " 'As the present now',\n",
              " 'Have gained! Yes! Hesitated so',\n",
              " 'Make sure that your heartbeat beats with the rhythm',\n",
              " 'This I know for certain You and me together',\n",
              " \"I don't want you but I need you\",\n",
              " 'So I keep it low keep a secret code',\n",
              " 'While these fleas flew freezy breeze blew.',\n",
              " \"Please stand up Will Smith don't gotta cuss in his raps to sell records\",\n",
              " 'XIII.',\n",
              " 'The ghetto is a part of me',\n",
              " 'Okay, what are you gonna do',\n",
              " \"We hope that you're proud of us\",\n",
              " \"Hey man there's only one thing\",\n",
              " \"You can't like it that I'm looking right at you\",\n",
              " 'And enough money to loan us, a little something extra',\n",
              " 'JUMP BUMP He jumped. He bumped.',\n",
              " 'Mama dropped a dozen eggs, she really blew up',\n",
              " 'And let it go four you kno',\n",
              " 'While house and grounds dissolve',\n",
              " 'And she said, Tell me, are you a Christian child?\"',\n",
              " 'When those bad boy are gonna stop making all this money I lick shots at intruders',\n",
              " 'Make a break for it get away from it',\n",
              " 'Tell me, have U got the look?',\n",
              " \"The love of God's creation will undress U\",\n",
              " 'Sometimes the heart is deceiving',\n",
              " 'No matter what they say',\n",
              " 'Cant forget, cant give in',\n",
              " 'More near.',\n",
              " \"I'll listen up, pretend to care\",\n",
              " \"But I'm stronger now You'll never see me again oh baby in time\",\n",
              " 'You fuckin fools youve been robbed this is a robbery niXga',\n",
              " 'I never fool around',\n",
              " 'And all I could show him was pictures of my cribs',\n",
              " \"Tryin' to get away from loving ya You know how to love me hard\",\n",
              " \"There's so many shades of black\",\n",
              " 'I like you a lot lot, all we want is hot hot Boys boys boys',\n",
              " \"Hey, you're still here, man ?\",\n",
              " \"Your recipe is, darlin' is so tasty\",\n",
              " 'At a North Dakota junction',\n",
              " 'And when did the Indians dance. Call him drunken Ira Hayes,',\n",
              " 'Is it scary for you baby',\n",
              " 'Panamera with the tinted roof',\n",
              " '   Drop Gabriel and me.',\n",
              " \"Fuckin' with the kid and pray for your nigga I'm off this, man This shit was all I knew\",\n",
              " 'You werent perfect but you made life worth it',\n",
              " '[RAP]',\n",
              " 'I swear he did',\n",
              " 'I roam in Lexuses and Benzes the fly way',\n",
              " 'I can tell by ya charm and ya arm',\n",
              " 'Her fingers fumbled at her work, —',\n",
              " 'She said she\\'s gonna come back tomorrow And I said, \"Fly on my sweet Angel',\n",
              " 'And their idea of fun',\n",
              " 'He’ll teach you how to pick and choose',\n",
              " 'Everybody drop like their have from the cops',\n",
              " \"And I'm the one who helps you win\",\n",
              " \"But they'll never-ever find that (cure for love), that cure for love\",\n",
              " 'Explosions on TV',\n",
              " 'Nobody take me out tho',\n",
              " \"They're shining for you Bernadette Whoa, whoa, whoa, whoa\",\n",
              " \"Bust One Nut I Ain't Done I Got Mo' Ta Cum.\",\n",
              " \"Bris', I be comin' thru\",\n",
              " \"Don't it always seem to go\",\n",
              " 'A resonance of emerald,',\n",
              " 'Just let me go, let me bring it home to you',\n",
              " 'Another planet Please, mom',\n",
              " 'Stack blocks by the keys L to the O to the X youll see Bad boy bad boy what you gonna do',\n",
              " \"I'm an abominable snowman\",\n",
              " 'I tried to quit',\n",
              " \"There's a door without any key Somewhere between your heart and mine\",\n",
              " 'put his head in his arms',\n",
              " 'M Cs fear me they too near not to hear me Clearly Im the triple beam dream',\n",
              " \"If I did fuck she'd be fucked up\",\n",
              " '(Yeah! What did I say now)',\n",
              " 'To be around u is so-oh right',\n",
              " 'U will see my point of view',\n",
              " 'To make a change Send it on, on and on',\n",
              " 'What is it children that falls from the sky?',\n",
              " 'There’s a rumbling in the skies',\n",
              " \"I can't spend my whole life hiding my heart away Right under my feet there's air made of bricks\",\n",
              " 'Go on girl',\n",
              " 'I had better wait',\n",
              " 'I wonder what went wrong',\n",
              " '(A Missy Exclusive)',\n",
              " 'Bald like a butch bitch',\n",
              " \"I'm with you\",\n",
              " \"Let's go down to the tennis court, and talk it up like yeah (yeah)\",\n",
              " 'Clouds hung hugely and oppressively',\n",
              " 'I was alone in the dark when I met ya',\n",
              " \"I won't tell no lie\",\n",
              " 'we can be a duet, you come to my home',\n",
              " 'Which goes from bad to worse?',\n",
              " 'But you play it off and say How is work baby',\n",
              " 'Oh crazy (you make me feel alright)',\n",
              " 'And buried them away, you buried them away I wish I could lay down beside you',\n",
              " \"And yo' breath will turn to Foot Locker water repellent I'm the man, I got money far as the eyes can see\",\n",
              " 'That legendary divorce is such a bore As my bones grew they did hurt',\n",
              " \"It's not so bad Dear Stan, I meant to write you sooner but I just been busy\",\n",
              " 'When the world was young',\n",
              " 'And he made a quick Santy Claus hat and a coat.',\n",
              " 'Us Growing',\n",
              " '      We greatly fear',\n",
              " 'Go ham donut or go Rambo, gotta make an example of her',\n",
              " '   For duties diamond.',\n",
              " 'If I lose you, baby',\n",
              " 'That I will never run away',\n",
              " 'I would never walk. I would take a car.',\n",
              " 'Drowning without your love',\n",
              " 'In The Game Im No Cheetah Imma Tiger Imma Panther Im A Cougar Imma Bengle',\n",
              " 'They were pushing through a four lane highway',\n",
              " 'You mine',\n",
              " 'From too much choice',\n",
              " '    And a merry sing-song, happy let us be!',\n",
              " 'Like a Benz with chrome me haffi make her my own',\n",
              " 'Got to party up, yeah',\n",
              " 'She said Im caged in',\n",
              " 'If a man is considered guilty',\n",
              " \"Still findin' myself, let alone a soulmate, I'm just sayin'\",\n",
              " 'Grab the keys from Diddy Uh uh',\n",
              " 'And these girls just fighting over the rest of me',\n",
              " 'Groove. Slam. Work it back. Filter that. Baby bump that track.',\n",
              " 'I got this message for you, girl',\n",
              " 'They made their world so hard (so hard)',\n",
              " 'They gotta die out eventually',\n",
              " \"You wanna know how I feel, just like that, just like that (Oh) Oh like a great blue sky's on a summer day\",\n",
              " 'ALPINE GLOW.',\n",
              " \"Mommy know you like it tell papi don't fight it\",\n",
              " 'Seem to serve me',\n",
              " \"i'll get the seven digits from your mother for a dollar tomorrow(ohhhhhhhhh) Meet Eddie, twenty-three years old\",\n",
              " 'Of my waterfall Some people say',\n",
              " '    Yes, marry, have I, three bags full:',\n",
              " \"As sure as the dippy dippy wave of my 'do\",\n",
              " \"Every time you're standing next to me\",\n",
              " \"Who's bad\",\n",
              " 'And arms rolling',\n",
              " \"I'll be a soldier\",\n",
              " 'You And Your Friends',\n",
              " 'Oh Babe, pick a night',\n",
              " 'That syllable whose faith',\n",
              " \"That's a keeper, k-k-k-k-keeper\",\n",
              " \"'Cause I'd be scared\",\n",
              " 'More than just to have you here, whoa',\n",
              " 'You can shoot me in the leg',\n",
              " \"Whoa-oh, she's the one\",\n",
              " \"She's all I'm always wanting\",\n",
              " 'From what I heard she got a baby by Busta',\n",
              " 'My name would help light up the Chicago skyline',\n",
              " \"It's the Wu comin' through sickin niggaz for they garments\",\n",
              " 'So heavy hearted',\n",
              " 'ma te luelue Translation: Do you remember',\n",
              " 'Throw it back ma throw it back throw it back throw it back ma',\n",
              " \"In a minute, I'ma take-a ya on, I'ma take-a ya on\",\n",
              " 'At the ball game, pep rally over here',\n",
              " \"And baby this car just ain't big enough for her and me So you can tell her there's a hot sun beatin' on the black top\",\n",
              " 'Smell the Indonesia beat you to a seizure',\n",
              " \"They the ones duckin' when them heaters come\",\n",
              " 'But Every Time I Pop The Cuchi Gucci Start Chokin Me,',\n",
              " 'Hairpin Trigga No I Wont Shave It',\n",
              " 'In rows or around, we can jam it anyhow',\n",
              " 'The motorcycle black madonna',\n",
              " 'Am I amusing you ',\n",
              " 'Baby, get down, down down',\n",
              " \"I'm a busy girl\",\n",
              " '(there probably end up being another argument candy girl,',\n",
              " 'Who sings the same, unheard,',\n",
              " \"And hear 'em argue over who she gave head to first.\",\n",
              " \"If you thinkin' I'm a quit before I die, dream on\",\n",
              " 'And I wanna pick up my phone',\n",
              " 'Press record and baby, film me On your video phone',\n",
              " \"(It's warmin' up) can you feel it, baby?\",\n",
              " 'Spectre cannot harm,',\n",
              " '(Ella ella, eh eh eh eh,eh eh) You can run into my arms',\n",
              " \"And cry and cry and laugh about it all again Your letters, they all say that you're beside me now\",\n",
              " \"I don't need your rings of gold\",\n",
              " 'We do not eat',\n",
              " 'I would happen to know, the one with the flow',\n",
              " \"Proceeded to throw upon my grandma's sofa\",\n",
              " \"Made history but now we claimin' victory\",\n",
              " \"Just to tell me that I'm great\",\n",
              " 'But I get up this stick out my chest and clutch on my nuts',\n",
              " \"Girls, what y'all trying to do? (Do)\",\n",
              " 'In my secret life',\n",
              " \"Aww no matter what I do, girl you know it's true\",\n",
              " 'So goodbye with all my prayers',\n",
              " 'I dont give a bitch enough to catch the bus',\n",
              " \"I thought I'd walk on in\",\n",
              " \"I'll find a way to sail my course\",\n",
              " 'Notice that this man did not have his hands up',\n",
              " 'Hee, Gonna change the world, Ooo',\n",
              " 'And usually Im fed up thinkin everythangs a set up',\n",
              " 'But not enough to hold you back It feels like the moon',\n",
              " \"'Scuse me\",\n",
              " 'This Girl I Could Not Trust',\n",
              " \"    Turn 'em out, knaves all three!\",\n",
              " 'This for my fam',\n",
              " \"She don't say a word\",\n",
              " 'Loosen them shoulders up',\n",
              " 'Chasing women a distraction',\n",
              " \"But it's rainin' in my heart I don't know when life begins\",\n",
              " \"I'm in the hall contemplatin' now in my own damn house\",\n",
              " 'To yo back then ya shiverin tongue deliverin',\n",
              " 'Dont call my name',\n",
              " 'Gave him what I had left',\n",
              " 'Or be hung in a tree',\n",
              " 'Pay me my money down (trumpet)',\n",
              " 'You know that I care for you',\n",
              " \"    My father he died, but I can't tell you how,\",\n",
              " 'She a pledge AKA she was pink and green',\n",
              " 'Damn, who colder than me?',\n",
              " \"It's Kingston twelve\",\n",
              " 'Im my mama boyfriend Im her little husband',\n",
              " 'And made the hurry plain.',\n",
              " \"We've been trampled on (rebel)\",\n",
              " \"When me and Luis were trying to stick two CD's in the same slot Slim Shady, Slim Shady, I love you\",\n",
              " 'When love makes a fool of me After the rush when you come back down',\n",
              " 'For me He was chastised, for me He was hated',\n",
              " \"We'll have to make new love While you are away\",\n",
              " 'A face with which a stone',\n",
              " 'Are the things they should use',\n",
              " 'So many pretty girls around me and they waking up the rocket (keep up)',\n",
              " 'Ah, ah, ah, ah',\n",
              " 'Let me tell you a thing...',\n",
              " 'Revisiting the bog!',\n",
              " 'Trumpets, violins, I hear them in the distance',\n",
              " \"and you body girl it's so cold\",\n",
              " \"Begins its climb And he wakes to find he's in rolling farm land The farmer sleeps against his wife\",\n",
              " 'But watch for cock-blocking on my coochie stock options',\n",
              " 'CHILDISH GRIEFS.',\n",
              " \"I can't help that what's cool to us might be strange to u\",\n",
              " \"      The girl in the lane, that couldn't speak plain,\",\n",
              " 'I said Peg you better look around',\n",
              " \"I guess it wasn't meant to be\",\n",
              " 'Please say the motherfuckin',\n",
              " 'Police after being wrongly identified as a',\n",
              " 'I know I let you down',\n",
              " 'Talking for hours that should be me, that should be me',\n",
              " 'I know it looks like I’m moving, but I’m standing still',\n",
              " 'I guess that this is meant to be Tell me, was it worth it? We were so perfect',\n",
              " \"Kicker and I'm feeling like I'm thirty feet tall\",\n",
              " \"It ain't me you're lookin' for, babe Go lightly from the ledge, babe\",\n",
              " 'Santa Claus comes to town The royal penis is clean your highness',\n",
              " \"I'm losing my thoughts I said damn where my roof just go\",\n",
              " 'All of these spirit voices rule the night My hands are numb',\n",
              " 'Morning glow is here at last',\n",
              " \"I know there was confusion lightnin' all around me\",\n",
              " 'But what can be done? So God bless the goods we was given',\n",
              " 'Seventeen without a purpose or direction',\n",
              " 'I need a job just to sleep in sheets',\n",
              " 'She Called My House',\n",
              " \"I'll take all the blame, yo baby I'm sorry\",\n",
              " 'Lip gloss traces, your pierced in 11 places',\n",
              " \"Very diff'rent from the rest of us\",\n",
              " 'They came over to cheer me up',\n",
              " \"Back to back I can't even keep track\",\n",
              " '(Th....There he is!)',\n",
              " 'Roll up, roll up',\n",
              " \"Mighty todo If I stand next to ice, then I'm camouflaged\",\n",
              " \"Bustin' like three eighties\",\n",
              " '(Crazy world of mine)',\n",
              " 'We signed the papers',\n",
              " \"(Shut the fuck) Oh no, okay, I don't wanna\",\n",
              " \"I split your cabbage and your lettuce and olives, I'll fuckin' My heart is telling me to be different\",\n",
              " 'I only wanted one time to see you laughing',\n",
              " 'Every Night She Walks Right In My Dreams',\n",
              " 'With you? ',\n",
              " 'Who wants to love somebody like me?',\n",
              " \"Or 'cause others infiltrated?\",\n",
              " \"You're drinking,\",\n",
              " 'Wed be dating everyday lil mama',\n",
              " \"Niggas impersonatin', rehearsin' me\",\n",
              " 'Starting over again',\n",
              " 'All neon like The cocoon surrounds you',\n",
              " 'I need your love so bad, turn your lamp down low',\n",
              " 'Everybody says',\n",
              " 'Pack the house then try 2 sing,',\n",
              " ...]"
            ]
          },
          "metadata": {},
          "execution_count": 64
        }
      ]
    },
    {
      "cell_type": "code",
      "source": [
        "# 데이터 확인 결과 중복되는 것이 많아서 중복된 corpus 제거해줌.\n",
        "\n",
        "raw_corpus = list(set(raw_corpus))"
      ],
      "metadata": {
        "id": "0wrpedn2UD8x"
      },
      "execution_count": 65,
      "outputs": []
    },
    {
      "cell_type": "code",
      "source": [
        "len(raw_corpus)"
      ],
      "metadata": {
        "id": "bVudF-C2UarH",
        "colab": {
          "base_uri": "https://localhost:8080/"
        },
        "outputId": "9537ca2c-8d42-43bd-c875-40b561d56369"
      },
      "execution_count": 66,
      "outputs": [
        {
          "output_type": "execute_result",
          "data": {
            "text/plain": [
              "118168"
            ]
          },
          "metadata": {},
          "execution_count": 66
        }
      ]
    },
    {
      "cell_type": "markdown",
      "source": [
        "## Step 3. 데이터 정제\n",
        "\n",
        "- preprocess_sentence()\n"
      ],
      "metadata": {
        "id": "py3yRnd7MNJJ"
      }
    },
    {
      "cell_type": "code",
      "source": [
        "import re\n",
        "# 입력된 문장들을 정제하는 작업\n",
        "\n",
        "def preprocess_sentence(sentence):\n",
        "    sentence = sentence.lower().strip() # 1\n",
        "    sentence = re.sub(r\"([?.!,¿])\", r\" \\1 \", sentence) # 2\n",
        "    sentence = re.sub(r'[\" \"]+', \" \", sentence) # 3\n",
        "    sentence = re.sub(r\"[^a-zA-Z?.!,¿]+\", \" \", sentence) # 4\n",
        "    sentence = sentence.strip() # 5\n",
        "    sentence = '<start> ' + sentence + ' <end>' # 6\n",
        "    return sentence"
      ],
      "metadata": {
        "id": "ytBsFnJoQwIm"
      },
      "execution_count": 67,
      "outputs": []
    },
    {
      "cell_type": "code",
      "source": [
        "# 정제된 문장확인\n",
        "\n",
        "print(preprocess_sentence(raw_corpus[4]))"
      ],
      "metadata": {
        "id": "gde6DN7oVQf1",
        "colab": {
          "base_uri": "https://localhost:8080/"
        },
        "outputId": "5746ec07-f543-4f6f-e726-1eab2d5de7f5"
      },
      "execution_count": 69,
      "outputs": [
        {
          "output_type": "stream",
          "name": "stdout",
          "text": [
            "<start> call up dj mano , shout out twilite tone <end>\n"
          ]
        }
      ]
    },
    {
      "cell_type": "code",
      "source": [
        "# 토큰의 개수가 15개를 넘는 것은 제외 \n",
        "\n",
        "corpus_15 = []\n",
        "\n",
        "for sentence in raw_corpus:\n",
        "    # 우리가 원하지 않는 문장은 건너뜁니다\n",
        "    if len(sentence) == 0: continue\n",
        "    if sentence[-1] == \":\": continue\n",
        "    \n",
        "    # 정제를 하고 담아주세요\n",
        "    preprocessed_sentence = preprocess_sentence(sentence)\n",
        "    if len(preprocessed_sentence.split()) > 15: continue\n",
        "    corpus_15.append(preprocessed_sentence)\n",
        "        \n",
        "# 정제된 결과를 10개만 확인해보죠\n",
        "corpus_15[:10]"
      ],
      "metadata": {
        "id": "26IwVVb2YEk-",
        "colab": {
          "base_uri": "https://localhost:8080/"
        },
        "outputId": "141ae71a-e2d8-46ca-9b30-7c14caf6a154"
      },
      "execution_count": 70,
      "outputs": [
        {
          "output_type": "execute_result",
          "data": {
            "text/plain": [
              "['<start> i ve got a lot of work to do <end>',\n",
              " '<start> i ain t finished blowin it , nice bra <end>',\n",
              " '<start> my slow flows remarkable <end>',\n",
              " '<start> call up dj mano , shout out twilite tone <end>',\n",
              " '<start> can i have a drink of water ? <end>',\n",
              " '<start> come on babe , come on , oh yeah <end>',\n",
              " '<start> you have the same passion that i have <end>',\n",
              " '<start> in the magazines <end>',\n",
              " '<start> toronto <end>',\n",
              " '<start> i m rich i m rich <end>']"
            ]
          },
          "metadata": {},
          "execution_count": 70
        }
      ]
    },
    {
      "cell_type": "code",
      "source": [
        "len(corpus_15)"
      ],
      "metadata": {
        "id": "birHOmFHc_U1",
        "colab": {
          "base_uri": "https://localhost:8080/"
        },
        "outputId": "ed389d33-c2db-4b59-ce12-93b333e3c5ca"
      },
      "execution_count": 71,
      "outputs": [
        {
          "output_type": "execute_result",
          "data": {
            "text/plain": [
              "102070"
            ]
          },
          "metadata": {},
          "execution_count": 71
        }
      ]
    },
    {
      "cell_type": "code",
      "source": [
        "import tensorflow as tf\n",
        "# tensorflow tokenizer와 pad_sequences를 사용한 토큰화\n",
        "\n",
        "def tokenize(corpus):\n",
        "    # 12000단어를 기억할 수 있는 tokenizer를 만들겁니다\n",
        "    # 우리는 이미 문장을 정제했으니 filters가 필요없어요\n",
        "    # 12000단어에 포함되지 못한 단어는 '<unk>'로 바꿀거에요\n",
        "    tokenizer = tf.keras.preprocessing.text.Tokenizer(\n",
        "        num_words=12000, \n",
        "        filters=' ',\n",
        "        oov_token=\"<unk>\"\n",
        "    )\n",
        "    # corpus를 이용해 tokenizer 내부의 단어장을 완성합니다\n",
        "    tokenizer.fit_on_texts(corpus)\n",
        "    # 준비한 tokenizer를 이용해 corpus를 Tensor로 변환합니다\n",
        "    tensor = tokenizer.texts_to_sequences(corpus)   \n",
        "    # 입력 데이터의 시퀀스 길이를 일정하게 맞춰줍니다\n",
        "    # 만약 시퀀스가 짧다면 문장 뒤에 패딩을 붙여 길이를 맞춰줍니다.\n",
        "    # 문장 앞에 패딩을 붙여 길이를 맞추고 싶다면 padding='pre'를 사용합니다\n",
        "    tensor = tf.keras.preprocessing.sequence.pad_sequences(tensor, padding='post')  \n",
        "    \n",
        "    print(tensor,tokenizer)\n",
        "    return tensor, tokenizer\n",
        "\n",
        "tensor, tokenizer = tokenize(corpus_15)"
      ],
      "metadata": {
        "id": "RYpk_ni3fBtB",
        "colab": {
          "base_uri": "https://localhost:8080/"
        },
        "outputId": "e320b8b8-b4ef-495c-da5b-c332d88a2b90"
      },
      "execution_count": 72,
      "outputs": [
        {
          "output_type": "stream",
          "name": "stdout",
          "text": [
            "[[   2    5   89 ...    0    0    0]\n",
            " [   2    5   96 ...    0    0    0]\n",
            " [   2   13  431 ...    0    0    0]\n",
            " ...\n",
            " [   2   26  237 ...    3    0    0]\n",
            " [   2  214   26 ...  134    3    0]\n",
            " [   2  489 1524 ...  257    3    0]] <keras_preprocessing.text.Tokenizer object at 0x7f249f572e50>\n"
          ]
        }
      ]
    },
    {
      "cell_type": "code",
      "source": [
        "tensor.shape"
      ],
      "metadata": {
        "id": "LkBzgV3BfyJn",
        "colab": {
          "base_uri": "https://localhost:8080/"
        },
        "outputId": "8bb1ec73-0041-4386-ee7c-21979045b340"
      },
      "execution_count": 73,
      "outputs": [
        {
          "output_type": "execute_result",
          "data": {
            "text/plain": [
              "(102070, 15)"
            ]
          },
          "metadata": {},
          "execution_count": 73
        }
      ]
    },
    {
      "cell_type": "code",
      "source": [
        "# tensor에서 마지막 토큰을 잘라내서 소스 문장을 생성합니다\n",
        "# 마지막 토큰은 <end>가 아니라 <pad>일 가능성이 높습니다.\n",
        "src_input = tensor[:, :-1]  \n",
        "# tensor에서 <start>를 잘라내서 타겟 문장을 생성합니다.\n",
        "tgt_input = tensor[:, 1:]    \n",
        "\n",
        "print(src_input[0])\n",
        "print(tgt_input[0])"
      ],
      "metadata": {
        "id": "e0hTJ-MQhtbj",
        "colab": {
          "base_uri": "https://localhost:8080/"
        },
        "outputId": "8e8c8fb8-d14b-437e-8774-06cc13728201"
      },
      "execution_count": 74,
      "outputs": [
        {
          "output_type": "stream",
          "name": "stdout",
          "text": [
            "[  2   5  89  40   9 417  18 244  10  48   3   0   0   0]\n",
            "[  5  89  40   9 417  18 244  10  48   3   0   0   0   0]\n"
          ]
        }
      ]
    },
    {
      "cell_type": "markdown",
      "source": [
        "## Step 4. 평가 데이터셋 분리\n",
        "\n",
        "훈련 데이터와 평가 데이터를 분리하세요!\n",
        "\n",
        "tokenize() 함수로 데이터를 Tensor로 변환한 후, sklearn 모듈의 train_test_split() 함수를 사용해 훈련 데이터와 평가 데이터를 분리하도록 하겠습니다. 단어장의 크기는 12,000 이상 으로 설정하세요! 총 데이터의 20% 를 평가 데이터셋으로 사용해 주세요!"
      ],
      "metadata": {
        "id": "dT-iOeAvM5c1"
      }
    },
    {
      "cell_type": "code",
      "source": [
        "from sklearn.model_selection import train_test_split\n",
        "\n",
        "enc_train, enc_val, dec_train, dec_val = train_test_split(src_input, \n",
        "                                                          tgt_input,\n",
        "                                                          test_size=0.2,\n",
        "                                                          shuffle=True, \n",
        "                                                          random_state=9082)"
      ],
      "metadata": {
        "id": "1K3nn7rUM5Dp"
      },
      "execution_count": 75,
      "outputs": []
    },
    {
      "cell_type": "code",
      "source": [
        "BUFFER_SIZE = len(enc_train)\n",
        "BATCH_SIZE = 256\n",
        "steps_per_epoch = len(enc_train) // BATCH_SIZE\n",
        "\n",
        " # tokenizer가 구축한 단어사전 내 12000개와, 여기 포함되지 않은 0:<pad>를 포함하여 12001개\n",
        "VOCAB_SIZE = tokenizer.num_words + 1   \n",
        "\n",
        "# 준비한 데이터 소스로부터 데이터셋을 만듭니다\n",
        "# 데이터셋에 대해서는 아래 문서를 참고하세요\n",
        "# 자세히 알아둘수록 도움이 많이 되는 중요한 문서입니다\n",
        "# https://www.tensorflow.org/api_docs/python/tf/data/Dataset\n",
        "dataset = tf.data.Dataset.from_tensor_slices((enc_train, dec_train))\n",
        "dataset = dataset.shuffle(BUFFER_SIZE)\n",
        "dataset = dataset.batch(BATCH_SIZE, drop_remainder=True)\n",
        "dataset"
      ],
      "metadata": {
        "id": "KhkltttTiyY-",
        "colab": {
          "base_uri": "https://localhost:8080/"
        },
        "outputId": "9ea829c3-18ce-429f-a5c4-a79b489eaaf5"
      },
      "execution_count": 77,
      "outputs": [
        {
          "output_type": "execute_result",
          "data": {
            "text/plain": [
              "<BatchDataset element_spec=(TensorSpec(shape=(256, 14), dtype=tf.int32, name=None), TensorSpec(shape=(256, 14), dtype=tf.int32, name=None))>"
            ]
          },
          "metadata": {},
          "execution_count": 77
        }
      ]
    },
    {
      "cell_type": "code",
      "source": [
        "print('Source Train: ', enc_train.shape)\n",
        "print('Target validation: ', dec_val.shape)"
      ],
      "metadata": {
        "id": "01fvh35Gk3bE",
        "colab": {
          "base_uri": "https://localhost:8080/"
        },
        "outputId": "ae4580fc-4dd1-4e08-b507-cc46f72d4b00"
      },
      "execution_count": 88,
      "outputs": [
        {
          "output_type": "stream",
          "name": "stdout",
          "text": [
            "Source Train:  (81656, 14)\n",
            "Target validation:  (20414, 14)\n"
          ]
        }
      ]
    },
    {
      "cell_type": "markdown",
      "source": [
        "## Step 5. 인공지능 만들기\n",
        "\n",
        "모델의 Embedding Size와 Hidden Size를 조절하며 10 Epoch 안에 val_loss 값을 2.2 수준으로 줄일 수 있는 모델을 설계하세요! (Loss는 아래 제시된 Loss 함수를 그대로 사용!)\n",
        "\n",
        "그리고 멋진 모델이 생성한 가사 한 줄을 제출하시길 바랍니다!"
      ],
      "metadata": {
        "id": "-mkLBNVXakme"
      }
    },
    {
      "cell_type": "code",
      "source": [
        "class TextGenerator(tf.keras.Model):\n",
        "    def __init__(self, vocab_size, embedding_size, hidden_size):\n",
        "        super().__init__()\n",
        "        \n",
        "        self.embedding = tf.keras.layers.Embedding(vocab_size, embedding_size)\n",
        "        self.rnn_1 = tf.keras.layers.LSTM(hidden_size, return_sequences=True)\n",
        "        self.rnn_2 = tf.keras.layers.LSTM(hidden_size, return_sequences=True)\n",
        "        self.linear = tf.keras.layers.Dense(vocab_size)\n",
        "        \n",
        "    def call(self, x):\n",
        "        out = self.embedding(x)\n",
        "        out = self.rnn_1(out)\n",
        "        out = self.rnn_2(out)\n",
        "        out = self.linear(out)\n",
        "        \n",
        "        return out\n",
        "    \n",
        "embedding_size = 1024\n",
        "hidden_size = 2048\n",
        "model = TextGenerator(tokenizer.num_words + 1, embedding_size , hidden_size)"
      ],
      "metadata": {
        "id": "cjzr9BvGkF0o"
      },
      "execution_count": 90,
      "outputs": []
    },
    {
      "cell_type": "code",
      "source": [
        "# 데이터셋에서 데이터 한 배치만 불러오는 방법입니다.\n",
        "# 지금은 동작 원리에 너무 빠져들지 마세요~\n",
        "for src_sample, tgt_sample in dataset.take(1): break\n",
        "\n",
        "# 한 배치만 불러온 데이터를 모델에 넣어봅니다\n",
        "model(src_sample)"
      ],
      "metadata": {
        "id": "EzBuQNQZkQXa",
        "colab": {
          "base_uri": "https://localhost:8080/"
        },
        "outputId": "972ef4c1-aab7-4a0b-f969-2b1e842b035d"
      },
      "execution_count": 91,
      "outputs": [
        {
          "output_type": "execute_result",
          "data": {
            "text/plain": [
              "<tf.Tensor: shape=(256, 14, 12001), dtype=float32, numpy=\n",
              "array([[[ 1.07534615e-04, -4.07259504e-04,  1.21410885e-04, ...,\n",
              "          4.09677101e-04,  6.26270019e-04,  4.94511158e-04],\n",
              "        [-2.53939594e-04, -8.01751565e-04, -5.67470579e-06, ...,\n",
              "          5.31236990e-04,  5.90050418e-04,  6.29279763e-04],\n",
              "        [-2.72049772e-04, -1.28175947e-03, -2.45643128e-06, ...,\n",
              "          3.01688211e-04,  5.68389296e-05,  8.83076922e-04],\n",
              "        ...,\n",
              "        [ 4.44802601e-04, -3.33976524e-04, -2.46398384e-03, ...,\n",
              "          5.60539775e-04,  2.20452342e-03, -1.88891450e-03],\n",
              "        [ 6.82569284e-04, -2.20018381e-04, -2.58011208e-03, ...,\n",
              "          9.06432571e-04,  2.30692723e-03, -2.09894241e-03],\n",
              "        [ 8.27933254e-04, -4.59431540e-05, -2.47553852e-03, ...,\n",
              "          1.16314739e-03,  2.28278246e-03, -2.07980792e-03]],\n",
              "\n",
              "       [[ 1.07534615e-04, -4.07259504e-04,  1.21410885e-04, ...,\n",
              "          4.09677101e-04,  6.26270019e-04,  4.94511158e-04],\n",
              "        [ 3.99164186e-04, -3.69706802e-04, -3.58424913e-05, ...,\n",
              "          3.70978611e-04,  9.72564216e-04,  6.79361925e-04],\n",
              "        [ 7.78129790e-04, -4.78506583e-04,  2.30184683e-04, ...,\n",
              "          6.07602298e-04,  7.11656699e-04,  6.38314523e-04],\n",
              "        ...,\n",
              "        [ 7.55611982e-05,  1.23979419e-03, -7.60535768e-04, ...,\n",
              "          1.60876918e-03,  8.42588051e-05,  6.08407892e-04],\n",
              "        [-3.07698385e-04,  1.41685887e-03, -8.44673719e-04, ...,\n",
              "          1.44083041e-03,  6.67369823e-05,  8.21814872e-04],\n",
              "        [-6.71730319e-04,  1.58566586e-03, -9.12629766e-04, ...,\n",
              "          1.26168563e-03,  6.13473021e-05,  1.01927551e-03]],\n",
              "\n",
              "       [[ 1.07534615e-04, -4.07259504e-04,  1.21410885e-04, ...,\n",
              "          4.09677101e-04,  6.26270019e-04,  4.94511158e-04],\n",
              "        [-4.85158307e-05, -1.78028597e-04,  5.41605928e-04, ...,\n",
              "          2.73997110e-04,  7.56036723e-04,  1.33222959e-03],\n",
              "        [-2.66286341e-04, -9.52814225e-05,  2.74851656e-04, ...,\n",
              "          5.81258442e-04,  1.37128425e-03,  1.59739330e-03],\n",
              "        ...,\n",
              "        [-1.04404835e-03, -2.95315258e-04,  1.09748391e-03, ...,\n",
              "          1.16723066e-03,  6.03602442e-04,  1.44718296e-03],\n",
              "        [-8.04638141e-04, -2.54723454e-05,  9.42069048e-04, ...,\n",
              "          1.28194911e-03,  6.64042775e-04,  1.41066546e-03],\n",
              "        [-6.85643230e-04,  2.36265390e-04,  7.69164355e-04, ...,\n",
              "          1.32071192e-03,  6.72343303e-04,  1.43359695e-03]],\n",
              "\n",
              "       ...,\n",
              "\n",
              "       [[ 1.07534615e-04, -4.07259504e-04,  1.21410885e-04, ...,\n",
              "          4.09677101e-04,  6.26270019e-04,  4.94511158e-04],\n",
              "        [ 3.34705401e-04, -5.28734992e-04,  2.67447467e-04, ...,\n",
              "          2.31816593e-04,  9.81292920e-04,  1.04949553e-03],\n",
              "        [ 3.01835040e-04, -1.47544692e-04,  2.09964695e-04, ...,\n",
              "         -8.67076378e-05,  4.84563760e-04,  1.20929081e-03],\n",
              "        ...,\n",
              "        [ 1.64014782e-05, -1.26257564e-05,  6.79682475e-04, ...,\n",
              "          8.23568989e-05,  1.06945948e-03, -3.16572405e-04],\n",
              "        [ 3.90335044e-05,  2.38074615e-04,  5.13909385e-04, ...,\n",
              "          3.07101029e-04,  1.10010710e-03, -2.76093982e-04],\n",
              "        [-3.98449847e-05,  4.87062935e-04,  3.31695512e-04, ...,\n",
              "          4.57374728e-04,  1.06005988e-03, -1.51976026e-04]],\n",
              "\n",
              "       [[ 1.07534615e-04, -4.07259504e-04,  1.21410885e-04, ...,\n",
              "          4.09677101e-04,  6.26270019e-04,  4.94511158e-04],\n",
              "        [ 1.33835609e-04, -4.35598835e-04, -9.32831153e-06, ...,\n",
              "          1.04153808e-03,  4.89739992e-04,  8.24914081e-04],\n",
              "        [ 4.16038267e-04, -1.59581861e-04,  2.00885916e-04, ...,\n",
              "          1.69425225e-03,  5.31752448e-05,  7.59331218e-04],\n",
              "        ...,\n",
              "        [ 7.66702462e-04,  1.72176131e-03,  7.71116538e-05, ...,\n",
              "          2.51887110e-03,  4.07788990e-04, -6.25667453e-04],\n",
              "        [ 4.08734486e-04,  1.82620634e-03, -1.04158598e-05, ...,\n",
              "          2.27103569e-03,  3.47834051e-04, -2.68977165e-04],\n",
              "        [ 4.37967392e-05,  1.91375730e-03, -1.13734328e-04, ...,\n",
              "          2.01110821e-03,  2.85462913e-04,  7.34869755e-05]],\n",
              "\n",
              "       [[ 1.07534615e-04, -4.07259504e-04,  1.21410885e-04, ...,\n",
              "          4.09677101e-04,  6.26270019e-04,  4.94511158e-04],\n",
              "        [-1.48097271e-04, -6.22694963e-04,  3.43396969e-04, ...,\n",
              "          2.31476632e-04,  9.28708818e-04,  6.02854940e-04],\n",
              "        [-2.30651771e-04, -8.42808513e-04,  6.72664843e-04, ...,\n",
              "          5.91509051e-05,  8.06506723e-04,  1.25475728e-03],\n",
              "        ...,\n",
              "        [ 3.33208445e-04,  5.16256143e-04, -9.11272218e-05, ...,\n",
              "          1.86063204e-04,  1.86240720e-03,  2.39034009e-04],\n",
              "        [ 1.88307342e-04,  7.65221484e-04, -2.91364384e-04, ...,\n",
              "          3.02811794e-04,  1.64774666e-03,  2.64751172e-04],\n",
              "        [-3.28434544e-05,  9.86132422e-04, -4.79617738e-04, ...,\n",
              "          3.79168225e-04,  1.40544702e-03,  3.61237006e-04]]],\n",
              "      dtype=float32)>"
            ]
          },
          "metadata": {},
          "execution_count": 91
        }
      ]
    },
    {
      "cell_type": "code",
      "source": [
        "model.summary()"
      ],
      "metadata": {
        "id": "L2kGytO4kUKB",
        "colab": {
          "base_uri": "https://localhost:8080/"
        },
        "outputId": "8e88d685-5ae4-4485-915f-2f99b2f45e27"
      },
      "execution_count": 92,
      "outputs": [
        {
          "output_type": "stream",
          "name": "stdout",
          "text": [
            "Model: \"text_generator_7\"\n",
            "_________________________________________________________________\n",
            " Layer (type)                Output Shape              Param #   \n",
            "=================================================================\n",
            " embedding_7 (Embedding)     multiple                  12289024  \n",
            "                                                                 \n",
            " lstm_14 (LSTM)              multiple                  25174016  \n",
            "                                                                 \n",
            " lstm_15 (LSTM)              multiple                  33562624  \n",
            "                                                                 \n",
            " dense_7 (Dense)             multiple                  24590049  \n",
            "                                                                 \n",
            "=================================================================\n",
            "Total params: 95,615,713\n",
            "Trainable params: 95,615,713\n",
            "Non-trainable params: 0\n",
            "_________________________________________________________________\n"
          ]
        }
      ]
    },
    {
      "cell_type": "code",
      "source": [
        "optimizer = tf.keras.optimizers.Adam()\n",
        "loss = tf.keras.losses.SparseCategoricalCrossentropy(\n",
        "    from_logits=True, reduction='none')\n",
        "\n",
        "\n",
        "model.compile(loss=loss, optimizer=optimizer)\n"
      ],
      "metadata": {
        "id": "TX2_o9v4kaey"
      },
      "execution_count": 94,
      "outputs": []
    },
    {
      "cell_type": "code",
      "source": [
        "# early stop\n",
        "es = EarlyStopping(monitor='val_loss', patience=2, verbose=1)\n",
        "\n",
        "# 모델 훈련\n",
        "\n",
        "model.fit(dataset, epochs=39, validation_data = (enc_val,dec_val),callbacks=[es])"
      ],
      "metadata": {
        "id": "24ujIKEAPJEr",
        "colab": {
          "base_uri": "https://localhost:8080/"
        },
        "outputId": "32d53e13-d8c9-44bb-bbfd-df51fdd439b2"
      },
      "execution_count": 95,
      "outputs": [
        {
          "output_type": "stream",
          "name": "stdout",
          "text": [
            "Epoch 1/39\n",
            "318/318 [==============================] - 93s 287ms/step - loss: 3.5022 - val_loss: 3.1242\n",
            "Epoch 2/39\n",
            "318/318 [==============================] - 91s 285ms/step - loss: 2.9885 - val_loss: 2.9694\n",
            "Epoch 3/39\n",
            "318/318 [==============================] - 91s 285ms/step - loss: 2.8025 - val_loss: 2.8945\n",
            "Epoch 4/39\n",
            "318/318 [==============================] - 91s 285ms/step - loss: 2.6305 - val_loss: 2.8603\n",
            "Epoch 5/39\n",
            "318/318 [==============================] - 91s 285ms/step - loss: 2.4457 - val_loss: 2.8506\n",
            "Epoch 6/39\n",
            "318/318 [==============================] - 91s 284ms/step - loss: 2.2417 - val_loss: 2.8600\n",
            "Epoch 7/39\n",
            "318/318 [==============================] - 91s 285ms/step - loss: 2.0192 - val_loss: 2.8876\n",
            "Epoch 7: early stopping\n"
          ]
        },
        {
          "output_type": "execute_result",
          "data": {
            "text/plain": [
              "<keras.callbacks.History at 0x7f22cec2f4d0>"
            ]
          },
          "metadata": {},
          "execution_count": 95
        }
      ]
    },
    {
      "cell_type": "code",
      "source": [
        "def generate_text(model, tokenizer, init_sentence=\"<start>\", max_len=20):\n",
        "    # 테스트를 위해서 입력받은 init_sentence도 텐서로 변환합니다\n",
        "    test_input = tokenizer.texts_to_sequences([init_sentence])\n",
        "    test_tensor = tf.convert_to_tensor(test_input, dtype=tf.int64)\n",
        "    end_token = tokenizer.word_index[\"<end>\"]\n",
        "\n",
        "    # 단어 하나씩 예측해 문장을 만듭니다\n",
        "    #    1. 입력받은 문장의 텐서를 입력합니다\n",
        "    #    2. 예측된 값 중 가장 높은 확률인 word index를 뽑아냅니다\n",
        "    #    3. 2에서 예측된 word index를 문장 뒤에 붙입니다\n",
        "    #    4. 모델이 <end>를 예측했거나, max_len에 도달했다면 문장 생성을 마칩니다\n",
        "    while True:\n",
        "        # 1\n",
        "        predict = model(test_tensor) \n",
        "        # 2\n",
        "        predict_word = tf.argmax(tf.nn.softmax(predict, axis=-1), axis=-1)[:, -1] \n",
        "        # 3 \n",
        "        test_tensor = tf.concat([test_tensor, tf.expand_dims(predict_word, axis=0)], axis=-1)\n",
        "        # 4\n",
        "        if predict_word.numpy()[0] == end_token: break\n",
        "        if test_tensor.shape[1] >= max_len: break\n",
        "\n",
        "    generated = \"\"\n",
        "    # tokenizer를 이용해 word index를 단어로 하나씩 변환합니다 \n",
        "    for word_index in test_tensor[0].numpy():\n",
        "        generated += tokenizer.index_word[word_index] + \" \"\n",
        "\n",
        "    return generated"
      ],
      "metadata": {
        "id": "2ov4V7Wcajc2"
      },
      "execution_count": 96,
      "outputs": []
    },
    {
      "cell_type": "code",
      "source": [
        "generate_text(model, tokenizer, init_sentence=\"<start> i love\", max_len=20)"
      ],
      "metadata": {
        "id": "nlCORx8IayNa",
        "colab": {
          "base_uri": "https://localhost:8080/",
          "height": 35
        },
        "outputId": "404bd875-2dcd-41e1-b827-69f1ca211cff"
      },
      "execution_count": 97,
      "outputs": [
        {
          "output_type": "execute_result",
          "data": {
            "text/plain": [
              "'<start> i love you so i can t stand <end> '"
            ],
            "application/vnd.google.colaboratory.intrinsic+json": {
              "type": "string"
            }
          },
          "metadata": {},
          "execution_count": 97
        }
      ]
    },
    {
      "cell_type": "code",
      "source": [
        "generate_text(model, tokenizer, init_sentence=\"<start> i wanna\", max_len=20)"
      ],
      "metadata": {
        "id": "XmaGIGHMLmg-",
        "colab": {
          "base_uri": "https://localhost:8080/",
          "height": 35
        },
        "outputId": "d99edde3-bf7d-4d70-f712-328280d2021a"
      },
      "execution_count": 98,
      "outputs": [
        {
          "output_type": "execute_result",
          "data": {
            "text/plain": [
              "'<start> i wanna be your lover partyup controversy <end> '"
            ],
            "application/vnd.google.colaboratory.intrinsic+json": {
              "type": "string"
            }
          },
          "metadata": {},
          "execution_count": 98
        }
      ]
    },
    {
      "cell_type": "code",
      "source": [
        "generate_text(model, tokenizer, init_sentence=\"<start> what a\", max_len=20)"
      ],
      "metadata": {
        "id": "eToI31tKjtjf",
        "colab": {
          "base_uri": "https://localhost:8080/",
          "height": 35
        },
        "outputId": "12a4476e-fbb5-4794-e02c-1c96037f6c7c"
      },
      "execution_count": 99,
      "outputs": [
        {
          "output_type": "execute_result",
          "data": {
            "text/plain": [
              "'<start> what a lovely creation <end> '"
            ],
            "application/vnd.google.colaboratory.intrinsic+json": {
              "type": "string"
            }
          },
          "metadata": {},
          "execution_count": 99
        }
      ]
    },
    {
      "cell_type": "code",
      "source": [
        "generate_text(model, tokenizer, init_sentence=\"<start> I wish you\", max_len=20)"
      ],
      "metadata": {
        "id": "cs7jWzNJMN5z",
        "colab": {
          "base_uri": "https://localhost:8080/",
          "height": 35
        },
        "outputId": "f9042722-d896-41d4-e258-4b72a798c293"
      },
      "execution_count": 100,
      "outputs": [
        {
          "output_type": "execute_result",
          "data": {
            "text/plain": [
              "'<start> i wish you would nigga <end> '"
            ],
            "application/vnd.google.colaboratory.intrinsic+json": {
              "type": "string"
            }
          },
          "metadata": {},
          "execution_count": 100
        }
      ]
    },
    {
      "cell_type": "code",
      "source": [
        "generate_text(model, tokenizer, init_sentence=\"<start> As time\", max_len=20)"
      ],
      "metadata": {
        "id": "MIYXP-x3yhM3",
        "colab": {
          "base_uri": "https://localhost:8080/",
          "height": 35
        },
        "outputId": "f96c2e46-46fa-442b-b775-b990871608b3"
      },
      "execution_count": 101,
      "outputs": [
        {
          "output_type": "execute_result",
          "data": {
            "text/plain": [
              "'<start> as time cannot decay <end> '"
            ],
            "application/vnd.google.colaboratory.intrinsic+json": {
              "type": "string"
            }
          },
          "metadata": {},
          "execution_count": 101
        }
      ]
    },
    {
      "cell_type": "code",
      "source": [
        "generate_text(model, tokenizer, init_sentence=\"<start> life is \", max_len=20)"
      ],
      "metadata": {
        "id": "4UT9pVf3MVXj",
        "colab": {
          "base_uri": "https://localhost:8080/",
          "height": 35
        },
        "outputId": "680fc0ea-5aeb-4629-9ef3-b401d7923dee"
      },
      "execution_count": 102,
      "outputs": [
        {
          "output_type": "execute_result",
          "data": {
            "text/plain": [
              "'<start> life is a <unk> , <end> '"
            ],
            "application/vnd.google.colaboratory.intrinsic+json": {
              "type": "string"
            }
          },
          "metadata": {},
          "execution_count": 102
        }
      ]
    },
    {
      "cell_type": "code",
      "source": [
        "generate_text(model, tokenizer, init_sentence=\"<start> You are \", max_len=20)"
      ],
      "metadata": {
        "id": "FhL-4epcMW7f",
        "colab": {
          "base_uri": "https://localhost:8080/",
          "height": 35
        },
        "outputId": "e14da999-0128-40bf-fecd-313043620f71"
      },
      "execution_count": 103,
      "outputs": [
        {
          "output_type": "execute_result",
          "data": {
            "text/plain": [
              "'<start> you are the one that i adore <end> '"
            ],
            "application/vnd.google.colaboratory.intrinsic+json": {
              "type": "string"
            }
          },
          "metadata": {},
          "execution_count": 103
        }
      ]
    },
    {
      "cell_type": "code",
      "source": [
        "generate_text(model, tokenizer, init_sentence=\"<start> Time to \", max_len=20)"
      ],
      "metadata": {
        "id": "ewk_GrjdMWsP",
        "colab": {
          "base_uri": "https://localhost:8080/",
          "height": 35
        },
        "outputId": "d68bb589-5a9f-4c92-9c31-eb3bacd73ab0"
      },
      "execution_count": 104,
      "outputs": [
        {
          "output_type": "execute_result",
          "data": {
            "text/plain": [
              "'<start> time to see <end> '"
            ],
            "application/vnd.google.colaboratory.intrinsic+json": {
              "type": "string"
            }
          },
          "metadata": {},
          "execution_count": 104
        }
      ]
    },
    {
      "cell_type": "code",
      "source": [
        "generate_text(model, tokenizer, init_sentence=\"<start> This is the way\", max_len=20)"
      ],
      "metadata": {
        "id": "lss7AE5mMVFM",
        "colab": {
          "base_uri": "https://localhost:8080/",
          "height": 35
        },
        "outputId": "93c498be-7d82-44f2-d860-a730f7ed617a"
      },
      "execution_count": 105,
      "outputs": [
        {
          "output_type": "execute_result",
          "data": {
            "text/plain": [
              "'<start> this is the way you talk <end> '"
            ],
            "application/vnd.google.colaboratory.intrinsic+json": {
              "type": "string"
            }
          },
          "metadata": {},
          "execution_count": 105
        }
      ]
    },
    {
      "cell_type": "code",
      "source": [
        "generate_text(model, tokenizer, init_sentence=\"<start> When I was\", max_len=20)"
      ],
      "metadata": {
        "id": "7TxeZJ4ANvbt",
        "colab": {
          "base_uri": "https://localhost:8080/",
          "height": 35
        },
        "outputId": "ce79cbee-175d-4eb9-c2db-6b9b18d375ff"
      },
      "execution_count": 106,
      "outputs": [
        {
          "output_type": "execute_result",
          "data": {
            "text/plain": [
              "'<start> when i was your man <end> '"
            ],
            "application/vnd.google.colaboratory.intrinsic+json": {
              "type": "string"
            }
          },
          "metadata": {},
          "execution_count": 106
        }
      ]
    },
    {
      "cell_type": "markdown",
      "source": [
        "## 결과\n",
        "\n",
        "- 배치사이즈 256으로 고정하고 (embedding_size, hidden_size) 를 (256,512), (512,1024), (1024,2048)로 바꿔가면서 학습을 진행했다. 예상했던 것은 embedding size와 hidden size 를 증가시킬수록 loss 가 줄어들것이라고 생각했는데, 시간은 숫자가 커지면서 오래걸린 것에 비해서 loss 는 2.8 근처에서 낮아지지 않았다. \n"
      ],
      "metadata": {
        "id": "iDU9PHGjyoo6"
      }
    },
    {
      "cell_type": "code",
      "source": [
        "BUFFER_SIZE = len(enc_train)\n",
        "BATCH_SIZE = 128\n",
        "steps_per_epoch = len(enc_train) // BATCH_SIZE\n",
        "\n",
        " # tokenizer가 구축한 단어사전 내 12000개와, 여기 포함되지 않은 0:<pad>를 포함하여 12001개\n",
        "VOCAB_SIZE = tokenizer.num_words + 1   \n",
        "\n",
        "# 준비한 데이터 소스로부터 데이터셋을 만듭니다\n",
        "# 데이터셋에 대해서는 아래 문서를 참고하세요\n",
        "# 자세히 알아둘수록 도움이 많이 되는 중요한 문서입니다\n",
        "# https://www.tensorflow.org/api_docs/python/tf/data/Dataset\n",
        "dataset = tf.data.Dataset.from_tensor_slices((enc_train, dec_train))\n",
        "dataset = dataset.shuffle(BUFFER_SIZE)\n",
        "dataset = dataset.batch(BATCH_SIZE, drop_remainder=True)\n",
        "dataset"
      ],
      "metadata": {
        "id": "cwT7C1pIyly9",
        "colab": {
          "base_uri": "https://localhost:8080/"
        },
        "outputId": "e9dd333d-ca58-473b-aa3d-b155e31d4dc5"
      },
      "execution_count": 113,
      "outputs": [
        {
          "output_type": "execute_result",
          "data": {
            "text/plain": [
              "<BatchDataset element_spec=(TensorSpec(shape=(128, 14), dtype=tf.int32, name=None), TensorSpec(shape=(128, 14), dtype=tf.int32, name=None))>"
            ]
          },
          "metadata": {},
          "execution_count": 113
        }
      ]
    },
    {
      "cell_type": "code",
      "source": [
        "embedding_size = 1024\n",
        "hidden_size = 2048\n",
        "model = TextGenerator(tokenizer.num_words + 1, embedding_size , hidden_size)"
      ],
      "metadata": {
        "id": "5a2UuCR3zceT"
      },
      "execution_count": 114,
      "outputs": []
    },
    {
      "cell_type": "code",
      "source": [
        "optimizer = tf.keras.optimizers.Adam()\n",
        "loss = tf.keras.losses.SparseCategoricalCrossentropy(\n",
        "    from_logits=True, reduction='none')\n",
        "\n",
        "\n",
        "model.compile(loss=loss, optimizer=optimizer)\n"
      ],
      "metadata": {
        "id": "M3wRZy05zgam"
      },
      "execution_count": 115,
      "outputs": []
    },
    {
      "cell_type": "code",
      "source": [
        "from keras.callbacks import ModelCheckpoint, EarlyStopping\n",
        "\n",
        "# early stop\n",
        "es = EarlyStopping(monitor='val_loss', patience=2, verbose=1)\n",
        "\n",
        "# 모델 훈련\n",
        "\n",
        "model.fit(dataset, epochs=39, validation_data = (enc_val,dec_val),callbacks=[es])"
      ],
      "metadata": {
        "id": "hGVrX71QzsdF",
        "colab": {
          "base_uri": "https://localhost:8080/"
        },
        "outputId": "2177fd86-b1a3-4361-ba0f-772da78e5d63"
      },
      "execution_count": 116,
      "outputs": [
        {
          "output_type": "stream",
          "name": "stdout",
          "text": [
            "Epoch 1/39\n",
            "637/637 [==============================] - 115s 158ms/step - loss: 3.3084 - val_loss: 3.0269\n",
            "Epoch 2/39\n",
            "637/637 [==============================] - 100s 157ms/step - loss: 2.8835 - val_loss: 2.8997\n",
            "Epoch 3/39\n",
            "637/637 [==============================] - 100s 157ms/step - loss: 2.6693 - val_loss: 2.8460\n",
            "Epoch 4/39\n",
            "637/637 [==============================] - 100s 158ms/step - loss: 2.4394 - val_loss: 2.8323\n",
            "Epoch 5/39\n",
            "637/637 [==============================] - 101s 158ms/step - loss: 2.1764 - val_loss: 2.8563\n",
            "Epoch 6/39\n",
            "637/637 [==============================] - 101s 158ms/step - loss: 1.8919 - val_loss: 2.9051\n",
            "Epoch 6: early stopping\n"
          ]
        },
        {
          "output_type": "execute_result",
          "data": {
            "text/plain": [
              "<keras.callbacks.History at 0x7f22cede5b90>"
            ]
          },
          "metadata": {},
          "execution_count": 116
        }
      ]
    },
    {
      "cell_type": "code",
      "source": [
        "generate_text(model, tokenizer, init_sentence=\"<start> i love\", max_len=20)"
      ],
      "metadata": {
        "id": "SimDR4-Vzu2v",
        "colab": {
          "base_uri": "https://localhost:8080/",
          "height": 35
        },
        "outputId": "8d6708b5-0ec0-4fff-a704-9d0124d0a642"
      },
      "execution_count": 117,
      "outputs": [
        {
          "output_type": "execute_result",
          "data": {
            "text/plain": [
              "'<start> i love you so , i love you so <end> '"
            ],
            "application/vnd.google.colaboratory.intrinsic+json": {
              "type": "string"
            }
          },
          "metadata": {},
          "execution_count": 117
        }
      ]
    },
    {
      "cell_type": "code",
      "source": [
        "generate_text(model, tokenizer, init_sentence=\"<start> i wanna\", max_len=20)"
      ],
      "metadata": {
        "id": "xYriTrr9O1m8",
        "colab": {
          "base_uri": "https://localhost:8080/",
          "height": 35
        },
        "outputId": "25edb04a-2e11-46c5-e293-b7231b7245c2"
      },
      "execution_count": 118,
      "outputs": [
        {
          "output_type": "execute_result",
          "data": {
            "text/plain": [
              "'<start> i wanna be your g . u . y . <end> '"
            ],
            "application/vnd.google.colaboratory.intrinsic+json": {
              "type": "string"
            }
          },
          "metadata": {},
          "execution_count": 118
        }
      ]
    },
    {
      "cell_type": "code",
      "source": [
        "generate_text(model, tokenizer, init_sentence=\"<start> what a\", max_len=20)"
      ],
      "metadata": {
        "id": "DHAM7bD8O35O",
        "colab": {
          "base_uri": "https://localhost:8080/",
          "height": 35
        },
        "outputId": "4672424c-6978-4a3a-8f2c-29c5c8eab89f"
      },
      "execution_count": 119,
      "outputs": [
        {
          "output_type": "execute_result",
          "data": {
            "text/plain": [
              "'<start> what a perfect creation <end> '"
            ],
            "application/vnd.google.colaboratory.intrinsic+json": {
              "type": "string"
            }
          },
          "metadata": {},
          "execution_count": 119
        }
      ]
    },
    {
      "cell_type": "code",
      "source": [
        "generate_text(model, tokenizer, init_sentence=\"<start> I wish you\", max_len=20)"
      ],
      "metadata": {
        "id": "3WeWUe4jO6xF",
        "colab": {
          "base_uri": "https://localhost:8080/",
          "height": 35
        },
        "outputId": "64416e40-977e-42f2-8c9e-5179e30852a3"
      },
      "execution_count": 120,
      "outputs": [
        {
          "output_type": "execute_result",
          "data": {
            "text/plain": [
              "'<start> i wish you would nigga <end> '"
            ],
            "application/vnd.google.colaboratory.intrinsic+json": {
              "type": "string"
            }
          },
          "metadata": {},
          "execution_count": 120
        }
      ]
    },
    {
      "cell_type": "code",
      "source": [
        "generate_text(model, tokenizer, init_sentence=\"<start> As time\", max_len=20)"
      ],
      "metadata": {
        "id": "-63ogyzPO9hC",
        "colab": {
          "base_uri": "https://localhost:8080/",
          "height": 35
        },
        "outputId": "ee1f528a-6d36-4171-9cca-16a140074d2b"
      },
      "execution_count": 121,
      "outputs": [
        {
          "output_type": "execute_result",
          "data": {
            "text/plain": [
              "'<start> as time cannot decay <end> '"
            ],
            "application/vnd.google.colaboratory.intrinsic+json": {
              "type": "string"
            }
          },
          "metadata": {},
          "execution_count": 121
        }
      ]
    },
    {
      "cell_type": "markdown",
      "source": [
        "## 결과\n",
        "\n",
        "- 배치사이즈 128으로 고정하고 (embedding_size, hidden_size) 를 (1024,2048)로 바꿔서 학습을 진행했다. \b스터디중에 배치 사이즈에 대한 질문을 받고 작아지면 어떻게 될지 궁금해서 진행해보았으나 학습에는 큰 영향이 없는 것 같다. "
      ],
      "metadata": {
        "id": "Vh2HtLq2KjCX"
      }
    },
    {
      "cell_type": "code",
      "source": [
        "BUFFER_SIZE = len(enc_train)\n",
        "BATCH_SIZE = 512\n",
        "steps_per_epoch = len(enc_train) // BATCH_SIZEembedding_size = 2048\n",
        "hidden_size = 3072\n",
        "model = TextGenerator(tokenizer.num_words + 1, embedding_size , hidden_size)"
      ],
      "metadata": {
        "id": "pWuNsm02vo-r"
      },
      "execution_count": 122,
      "outputs": []
    },
    {
      "cell_type": "code",
      "source": [
        "optimizer = tf.keras.optimizers.Adam()\n",
        "loss = tf.keras.losses.SparseCategoricalCrossentropy(\n",
        "    from_logits=True, reduction='none')\n",
        "\n",
        "\n",
        "model.compile(loss=loss, optimizer=optimizer)\n"
      ],
      "metadata": {
        "id": "bfjtUgeaPBqp"
      },
      "execution_count": null,
      "outputs": []
    },
    {
      "cell_type": "code",
      "source": [
        "from keras.callbacks import ModelCheckpoint, EarlyStopping\n",
        "\n",
        "# early stop\n",
        "es = EarlyStopping(monitor='val_loss', patience=2, verbose=1)\n",
        "\n",
        "# 모델 훈련\n",
        "\n",
        "model.fit(dataset, epochs=39, validation_data = (enc_val,dec_val),callbacks=[es])"
      ],
      "metadata": {
        "id": "tG6Gk-kCvwRg",
        "colab": {
          "base_uri": "https://localhost:8080/"
        },
        "outputId": "eda7ddf1-c501-485a-afff-8af060b196d3"
      },
      "execution_count": 62,
      "outputs": [
        {
          "output_type": "stream",
          "name": "stdout",
          "text": [
            "Epoch 1/39\n",
            "159/159 [==============================] - 214s 1s/step - loss: 3.6855 - val_loss: 3.2456\n",
            "Epoch 2/39\n",
            "159/159 [==============================] - 176s 1s/step - loss: 3.1200 - val_loss: 3.0554\n",
            "Epoch 3/39\n",
            "159/159 [==============================] - 176s 1s/step - loss: 2.9406 - val_loss: 2.9667\n",
            "Epoch 4/39\n",
            "159/159 [==============================] - 176s 1s/step - loss: 2.8044 - val_loss: 2.9206\n",
            "Epoch 5/39\n",
            "159/159 [==============================] - 176s 1s/step - loss: 2.6761 - val_loss: 2.8934\n",
            "Epoch 6/39\n",
            "159/159 [==============================] - 176s 1s/step - loss: 2.5449 - val_loss: 2.8824\n",
            "Epoch 7/39\n",
            "159/159 [==============================] - 176s 1s/step - loss: 2.4084 - val_loss: 2.8791\n",
            "Epoch 8/39\n",
            "159/159 [==============================] - 176s 1s/step - loss: 2.2625 - val_loss: 2.8924\n",
            "Epoch 9/39\n",
            "159/159 [==============================] - 176s 1s/step - loss: 2.1087 - val_loss: 2.9076\n",
            "Epoch 9: early stopping\n"
          ]
        },
        {
          "output_type": "execute_result",
          "data": {
            "text/plain": [
              "<keras.callbacks.History at 0x7f249f572550>"
            ]
          },
          "metadata": {},
          "execution_count": 62
        }
      ]
    },
    {
      "cell_type": "code",
      "source": [
        "generate_text(model, tokenizer, init_sentence=\"<start> i love\", max_len=20)"
      ],
      "metadata": {
        "id": "VKQOlsmlv15e",
        "colab": {
          "base_uri": "https://localhost:8080/",
          "height": 35
        },
        "outputId": "98866465-2661-4664-e136-1ccb1e380c59"
      },
      "execution_count": 78,
      "outputs": [
        {
          "output_type": "execute_result",
          "data": {
            "text/plain": [
              "'<start> i love you , i love you , baby <end> '"
            ],
            "application/vnd.google.colaboratory.intrinsic+json": {
              "type": "string"
            }
          },
          "metadata": {},
          "execution_count": 78
        }
      ]
    },
    {
      "cell_type": "code",
      "source": [
        "generate_text(model, tokenizer, init_sentence=\"<start> i wanna\", max_len=20)"
      ],
      "metadata": {
        "colab": {
          "base_uri": "https://localhost:8080/",
          "height": 35
        },
        "id": "Kx61uaVw2-YI",
        "outputId": "3d6500d0-389d-428c-cd62-0a1d329fb6a2"
      },
      "execution_count": 79,
      "outputs": [
        {
          "output_type": "execute_result",
          "data": {
            "text/plain": [
              "'<start> i wanna be your lover partyup controversy <end> '"
            ],
            "application/vnd.google.colaboratory.intrinsic+json": {
              "type": "string"
            }
          },
          "metadata": {},
          "execution_count": 79
        }
      ]
    },
    {
      "cell_type": "code",
      "source": [
        "generate_text(model, tokenizer, init_sentence=\"<start> what a\", max_len=20)"
      ],
      "metadata": {
        "colab": {
          "base_uri": "https://localhost:8080/",
          "height": 35
        },
        "id": "pYqiClN-3CiJ",
        "outputId": "77b57e55-e682-4d29-9615-c1b210ad981a"
      },
      "execution_count": 80,
      "outputs": [
        {
          "output_type": "execute_result",
          "data": {
            "text/plain": [
              "'<start> what a shame <end> '"
            ],
            "application/vnd.google.colaboratory.intrinsic+json": {
              "type": "string"
            }
          },
          "metadata": {},
          "execution_count": 80
        }
      ]
    },
    {
      "cell_type": "code",
      "source": [
        "generate_text(model, tokenizer, init_sentence=\"<start> I wish you\", max_len=20)"
      ],
      "metadata": {
        "colab": {
          "base_uri": "https://localhost:8080/",
          "height": 35
        },
        "id": "fA_sX51I3HiX",
        "outputId": "8e3d8b2c-b0b7-436c-e292-97794bc33205"
      },
      "execution_count": 81,
      "outputs": [
        {
          "output_type": "execute_result",
          "data": {
            "text/plain": [
              "'<start> i wish you d never be mine <end> '"
            ],
            "application/vnd.google.colaboratory.intrinsic+json": {
              "type": "string"
            }
          },
          "metadata": {},
          "execution_count": 81
        }
      ]
    },
    {
      "cell_type": "code",
      "source": [
        "generate_text(model, tokenizer, init_sentence=\"<start> As time\", max_len=20)"
      ],
      "metadata": {
        "colab": {
          "base_uri": "https://localhost:8080/",
          "height": 35
        },
        "id": "bv-vVFHx4gJf",
        "outputId": "d3d98e0a-bf78-4582-b245-e9ebc63c53d1"
      },
      "execution_count": 82,
      "outputs": [
        {
          "output_type": "execute_result",
          "data": {
            "text/plain": [
              "'<start> as time will be the <unk> <end> '"
            ],
            "application/vnd.google.colaboratory.intrinsic+json": {
              "type": "string"
            }
          },
          "metadata": {},
          "execution_count": 82
        }
      ]
    },
    {
      "cell_type": "code",
      "source": [
        "generate_text(model, tokenizer, init_sentence=\"<start> life is \", max_len=20)"
      ],
      "metadata": {
        "colab": {
          "base_uri": "https://localhost:8080/",
          "height": 35
        },
        "id": "kO4Kpr154niH",
        "outputId": "59087c99-8695-4f86-8be2-21f6969dd742"
      },
      "execution_count": 83,
      "outputs": [
        {
          "output_type": "execute_result",
          "data": {
            "text/plain": [
              "'<start> life is a roller coaster <end> '"
            ],
            "application/vnd.google.colaboratory.intrinsic+json": {
              "type": "string"
            }
          },
          "metadata": {},
          "execution_count": 83
        }
      ]
    },
    {
      "cell_type": "code",
      "source": [
        "generate_text(model, tokenizer, init_sentence=\"<start> You are \", max_len=20)"
      ],
      "metadata": {
        "colab": {
          "base_uri": "https://localhost:8080/",
          "height": 35
        },
        "id": "ti_4QGsT4qHX",
        "outputId": "93c9c977-59b5-4a9d-e639-e93dfd4208ef"
      },
      "execution_count": 84,
      "outputs": [
        {
          "output_type": "execute_result",
          "data": {
            "text/plain": [
              "'<start> you are the lady in my life doo doo doo <end> '"
            ],
            "application/vnd.google.colaboratory.intrinsic+json": {
              "type": "string"
            }
          },
          "metadata": {},
          "execution_count": 84
        }
      ]
    },
    {
      "cell_type": "code",
      "source": [
        "generate_text(model, tokenizer, init_sentence=\"<start> Time to \", max_len=20)"
      ],
      "metadata": {
        "colab": {
          "base_uri": "https://localhost:8080/",
          "height": 35
        },
        "id": "DWoTMtb84uEz",
        "outputId": "6fd53d34-d719-4460-fff7-fd68f2552c97"
      },
      "execution_count": 85,
      "outputs": [
        {
          "output_type": "execute_result",
          "data": {
            "text/plain": [
              "'<start> time to make you feel like a <unk> <end> '"
            ],
            "application/vnd.google.colaboratory.intrinsic+json": {
              "type": "string"
            }
          },
          "metadata": {},
          "execution_count": 85
        }
      ]
    },
    {
      "cell_type": "code",
      "source": [
        "generate_text(model, tokenizer, init_sentence=\"<start> This is the way\", max_len=20)"
      ],
      "metadata": {
        "colab": {
          "base_uri": "https://localhost:8080/",
          "height": 35
        },
        "id": "0qzhbawrAvqG",
        "outputId": "cc82815c-3354-4d2e-abff-24904fd30d7e"
      },
      "execution_count": 86,
      "outputs": [
        {
          "output_type": "execute_result",
          "data": {
            "text/plain": [
              "'<start> this is the way you do <end> '"
            ],
            "application/vnd.google.colaboratory.intrinsic+json": {
              "type": "string"
            }
          },
          "metadata": {},
          "execution_count": 86
        }
      ]
    },
    {
      "cell_type": "code",
      "source": [
        "generate_text(model, tokenizer, init_sentence=\"<start> When I was\", max_len=20)"
      ],
      "metadata": {
        "colab": {
          "base_uri": "https://localhost:8080/",
          "height": 35
        },
        "id": "pOArR7zAAzuM",
        "outputId": "9304d890-9053-435d-cc04-636d38bb4be2"
      },
      "execution_count": 87,
      "outputs": [
        {
          "output_type": "execute_result",
          "data": {
            "text/plain": [
              "'<start> when i was your man <end> '"
            ],
            "application/vnd.google.colaboratory.intrinsic+json": {
              "type": "string"
            }
          },
          "metadata": {},
          "execution_count": 87
        }
      ]
    },
    {
      "cell_type": "markdown",
      "source": [
        "## 결과\n",
        "\n",
        "- 배치사이즈 512으로 고정하고 (embedding_size, hidden_size) 를 (256,512), (1024,2048) (2048, 3072), (512, 3072) 로 바꿔서 학습을 진행했다. \b여전히 학습에는 큰 영향이 없는 것 같다. "
      ],
      "metadata": {
        "id": "JE9PUnLnLEag"
      }
    },
    {
      "cell_type": "code",
      "source": [
        "import glob\n",
        "import os\n",
        "\n",
        "txt_file_path = '/content/drive/MyDrive/0.AIFFEL/LMS node/Exp 06/lyricist/data/lyrics/*'\n",
        "\n",
        "txt_list = glob.glob(txt_file_path)\n",
        "\n",
        "raw_corpus = []\n",
        "\n",
        "# 여러개의 txt 파일을 모두 읽어서 raw_corpus 에 담습니다.\n",
        "for txt_file in txt_list:\n",
        "    with open(txt_file, \"r\") as f:\n",
        "        raw = f.read().splitlines()\n",
        "        raw_corpus.extend(raw)\n",
        "\n",
        "print(\"데이터 크기:\", len(raw_corpus))\n",
        "print(\"Examples:\\n\", raw_corpus[:3])"
      ],
      "metadata": {
        "colab": {
          "base_uri": "https://localhost:8080/"
        },
        "id": "V2mq52M7LDwd",
        "outputId": "ab4c7db2-56e6-4ab6-e477-4d24f3c0c5bd"
      },
      "execution_count": 146,
      "outputs": [
        {
          "output_type": "stream",
          "name": "stdout",
          "text": [
            "데이터 크기: 187088\n",
            "Examples:\n",
            " [\"Busted flat in Baton Rouge, waitin' for a train\", \"And I's feelin' near as faded as my jeans\", 'Bobby thumbed a diesel down, just before it rained']\n"
          ]
        }
      ]
    },
    {
      "cell_type": "code",
      "source": [
        "# 토큰의 개수가 15개를 넘는 것은 제외 \n",
        "\n",
        "corpus_15 = []\n",
        "\n",
        "for sentence in raw_corpus:\n",
        "    # 우리가 원하지 않는 문장은 건너뜁니다\n",
        "    if len(sentence) == 0: continue\n",
        "    if sentence[-1] == \":\": continue\n",
        "    \n",
        "    # 정제를 하고 담아주세요\n",
        "    preprocessed_sentence = preprocess_sentence(sentence)\n",
        "    if len(preprocessed_sentence.split()) > 15: continue\n",
        "    corpus_15.append(preprocessed_sentence)\n",
        "        \n",
        "# 정제된 결과를 10개만 확인해보죠\n",
        "corpus_15[:10]"
      ],
      "metadata": {
        "colab": {
          "base_uri": "https://localhost:8080/"
        },
        "id": "i1awQUp_Bbo6",
        "outputId": "95d5a88c-7e1c-4e40-c403-5c61361553ca"
      },
      "execution_count": 147,
      "outputs": [
        {
          "output_type": "execute_result",
          "data": {
            "text/plain": [
              "['<start> busted flat in baton rouge , waitin for a train <end>',\n",
              " '<start> and i s feelin near as faded as my jeans <end>',\n",
              " '<start> bobby thumbed a diesel down , just before it rained <end>',\n",
              " '<start> i was playin soft while bobby sang the blues , yeah <end>',\n",
              " '<start> windshield wipers slappin time , i was holdin bobby s hand in mine <end>',\n",
              " '<start> you know , feelin good was good enough for me <end>',\n",
              " '<start> there bobby shared the secrets of my soul <end>',\n",
              " '<start> through all kinds of weather , through everything we done <end>',\n",
              " '<start> he s lookin for that home , and i hope he finds it <end>',\n",
              " '<start> nothin , that s all that bobby left me , yeah <end>']"
            ]
          },
          "metadata": {},
          "execution_count": 147
        }
      ]
    },
    {
      "cell_type": "code",
      "source": [
        "tensor, tokenizer = tokenize(corpus_15)"
      ],
      "metadata": {
        "colab": {
          "base_uri": "https://localhost:8080/"
        },
        "id": "4NRj4WdhMU9A",
        "outputId": "c81f4601-5d31-4619-9861-46a589d639c1"
      },
      "execution_count": 148,
      "outputs": [
        {
          "output_type": "stream",
          "name": "stdout",
          "text": [
            "[[   2 4009 1674 ...    0    0    0]\n",
            " [   2    8    4 ...    0    0    0]\n",
            " [   2  871 6826 ...    0    0    0]\n",
            " ...\n",
            " [   2   22   22 ...    3    0    0]\n",
            " [   2   22 4254 ...    0    0    0]\n",
            " [   2    3    0 ...    0    0    0]] <keras_preprocessing.text.Tokenizer object at 0x7f21020efad0>\n"
          ]
        }
      ]
    },
    {
      "cell_type": "code",
      "source": [
        "tensor.shape"
      ],
      "metadata": {
        "colab": {
          "base_uri": "https://localhost:8080/"
        },
        "id": "nhGBqK0dMkUL",
        "outputId": "eb9fdfa9-23e2-4782-c10f-9c70b9350fe4"
      },
      "execution_count": 131,
      "outputs": [
        {
          "output_type": "execute_result",
          "data": {
            "text/plain": [
              "(156013, 15)"
            ]
          },
          "metadata": {},
          "execution_count": 131
        }
      ]
    },
    {
      "cell_type": "code",
      "source": [
        "# tensor에서 마지막 토큰을 잘라내서 소스 문장을 생성합니다\n",
        "# 마지막 토큰은 <end>가 아니라 <pad>일 가능성이 높습니다.\n",
        "src_input = tensor[:, :-1]  \n",
        "# tensor에서 <start>를 잘라내서 타겟 문장을 생성합니다.\n",
        "tgt_input = tensor[:, 1:]    \n",
        "\n",
        "print(src_input[0])\n",
        "print(tgt_input[0])"
      ],
      "metadata": {
        "colab": {
          "base_uri": "https://localhost:8080/"
        },
        "id": "kpDkqURQMomG",
        "outputId": "e01f30dc-18ee-4e74-acac-209848ecfdb5"
      },
      "execution_count": 149,
      "outputs": [
        {
          "output_type": "stream",
          "name": "stdout",
          "text": [
            "[   2 4009 1674   14    1 4486    5 1295   28    9  636    3    0    0]\n",
            "[4009 1674   14    1 4486    5 1295   28    9  636    3    0    0    0]\n"
          ]
        }
      ]
    },
    {
      "cell_type": "code",
      "source": [
        "BUFFER_SIZE = len(src_input)\n",
        "BATCH_SIZE = 256\n",
        "steps_per_epoch = len(src_input) // BATCH_SIZE\n",
        "\n",
        " # tokenizer가 구축한 단어사전 내 12000개와, 여기 포함되지 않은 0:<pad>를 포함하여 12001개\n",
        "VOCAB_SIZE = tokenizer.num_words + 1   \n",
        "\n",
        "# 준비한 데이터 소스로부터 데이터셋을 만듭니다\n",
        "# 데이터셋에 대해서는 아래 문서를 참고하세요\n",
        "# 자세히 알아둘수록 도움이 많이 되는 중요한 문서입니다\n",
        "# https://www.tensorflow.org/api_docs/python/tf/data/Dataset\n",
        "dataset = tf.data.Dataset.from_tensor_slices((src_input, tgt_input))\n",
        "dataset = dataset.shuffle(BUFFER_SIZE)\n",
        "dataset = dataset.batch(BATCH_SIZE, drop_remainder=True)\n",
        "dataset"
      ],
      "metadata": {
        "colab": {
          "base_uri": "https://localhost:8080/"
        },
        "id": "pjCEG4r5NCcY",
        "outputId": "82572fcb-f188-4ff0-8173-d69da04976fa"
      },
      "execution_count": 133,
      "outputs": [
        {
          "output_type": "execute_result",
          "data": {
            "text/plain": [
              "<BatchDataset element_spec=(TensorSpec(shape=(256, 14), dtype=tf.int32, name=None), TensorSpec(shape=(256, 14), dtype=tf.int32, name=None))>"
            ]
          },
          "metadata": {},
          "execution_count": 133
        }
      ]
    },
    {
      "cell_type": "code",
      "source": [
        "from sklearn.model_selection import train_test_split\n",
        "\n",
        "enc_train, enc_val, dec_train, dec_val = train_test_split(src_input, \n",
        "                                                          tgt_input,\n",
        "                                                          test_size=0.2,\n",
        "                                                          shuffle=True, \n",
        "                                                          random_state=9082)"
      ],
      "metadata": {
        "id": "JtdYCQtqNH3A"
      },
      "execution_count": 150,
      "outputs": []
    },
    {
      "cell_type": "code",
      "source": [
        "print('Source Train: ', enc_train.shape)\n",
        "print('Target Train: ', dec_val.shape)"
      ],
      "metadata": {
        "colab": {
          "base_uri": "https://localhost:8080/"
        },
        "id": "2zdvaHUXNKXv",
        "outputId": "15b7fc1d-83cc-4e41-c7b4-0937dcea2626"
      },
      "execution_count": 151,
      "outputs": [
        {
          "output_type": "stream",
          "name": "stdout",
          "text": [
            "Source Train:  (124810, 14)\n",
            "Target Train:  (31203, 14)\n"
          ]
        }
      ]
    },
    {
      "cell_type": "code",
      "source": [
        "embedding_size = 1024\n",
        "hidden_size = 2048\n",
        "model = TextGenerator(tokenizer.num_words + 1, embedding_size , hidden_size)"
      ],
      "metadata": {
        "id": "7GiB3DlqNL4w"
      },
      "execution_count": 152,
      "outputs": []
    },
    {
      "cell_type": "code",
      "source": [
        "optimizer = tf.keras.optimizers.Adam()\n",
        "loss = tf.keras.losses.SparseCategoricalCrossentropy(\n",
        "    from_logits=True, reduction='none')\n",
        "\n",
        "\n",
        "model.compile(loss=loss, optimizer=optimizer)\n"
      ],
      "metadata": {
        "id": "B7avic81NP5v"
      },
      "execution_count": 153,
      "outputs": []
    },
    {
      "cell_type": "code",
      "source": [
        "es = EarlyStopping(monitor='val_loss', patience=2, verbose=1)\n",
        "model.fit(dataset, epochs=39, validation_data = (enc_val,dec_val),callbacks=[es])"
      ],
      "metadata": {
        "colab": {
          "base_uri": "https://localhost:8080/",
          "height": 746
        },
        "id": "QsWG-yHCNURo",
        "outputId": "1ef61307-769d-4e2f-dd0f-6c736ee10fa6"
      },
      "execution_count": 154,
      "outputs": [
        {
          "output_type": "stream",
          "name": "stdout",
          "text": [
            "Epoch 1/39\n",
            "609/609 [==============================] - 184s 277ms/step - loss: 3.1413 - val_loss: 2.7101\n",
            "Epoch 2/39\n",
            "609/609 [==============================] - 168s 276ms/step - loss: 2.5800 - val_loss: 2.2780\n",
            "Epoch 3/39\n",
            "609/609 [==============================] - 168s 276ms/step - loss: 2.2110 - val_loss: 1.8965\n",
            "Epoch 4/39\n",
            "609/609 [==============================] - 168s 276ms/step - loss: 1.8676 - val_loss: 1.5670\n",
            "Epoch 5/39\n",
            "609/609 [==============================] - 168s 276ms/step - loss: 1.5697 - val_loss: 1.3147\n",
            "Epoch 6/39\n",
            "609/609 [==============================] - 168s 276ms/step - loss: 1.3368 - val_loss: 1.1430\n",
            "Epoch 7/39\n",
            "609/609 [==============================] - 168s 276ms/step - loss: 1.1708 - val_loss: 1.0329\n",
            "Epoch 8/39\n",
            "609/609 [==============================] - 168s 276ms/step - loss: 1.0677 - val_loss: 0.9727\n",
            "Epoch 9/39\n",
            "609/609 [==============================] - 168s 276ms/step - loss: 1.0130 - val_loss: 0.9426\n",
            "Epoch 10/39\n",
            "609/609 [==============================] - 168s 276ms/step - loss: 0.9866 - val_loss: 0.9273\n",
            "Epoch 11/39\n",
            "609/609 [==============================] - 168s 276ms/step - loss: 0.9715 - val_loss: 0.9182\n",
            "Epoch 12/39\n",
            "367/609 [=================>............] - ETA: 59s - loss: 0.9512"
          ]
        },
        {
          "output_type": "error",
          "ename": "KeyboardInterrupt",
          "evalue": "ignored",
          "traceback": [
            "\u001b[0;31m---------------------------------------------------------------------------\u001b[0m",
            "\u001b[0;31mKeyboardInterrupt\u001b[0m                         Traceback (most recent call last)",
            "\u001b[0;32m<ipython-input-154-fb501c1cfe12>\u001b[0m in \u001b[0;36m<module>\u001b[0;34m()\u001b[0m\n\u001b[1;32m      1\u001b[0m \u001b[0mes\u001b[0m \u001b[0;34m=\u001b[0m \u001b[0mEarlyStopping\u001b[0m\u001b[0;34m(\u001b[0m\u001b[0mmonitor\u001b[0m\u001b[0;34m=\u001b[0m\u001b[0;34m'val_loss'\u001b[0m\u001b[0;34m,\u001b[0m \u001b[0mpatience\u001b[0m\u001b[0;34m=\u001b[0m\u001b[0;36m2\u001b[0m\u001b[0;34m,\u001b[0m \u001b[0mverbose\u001b[0m\u001b[0;34m=\u001b[0m\u001b[0;36m1\u001b[0m\u001b[0;34m)\u001b[0m\u001b[0;34m\u001b[0m\u001b[0;34m\u001b[0m\u001b[0m\n\u001b[0;32m----> 2\u001b[0;31m \u001b[0mmodel\u001b[0m\u001b[0;34m.\u001b[0m\u001b[0mfit\u001b[0m\u001b[0;34m(\u001b[0m\u001b[0mdataset\u001b[0m\u001b[0;34m,\u001b[0m \u001b[0mepochs\u001b[0m\u001b[0;34m=\u001b[0m\u001b[0;36m39\u001b[0m\u001b[0;34m,\u001b[0m \u001b[0mvalidation_data\u001b[0m \u001b[0;34m=\u001b[0m \u001b[0;34m(\u001b[0m\u001b[0menc_val\u001b[0m\u001b[0;34m,\u001b[0m\u001b[0mdec_val\u001b[0m\u001b[0;34m)\u001b[0m\u001b[0;34m,\u001b[0m\u001b[0mcallbacks\u001b[0m\u001b[0;34m=\u001b[0m\u001b[0;34m[\u001b[0m\u001b[0mes\u001b[0m\u001b[0;34m]\u001b[0m\u001b[0;34m)\u001b[0m\u001b[0;34m\u001b[0m\u001b[0;34m\u001b[0m\u001b[0m\n\u001b[0m",
            "\u001b[0;32m/usr/local/lib/python3.7/dist-packages/keras/utils/traceback_utils.py\u001b[0m in \u001b[0;36merror_handler\u001b[0;34m(*args, **kwargs)\u001b[0m\n\u001b[1;32m     62\u001b[0m     \u001b[0mfiltered_tb\u001b[0m \u001b[0;34m=\u001b[0m \u001b[0;32mNone\u001b[0m\u001b[0;34m\u001b[0m\u001b[0;34m\u001b[0m\u001b[0m\n\u001b[1;32m     63\u001b[0m     \u001b[0;32mtry\u001b[0m\u001b[0;34m:\u001b[0m\u001b[0;34m\u001b[0m\u001b[0;34m\u001b[0m\u001b[0m\n\u001b[0;32m---> 64\u001b[0;31m       \u001b[0;32mreturn\u001b[0m \u001b[0mfn\u001b[0m\u001b[0;34m(\u001b[0m\u001b[0;34m*\u001b[0m\u001b[0margs\u001b[0m\u001b[0;34m,\u001b[0m \u001b[0;34m**\u001b[0m\u001b[0mkwargs\u001b[0m\u001b[0;34m)\u001b[0m\u001b[0;34m\u001b[0m\u001b[0;34m\u001b[0m\u001b[0m\n\u001b[0m\u001b[1;32m     65\u001b[0m     \u001b[0;32mexcept\u001b[0m \u001b[0mException\u001b[0m \u001b[0;32mas\u001b[0m \u001b[0me\u001b[0m\u001b[0;34m:\u001b[0m  \u001b[0;31m# pylint: disable=broad-except\u001b[0m\u001b[0;34m\u001b[0m\u001b[0;34m\u001b[0m\u001b[0m\n\u001b[1;32m     66\u001b[0m       \u001b[0mfiltered_tb\u001b[0m \u001b[0;34m=\u001b[0m \u001b[0m_process_traceback_frames\u001b[0m\u001b[0;34m(\u001b[0m\u001b[0me\u001b[0m\u001b[0;34m.\u001b[0m\u001b[0m__traceback__\u001b[0m\u001b[0;34m)\u001b[0m\u001b[0;34m\u001b[0m\u001b[0;34m\u001b[0m\u001b[0m\n",
            "\u001b[0;32m/usr/local/lib/python3.7/dist-packages/keras/engine/training.py\u001b[0m in \u001b[0;36mfit\u001b[0;34m(self, x, y, batch_size, epochs, verbose, callbacks, validation_split, validation_data, shuffle, class_weight, sample_weight, initial_epoch, steps_per_epoch, validation_steps, validation_batch_size, validation_freq, max_queue_size, workers, use_multiprocessing)\u001b[0m\n\u001b[1;32m   1387\u001b[0m               \u001b[0mlogs\u001b[0m \u001b[0;34m=\u001b[0m \u001b[0mtmp_logs\u001b[0m  \u001b[0;31m# No error, now safe to assign to logs.\u001b[0m\u001b[0;34m\u001b[0m\u001b[0;34m\u001b[0m\u001b[0m\n\u001b[1;32m   1388\u001b[0m               \u001b[0mend_step\u001b[0m \u001b[0;34m=\u001b[0m \u001b[0mstep\u001b[0m \u001b[0;34m+\u001b[0m \u001b[0mdata_handler\u001b[0m\u001b[0;34m.\u001b[0m\u001b[0mstep_increment\u001b[0m\u001b[0;34m\u001b[0m\u001b[0;34m\u001b[0m\u001b[0m\n\u001b[0;32m-> 1389\u001b[0;31m               \u001b[0mcallbacks\u001b[0m\u001b[0;34m.\u001b[0m\u001b[0mon_train_batch_end\u001b[0m\u001b[0;34m(\u001b[0m\u001b[0mend_step\u001b[0m\u001b[0;34m,\u001b[0m \u001b[0mlogs\u001b[0m\u001b[0;34m)\u001b[0m\u001b[0;34m\u001b[0m\u001b[0;34m\u001b[0m\u001b[0m\n\u001b[0m\u001b[1;32m   1390\u001b[0m               \u001b[0;32mif\u001b[0m \u001b[0mself\u001b[0m\u001b[0;34m.\u001b[0m\u001b[0mstop_training\u001b[0m\u001b[0;34m:\u001b[0m\u001b[0;34m\u001b[0m\u001b[0;34m\u001b[0m\u001b[0m\n\u001b[1;32m   1391\u001b[0m                 \u001b[0;32mbreak\u001b[0m\u001b[0;34m\u001b[0m\u001b[0;34m\u001b[0m\u001b[0m\n",
            "\u001b[0;32m/usr/local/lib/python3.7/dist-packages/keras/callbacks.py\u001b[0m in \u001b[0;36mon_train_batch_end\u001b[0;34m(self, batch, logs)\u001b[0m\n\u001b[1;32m    436\u001b[0m     \"\"\"\n\u001b[1;32m    437\u001b[0m     \u001b[0;32mif\u001b[0m \u001b[0mself\u001b[0m\u001b[0;34m.\u001b[0m\u001b[0m_should_call_train_batch_hooks\u001b[0m\u001b[0;34m:\u001b[0m\u001b[0;34m\u001b[0m\u001b[0;34m\u001b[0m\u001b[0m\n\u001b[0;32m--> 438\u001b[0;31m       \u001b[0mself\u001b[0m\u001b[0;34m.\u001b[0m\u001b[0m_call_batch_hook\u001b[0m\u001b[0;34m(\u001b[0m\u001b[0mModeKeys\u001b[0m\u001b[0;34m.\u001b[0m\u001b[0mTRAIN\u001b[0m\u001b[0;34m,\u001b[0m \u001b[0;34m'end'\u001b[0m\u001b[0;34m,\u001b[0m \u001b[0mbatch\u001b[0m\u001b[0;34m,\u001b[0m \u001b[0mlogs\u001b[0m\u001b[0;34m=\u001b[0m\u001b[0mlogs\u001b[0m\u001b[0;34m)\u001b[0m\u001b[0;34m\u001b[0m\u001b[0;34m\u001b[0m\u001b[0m\n\u001b[0m\u001b[1;32m    439\u001b[0m \u001b[0;34m\u001b[0m\u001b[0m\n\u001b[1;32m    440\u001b[0m   \u001b[0;32mdef\u001b[0m \u001b[0mon_test_batch_begin\u001b[0m\u001b[0;34m(\u001b[0m\u001b[0mself\u001b[0m\u001b[0;34m,\u001b[0m \u001b[0mbatch\u001b[0m\u001b[0;34m,\u001b[0m \u001b[0mlogs\u001b[0m\u001b[0;34m=\u001b[0m\u001b[0;32mNone\u001b[0m\u001b[0;34m)\u001b[0m\u001b[0;34m:\u001b[0m\u001b[0;34m\u001b[0m\u001b[0;34m\u001b[0m\u001b[0m\n",
            "\u001b[0;32m/usr/local/lib/python3.7/dist-packages/keras/callbacks.py\u001b[0m in \u001b[0;36m_call_batch_hook\u001b[0;34m(self, mode, hook, batch, logs)\u001b[0m\n\u001b[1;32m    295\u001b[0m       \u001b[0mself\u001b[0m\u001b[0;34m.\u001b[0m\u001b[0m_call_batch_begin_hook\u001b[0m\u001b[0;34m(\u001b[0m\u001b[0mmode\u001b[0m\u001b[0;34m,\u001b[0m \u001b[0mbatch\u001b[0m\u001b[0;34m,\u001b[0m \u001b[0mlogs\u001b[0m\u001b[0;34m)\u001b[0m\u001b[0;34m\u001b[0m\u001b[0;34m\u001b[0m\u001b[0m\n\u001b[1;32m    296\u001b[0m     \u001b[0;32melif\u001b[0m \u001b[0mhook\u001b[0m \u001b[0;34m==\u001b[0m \u001b[0;34m'end'\u001b[0m\u001b[0;34m:\u001b[0m\u001b[0;34m\u001b[0m\u001b[0;34m\u001b[0m\u001b[0m\n\u001b[0;32m--> 297\u001b[0;31m       \u001b[0mself\u001b[0m\u001b[0;34m.\u001b[0m\u001b[0m_call_batch_end_hook\u001b[0m\u001b[0;34m(\u001b[0m\u001b[0mmode\u001b[0m\u001b[0;34m,\u001b[0m \u001b[0mbatch\u001b[0m\u001b[0;34m,\u001b[0m \u001b[0mlogs\u001b[0m\u001b[0;34m)\u001b[0m\u001b[0;34m\u001b[0m\u001b[0;34m\u001b[0m\u001b[0m\n\u001b[0m\u001b[1;32m    298\u001b[0m     \u001b[0;32melse\u001b[0m\u001b[0;34m:\u001b[0m\u001b[0;34m\u001b[0m\u001b[0;34m\u001b[0m\u001b[0m\n\u001b[1;32m    299\u001b[0m       raise ValueError(\n",
            "\u001b[0;32m/usr/local/lib/python3.7/dist-packages/keras/callbacks.py\u001b[0m in \u001b[0;36m_call_batch_end_hook\u001b[0;34m(self, mode, batch, logs)\u001b[0m\n\u001b[1;32m    316\u001b[0m       \u001b[0mself\u001b[0m\u001b[0;34m.\u001b[0m\u001b[0m_batch_times\u001b[0m\u001b[0;34m.\u001b[0m\u001b[0mappend\u001b[0m\u001b[0;34m(\u001b[0m\u001b[0mbatch_time\u001b[0m\u001b[0;34m)\u001b[0m\u001b[0;34m\u001b[0m\u001b[0;34m\u001b[0m\u001b[0m\n\u001b[1;32m    317\u001b[0m \u001b[0;34m\u001b[0m\u001b[0m\n\u001b[0;32m--> 318\u001b[0;31m     \u001b[0mself\u001b[0m\u001b[0;34m.\u001b[0m\u001b[0m_call_batch_hook_helper\u001b[0m\u001b[0;34m(\u001b[0m\u001b[0mhook_name\u001b[0m\u001b[0;34m,\u001b[0m \u001b[0mbatch\u001b[0m\u001b[0;34m,\u001b[0m \u001b[0mlogs\u001b[0m\u001b[0;34m)\u001b[0m\u001b[0;34m\u001b[0m\u001b[0;34m\u001b[0m\u001b[0m\n\u001b[0m\u001b[1;32m    319\u001b[0m \u001b[0;34m\u001b[0m\u001b[0m\n\u001b[1;32m    320\u001b[0m     \u001b[0;32mif\u001b[0m \u001b[0mlen\u001b[0m\u001b[0;34m(\u001b[0m\u001b[0mself\u001b[0m\u001b[0;34m.\u001b[0m\u001b[0m_batch_times\u001b[0m\u001b[0;34m)\u001b[0m \u001b[0;34m>=\u001b[0m \u001b[0mself\u001b[0m\u001b[0;34m.\u001b[0m\u001b[0m_num_batches_for_timing_check\u001b[0m\u001b[0;34m:\u001b[0m\u001b[0;34m\u001b[0m\u001b[0;34m\u001b[0m\u001b[0m\n",
            "\u001b[0;32m/usr/local/lib/python3.7/dist-packages/keras/callbacks.py\u001b[0m in \u001b[0;36m_call_batch_hook_helper\u001b[0;34m(self, hook_name, batch, logs)\u001b[0m\n\u001b[1;32m    354\u001b[0m     \u001b[0;32mfor\u001b[0m \u001b[0mcallback\u001b[0m \u001b[0;32min\u001b[0m \u001b[0mself\u001b[0m\u001b[0;34m.\u001b[0m\u001b[0mcallbacks\u001b[0m\u001b[0;34m:\u001b[0m\u001b[0;34m\u001b[0m\u001b[0;34m\u001b[0m\u001b[0m\n\u001b[1;32m    355\u001b[0m       \u001b[0mhook\u001b[0m \u001b[0;34m=\u001b[0m \u001b[0mgetattr\u001b[0m\u001b[0;34m(\u001b[0m\u001b[0mcallback\u001b[0m\u001b[0;34m,\u001b[0m \u001b[0mhook_name\u001b[0m\u001b[0;34m)\u001b[0m\u001b[0;34m\u001b[0m\u001b[0;34m\u001b[0m\u001b[0m\n\u001b[0;32m--> 356\u001b[0;31m       \u001b[0mhook\u001b[0m\u001b[0;34m(\u001b[0m\u001b[0mbatch\u001b[0m\u001b[0;34m,\u001b[0m \u001b[0mlogs\u001b[0m\u001b[0;34m)\u001b[0m\u001b[0;34m\u001b[0m\u001b[0;34m\u001b[0m\u001b[0m\n\u001b[0m\u001b[1;32m    357\u001b[0m \u001b[0;34m\u001b[0m\u001b[0m\n\u001b[1;32m    358\u001b[0m     \u001b[0;32mif\u001b[0m \u001b[0mself\u001b[0m\u001b[0;34m.\u001b[0m\u001b[0m_check_timing\u001b[0m\u001b[0;34m:\u001b[0m\u001b[0;34m\u001b[0m\u001b[0;34m\u001b[0m\u001b[0m\n",
            "\u001b[0;32m/usr/local/lib/python3.7/dist-packages/keras/callbacks.py\u001b[0m in \u001b[0;36mon_train_batch_end\u001b[0;34m(self, batch, logs)\u001b[0m\n\u001b[1;32m   1032\u001b[0m \u001b[0;34m\u001b[0m\u001b[0m\n\u001b[1;32m   1033\u001b[0m   \u001b[0;32mdef\u001b[0m \u001b[0mon_train_batch_end\u001b[0m\u001b[0;34m(\u001b[0m\u001b[0mself\u001b[0m\u001b[0;34m,\u001b[0m \u001b[0mbatch\u001b[0m\u001b[0;34m,\u001b[0m \u001b[0mlogs\u001b[0m\u001b[0;34m=\u001b[0m\u001b[0;32mNone\u001b[0m\u001b[0;34m)\u001b[0m\u001b[0;34m:\u001b[0m\u001b[0;34m\u001b[0m\u001b[0;34m\u001b[0m\u001b[0m\n\u001b[0;32m-> 1034\u001b[0;31m     \u001b[0mself\u001b[0m\u001b[0;34m.\u001b[0m\u001b[0m_batch_update_progbar\u001b[0m\u001b[0;34m(\u001b[0m\u001b[0mbatch\u001b[0m\u001b[0;34m,\u001b[0m \u001b[0mlogs\u001b[0m\u001b[0;34m)\u001b[0m\u001b[0;34m\u001b[0m\u001b[0;34m\u001b[0m\u001b[0m\n\u001b[0m\u001b[1;32m   1035\u001b[0m \u001b[0;34m\u001b[0m\u001b[0m\n\u001b[1;32m   1036\u001b[0m   \u001b[0;32mdef\u001b[0m \u001b[0mon_test_batch_end\u001b[0m\u001b[0;34m(\u001b[0m\u001b[0mself\u001b[0m\u001b[0;34m,\u001b[0m \u001b[0mbatch\u001b[0m\u001b[0;34m,\u001b[0m \u001b[0mlogs\u001b[0m\u001b[0;34m=\u001b[0m\u001b[0;32mNone\u001b[0m\u001b[0;34m)\u001b[0m\u001b[0;34m:\u001b[0m\u001b[0;34m\u001b[0m\u001b[0;34m\u001b[0m\u001b[0m\n",
            "\u001b[0;32m/usr/local/lib/python3.7/dist-packages/keras/callbacks.py\u001b[0m in \u001b[0;36m_batch_update_progbar\u001b[0;34m(self, batch, logs)\u001b[0m\n\u001b[1;32m   1104\u001b[0m     \u001b[0;32mif\u001b[0m \u001b[0mself\u001b[0m\u001b[0;34m.\u001b[0m\u001b[0mverbose\u001b[0m \u001b[0;34m==\u001b[0m \u001b[0;36m1\u001b[0m\u001b[0;34m:\u001b[0m\u001b[0;34m\u001b[0m\u001b[0;34m\u001b[0m\u001b[0m\n\u001b[1;32m   1105\u001b[0m       \u001b[0;31m# Only block async when verbose = 1.\u001b[0m\u001b[0;34m\u001b[0m\u001b[0;34m\u001b[0m\u001b[0;34m\u001b[0m\u001b[0m\n\u001b[0;32m-> 1106\u001b[0;31m       \u001b[0mlogs\u001b[0m \u001b[0;34m=\u001b[0m \u001b[0mtf_utils\u001b[0m\u001b[0;34m.\u001b[0m\u001b[0msync_to_numpy_or_python_type\u001b[0m\u001b[0;34m(\u001b[0m\u001b[0mlogs\u001b[0m\u001b[0;34m)\u001b[0m\u001b[0;34m\u001b[0m\u001b[0;34m\u001b[0m\u001b[0m\n\u001b[0m\u001b[1;32m   1107\u001b[0m       \u001b[0mself\u001b[0m\u001b[0;34m.\u001b[0m\u001b[0mprogbar\u001b[0m\u001b[0;34m.\u001b[0m\u001b[0mupdate\u001b[0m\u001b[0;34m(\u001b[0m\u001b[0mself\u001b[0m\u001b[0;34m.\u001b[0m\u001b[0mseen\u001b[0m\u001b[0;34m,\u001b[0m \u001b[0mlist\u001b[0m\u001b[0;34m(\u001b[0m\u001b[0mlogs\u001b[0m\u001b[0;34m.\u001b[0m\u001b[0mitems\u001b[0m\u001b[0;34m(\u001b[0m\u001b[0;34m)\u001b[0m\u001b[0;34m)\u001b[0m\u001b[0;34m,\u001b[0m \u001b[0mfinalize\u001b[0m\u001b[0;34m=\u001b[0m\u001b[0;32mFalse\u001b[0m\u001b[0;34m)\u001b[0m\u001b[0;34m\u001b[0m\u001b[0;34m\u001b[0m\u001b[0m\n\u001b[1;32m   1108\u001b[0m \u001b[0;34m\u001b[0m\u001b[0m\n",
            "\u001b[0;32m/usr/local/lib/python3.7/dist-packages/keras/utils/tf_utils.py\u001b[0m in \u001b[0;36msync_to_numpy_or_python_type\u001b[0;34m(tensors)\u001b[0m\n\u001b[1;32m    561\u001b[0m     \u001b[0;32mreturn\u001b[0m \u001b[0mt\u001b[0m\u001b[0;34m.\u001b[0m\u001b[0mitem\u001b[0m\u001b[0;34m(\u001b[0m\u001b[0;34m)\u001b[0m \u001b[0;32mif\u001b[0m \u001b[0mnp\u001b[0m\u001b[0;34m.\u001b[0m\u001b[0mndim\u001b[0m\u001b[0;34m(\u001b[0m\u001b[0mt\u001b[0m\u001b[0;34m)\u001b[0m \u001b[0;34m==\u001b[0m \u001b[0;36m0\u001b[0m \u001b[0;32melse\u001b[0m \u001b[0mt\u001b[0m\u001b[0;34m\u001b[0m\u001b[0;34m\u001b[0m\u001b[0m\n\u001b[1;32m    562\u001b[0m \u001b[0;34m\u001b[0m\u001b[0m\n\u001b[0;32m--> 563\u001b[0;31m   \u001b[0;32mreturn\u001b[0m \u001b[0mtf\u001b[0m\u001b[0;34m.\u001b[0m\u001b[0mnest\u001b[0m\u001b[0;34m.\u001b[0m\u001b[0mmap_structure\u001b[0m\u001b[0;34m(\u001b[0m\u001b[0m_to_single_numpy_or_python_type\u001b[0m\u001b[0;34m,\u001b[0m \u001b[0mtensors\u001b[0m\u001b[0;34m)\u001b[0m\u001b[0;34m\u001b[0m\u001b[0;34m\u001b[0m\u001b[0m\n\u001b[0m\u001b[1;32m    564\u001b[0m \u001b[0;34m\u001b[0m\u001b[0m\n\u001b[1;32m    565\u001b[0m \u001b[0;34m\u001b[0m\u001b[0m\n",
            "\u001b[0;32m/usr/local/lib/python3.7/dist-packages/tensorflow/python/util/nest.py\u001b[0m in \u001b[0;36mmap_structure\u001b[0;34m(func, *structure, **kwargs)\u001b[0m\n\u001b[1;32m    912\u001b[0m \u001b[0;34m\u001b[0m\u001b[0m\n\u001b[1;32m    913\u001b[0m   return pack_sequence_as(\n\u001b[0;32m--> 914\u001b[0;31m       \u001b[0mstructure\u001b[0m\u001b[0;34m[\u001b[0m\u001b[0;36m0\u001b[0m\u001b[0;34m]\u001b[0m\u001b[0;34m,\u001b[0m \u001b[0;34m[\u001b[0m\u001b[0mfunc\u001b[0m\u001b[0;34m(\u001b[0m\u001b[0;34m*\u001b[0m\u001b[0mx\u001b[0m\u001b[0;34m)\u001b[0m \u001b[0;32mfor\u001b[0m \u001b[0mx\u001b[0m \u001b[0;32min\u001b[0m \u001b[0mentries\u001b[0m\u001b[0;34m]\u001b[0m\u001b[0;34m,\u001b[0m\u001b[0;34m\u001b[0m\u001b[0;34m\u001b[0m\u001b[0m\n\u001b[0m\u001b[1;32m    915\u001b[0m       expand_composites=expand_composites)\n\u001b[1;32m    916\u001b[0m \u001b[0;34m\u001b[0m\u001b[0m\n",
            "\u001b[0;32m/usr/local/lib/python3.7/dist-packages/tensorflow/python/util/nest.py\u001b[0m in \u001b[0;36m<listcomp>\u001b[0;34m(.0)\u001b[0m\n\u001b[1;32m    912\u001b[0m \u001b[0;34m\u001b[0m\u001b[0m\n\u001b[1;32m    913\u001b[0m   return pack_sequence_as(\n\u001b[0;32m--> 914\u001b[0;31m       \u001b[0mstructure\u001b[0m\u001b[0;34m[\u001b[0m\u001b[0;36m0\u001b[0m\u001b[0;34m]\u001b[0m\u001b[0;34m,\u001b[0m \u001b[0;34m[\u001b[0m\u001b[0mfunc\u001b[0m\u001b[0;34m(\u001b[0m\u001b[0;34m*\u001b[0m\u001b[0mx\u001b[0m\u001b[0;34m)\u001b[0m \u001b[0;32mfor\u001b[0m \u001b[0mx\u001b[0m \u001b[0;32min\u001b[0m \u001b[0mentries\u001b[0m\u001b[0;34m]\u001b[0m\u001b[0;34m,\u001b[0m\u001b[0;34m\u001b[0m\u001b[0;34m\u001b[0m\u001b[0m\n\u001b[0m\u001b[1;32m    915\u001b[0m       expand_composites=expand_composites)\n\u001b[1;32m    916\u001b[0m \u001b[0;34m\u001b[0m\u001b[0m\n",
            "\u001b[0;32m/usr/local/lib/python3.7/dist-packages/keras/utils/tf_utils.py\u001b[0m in \u001b[0;36m_to_single_numpy_or_python_type\u001b[0;34m(t)\u001b[0m\n\u001b[1;32m    555\u001b[0m     \u001b[0;31m# Don't turn ragged or sparse tensors to NumPy.\u001b[0m\u001b[0;34m\u001b[0m\u001b[0;34m\u001b[0m\u001b[0;34m\u001b[0m\u001b[0m\n\u001b[1;32m    556\u001b[0m     \u001b[0;32mif\u001b[0m \u001b[0misinstance\u001b[0m\u001b[0;34m(\u001b[0m\u001b[0mt\u001b[0m\u001b[0;34m,\u001b[0m \u001b[0mtf\u001b[0m\u001b[0;34m.\u001b[0m\u001b[0mTensor\u001b[0m\u001b[0;34m)\u001b[0m\u001b[0;34m:\u001b[0m\u001b[0;34m\u001b[0m\u001b[0;34m\u001b[0m\u001b[0m\n\u001b[0;32m--> 557\u001b[0;31m       \u001b[0mt\u001b[0m \u001b[0;34m=\u001b[0m \u001b[0mt\u001b[0m\u001b[0;34m.\u001b[0m\u001b[0mnumpy\u001b[0m\u001b[0;34m(\u001b[0m\u001b[0;34m)\u001b[0m\u001b[0;34m\u001b[0m\u001b[0;34m\u001b[0m\u001b[0m\n\u001b[0m\u001b[1;32m    558\u001b[0m     \u001b[0;31m# Strings, ragged and sparse tensors don't have .item(). Return them as-is.\u001b[0m\u001b[0;34m\u001b[0m\u001b[0;34m\u001b[0m\u001b[0;34m\u001b[0m\u001b[0m\n\u001b[1;32m    559\u001b[0m     \u001b[0;32mif\u001b[0m \u001b[0;32mnot\u001b[0m \u001b[0misinstance\u001b[0m\u001b[0;34m(\u001b[0m\u001b[0mt\u001b[0m\u001b[0;34m,\u001b[0m \u001b[0;34m(\u001b[0m\u001b[0mnp\u001b[0m\u001b[0;34m.\u001b[0m\u001b[0mndarray\u001b[0m\u001b[0;34m,\u001b[0m \u001b[0mnp\u001b[0m\u001b[0;34m.\u001b[0m\u001b[0mgeneric\u001b[0m\u001b[0;34m)\u001b[0m\u001b[0;34m)\u001b[0m\u001b[0;34m:\u001b[0m\u001b[0;34m\u001b[0m\u001b[0;34m\u001b[0m\u001b[0m\n",
            "\u001b[0;32m/usr/local/lib/python3.7/dist-packages/tensorflow/python/framework/ops.py\u001b[0m in \u001b[0;36mnumpy\u001b[0;34m(self)\u001b[0m\n\u001b[1;32m   1221\u001b[0m     \"\"\"\n\u001b[1;32m   1222\u001b[0m     \u001b[0;31m# TODO(slebedev): Consider avoiding a copy for non-CPU or remote tensors.\u001b[0m\u001b[0;34m\u001b[0m\u001b[0;34m\u001b[0m\u001b[0;34m\u001b[0m\u001b[0m\n\u001b[0;32m-> 1223\u001b[0;31m     \u001b[0mmaybe_arr\u001b[0m \u001b[0;34m=\u001b[0m \u001b[0mself\u001b[0m\u001b[0;34m.\u001b[0m\u001b[0m_numpy\u001b[0m\u001b[0;34m(\u001b[0m\u001b[0;34m)\u001b[0m  \u001b[0;31m# pylint: disable=protected-access\u001b[0m\u001b[0;34m\u001b[0m\u001b[0;34m\u001b[0m\u001b[0m\n\u001b[0m\u001b[1;32m   1224\u001b[0m     \u001b[0;32mreturn\u001b[0m \u001b[0mmaybe_arr\u001b[0m\u001b[0;34m.\u001b[0m\u001b[0mcopy\u001b[0m\u001b[0;34m(\u001b[0m\u001b[0;34m)\u001b[0m \u001b[0;32mif\u001b[0m \u001b[0misinstance\u001b[0m\u001b[0;34m(\u001b[0m\u001b[0mmaybe_arr\u001b[0m\u001b[0;34m,\u001b[0m \u001b[0mnp\u001b[0m\u001b[0;34m.\u001b[0m\u001b[0mndarray\u001b[0m\u001b[0;34m)\u001b[0m \u001b[0;32melse\u001b[0m \u001b[0mmaybe_arr\u001b[0m\u001b[0;34m\u001b[0m\u001b[0;34m\u001b[0m\u001b[0m\n\u001b[1;32m   1225\u001b[0m \u001b[0;34m\u001b[0m\u001b[0m\n",
            "\u001b[0;32m/usr/local/lib/python3.7/dist-packages/tensorflow/python/framework/ops.py\u001b[0m in \u001b[0;36m_numpy\u001b[0;34m(self)\u001b[0m\n\u001b[1;32m   1187\u001b[0m   \u001b[0;32mdef\u001b[0m \u001b[0m_numpy\u001b[0m\u001b[0;34m(\u001b[0m\u001b[0mself\u001b[0m\u001b[0;34m)\u001b[0m\u001b[0;34m:\u001b[0m\u001b[0;34m\u001b[0m\u001b[0;34m\u001b[0m\u001b[0m\n\u001b[1;32m   1188\u001b[0m     \u001b[0;32mtry\u001b[0m\u001b[0;34m:\u001b[0m\u001b[0;34m\u001b[0m\u001b[0;34m\u001b[0m\u001b[0m\n\u001b[0;32m-> 1189\u001b[0;31m       \u001b[0;32mreturn\u001b[0m \u001b[0mself\u001b[0m\u001b[0;34m.\u001b[0m\u001b[0m_numpy_internal\u001b[0m\u001b[0;34m(\u001b[0m\u001b[0;34m)\u001b[0m\u001b[0;34m\u001b[0m\u001b[0;34m\u001b[0m\u001b[0m\n\u001b[0m\u001b[1;32m   1190\u001b[0m     \u001b[0;32mexcept\u001b[0m \u001b[0mcore\u001b[0m\u001b[0;34m.\u001b[0m\u001b[0m_NotOkStatusException\u001b[0m \u001b[0;32mas\u001b[0m \u001b[0me\u001b[0m\u001b[0;34m:\u001b[0m  \u001b[0;31m# pylint: disable=protected-access\u001b[0m\u001b[0;34m\u001b[0m\u001b[0;34m\u001b[0m\u001b[0m\n\u001b[1;32m   1191\u001b[0m       \u001b[0;32mraise\u001b[0m \u001b[0mcore\u001b[0m\u001b[0;34m.\u001b[0m\u001b[0m_status_to_exception\u001b[0m\u001b[0;34m(\u001b[0m\u001b[0me\u001b[0m\u001b[0;34m)\u001b[0m \u001b[0;32mfrom\u001b[0m \u001b[0;32mNone\u001b[0m  \u001b[0;31m# pylint: disable=protected-access\u001b[0m\u001b[0;34m\u001b[0m\u001b[0;34m\u001b[0m\u001b[0m\n",
            "\u001b[0;31mKeyboardInterrupt\u001b[0m: "
          ]
        }
      ]
    },
    {
      "cell_type": "markdown",
      "source": [
        "* 이미 loss 값이 충분히 낮아서 중단했다. "
      ],
      "metadata": {
        "id": "4HCKcgLVb-zW"
      }
    },
    {
      "cell_type": "code",
      "source": [
        "generate_text(model, tokenizer, init_sentence=\"<start> i love\", max_len=20)\n"
      ],
      "metadata": {
        "colab": {
          "base_uri": "https://localhost:8080/",
          "height": 35
        },
        "id": "Qqid6mb8NooS",
        "outputId": "beb34d1b-803b-4a3c-a61c-fe5214c8b4be"
      },
      "execution_count": 155,
      "outputs": [
        {
          "output_type": "execute_result",
          "data": {
            "text/plain": [
              "'<start> i love you more than he <end> '"
            ],
            "application/vnd.google.colaboratory.intrinsic+json": {
              "type": "string"
            }
          },
          "metadata": {},
          "execution_count": 155
        }
      ]
    },
    {
      "cell_type": "code",
      "source": [
        "generate_text(model, tokenizer, init_sentence=\"<start> i wanna\", max_len=20)\n"
      ],
      "metadata": {
        "colab": {
          "base_uri": "https://localhost:8080/",
          "height": 35
        },
        "id": "7qbDZM9vZZ08",
        "outputId": "7b0871dd-6e7d-46af-e234-74ba1bd61c12"
      },
      "execution_count": 157,
      "outputs": [
        {
          "output_type": "execute_result",
          "data": {
            "text/plain": [
              "'<start> i wanna be with you <end> '"
            ],
            "application/vnd.google.colaboratory.intrinsic+json": {
              "type": "string"
            }
          },
          "metadata": {},
          "execution_count": 157
        }
      ]
    },
    {
      "cell_type": "code",
      "source": [
        "generate_text(model, tokenizer, init_sentence=\"<start> what a\", max_len=20)\n"
      ],
      "metadata": {
        "colab": {
          "base_uri": "https://localhost:8080/",
          "height": 35
        },
        "id": "8kUJzvQOZeXV",
        "outputId": "198bcbf9-4c26-4a0b-b6a9-f536fe4c266c"
      },
      "execution_count": 158,
      "outputs": [
        {
          "output_type": "execute_result",
          "data": {
            "text/plain": [
              "'<start> what a wonderful phrase <end> '"
            ],
            "application/vnd.google.colaboratory.intrinsic+json": {
              "type": "string"
            }
          },
          "metadata": {},
          "execution_count": 158
        }
      ]
    },
    {
      "cell_type": "code",
      "source": [
        "generate_text(model, tokenizer, init_sentence=\"<start> I wish you\", max_len=20)\n"
      ],
      "metadata": {
        "colab": {
          "base_uri": "https://localhost:8080/",
          "height": 35
        },
        "id": "uBQapFW5ZiHK",
        "outputId": "a4b1d11d-bbb3-4815-9d3d-87c1cb613c8c"
      },
      "execution_count": 160,
      "outputs": [
        {
          "output_type": "execute_result",
          "data": {
            "text/plain": [
              "'<start> i wish you d do it again <end> '"
            ],
            "application/vnd.google.colaboratory.intrinsic+json": {
              "type": "string"
            }
          },
          "metadata": {},
          "execution_count": 160
        }
      ]
    },
    {
      "cell_type": "code",
      "source": [
        "generate_text(model, tokenizer, init_sentence=\"<start> As time\", max_len=20)\n"
      ],
      "metadata": {
        "colab": {
          "base_uri": "https://localhost:8080/",
          "height": 35
        },
        "id": "L1KypkpnZ-eV",
        "outputId": "e2688ec9-d534-4e24-f953-dfe5840324db"
      },
      "execution_count": 161,
      "outputs": [
        {
          "output_type": "execute_result",
          "data": {
            "text/plain": [
              "'<start> as time cannot decay <end> '"
            ],
            "application/vnd.google.colaboratory.intrinsic+json": {
              "type": "string"
            }
          },
          "metadata": {},
          "execution_count": 161
        }
      ]
    },
    {
      "cell_type": "code",
      "source": [
        "\n",
        "generate_text(model, tokenizer, init_sentence=\"<start> Life is\", max_len=20)\n"
      ],
      "metadata": {
        "colab": {
          "base_uri": "https://localhost:8080/",
          "height": 35
        },
        "id": "76Fbm6lEaO4E",
        "outputId": "d32e17fc-67a1-418c-84b1-c27124d46759"
      },
      "execution_count": 162,
      "outputs": [
        {
          "output_type": "execute_result",
          "data": {
            "text/plain": [
              "'<start> life is a beach and these hoes trying to lay out <end> '"
            ],
            "application/vnd.google.colaboratory.intrinsic+json": {
              "type": "string"
            }
          },
          "metadata": {},
          "execution_count": 162
        }
      ]
    },
    {
      "cell_type": "code",
      "source": [
        "generate_text(model, tokenizer, init_sentence=\"<start> You are\", max_len=20)\n"
      ],
      "metadata": {
        "colab": {
          "base_uri": "https://localhost:8080/",
          "height": 35
        },
        "id": "xM5OnElIaRz2",
        "outputId": "b931efa4-89d1-4953-ce3b-a7132d8ce86d"
      },
      "execution_count": 163,
      "outputs": [
        {
          "output_type": "execute_result",
          "data": {
            "text/plain": [
              "'<start> you are the lady in my life let me touch you girl <end> '"
            ],
            "application/vnd.google.colaboratory.intrinsic+json": {
              "type": "string"
            }
          },
          "metadata": {},
          "execution_count": 163
        }
      ]
    },
    {
      "cell_type": "code",
      "source": [
        "generate_text(model, tokenizer, init_sentence=\"<start> Time to\", max_len=20)\n"
      ],
      "metadata": {
        "colab": {
          "base_uri": "https://localhost:8080/",
          "height": 35
        },
        "id": "yL8L4skYaVNo",
        "outputId": "3fc2b0f8-379e-4843-9563-50951e7fae0c"
      },
      "execution_count": 164,
      "outputs": [
        {
          "output_type": "execute_result",
          "data": {
            "text/plain": [
              "'<start> time to giddy up <end> '"
            ],
            "application/vnd.google.colaboratory.intrinsic+json": {
              "type": "string"
            }
          },
          "metadata": {},
          "execution_count": 164
        }
      ]
    },
    {
      "cell_type": "code",
      "source": [
        "generate_text(model, tokenizer, init_sentence=\"<start> This is the way\", max_len=20)\n"
      ],
      "metadata": {
        "colab": {
          "base_uri": "https://localhost:8080/",
          "height": 35
        },
        "id": "eBoRcwuLaYT-",
        "outputId": "07a76b66-d56a-43dc-c4d9-a41036b25de4"
      },
      "execution_count": 165,
      "outputs": [
        {
          "output_type": "execute_result",
          "data": {
            "text/plain": [
              "'<start> this is the way you do it <end> '"
            ],
            "application/vnd.google.colaboratory.intrinsic+json": {
              "type": "string"
            }
          },
          "metadata": {},
          "execution_count": 165
        }
      ]
    },
    {
      "cell_type": "code",
      "source": [
        "generate_text(model, tokenizer, init_sentence=\"<start> When I was\", max_len=20)"
      ],
      "metadata": {
        "colab": {
          "base_uri": "https://localhost:8080/",
          "height": 35
        },
        "id": "ZTLNYKapabEs",
        "outputId": "84cd709b-8290-4060-bbb1-3fe7bab18c06"
      },
      "execution_count": 166,
      "outputs": [
        {
          "output_type": "execute_result",
          "data": {
            "text/plain": [
              "'<start> when i was a child i grew up by the river lea <end> '"
            ],
            "application/vnd.google.colaboratory.intrinsic+json": {
              "type": "string"
            }
          },
          "metadata": {},
          "execution_count": 166
        }
      ]
    },
    {
      "cell_type": "code",
      "source": [
        "# 오타가 있을 때 \n",
        "generate_text(model, tokenizer, init_sentence=\"<start> ii lovd\", max_len=20)\n"
      ],
      "metadata": {
        "colab": {
          "base_uri": "https://localhost:8080/",
          "height": 35
        },
        "id": "fmbQxekEacwR",
        "outputId": "3474241a-0cf3-4594-d300-ad914b077646"
      },
      "execution_count": 167,
      "outputs": [
        {
          "output_type": "execute_result",
          "data": {
            "text/plain": [
              "'<start> ii <unk> s , the <unk> s , the <unk> s <end> '"
            ],
            "application/vnd.google.colaboratory.intrinsic+json": {
              "type": "string"
            }
          },
          "metadata": {},
          "execution_count": 167
        }
      ]
    },
    {
      "cell_type": "markdown",
      "source": [
        "## 결과\n",
        "\n",
        "- \b여러번의 테스트를 거쳤음에도 오차가 거의 변화가 없었다. 텍스트 전처리 과정에서 중복되는 문장들이 많길래 set 함수를 써서 중복된 문장을 제거했는데 이것이 혹시 영향을 주었나 싶어서 중복된 문장들을 포함하고 학습을 했더니 hidden 과 embedding 크기 조절만으로 val-loss 값이 1이하로 낮아졌다. \n",
        "\n",
        "\n"
      ],
      "metadata": {
        "id": "TNvFzLb_aqO_"
      }
    },
    {
      "cell_type": "code",
      "source": [
        "embedding_size = 256\n",
        "hidden_size = 512\n",
        "model = TextGenerator(tokenizer.num_words + 1, embedding_size , hidden_size)\n",
        "\n",
        "optimizer = tf.keras.optimizers.Adam()\n",
        "loss = tf.keras.losses.SparseCategoricalCrossentropy(\n",
        "    from_logits=True, reduction='none')\n",
        "\n",
        "\n",
        "model.compile(loss=loss, optimizer=optimizer)\n",
        "\n",
        "model.fit(dataset, epochs=39, validation_data = (enc_val,dec_val),callbacks=[es])"
      ],
      "metadata": {
        "colab": {
          "base_uri": "https://localhost:8080/",
          "height": 1000
        },
        "id": "kCU198j5ahj5",
        "outputId": "2569ae51-6e99-45d0-900e-a9e95bf17a9d"
      },
      "execution_count": 168,
      "outputs": [
        {
          "output_type": "stream",
          "name": "stdout",
          "text": [
            "Epoch 1/39\n",
            "609/609 [==============================] - 35s 51ms/step - loss: 3.6878 - val_loss: 3.2492\n",
            "Epoch 2/39\n",
            "609/609 [==============================] - 30s 50ms/step - loss: 3.1256 - val_loss: 3.0194\n",
            "Epoch 3/39\n",
            "609/609 [==============================] - 30s 50ms/step - loss: 2.9665 - val_loss: 2.8968\n",
            "Epoch 4/39\n",
            "609/609 [==============================] - 30s 49ms/step - loss: 2.8564 - val_loss: 2.7928\n",
            "Epoch 5/39\n",
            "609/609 [==============================] - 30s 49ms/step - loss: 2.7653 - val_loss: 2.7047\n",
            "Epoch 6/39\n",
            "609/609 [==============================] - 30s 49ms/step - loss: 2.6851 - val_loss: 2.6244\n",
            "Epoch 7/39\n",
            "609/609 [==============================] - 30s 49ms/step - loss: 2.6101 - val_loss: 2.5492\n",
            "Epoch 8/39\n",
            "609/609 [==============================] - 30s 50ms/step - loss: 2.5379 - val_loss: 2.4745\n",
            "Epoch 9/39\n",
            "609/609 [==============================] - 30s 49ms/step - loss: 2.4684 - val_loss: 2.4055\n",
            "Epoch 10/39\n",
            "609/609 [==============================] - 30s 50ms/step - loss: 2.4024 - val_loss: 2.3399\n",
            "Epoch 11/39\n",
            "609/609 [==============================] - 30s 50ms/step - loss: 2.3401 - val_loss: 2.2778\n",
            "Epoch 12/39\n",
            "609/609 [==============================] - 30s 49ms/step - loss: 2.2816 - val_loss: 2.2204\n",
            "Epoch 13/39\n",
            "609/609 [==============================] - 30s 50ms/step - loss: 2.2264 - val_loss: 2.1664\n",
            "Epoch 14/39\n",
            "609/609 [==============================] - 30s 49ms/step - loss: 2.1749 - val_loss: 2.1152\n",
            "Epoch 15/39\n",
            "609/609 [==============================] - 30s 49ms/step - loss: 2.1268 - val_loss: 2.0689\n",
            "Epoch 16/39\n",
            "609/609 [==============================] - 30s 50ms/step - loss: 2.0816 - val_loss: 2.0252\n",
            "Epoch 17/39\n",
            "609/609 [==============================] - 30s 49ms/step - loss: 2.0393 - val_loss: 1.9849\n",
            "Epoch 18/39\n",
            "609/609 [==============================] - 30s 50ms/step - loss: 1.9993 - val_loss: 1.9454\n",
            "Epoch 19/39\n",
            "609/609 [==============================] - 30s 50ms/step - loss: 1.9617 - val_loss: 1.9116\n"
          ]
        },
        {
          "output_type": "error",
          "ename": "KeyboardInterrupt",
          "evalue": "ignored",
          "traceback": [
            "\u001b[0;31m---------------------------------------------------------------------------\u001b[0m",
            "\u001b[0;31mKeyboardInterrupt\u001b[0m                         Traceback (most recent call last)",
            "\u001b[0;32m<ipython-input-168-354cb66adb43>\u001b[0m in \u001b[0;36m<module>\u001b[0;34m()\u001b[0m\n\u001b[1;32m     10\u001b[0m \u001b[0mmodel\u001b[0m\u001b[0;34m.\u001b[0m\u001b[0mcompile\u001b[0m\u001b[0;34m(\u001b[0m\u001b[0mloss\u001b[0m\u001b[0;34m=\u001b[0m\u001b[0mloss\u001b[0m\u001b[0;34m,\u001b[0m \u001b[0moptimizer\u001b[0m\u001b[0;34m=\u001b[0m\u001b[0moptimizer\u001b[0m\u001b[0;34m)\u001b[0m\u001b[0;34m\u001b[0m\u001b[0;34m\u001b[0m\u001b[0m\n\u001b[1;32m     11\u001b[0m \u001b[0;34m\u001b[0m\u001b[0m\n\u001b[0;32m---> 12\u001b[0;31m \u001b[0mmodel\u001b[0m\u001b[0;34m.\u001b[0m\u001b[0mfit\u001b[0m\u001b[0;34m(\u001b[0m\u001b[0mdataset\u001b[0m\u001b[0;34m,\u001b[0m \u001b[0mepochs\u001b[0m\u001b[0;34m=\u001b[0m\u001b[0;36m39\u001b[0m\u001b[0;34m,\u001b[0m \u001b[0mvalidation_data\u001b[0m \u001b[0;34m=\u001b[0m \u001b[0;34m(\u001b[0m\u001b[0menc_val\u001b[0m\u001b[0;34m,\u001b[0m\u001b[0mdec_val\u001b[0m\u001b[0;34m)\u001b[0m\u001b[0;34m,\u001b[0m\u001b[0mcallbacks\u001b[0m\u001b[0;34m=\u001b[0m\u001b[0;34m[\u001b[0m\u001b[0mes\u001b[0m\u001b[0;34m]\u001b[0m\u001b[0;34m)\u001b[0m\u001b[0;34m\u001b[0m\u001b[0;34m\u001b[0m\u001b[0m\n\u001b[0m",
            "\u001b[0;32m/usr/local/lib/python3.7/dist-packages/keras/utils/traceback_utils.py\u001b[0m in \u001b[0;36merror_handler\u001b[0;34m(*args, **kwargs)\u001b[0m\n\u001b[1;32m     62\u001b[0m     \u001b[0mfiltered_tb\u001b[0m \u001b[0;34m=\u001b[0m \u001b[0;32mNone\u001b[0m\u001b[0;34m\u001b[0m\u001b[0;34m\u001b[0m\u001b[0m\n\u001b[1;32m     63\u001b[0m     \u001b[0;32mtry\u001b[0m\u001b[0;34m:\u001b[0m\u001b[0;34m\u001b[0m\u001b[0;34m\u001b[0m\u001b[0m\n\u001b[0;32m---> 64\u001b[0;31m       \u001b[0;32mreturn\u001b[0m \u001b[0mfn\u001b[0m\u001b[0;34m(\u001b[0m\u001b[0;34m*\u001b[0m\u001b[0margs\u001b[0m\u001b[0;34m,\u001b[0m \u001b[0;34m**\u001b[0m\u001b[0mkwargs\u001b[0m\u001b[0;34m)\u001b[0m\u001b[0;34m\u001b[0m\u001b[0;34m\u001b[0m\u001b[0m\n\u001b[0m\u001b[1;32m     65\u001b[0m     \u001b[0;32mexcept\u001b[0m \u001b[0mException\u001b[0m \u001b[0;32mas\u001b[0m \u001b[0me\u001b[0m\u001b[0;34m:\u001b[0m  \u001b[0;31m# pylint: disable=broad-except\u001b[0m\u001b[0;34m\u001b[0m\u001b[0;34m\u001b[0m\u001b[0m\n\u001b[1;32m     66\u001b[0m       \u001b[0mfiltered_tb\u001b[0m \u001b[0;34m=\u001b[0m \u001b[0m_process_traceback_frames\u001b[0m\u001b[0;34m(\u001b[0m\u001b[0me\u001b[0m\u001b[0;34m.\u001b[0m\u001b[0m__traceback__\u001b[0m\u001b[0;34m)\u001b[0m\u001b[0;34m\u001b[0m\u001b[0;34m\u001b[0m\u001b[0m\n",
            "\u001b[0;32m/usr/local/lib/python3.7/dist-packages/keras/engine/training.py\u001b[0m in \u001b[0;36mfit\u001b[0;34m(self, x, y, batch_size, epochs, verbose, callbacks, validation_split, validation_data, shuffle, class_weight, sample_weight, initial_epoch, steps_per_epoch, validation_steps, validation_batch_size, validation_freq, max_queue_size, workers, use_multiprocessing)\u001b[0m\n\u001b[1;32m   1371\u001b[0m       \u001b[0mlogs\u001b[0m \u001b[0;34m=\u001b[0m \u001b[0;32mNone\u001b[0m\u001b[0;34m\u001b[0m\u001b[0;34m\u001b[0m\u001b[0m\n\u001b[1;32m   1372\u001b[0m       \u001b[0;32mfor\u001b[0m \u001b[0mepoch\u001b[0m\u001b[0;34m,\u001b[0m \u001b[0miterator\u001b[0m \u001b[0;32min\u001b[0m \u001b[0mdata_handler\u001b[0m\u001b[0;34m.\u001b[0m\u001b[0menumerate_epochs\u001b[0m\u001b[0;34m(\u001b[0m\u001b[0;34m)\u001b[0m\u001b[0;34m:\u001b[0m\u001b[0;34m\u001b[0m\u001b[0;34m\u001b[0m\u001b[0m\n\u001b[0;32m-> 1373\u001b[0;31m         \u001b[0mself\u001b[0m\u001b[0;34m.\u001b[0m\u001b[0mreset_metrics\u001b[0m\u001b[0;34m(\u001b[0m\u001b[0;34m)\u001b[0m\u001b[0;34m\u001b[0m\u001b[0;34m\u001b[0m\u001b[0m\n\u001b[0m\u001b[1;32m   1374\u001b[0m         \u001b[0mcallbacks\u001b[0m\u001b[0;34m.\u001b[0m\u001b[0mon_epoch_begin\u001b[0m\u001b[0;34m(\u001b[0m\u001b[0mepoch\u001b[0m\u001b[0;34m)\u001b[0m\u001b[0;34m\u001b[0m\u001b[0;34m\u001b[0m\u001b[0m\n\u001b[1;32m   1375\u001b[0m         \u001b[0;32mwith\u001b[0m \u001b[0mdata_handler\u001b[0m\u001b[0;34m.\u001b[0m\u001b[0mcatch_stop_iteration\u001b[0m\u001b[0;34m(\u001b[0m\u001b[0;34m)\u001b[0m\u001b[0;34m:\u001b[0m\u001b[0;34m\u001b[0m\u001b[0;34m\u001b[0m\u001b[0m\n",
            "\u001b[0;31mKeyboardInterrupt\u001b[0m: "
          ]
        }
      ]
    },
    {
      "cell_type": "code",
      "source": [
        "generate_text(model, tokenizer, init_sentence=\"<start> I wish\", max_len=20)\n"
      ],
      "metadata": {
        "colab": {
          "base_uri": "https://localhost:8080/",
          "height": 35
        },
        "id": "M21RfyaScPc7",
        "outputId": "06cbdda1-0b50-4a2d-dac4-927bbcd4be9a"
      },
      "execution_count": 172,
      "outputs": [
        {
          "output_type": "execute_result",
          "data": {
            "text/plain": [
              "'<start> i wish i could be the same <end> '"
            ],
            "application/vnd.google.colaboratory.intrinsic+json": {
              "type": "string"
            }
          },
          "metadata": {},
          "execution_count": 172
        }
      ]
    },
    {
      "cell_type": "code",
      "source": [
        ""
      ],
      "metadata": {
        "id": "mIyChIafe0BU"
      },
      "execution_count": null,
      "outputs": []
    },
    {
      "cell_type": "markdown",
      "source": [
        "## 회고 \n",
        "\n",
        "- 문장 자체가 같은 중복된 문장이 학습에 영향을 끼치지 않을거라고 생각했는데, 결과를 보고 다시 생각해보니 중복된 문장 자체도 입력 데이터로 들어가서 학습에 영향을 줄 수도 있을 것 같다. \n",
        "- 중복 문장을 뺀 데이터는 size를 크게 하지 않아도... loss 가 적게 나온다. 왜지...?\n",
        "- val-loss 값 자체는 상당히 낮아졌는데, 나온 문장의 퀄리티는 그렇게 좋지 않은 것 같다. 과연 무슨 기준으로 문장이 잘 만들어졌는지 판단할 수 있을까라는 생각을 하게 되었다. val-loss 2.8 문장보다는 말이 되기는 하지만 여전히 어색한 것들도 있다.\n",
        "- 오타나 학습에 들어가지 않았을 단어를 넣어보니 역시나 이상하게 나와서 이 부분은 재미있었다. \n"
      ],
      "metadata": {
        "id": "hwkuRNp_fB6E"
      }
    }
  ]
}