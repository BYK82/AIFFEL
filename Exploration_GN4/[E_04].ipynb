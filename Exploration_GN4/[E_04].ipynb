{
  "cells": [
    {
      "cell_type": "markdown",
      "metadata": {
        "id": "sHRuUoicKJ3l"
      },
      "source": [
        "#4-13. 프로젝트 : This is your playground! Leaderboard를 정복해 주세요!\n"
      ]
    },
    {
      "cell_type": "markdown",
      "metadata": {
        "id": "APlVYSjlKbbO"
      },
      "source": [
        "## 1. data 및 모듈 불러오기"
      ]
    },
    {
      "cell_type": "code",
      "execution_count": 1,
      "metadata": {
        "id": "e6Bb0totn25J"
      },
      "outputs": [],
      "source": [
        "import warnings\n",
        "warnings.filterwarnings(\"ignore\")\n",
        "\n",
        "import os\n",
        "from os.path import join\n",
        "\n",
        "import pandas as pd\n",
        "import numpy as np\n",
        "import scipy.stats as sp\n",
        "\n",
        "import missingno as msno\n",
        "\n",
        "from sklearn.ensemble import GradientBoostingRegressor\n",
        "from sklearn.model_selection import KFold, cross_val_score\n",
        "import xgboost as xgb\n",
        "import lightgbm as lgb\n",
        "\n",
        "import matplotlib.pyplot as plt\n",
        "import seaborn as sns"
      ]
    },
    {
      "cell_type": "code",
      "execution_count": 2,
      "metadata": {
        "colab": {
          "base_uri": "https://localhost:8080/"
        },
        "id": "xjGM50YtoCws",
        "outputId": "21b71a9d-18f6-4d65-af7e-c0c07ff8feef"
      },
      "outputs": [
        {
          "output_type": "stream",
          "name": "stdout",
          "text": [
            "/content/drive/MyDrive/0.AIFFEL/LMS node/Exp 04/data/train.csv\n",
            "/content/drive/MyDrive/0.AIFFEL/LMS node/Exp 04/data/test.csv\n"
          ]
        }
      ],
      "source": [
        "data_dir = '/content/drive/MyDrive/0.AIFFEL/LMS node/Exp 04/data'\n",
        "\n",
        "train_data_path = join(data_dir, 'train.csv')\n",
        "sub_data_path = join(data_dir, 'test.csv')      # 테스트, 즉 submission 시 사용할 데이터 경로\n",
        "\n",
        "print(train_data_path)\n",
        "print(sub_data_path)"
      ]
    },
    {
      "cell_type": "code",
      "execution_count": 3,
      "metadata": {
        "colab": {
          "base_uri": "https://localhost:8080/",
          "height": 334
        },
        "id": "iFlS3SBgLg5C",
        "outputId": "17ec1f7a-d21f-45e6-f960-eab926c21530"
      },
      "outputs": [
        {
          "output_type": "stream",
          "name": "stdout",
          "text": [
            "train data dim : (15035, 21)\n",
            "sub data dim : (6468, 20)\n"
          ]
        },
        {
          "output_type": "execute_result",
          "data": {
            "text/plain": [
              "   id             date     price  bedrooms  bathrooms  sqft_living  sqft_lot  \\\n",
              "0   0  20141013T000000  221900.0         3       1.00         1180      5650   \n",
              "1   1  20150225T000000  180000.0         2       1.00          770     10000   \n",
              "2   2  20150218T000000  510000.0         3       2.00         1680      8080   \n",
              "3   3  20140627T000000  257500.0         3       2.25         1715      6819   \n",
              "4   4  20150115T000000  291850.0         3       1.50         1060      9711   \n",
              "\n",
              "   floors  waterfront  view  ...  grade  sqft_above  sqft_basement  yr_built  \\\n",
              "0     1.0           0     0  ...      7        1180              0      1955   \n",
              "1     1.0           0     0  ...      6         770              0      1933   \n",
              "2     1.0           0     0  ...      8        1680              0      1987   \n",
              "3     2.0           0     0  ...      7        1715              0      1995   \n",
              "4     1.0           0     0  ...      7        1060              0      1963   \n",
              "\n",
              "   yr_renovated  zipcode      lat     long  sqft_living15  sqft_lot15  \n",
              "0             0    98178  47.5112 -122.257           1340        5650  \n",
              "1             0    98028  47.7379 -122.233           2720        8062  \n",
              "2             0    98074  47.6168 -122.045           1800        7503  \n",
              "3             0    98003  47.3097 -122.327           2238        6819  \n",
              "4             0    98198  47.4095 -122.315           1650        9711  \n",
              "\n",
              "[5 rows x 21 columns]"
            ],
            "text/html": [
              "\n",
              "  <div id=\"df-1b6c02bc-7089-496d-b9c3-722373b35976\">\n",
              "    <div class=\"colab-df-container\">\n",
              "      <div>\n",
              "<style scoped>\n",
              "    .dataframe tbody tr th:only-of-type {\n",
              "        vertical-align: middle;\n",
              "    }\n",
              "\n",
              "    .dataframe tbody tr th {\n",
              "        vertical-align: top;\n",
              "    }\n",
              "\n",
              "    .dataframe thead th {\n",
              "        text-align: right;\n",
              "    }\n",
              "</style>\n",
              "<table border=\"1\" class=\"dataframe\">\n",
              "  <thead>\n",
              "    <tr style=\"text-align: right;\">\n",
              "      <th></th>\n",
              "      <th>id</th>\n",
              "      <th>date</th>\n",
              "      <th>price</th>\n",
              "      <th>bedrooms</th>\n",
              "      <th>bathrooms</th>\n",
              "      <th>sqft_living</th>\n",
              "      <th>sqft_lot</th>\n",
              "      <th>floors</th>\n",
              "      <th>waterfront</th>\n",
              "      <th>view</th>\n",
              "      <th>...</th>\n",
              "      <th>grade</th>\n",
              "      <th>sqft_above</th>\n",
              "      <th>sqft_basement</th>\n",
              "      <th>yr_built</th>\n",
              "      <th>yr_renovated</th>\n",
              "      <th>zipcode</th>\n",
              "      <th>lat</th>\n",
              "      <th>long</th>\n",
              "      <th>sqft_living15</th>\n",
              "      <th>sqft_lot15</th>\n",
              "    </tr>\n",
              "  </thead>\n",
              "  <tbody>\n",
              "    <tr>\n",
              "      <th>0</th>\n",
              "      <td>0</td>\n",
              "      <td>20141013T000000</td>\n",
              "      <td>221900.0</td>\n",
              "      <td>3</td>\n",
              "      <td>1.00</td>\n",
              "      <td>1180</td>\n",
              "      <td>5650</td>\n",
              "      <td>1.0</td>\n",
              "      <td>0</td>\n",
              "      <td>0</td>\n",
              "      <td>...</td>\n",
              "      <td>7</td>\n",
              "      <td>1180</td>\n",
              "      <td>0</td>\n",
              "      <td>1955</td>\n",
              "      <td>0</td>\n",
              "      <td>98178</td>\n",
              "      <td>47.5112</td>\n",
              "      <td>-122.257</td>\n",
              "      <td>1340</td>\n",
              "      <td>5650</td>\n",
              "    </tr>\n",
              "    <tr>\n",
              "      <th>1</th>\n",
              "      <td>1</td>\n",
              "      <td>20150225T000000</td>\n",
              "      <td>180000.0</td>\n",
              "      <td>2</td>\n",
              "      <td>1.00</td>\n",
              "      <td>770</td>\n",
              "      <td>10000</td>\n",
              "      <td>1.0</td>\n",
              "      <td>0</td>\n",
              "      <td>0</td>\n",
              "      <td>...</td>\n",
              "      <td>6</td>\n",
              "      <td>770</td>\n",
              "      <td>0</td>\n",
              "      <td>1933</td>\n",
              "      <td>0</td>\n",
              "      <td>98028</td>\n",
              "      <td>47.7379</td>\n",
              "      <td>-122.233</td>\n",
              "      <td>2720</td>\n",
              "      <td>8062</td>\n",
              "    </tr>\n",
              "    <tr>\n",
              "      <th>2</th>\n",
              "      <td>2</td>\n",
              "      <td>20150218T000000</td>\n",
              "      <td>510000.0</td>\n",
              "      <td>3</td>\n",
              "      <td>2.00</td>\n",
              "      <td>1680</td>\n",
              "      <td>8080</td>\n",
              "      <td>1.0</td>\n",
              "      <td>0</td>\n",
              "      <td>0</td>\n",
              "      <td>...</td>\n",
              "      <td>8</td>\n",
              "      <td>1680</td>\n",
              "      <td>0</td>\n",
              "      <td>1987</td>\n",
              "      <td>0</td>\n",
              "      <td>98074</td>\n",
              "      <td>47.6168</td>\n",
              "      <td>-122.045</td>\n",
              "      <td>1800</td>\n",
              "      <td>7503</td>\n",
              "    </tr>\n",
              "    <tr>\n",
              "      <th>3</th>\n",
              "      <td>3</td>\n",
              "      <td>20140627T000000</td>\n",
              "      <td>257500.0</td>\n",
              "      <td>3</td>\n",
              "      <td>2.25</td>\n",
              "      <td>1715</td>\n",
              "      <td>6819</td>\n",
              "      <td>2.0</td>\n",
              "      <td>0</td>\n",
              "      <td>0</td>\n",
              "      <td>...</td>\n",
              "      <td>7</td>\n",
              "      <td>1715</td>\n",
              "      <td>0</td>\n",
              "      <td>1995</td>\n",
              "      <td>0</td>\n",
              "      <td>98003</td>\n",
              "      <td>47.3097</td>\n",
              "      <td>-122.327</td>\n",
              "      <td>2238</td>\n",
              "      <td>6819</td>\n",
              "    </tr>\n",
              "    <tr>\n",
              "      <th>4</th>\n",
              "      <td>4</td>\n",
              "      <td>20150115T000000</td>\n",
              "      <td>291850.0</td>\n",
              "      <td>3</td>\n",
              "      <td>1.50</td>\n",
              "      <td>1060</td>\n",
              "      <td>9711</td>\n",
              "      <td>1.0</td>\n",
              "      <td>0</td>\n",
              "      <td>0</td>\n",
              "      <td>...</td>\n",
              "      <td>7</td>\n",
              "      <td>1060</td>\n",
              "      <td>0</td>\n",
              "      <td>1963</td>\n",
              "      <td>0</td>\n",
              "      <td>98198</td>\n",
              "      <td>47.4095</td>\n",
              "      <td>-122.315</td>\n",
              "      <td>1650</td>\n",
              "      <td>9711</td>\n",
              "    </tr>\n",
              "  </tbody>\n",
              "</table>\n",
              "<p>5 rows × 21 columns</p>\n",
              "</div>\n",
              "      <button class=\"colab-df-convert\" onclick=\"convertToInteractive('df-1b6c02bc-7089-496d-b9c3-722373b35976')\"\n",
              "              title=\"Convert this dataframe to an interactive table.\"\n",
              "              style=\"display:none;\">\n",
              "        \n",
              "  <svg xmlns=\"http://www.w3.org/2000/svg\" height=\"24px\"viewBox=\"0 0 24 24\"\n",
              "       width=\"24px\">\n",
              "    <path d=\"M0 0h24v24H0V0z\" fill=\"none\"/>\n",
              "    <path d=\"M18.56 5.44l.94 2.06.94-2.06 2.06-.94-2.06-.94-.94-2.06-.94 2.06-2.06.94zm-11 1L8.5 8.5l.94-2.06 2.06-.94-2.06-.94L8.5 2.5l-.94 2.06-2.06.94zm10 10l.94 2.06.94-2.06 2.06-.94-2.06-.94-.94-2.06-.94 2.06-2.06.94z\"/><path d=\"M17.41 7.96l-1.37-1.37c-.4-.4-.92-.59-1.43-.59-.52 0-1.04.2-1.43.59L10.3 9.45l-7.72 7.72c-.78.78-.78 2.05 0 2.83L4 21.41c.39.39.9.59 1.41.59.51 0 1.02-.2 1.41-.59l7.78-7.78 2.81-2.81c.8-.78.8-2.07 0-2.86zM5.41 20L4 18.59l7.72-7.72 1.47 1.35L5.41 20z\"/>\n",
              "  </svg>\n",
              "      </button>\n",
              "      \n",
              "  <style>\n",
              "    .colab-df-container {\n",
              "      display:flex;\n",
              "      flex-wrap:wrap;\n",
              "      gap: 12px;\n",
              "    }\n",
              "\n",
              "    .colab-df-convert {\n",
              "      background-color: #E8F0FE;\n",
              "      border: none;\n",
              "      border-radius: 50%;\n",
              "      cursor: pointer;\n",
              "      display: none;\n",
              "      fill: #1967D2;\n",
              "      height: 32px;\n",
              "      padding: 0 0 0 0;\n",
              "      width: 32px;\n",
              "    }\n",
              "\n",
              "    .colab-df-convert:hover {\n",
              "      background-color: #E2EBFA;\n",
              "      box-shadow: 0px 1px 2px rgba(60, 64, 67, 0.3), 0px 1px 3px 1px rgba(60, 64, 67, 0.15);\n",
              "      fill: #174EA6;\n",
              "    }\n",
              "\n",
              "    [theme=dark] .colab-df-convert {\n",
              "      background-color: #3B4455;\n",
              "      fill: #D2E3FC;\n",
              "    }\n",
              "\n",
              "    [theme=dark] .colab-df-convert:hover {\n",
              "      background-color: #434B5C;\n",
              "      box-shadow: 0px 1px 3px 1px rgba(0, 0, 0, 0.15);\n",
              "      filter: drop-shadow(0px 1px 2px rgba(0, 0, 0, 0.3));\n",
              "      fill: #FFFFFF;\n",
              "    }\n",
              "  </style>\n",
              "\n",
              "      <script>\n",
              "        const buttonEl =\n",
              "          document.querySelector('#df-1b6c02bc-7089-496d-b9c3-722373b35976 button.colab-df-convert');\n",
              "        buttonEl.style.display =\n",
              "          google.colab.kernel.accessAllowed ? 'block' : 'none';\n",
              "\n",
              "        async function convertToInteractive(key) {\n",
              "          const element = document.querySelector('#df-1b6c02bc-7089-496d-b9c3-722373b35976');\n",
              "          const dataTable =\n",
              "            await google.colab.kernel.invokeFunction('convertToInteractive',\n",
              "                                                     [key], {});\n",
              "          if (!dataTable) return;\n",
              "\n",
              "          const docLinkHtml = 'Like what you see? Visit the ' +\n",
              "            '<a target=\"_blank\" href=https://colab.research.google.com/notebooks/data_table.ipynb>data table notebook</a>'\n",
              "            + ' to learn more about interactive tables.';\n",
              "          element.innerHTML = '';\n",
              "          dataTable['output_type'] = 'display_data';\n",
              "          await google.colab.output.renderOutput(dataTable, element);\n",
              "          const docLink = document.createElement('div');\n",
              "          docLink.innerHTML = docLinkHtml;\n",
              "          element.appendChild(docLink);\n",
              "        }\n",
              "      </script>\n",
              "    </div>\n",
              "  </div>\n",
              "  "
            ]
          },
          "metadata": {},
          "execution_count": 3
        }
      ],
      "source": [
        "data = pd.read_csv(train_data_path)\n",
        "sub = pd.read_csv(sub_data_path)\n",
        "print('train data dim : {}'.format(data.shape))\n",
        "print('sub data dim : {}'.format(sub.shape))\n",
        "data.head()"
      ]
    },
    {
      "cell_type": "code",
      "execution_count": 4,
      "metadata": {
        "colab": {
          "base_uri": "https://localhost:8080/",
          "height": 757
        },
        "id": "NF1WEsnjP81s",
        "outputId": "d83ebc4c-c3b7-432e-bbe9-c707942a087a"
      },
      "outputs": [
        {
          "output_type": "stream",
          "name": "stdout",
          "text": [
            "id : 0\n",
            "date : 0\n",
            "price : 0\n",
            "bedrooms : 0\n",
            "bathrooms : 0\n",
            "sqft_living : 0\n",
            "sqft_lot : 0\n",
            "floors : 0\n",
            "waterfront : 0\n",
            "view : 0\n",
            "condition : 0\n",
            "grade : 0\n",
            "sqft_above : 0\n",
            "sqft_basement : 0\n",
            "yr_built : 0\n",
            "yr_renovated : 0\n",
            "zipcode : 0\n",
            "lat : 0\n",
            "long : 0\n",
            "sqft_living15 : 0\n",
            "sqft_lot15 : 0\n"
          ]
        },
        {
          "output_type": "display_data",
          "data": {
            "text/plain": [
              "<Figure size 1800x720 with 2 Axes>"
            ],
            "image/png": "[encoded data removed]"
          },
          "metadata": {
            "needs_background": "light"
          }
        }
      ],
      "source": [
        "msno.matrix(data) # 결측치는 없음\n",
        "\n",
        "for c in data.columns:\n",
        "    print('{} : {}'.format(c, len(data.loc[pd.isnull(data[c]), c].values)))"
      ]
    },
    {
      "cell_type": "markdown",
      "metadata": {
        "id": "qJOwpSjkN4VN"
      },
      "source": [
        "- data 와 test 를 합쳐서 전처리 과정을 진행한다. \n",
        "\n",
        "- id 컬럼 제거\n",
        "- date T 이후 0 제거 필요\n",
        "- price 칼럼은 따로 y 변수에 저장후 칼럼 제거"
      ]
    },
    {
      "cell_type": "code",
      "execution_count": 5,
      "metadata": {
        "id": "rqtaak9YLpSY"
      },
      "outputs": [],
      "source": [
        "train_len = len(data) # 추후 학습데이터만 불러오기 위한 인덱스는 저장\n",
        "data = pd.concat((data, sub), axis=0)"
      ]
    },
    {
      "cell_type": "code",
      "execution_count": 6,
      "metadata": {
        "id": "-J8c2lQnQZah"
      },
      "outputs": [],
      "source": [
        "# id 컬럼은 index 와 겹치므로 제거\n",
        "sub_id = data['id'][train_len:] # 예측 결과 제출 대비 id 칼럼은 저장\n",
        "data = data.drop(['id'], axis=1)"
      ]
    },
    {
      "cell_type": "code",
      "execution_count": 7,
      "metadata": {
        "id": "SnOVVuhgRO1-"
      },
      "outputs": [],
      "source": [
        "# date T이후 자르기\n",
        "\n",
        "data['date'] = data['date'].apply(lambda x : str(x[:6]))\n"
      ]
    },
    {
      "cell_type": "code",
      "execution_count": 8,
      "metadata": {
        "id": "cmxgG-JKPPGt"
      },
      "outputs": [],
      "source": [
        "y = data['price']\n",
        "del data['price']\n"
      ]
    },
    {
      "cell_type": "code",
      "execution_count": 9,
      "metadata": {
        "colab": {
          "base_uri": "https://localhost:8080/",
          "height": 270
        },
        "id": "_uU035WAOUB6",
        "outputId": "c0409b29-8d39-4d4c-b620-59319aca32b8"
      },
      "outputs": [
        {
          "output_type": "execute_result",
          "data": {
            "text/plain": [
              "     date  bedrooms  bathrooms  sqft_living  sqft_lot  floors  waterfront  \\\n",
              "0  201410         3       1.00         1180      5650     1.0           0   \n",
              "1  201502         2       1.00          770     10000     1.0           0   \n",
              "2  201502         3       2.00         1680      8080     1.0           0   \n",
              "3  201406         3       2.25         1715      6819     2.0           0   \n",
              "4  201501         3       1.50         1060      9711     1.0           0   \n",
              "\n",
              "   view  condition  grade  sqft_above  sqft_basement  yr_built  yr_renovated  \\\n",
              "0     0          3      7        1180              0      1955             0   \n",
              "1     0          3      6         770              0      1933             0   \n",
              "2     0          3      8        1680              0      1987             0   \n",
              "3     0          3      7        1715              0      1995             0   \n",
              "4     0          3      7        1060              0      1963             0   \n",
              "\n",
              "   zipcode      lat     long  sqft_living15  sqft_lot15  \n",
              "0    98178  47.5112 -122.257           1340        5650  \n",
              "1    98028  47.7379 -122.233           2720        8062  \n",
              "2    98074  47.6168 -122.045           1800        7503  \n",
              "3    98003  47.3097 -122.327           2238        6819  \n",
              "4    98198  47.4095 -122.315           1650        9711  "
            ],
            "text/html": [
              "\n",
              "  <div id=\"df-9a71d1a9-b191-43b9-9ce4-ea401db6058a\">\n",
              "    <div class=\"colab-df-container\">\n",
              "      <div>\n",
              "<style scoped>\n",
              "    .dataframe tbody tr th:only-of-type {\n",
              "        vertical-align: middle;\n",
              "    }\n",
              "\n",
              "    .dataframe tbody tr th {\n",
              "        vertical-align: top;\n",
              "    }\n",
              "\n",
              "    .dataframe thead th {\n",
              "        text-align: right;\n",
              "    }\n",
              "</style>\n",
              "<table border=\"1\" class=\"dataframe\">\n",
              "  <thead>\n",
              "    <tr style=\"text-align: right;\">\n",
              "      <th></th>\n",
              "      <th>date</th>\n",
              "      <th>bedrooms</th>\n",
              "      <th>bathrooms</th>\n",
              "      <th>sqft_living</th>\n",
              "      <th>sqft_lot</th>\n",
              "      <th>floors</th>\n",
              "      <th>waterfront</th>\n",
              "      <th>view</th>\n",
              "      <th>condition</th>\n",
              "      <th>grade</th>\n",
              "      <th>sqft_above</th>\n",
              "      <th>sqft_basement</th>\n",
              "      <th>yr_built</th>\n",
              "      <th>yr_renovated</th>\n",
              "      <th>zipcode</th>\n",
              "      <th>lat</th>\n",
              "      <th>long</th>\n",
              "      <th>sqft_living15</th>\n",
              "      <th>sqft_lot15</th>\n",
              "    </tr>\n",
              "  </thead>\n",
              "  <tbody>\n",
              "    <tr>\n",
              "      <th>0</th>\n",
              "      <td>201410</td>\n",
              "      <td>3</td>\n",
              "      <td>1.00</td>\n",
              "      <td>1180</td>\n",
              "      <td>5650</td>\n",
              "      <td>1.0</td>\n",
              "      <td>0</td>\n",
              "      <td>0</td>\n",
              "      <td>3</td>\n",
              "      <td>7</td>\n",
              "      <td>1180</td>\n",
              "      <td>0</td>\n",
              "      <td>1955</td>\n",
              "      <td>0</td>\n",
              "      <td>98178</td>\n",
              "      <td>47.5112</td>\n",
              "      <td>-122.257</td>\n",
              "      <td>1340</td>\n",
              "      <td>5650</td>\n",
              "    </tr>\n",
              "    <tr>\n",
              "      <th>1</th>\n",
              "      <td>201502</td>\n",
              "      <td>2</td>\n",
              "      <td>1.00</td>\n",
              "      <td>770</td>\n",
              "      <td>10000</td>\n",
              "      <td>1.0</td>\n",
              "      <td>0</td>\n",
              "      <td>0</td>\n",
              "      <td>3</td>\n",
              "      <td>6</td>\n",
              "      <td>770</td>\n",
              "      <td>0</td>\n",
              "      <td>1933</td>\n",
              "      <td>0</td>\n",
              "      <td>98028</td>\n",
              "      <td>47.7379</td>\n",
              "      <td>-122.233</td>\n",
              "      <td>2720</td>\n",
              "      <td>8062</td>\n",
              "    </tr>\n",
              "    <tr>\n",
              "      <th>2</th>\n",
              "      <td>201502</td>\n",
              "      <td>3</td>\n",
              "      <td>2.00</td>\n",
              "      <td>1680</td>\n",
              "      <td>8080</td>\n",
              "      <td>1.0</td>\n",
              "      <td>0</td>\n",
              "      <td>0</td>\n",
              "      <td>3</td>\n",
              "      <td>8</td>\n",
              "      <td>1680</td>\n",
              "      <td>0</td>\n",
              "      <td>1987</td>\n",
              "      <td>0</td>\n",
              "      <td>98074</td>\n",
              "      <td>47.6168</td>\n",
              "      <td>-122.045</td>\n",
              "      <td>1800</td>\n",
              "      <td>7503</td>\n",
              "    </tr>\n",
              "    <tr>\n",
              "      <th>3</th>\n",
              "      <td>201406</td>\n",
              "      <td>3</td>\n",
              "      <td>2.25</td>\n",
              "      <td>1715</td>\n",
              "      <td>6819</td>\n",
              "      <td>2.0</td>\n",
              "      <td>0</td>\n",
              "      <td>0</td>\n",
              "      <td>3</td>\n",
              "      <td>7</td>\n",
              "      <td>1715</td>\n",
              "      <td>0</td>\n",
              "      <td>1995</td>\n",
              "      <td>0</td>\n",
              "      <td>98003</td>\n",
              "      <td>47.3097</td>\n",
              "      <td>-122.327</td>\n",
              "      <td>2238</td>\n",
              "      <td>6819</td>\n",
              "    </tr>\n",
              "    <tr>\n",
              "      <th>4</th>\n",
              "      <td>201501</td>\n",
              "      <td>3</td>\n",
              "      <td>1.50</td>\n",
              "      <td>1060</td>\n",
              "      <td>9711</td>\n",
              "      <td>1.0</td>\n",
              "      <td>0</td>\n",
              "      <td>0</td>\n",
              "      <td>3</td>\n",
              "      <td>7</td>\n",
              "      <td>1060</td>\n",
              "      <td>0</td>\n",
              "      <td>1963</td>\n",
              "      <td>0</td>\n",
              "      <td>98198</td>\n",
              "      <td>47.4095</td>\n",
              "      <td>-122.315</td>\n",
              "      <td>1650</td>\n",
              "      <td>9711</td>\n",
              "    </tr>\n",
              "  </tbody>\n",
              "</table>\n",
              "</div>\n",
              "      <button class=\"colab-df-convert\" onclick=\"convertToInteractive('df-9a71d1a9-b191-43b9-9ce4-ea401db6058a')\"\n",
              "              title=\"Convert this dataframe to an interactive table.\"\n",
              "              style=\"display:none;\">\n",
              "        \n",
              "  <svg xmlns=\"http://www.w3.org/2000/svg\" height=\"24px\"viewBox=\"0 0 24 24\"\n",
              "       width=\"24px\">\n",
              "    <path d=\"M0 0h24v24H0V0z\" fill=\"none\"/>\n",
              "    <path d=\"M18.56 5.44l.94 2.06.94-2.06 2.06-.94-2.06-.94-.94-2.06-.94 2.06-2.06.94zm-11 1L8.5 8.5l.94-2.06 2.06-.94-2.06-.94L8.5 2.5l-.94 2.06-2.06.94zm10 10l.94 2.06.94-2.06 2.06-.94-2.06-.94-.94-2.06-.94 2.06-2.06.94z\"/><path d=\"M17.41 7.96l-1.37-1.37c-.4-.4-.92-.59-1.43-.59-.52 0-1.04.2-1.43.59L10.3 9.45l-7.72 7.72c-.78.78-.78 2.05 0 2.83L4 21.41c.39.39.9.59 1.41.59.51 0 1.02-.2 1.41-.59l7.78-7.78 2.81-2.81c.8-.78.8-2.07 0-2.86zM5.41 20L4 18.59l7.72-7.72 1.47 1.35L5.41 20z\"/>\n",
              "  </svg>\n",
              "      </button>\n",
              "      \n",
              "  <style>\n",
              "    .colab-df-container {\n",
              "      display:flex;\n",
              "      flex-wrap:wrap;\n",
              "      gap: 12px;\n",
              "    }\n",
              "\n",
              "    .colab-df-convert {\n",
              "      background-color: #E8F0FE;\n",
              "      border: none;\n",
              "      border-radius: 50%;\n",
              "      cursor: pointer;\n",
              "      display: none;\n",
              "      fill: #1967D2;\n",
              "      height: 32px;\n",
              "      padding: 0 0 0 0;\n",
              "      width: 32px;\n",
              "    }\n",
              "\n",
              "    .colab-df-convert:hover {\n",
              "      background-color: #E2EBFA;\n",
              "      box-shadow: 0px 1px 2px rgba(60, 64, 67, 0.3), 0px 1px 3px 1px rgba(60, 64, 67, 0.15);\n",
              "      fill: #174EA6;\n",
              "    }\n",
              "\n",
              "    [theme=dark] .colab-df-convert {\n",
              "      background-color: #3B4455;\n",
              "      fill: #D2E3FC;\n",
              "    }\n",
              "\n",
              "    [theme=dark] .colab-df-convert:hover {\n",
              "      background-color: #434B5C;\n",
              "      box-shadow: 0px 1px 3px 1px rgba(0, 0, 0, 0.15);\n",
              "      filter: drop-shadow(0px 1px 2px rgba(0, 0, 0, 0.3));\n",
              "      fill: #FFFFFF;\n",
              "    }\n",
              "  </style>\n",
              "\n",
              "      <script>\n",
              "        const buttonEl =\n",
              "          document.querySelector('#df-9a71d1a9-b191-43b9-9ce4-ea401db6058a button.colab-df-convert');\n",
              "        buttonEl.style.display =\n",
              "          google.colab.kernel.accessAllowed ? 'block' : 'none';\n",
              "\n",
              "        async function convertToInteractive(key) {\n",
              "          const element = document.querySelector('#df-9a71d1a9-b191-43b9-9ce4-ea401db6058a');\n",
              "          const dataTable =\n",
              "            await google.colab.kernel.invokeFunction('convertToInteractive',\n",
              "                                                     [key], {});\n",
              "          if (!dataTable) return;\n",
              "\n",
              "          const docLinkHtml = 'Like what you see? Visit the ' +\n",
              "            '<a target=\"_blank\" href=https://colab.research.google.com/notebooks/data_table.ipynb>data table notebook</a>'\n",
              "            + ' to learn more about interactive tables.';\n",
              "          element.innerHTML = '';\n",
              "          dataTable['output_type'] = 'display_data';\n",
              "          await google.colab.output.renderOutput(dataTable, element);\n",
              "          const docLink = document.createElement('div');\n",
              "          docLink.innerHTML = docLinkHtml;\n",
              "          element.appendChild(docLink);\n",
              "        }\n",
              "      </script>\n",
              "    </div>\n",
              "  </div>\n",
              "  "
            ]
          },
          "metadata": {},
          "execution_count": 9
        }
      ],
      "source": [
        "data.head()"
      ]
    },
    {
      "cell_type": "markdown",
      "metadata": {
        "id": "1zsaFKf9Tf9w"
      },
      "source": [
        "## 2. Data 이해하기"
      ]
    },
    {
      "cell_type": "markdown",
      "metadata": {
        "id": "QtX6JzBiuSy5"
      },
      "source": [
        "- 집 값의 분포 확인해봄."
      ]
    },
    {
      "cell_type": "code",
      "execution_count": 10,
      "metadata": {
        "colab": {
          "base_uri": "https://localhost:8080/",
          "height": 317
        },
        "id": "99oo8gOIq-RM",
        "outputId": "dc43e8d4-1434-438a-d5dd-120ba733d4b6"
      },
      "outputs": [
        {
          "output_type": "execute_result",
          "data": {
            "text/plain": [
              "Text(0.5, 1.0, 'House price distribution')"
            ]
          },
          "metadata": {},
          "execution_count": 10
        },
        {
          "output_type": "display_data",
          "data": {
            "text/plain": [
              "<Figure size 432x288 with 1 Axes>"
            ],
            "image/png": "[encoded data removed]"
          },
          "metadata": {
            "needs_background": "light"
          }
        }
      ],
      "source": [
        "sns.distplot(y, fit = sp.norm)\n",
        "plt.title(\"House price distribution\", fontsize=20)"
      ]
    },
    {
      "cell_type": "markdown",
      "metadata": {
        "id": "QVDsW7wCtJrM"
      },
      "source": [
        "- 데이터가 오른쪽으로 꼬리가 긴것을 확인할 수 있음. \n",
        "- 정규분포화 함"
      ]
    },
    {
      "cell_type": "code",
      "execution_count": 11,
      "metadata": {
        "id": "_cEy2tDkti21"
      },
      "outputs": [],
      "source": [
        "y = np.log1p(y)"
      ]
    },
    {
      "cell_type": "code",
      "execution_count": 12,
      "metadata": {
        "colab": {
          "base_uri": "https://localhost:8080/",
          "height": 317
        },
        "id": "SiQQOS_8ttQt",
        "outputId": "5839a5ce-a249-4b33-cbce-22bb3a9a4e67"
      },
      "outputs": [
        {
          "output_type": "execute_result",
          "data": {
            "text/plain": [
              "Text(0.5, 1.0, 'House price distribution')"
            ]
          },
          "metadata": {},
          "execution_count": 12
        },
        {
          "output_type": "display_data",
          "data": {
            "text/plain": [
              "<Figure size 432x288 with 1 Axes>"
            ],
            "image/png": "[encoded data removed]"
          },
          "metadata": {
            "needs_background": "light"
          }
        }
      ],
      "source": [
        "sns.distplot(y, fit = sp.norm)\n",
        "plt.title(\"House price distribution\", fontsize=20)"
      ]
    },
    {
      "cell_type": "code",
      "execution_count": 13,
      "metadata": {
        "colab": {
          "base_uri": "https://localhost:8080/",
          "height": 1000
        },
        "id": "6vvpliPXS-53",
        "outputId": "f322791b-73ed-4dbf-be6f-98ab920ecee4"
      },
      "outputs": [
        {
          "output_type": "display_data",
          "data": {
            "text/plain": [
              "<Figure size 720x1440 with 18 Axes>"
            ],
            "image/png": "[encoded data removed]"
          },
          "metadata": {
            "needs_background": "light"
          }
        }
      ],
      "source": [
        "fig, ax = plt.subplots(9, 2, figsize=(10, 20))   # 가로스크롤 때문에 그래프 확인이 불편하다면 figsize의 x값을 조절해 보세요. \n",
        "\n",
        "# id 변수\n",
        "count = 1\n",
        "columns = data.columns\n",
        "for row in range(9):\n",
        "    for col in range(2):\n",
        "        sns.kdeplot(data=data[columns[count]], ax=ax[row][col])\n",
        "        ax[row][col].set_title(columns[count], fontsize=15)\n",
        "        count += 1\n",
        "        if count == 19 :\n",
        "            break"
      ]
    },
    {
      "cell_type": "code",
      "execution_count": 14,
      "metadata": {
        "id": "cevO9Jb-T5rX"
      },
      "outputs": [],
      "source": [
        "# 치우친 데이터를 로그 변환을 통해 데이터 분포를 정규 분포화\n",
        "skew_columns = ['bedrooms', 'sqft_living', 'sqft_lot', 'sqft_above', 'sqft_basement', 'sqft_lot15', 'sqft_living15']\n",
        "\n",
        "for c in skew_columns:\n",
        "    data[c] = np.log1p(data[c].values)"
      ]
    },
    {
      "cell_type": "code",
      "execution_count": 15,
      "metadata": {
        "colab": {
          "base_uri": "https://localhost:8080/",
          "height": 624
        },
        "id": "R4Uax5aRUWxp",
        "outputId": "c8446956-072a-45fa-ec20-26b7dc51af8e"
      },
      "outputs": [
        {
          "output_type": "display_data",
          "data": {
            "text/plain": [
              "<Figure size 360x720 with 8 Axes>"
            ],
            "image/png": "[encoded data removed]"
          },
          "metadata": {
            "needs_background": "light"
          }
        }
      ],
      "source": [
        "# 데이터 확인 \n",
        "fig, ax = plt.subplots(4, 2, figsize=(5, 10))\n",
        "\n",
        "count = 0\n",
        "for row in range(4):\n",
        "    for col in range(2):\n",
        "        if count == 7:\n",
        "            break\n",
        "        sns.kdeplot(data=data[skew_columns[count]], ax=ax[row][col])\n",
        "        ax[row][col].set_title(skew_columns[count], fontsize=15)\n",
        "        count += 1"
      ]
    },
    {
      "cell_type": "markdown",
      "metadata": {
        "id": "YTMvrTobzlNr"
      },
      "source": [
        "- data 이상치 확인"
      ]
    },
    {
      "cell_type": "code",
      "execution_count": 16,
      "metadata": {
        "colab": {
          "base_uri": "https://localhost:8080/",
          "height": 388
        },
        "id": "OECIwt0jzkn4",
        "outputId": "226e00c4-302b-45bf-dfae-230992d45ba9"
      },
      "outputs": [
        {
          "output_type": "execute_result",
          "data": {
            "text/plain": [
              "<matplotlib.axes._subplots.AxesSubplot at 0x7f8130ece310>"
            ]
          },
          "metadata": {},
          "execution_count": 16
        },
        {
          "output_type": "display_data",
          "data": {
            "text/plain": [
              "<Figure size 1440x576 with 6 Axes>"
            ],
            "image/png": "[encoded data removed]"
          },
          "metadata": {
            "needs_background": "light"
          }
        }
      ],
      "source": [
        "# 이상치 확인 \n",
        "\n",
        "plt.figure(figsize=(20,8))\n",
        "plt.subplot(231)\n",
        "sns.boxplot(x=data.sqft_living)\n",
        "\n",
        "plt.subplot(232)\n",
        "sns.boxplot(x=data.sqft_lot)\n",
        "\n",
        "plt.subplot(233)\n",
        "sns.boxplot(x=data.sqft_above)\n",
        "\n",
        "plt.subplot(234)\n",
        "sns.boxplot(x=data.sqft_basement)\n",
        "\n",
        "plt.subplot(235)\n",
        "sns.boxplot(x=data.sqft_living15)\n",
        "\n",
        "plt.subplot(236)\n",
        "sns.boxplot(x=data.sqft_lot15)"
      ]
    },
    {
      "cell_type": "code",
      "execution_count": 17,
      "metadata": {
        "colab": {
          "base_uri": "https://localhost:8080/",
          "height": 389
        },
        "id": "qRhidVr5zn4x",
        "outputId": "7f0229c5-dcf0-44dd-ae86-074932944768"
      },
      "outputs": [
        {
          "output_type": "execute_result",
          "data": {
            "text/plain": [
              "<matplotlib.axes._subplots.AxesSubplot at 0x7f8130ca2fd0>"
            ]
          },
          "metadata": {},
          "execution_count": 17
        },
        {
          "output_type": "display_data",
          "data": {
            "text/plain": [
              "<Figure size 1440x576 with 6 Axes>"
            ],
            "image/png": "[encoded data removed]"
          },
          "metadata": {
            "needs_background": "light"
          }
        }
      ],
      "source": [
        "plt.figure(figsize=(20,8))\n",
        "\n",
        "plt.subplot(231)\n",
        "sns.boxplot(x=data.bedrooms)\n",
        "\n",
        "plt.subplot(232)\n",
        "sns.boxplot(x=data.bathrooms)\n",
        "\n",
        "plt.subplot(233)\n",
        "sns.boxplot(x=data.floors)\n",
        "\n",
        "plt.subplot(234)\n",
        "sns.boxplot(x=data.view)\n",
        "\n",
        "plt.subplot(235)\n",
        "sns.boxplot(x=data.condition)\n",
        "\n",
        "plt.subplot(236)\n",
        "sns.boxplot(x=data.grade)"
      ]
    },
    {
      "cell_type": "code",
      "source": [
        "def outlier_iqr(data, column): \n",
        "\n",
        "    # lower, upper 글로벌 변수 선언하기     \n",
        "    global lower, upper    \n",
        "    \n",
        "    # 4분위수 기준 지정하기     \n",
        "    q1, q3 = np.quantile(data[column], 0.25), np.quantile(data[column], 0.75)          \n",
        "    \n",
        "    # IQR 계산하기     \n",
        "    iqr = q3 - q1    \n",
        "    \n",
        "    # outlier cutoff 계산하기     \n",
        "    cut_off = iqr * 1.5          \n",
        "    \n",
        "    # lower와 upper bound 값 구하기     \n",
        "    lower, upper = q1 - cut_off, q3 + cut_off     \n",
        "    \n",
        "    print('IQR은',iqr, '이다.')     \n",
        "    print('lower bound 값은', lower, '이다.')     \n",
        "    print('upper bound 값은', upper, '이다.')    \n",
        "    \n",
        "    # 1사 분위와 4사 분위에 속해있는 데이터 각각 저장하기     \n",
        "    data1 = data[data[column] > upper]     \n",
        "    data2 = data[data[column] < lower]    \n",
        "    \n",
        "    # 이상치 총 개수 구하기\n",
        "    return print('총 이상치 개수는', data1.shape[0] + data2.shape[0], '이다.')"
      ],
      "metadata": {
        "id": "T7b4iYfviTh8"
      },
      "execution_count": 18,
      "outputs": []
    },
    {
      "cell_type": "code",
      "source": [
        "outlier_iqr(data,'sqft_living')"
      ],
      "metadata": {
        "colab": {
          "base_uri": "https://localhost:8080/"
        },
        "id": "4ZG7_q56iea9",
        "outputId": "528cf6f2-bcfb-48ea-8661-030f89cd6b57"
      },
      "execution_count": 19,
      "outputs": [
        {
          "output_type": "stream",
          "name": "stdout",
          "text": [
            "IQR은 0.5781119385853604 이다.\n",
            "lower bound 값은 6.39896087167841 이다.\n",
            "upper bound 값은 8.711408626019852 이다.\n",
            "총 이상치 개수는 118 이다.\n"
          ]
        }
      ]
    },
    {
      "cell_type": "code",
      "execution_count": 20,
      "metadata": {
        "id": "F-CsdZ2M5tnB"
      },
      "outputs": [],
      "source": [
        "# 데이터 추가\n",
        "\n",
        "\n",
        "# 방의 전체 갯수 \n",
        "data['total_rooms'] = data['bedrooms'] + data['bathrooms']\n",
        "\n",
        "# 재건축 여부 \n",
        "data['is_renovated'] = data['yr_renovated'] - data['yr_built']\n",
        "data['is_renovated'] = data['is_renovated'].apply(lambda x: 0 if x == 0 else 1)\n",
        "data['date'] = data['date'].astype('int')\n"
      ]
    },
    {
      "cell_type": "code",
      "execution_count": 37,
      "metadata": {
        "colab": {
          "base_uri": "https://localhost:8080/"
        },
        "id": "-vpgBl507lnh",
        "outputId": "00d4c3fd-9856-4a3e-9dd3-9291b7abe082"
      },
      "outputs": [
        {
          "output_type": "execute_result",
          "data": {
            "text/plain": [
              "<bound method Index.sort of Index(['date', 'bedrooms', 'bathrooms', 'sqft_living', 'sqft_lot', 'floors',\n",
              "       'waterfront', 'view', 'condition', 'grade', 'sqft_above',\n",
              "       'sqft_basement', 'yr_built', 'yr_renovated', 'zipcode', 'lat', 'long',\n",
              "       'sqft_living15', 'sqft_lot15', 'total_rooms', 'is_renovated',\n",
              "       'zipcode_mean', 'zipcode_var'],\n",
              "      dtype='object')>"
            ]
          },
          "metadata": {},
          "execution_count": 37
        }
      ],
      "source": [
        "data.keys().sort"
      ]
    },
    {
      "cell_type": "code",
      "execution_count": 38,
      "metadata": {
        "colab": {
          "base_uri": "https://localhost:8080/"
        },
        "id": "Nct8OdkD8tAy",
        "outputId": "f9889e1d-165a-4def-e98c-4f00bc1e3274"
      },
      "outputs": [
        {
          "output_type": "stream",
          "name": "stdout",
          "text": [
            "(15035, 23)\n",
            "(6468, 23)\n",
            "(15035,)\n",
            "(6468,)\n"
          ]
        }
      ],
      "source": [
        "sub_x = data.iloc[train_len:, :]\n",
        "x = data.iloc[:train_len, :]\n",
        "sub_y = y.iloc[train_len:]\n",
        "y = y.iloc[:train_len]\n",
        "\n",
        "print(x.shape)\n",
        "print(sub_x.shape)\n",
        "print(y.shape)\n",
        "print(sub_y.shape)"
      ]
    },
    {
      "cell_type": "markdown",
      "metadata": {
        "id": "bgrrhAaz-MJ6"
      },
      "source": [
        "## 3. 모델 설계"
      ]
    },
    {
      "cell_type": "code",
      "execution_count": 39,
      "metadata": {
        "id": "kLIjxab-9EMF"
      },
      "outputs": [],
      "source": [
        "from sklearn.model_selection import train_test_split\n",
        "from sklearn.metrics import mean_squared_error\n",
        "from sklearn.ensemble import GradientBoostingRegressor, RandomForestRegressor\n",
        "import xgboost as xgb\n",
        "import lightgbm as lgb"
      ]
    },
    {
      "cell_type": "markdown",
      "metadata": {
        "id": "P08TUiVBA8dk"
      },
      "source": [
        "- RMSE 계산"
      ]
    },
    {
      "cell_type": "code",
      "execution_count": 40,
      "metadata": {
        "id": "nPSek_HbBWkb"
      },
      "outputs": [],
      "source": [
        "def rmse(y_test, y_pred):\n",
        "    return np.sqrt(mean_squared_error(np.expm1(y_test), np.expm1(y_pred)))"
      ]
    },
    {
      "cell_type": "markdown",
      "metadata": {
        "id": "WSeHDrOOBYGA"
      },
      "source": [
        "- XGBRegressor, LGBMRegressor, GradientBoostingRegressor, RandomForestRegressor 네 가지 모델 가져오기"
      ]
    },
    {
      "cell_type": "code",
      "execution_count": 57,
      "metadata": {
        "id": "HzufcYhO-21U"
      },
      "outputs": [],
      "source": [
        "random_state = 10\n",
        "\n",
        "gboost = GradientBoostingRegressor(random_state = random_state)\n",
        "xgboost = xgb.XGBRegressor(random_state = random_state)\n",
        "lightgbm = lgb.LGBMRegressor(random_state = random_state)\n",
        "rdforest = RandomForestRegressor(random_state=random_state)\n",
        "\n",
        "models = [gboost, xgboost, lightgbm, rdforest]"
      ]
    },
    {
      "cell_type": "code",
      "execution_count": 42,
      "metadata": {
        "id": "my1KOlo7-4n9"
      },
      "outputs": [],
      "source": [
        "def get_scores(models, train, y):\n",
        "    df = {}\n",
        "    \n",
        "    for model in models:\n",
        "        model_name = model.__class__.__name__\n",
        "        \n",
        "        X_train, X_test, y_train, y_test = train_test_split(\n",
        "            x, y, random_state=random_state,\n",
        "            test_size = 0.2\n",
        "        )\n",
        "        model.fit(X_train, y_train)\n",
        "        y_pred = model.predict(X_test)\n",
        "        \n",
        "        df[model_name] = rmse(y_pred, y_test)\n",
        "        score_df = pd.DataFrame(df, index=['RMSE']).T.sort_values('RMSE', ascending=False)\n",
        "        \n",
        "    return score_df\n"
      ]
    },
    {
      "cell_type": "code",
      "execution_count": 44,
      "metadata": {
        "colab": {
          "base_uri": "https://localhost:8080/"
        },
        "id": "VG0z3nneIstZ",
        "outputId": "76933fe2-bc57-426d-af3d-100a365b14e4"
      },
      "outputs": [
        {
          "output_type": "stream",
          "name": "stdout",
          "text": [
            "[11:28:00] WARNING: /workspace/src/objective/regression_obj.cu:152: reg:linear is now deprecated in favor of reg:squarederror.\n",
            "10                                     RMSE\n",
            "RandomForestRegressor      124034.074274\n",
            "XGBRegressor               119324.439081\n",
            "GradientBoostingRegressor  118999.677767\n",
            "LGBMRegressor              103826.717882\n",
            "[11:28:18] WARNING: /workspace/src/objective/regression_obj.cu:152: reg:linear is now deprecated in favor of reg:squarederror.\n",
            "11                                     RMSE\n",
            "XGBRegressor               129918.211710\n",
            "GradientBoostingRegressor  125784.135115\n",
            "RandomForestRegressor      116641.995785\n",
            "LGBMRegressor              107771.322778\n",
            "[11:28:35] WARNING: /workspace/src/objective/regression_obj.cu:152: reg:linear is now deprecated in favor of reg:squarederror.\n",
            "12                                     RMSE\n",
            "XGBRegressor               151724.492671\n",
            "GradientBoostingRegressor  149088.666920\n",
            "RandomForestRegressor      132647.154556\n",
            "LGBMRegressor              128323.888832\n",
            "[11:28:54] WARNING: /workspace/src/objective/regression_obj.cu:152: reg:linear is now deprecated in favor of reg:squarederror.\n",
            "13                                     RMSE\n",
            "XGBRegressor               157989.457271\n",
            "GradientBoostingRegressor  150291.887013\n",
            "RandomForestRegressor      146603.252732\n",
            "LGBMRegressor              137984.924662\n",
            "[11:29:11] WARNING: /workspace/src/objective/regression_obj.cu:152: reg:linear is now deprecated in favor of reg:squarederror.\n",
            "14                                     RMSE\n",
            "XGBRegressor               141841.103502\n",
            "GradientBoostingRegressor  140982.833387\n",
            "RandomForestRegressor      137448.139379\n",
            "LGBMRegressor              126597.469183\n",
            "[11:29:29] WARNING: /workspace/src/objective/regression_obj.cu:152: reg:linear is now deprecated in favor of reg:squarederror.\n",
            "15                                     RMSE\n",
            "XGBRegressor               134383.855971\n",
            "GradientBoostingRegressor  132892.896686\n",
            "RandomForestRegressor      131219.248456\n",
            "LGBMRegressor              112165.622402\n",
            "[11:29:47] WARNING: /workspace/src/objective/regression_obj.cu:152: reg:linear is now deprecated in favor of reg:squarederror.\n",
            "16                                     RMSE\n",
            "XGBRegressor               147120.970768\n",
            "RandomForestRegressor      146037.543120\n",
            "GradientBoostingRegressor  137309.201485\n",
            "LGBMRegressor              124552.955313\n",
            "[11:30:04] WARNING: /workspace/src/objective/regression_obj.cu:152: reg:linear is now deprecated in favor of reg:squarederror.\n",
            "17                                     RMSE\n",
            "XGBRegressor               158369.222869\n",
            "GradientBoostingRegressor  154451.605213\n",
            "RandomForestRegressor      150440.611123\n",
            "LGBMRegressor              129569.271210\n",
            "[11:30:22] WARNING: /workspace/src/objective/regression_obj.cu:152: reg:linear is now deprecated in favor of reg:squarederror.\n",
            "18                                     RMSE\n",
            "GradientBoostingRegressor  133528.206532\n",
            "XGBRegressor               132058.301950\n",
            "RandomForestRegressor      122564.972238\n",
            "LGBMRegressor              111683.016995\n",
            "[11:30:40] WARNING: /workspace/src/objective/regression_obj.cu:152: reg:linear is now deprecated in favor of reg:squarederror.\n",
            "19                                     RMSE\n",
            "GradientBoostingRegressor  154253.568784\n",
            "XGBRegressor               154165.468335\n",
            "RandomForestRegressor      139075.839004\n",
            "LGBMRegressor              135498.285790\n"
          ]
        }
      ],
      "source": [
        "for i in range(10,20):\n",
        "  random_state = i\n",
        "  print(i, get_scores(models, x, y))\n"
      ]
    },
    {
      "cell_type": "code",
      "source": [
        "get_scores(models, x, y)"
      ],
      "metadata": {
        "colab": {
          "base_uri": "https://localhost:8080/",
          "height": 212
        },
        "id": "ARnL4O2_vN8k",
        "outputId": "c47331ee-430a-4788-ab91-9a4cf7f6b75e"
      },
      "execution_count": 46,
      "outputs": [
        {
          "output_type": "stream",
          "name": "stdout",
          "text": [
            "[11:31:24] WARNING: /workspace/src/objective/regression_obj.cu:152: reg:linear is now deprecated in favor of reg:squarederror.\n"
          ]
        },
        {
          "output_type": "execute_result",
          "data": {
            "text/plain": [
              "                                    RMSE\n",
              "RandomForestRegressor      123430.129203\n",
              "XGBRegressor               119324.439081\n",
              "GradientBoostingRegressor  118954.930571\n",
              "LGBMRegressor              103826.717882"
            ],
            "text/html": [
              "\n",
              "  <div id=\"df-25776ed8-1fee-4310-90ac-497b6274e85d\">\n",
              "    <div class=\"colab-df-container\">\n",
              "      <div>\n",
              "<style scoped>\n",
              "    .dataframe tbody tr th:only-of-type {\n",
              "        vertical-align: middle;\n",
              "    }\n",
              "\n",
              "    .dataframe tbody tr th {\n",
              "        vertical-align: top;\n",
              "    }\n",
              "\n",
              "    .dataframe thead th {\n",
              "        text-align: right;\n",
              "    }\n",
              "</style>\n",
              "<table border=\"1\" class=\"dataframe\">\n",
              "  <thead>\n",
              "    <tr style=\"text-align: right;\">\n",
              "      <th></th>\n",
              "      <th>RMSE</th>\n",
              "    </tr>\n",
              "  </thead>\n",
              "  <tbody>\n",
              "    <tr>\n",
              "      <th>RandomForestRegressor</th>\n",
              "      <td>123430.129203</td>\n",
              "    </tr>\n",
              "    <tr>\n",
              "      <th>XGBRegressor</th>\n",
              "      <td>119324.439081</td>\n",
              "    </tr>\n",
              "    <tr>\n",
              "      <th>GradientBoostingRegressor</th>\n",
              "      <td>118954.930571</td>\n",
              "    </tr>\n",
              "    <tr>\n",
              "      <th>LGBMRegressor</th>\n",
              "      <td>103826.717882</td>\n",
              "    </tr>\n",
              "  </tbody>\n",
              "</table>\n",
              "</div>\n",
              "      <button class=\"colab-df-convert\" onclick=\"convertToInteractive('df-25776ed8-1fee-4310-90ac-497b6274e85d')\"\n",
              "              title=\"Convert this dataframe to an interactive table.\"\n",
              "              style=\"display:none;\">\n",
              "        \n",
              "  <svg xmlns=\"http://www.w3.org/2000/svg\" height=\"24px\"viewBox=\"0 0 24 24\"\n",
              "       width=\"24px\">\n",
              "    <path d=\"M0 0h24v24H0V0z\" fill=\"none\"/>\n",
              "    <path d=\"M18.56 5.44l.94 2.06.94-2.06 2.06-.94-2.06-.94-.94-2.06-.94 2.06-2.06.94zm-11 1L8.5 8.5l.94-2.06 2.06-.94-2.06-.94L8.5 2.5l-.94 2.06-2.06.94zm10 10l.94 2.06.94-2.06 2.06-.94-2.06-.94-.94-2.06-.94 2.06-2.06.94z\"/><path d=\"M17.41 7.96l-1.37-1.37c-.4-.4-.92-.59-1.43-.59-.52 0-1.04.2-1.43.59L10.3 9.45l-7.72 7.72c-.78.78-.78 2.05 0 2.83L4 21.41c.39.39.9.59 1.41.59.51 0 1.02-.2 1.41-.59l7.78-7.78 2.81-2.81c.8-.78.8-2.07 0-2.86zM5.41 20L4 18.59l7.72-7.72 1.47 1.35L5.41 20z\"/>\n",
              "  </svg>\n",
              "      </button>\n",
              "      \n",
              "  <style>\n",
              "    .colab-df-container {\n",
              "      display:flex;\n",
              "      flex-wrap:wrap;\n",
              "      gap: 12px;\n",
              "    }\n",
              "\n",
              "    .colab-df-convert {\n",
              "      background-color: #E8F0FE;\n",
              "      border: none;\n",
              "      border-radius: 50%;\n",
              "      cursor: pointer;\n",
              "      display: none;\n",
              "      fill: #1967D2;\n",
              "      height: 32px;\n",
              "      padding: 0 0 0 0;\n",
              "      width: 32px;\n",
              "    }\n",
              "\n",
              "    .colab-df-convert:hover {\n",
              "      background-color: #E2EBFA;\n",
              "      box-shadow: 0px 1px 2px rgba(60, 64, 67, 0.3), 0px 1px 3px 1px rgba(60, 64, 67, 0.15);\n",
              "      fill: #174EA6;\n",
              "    }\n",
              "\n",
              "    [theme=dark] .colab-df-convert {\n",
              "      background-color: #3B4455;\n",
              "      fill: #D2E3FC;\n",
              "    }\n",
              "\n",
              "    [theme=dark] .colab-df-convert:hover {\n",
              "      background-color: #434B5C;\n",
              "      box-shadow: 0px 1px 3px 1px rgba(0, 0, 0, 0.15);\n",
              "      filter: drop-shadow(0px 1px 2px rgba(0, 0, 0, 0.3));\n",
              "      fill: #FFFFFF;\n",
              "    }\n",
              "  </style>\n",
              "\n",
              "      <script>\n",
              "        const buttonEl =\n",
              "          document.querySelector('#df-25776ed8-1fee-4310-90ac-497b6274e85d button.colab-df-convert');\n",
              "        buttonEl.style.display =\n",
              "          google.colab.kernel.accessAllowed ? 'block' : 'none';\n",
              "\n",
              "        async function convertToInteractive(key) {\n",
              "          const element = document.querySelector('#df-25776ed8-1fee-4310-90ac-497b6274e85d');\n",
              "          const dataTable =\n",
              "            await google.colab.kernel.invokeFunction('convertToInteractive',\n",
              "                                                     [key], {});\n",
              "          if (!dataTable) return;\n",
              "\n",
              "          const docLinkHtml = 'Like what you see? Visit the ' +\n",
              "            '<a target=\"_blank\" href=https://colab.research.google.com/notebooks/data_table.ipynb>data table notebook</a>'\n",
              "            + ' to learn more about interactive tables.';\n",
              "          element.innerHTML = '';\n",
              "          dataTable['output_type'] = 'display_data';\n",
              "          await google.colab.output.renderOutput(dataTable, element);\n",
              "          const docLink = document.createElement('div');\n",
              "          docLink.innerHTML = docLinkHtml;\n",
              "          element.appendChild(docLink);\n",
              "        }\n",
              "      </script>\n",
              "    </div>\n",
              "  </div>\n",
              "  "
            ]
          },
          "metadata": {},
          "execution_count": 46
        }
      ]
    },
    {
      "cell_type": "markdown",
      "metadata": {
        "id": "MnNxprW7QjIn"
      },
      "source": [
        "## 4. 하이퍼 파라미터 튜닝. 그리드 탐색"
      ]
    },
    {
      "cell_type": "code",
      "execution_count": 47,
      "metadata": {
        "id": "tXeIeESKFiUM"
      },
      "outputs": [],
      "source": [
        "from sklearn.model_selection import GridSearchCV\n",
        "\n",
        "def my_GridSearch(model, data, y, param_grid, verbose=2, n_jobs=5):\n",
        "  # 모델 초기화\n",
        "    grid_model = GridSearchCV(model, param_grid= param_grid, \n",
        "                              scoring= 'neg_mean_squared_error',\n",
        "                              cv=5,\n",
        "                              verbose = verbose,\n",
        "                              n_jobs= n_jobs)\n",
        "  \n",
        "  # fitting\n",
        "    grid_model.fit(data, y)\n",
        "  \n",
        "  # 결과값 저장\n",
        "    params = grid_model.cv_results_['params']\n",
        "    score = grid_model.cv_results_['mean_test_score']\n",
        "  \n",
        "  #데이터 프레임 생성\n",
        "    results = pd.DataFrame(params)\n",
        "    results['score'] = score\n",
        "  \n",
        "  # RMSLE 값 계산 후 정렬\n",
        "    results['RMSLE'] = np.sqrt(-1*results['score'])\n",
        "    results = results.sort_values('RMSLE')\n",
        "  \n",
        "    return results"
      ]
    },
    {
      "cell_type": "code",
      "execution_count": 48,
      "metadata": {
        "id": "xd6YYTGoQtr9",
        "colab": {
          "base_uri": "https://localhost:8080/"
        },
        "outputId": "4f8e30f9-a07c-4d9b-e481-3d5793708aa9"
      },
      "outputs": [
        {
          "output_type": "stream",
          "name": "stdout",
          "text": [
            "Fitting 5 folds for each of 27 candidates, totalling 135 fits\n",
            "Fitting 5 folds for each of 27 candidates, totalling 135 fits\n"
          ]
        },
        {
          "output_type": "execute_result",
          "data": {
            "text/plain": [
              "GridSearchCV(cv=5, estimator=LGBMRegressor(random_state=10), n_jobs=5,\n",
              "             param_grid={'learning_rate': [0.001, 0.01, 0.1],\n",
              "                         'max_depth': [1, 5, 10],\n",
              "                         'n_estimators': [50, 100, 200]},\n",
              "             scoring='neg_mean_squared_error', verbose=1)"
            ]
          },
          "metadata": {},
          "execution_count": 48
        }
      ],
      "source": [
        "from lightgbm import LGBMRegressor, LGBMClassifier, Booster\n",
        "\n",
        "param_grid = {\n",
        "    'n_estimators': [50, 100, 200],\n",
        "    'max_depth': [1, 5, 10],\n",
        "    'learning_rate' : [0.001, 0.01, 0.1],\n",
        "}\n",
        "\n",
        "model = LGBMRegressor(random_state=random_state)\n",
        "my_GridSearch(model, x, y, param_grid, verbose=2, n_jobs=5)\n",
        "\n",
        "grid_model = GridSearchCV(model, param_grid=param_grid, \\\n",
        "                        scoring='neg_mean_squared_error', \\\n",
        "                        cv=5, verbose=1, n_jobs=5)\n",
        "\n",
        "grid_model.fit(x, y)"
      ]
    },
    {
      "cell_type": "code",
      "execution_count": 49,
      "metadata": {
        "id": "OZ9jVuJJRG2h",
        "colab": {
          "base_uri": "https://localhost:8080/"
        },
        "outputId": "b666504e-cd42-4533-bbc1-e4e24890bc8d"
      },
      "outputs": [
        {
          "output_type": "execute_result",
          "data": {
            "text/plain": [
              "[{'learning_rate': 0.001, 'max_depth': 1, 'n_estimators': 50},\n",
              " {'learning_rate': 0.001, 'max_depth': 1, 'n_estimators': 100},\n",
              " {'learning_rate': 0.001, 'max_depth': 1, 'n_estimators': 200},\n",
              " {'learning_rate': 0.001, 'max_depth': 5, 'n_estimators': 50},\n",
              " {'learning_rate': 0.001, 'max_depth': 5, 'n_estimators': 100},\n",
              " {'learning_rate': 0.001, 'max_depth': 5, 'n_estimators': 200},\n",
              " {'learning_rate': 0.001, 'max_depth': 10, 'n_estimators': 50},\n",
              " {'learning_rate': 0.001, 'max_depth': 10, 'n_estimators': 100},\n",
              " {'learning_rate': 0.001, 'max_depth': 10, 'n_estimators': 200},\n",
              " {'learning_rate': 0.01, 'max_depth': 1, 'n_estimators': 50},\n",
              " {'learning_rate': 0.01, 'max_depth': 1, 'n_estimators': 100},\n",
              " {'learning_rate': 0.01, 'max_depth': 1, 'n_estimators': 200},\n",
              " {'learning_rate': 0.01, 'max_depth': 5, 'n_estimators': 50},\n",
              " {'learning_rate': 0.01, 'max_depth': 5, 'n_estimators': 100},\n",
              " {'learning_rate': 0.01, 'max_depth': 5, 'n_estimators': 200},\n",
              " {'learning_rate': 0.01, 'max_depth': 10, 'n_estimators': 50},\n",
              " {'learning_rate': 0.01, 'max_depth': 10, 'n_estimators': 100},\n",
              " {'learning_rate': 0.01, 'max_depth': 10, 'n_estimators': 200},\n",
              " {'learning_rate': 0.1, 'max_depth': 1, 'n_estimators': 50},\n",
              " {'learning_rate': 0.1, 'max_depth': 1, 'n_estimators': 100},\n",
              " {'learning_rate': 0.1, 'max_depth': 1, 'n_estimators': 200},\n",
              " {'learning_rate': 0.1, 'max_depth': 5, 'n_estimators': 50},\n",
              " {'learning_rate': 0.1, 'max_depth': 5, 'n_estimators': 100},\n",
              " {'learning_rate': 0.1, 'max_depth': 5, 'n_estimators': 200},\n",
              " {'learning_rate': 0.1, 'max_depth': 10, 'n_estimators': 50},\n",
              " {'learning_rate': 0.1, 'max_depth': 10, 'n_estimators': 100},\n",
              " {'learning_rate': 0.1, 'max_depth': 10, 'n_estimators': 200}]"
            ]
          },
          "metadata": {},
          "execution_count": 49
        }
      ],
      "source": [
        "params = grid_model.cv_results_['params']\n",
        "params"
      ]
    },
    {
      "cell_type": "code",
      "execution_count": 50,
      "metadata": {
        "id": "euARip_tRI6I",
        "colab": {
          "base_uri": "https://localhost:8080/"
        },
        "outputId": "78157743-597a-4c4e-8716-04a8aebdd4c2"
      },
      "outputs": [
        {
          "output_type": "execute_result",
          "data": {
            "text/plain": [
              "array([-0.27000114, -0.26214554, -0.24723924, -0.25829927, -0.2399497 ,\n",
              "       -0.20816306, -0.25803527, -0.23938464, -0.20707587, -0.20969693,\n",
              "       -0.16604514, -0.11887778, -0.14080834, -0.08370976, -0.04662331,\n",
              "       -0.13865942, -0.08106988, -0.04379887, -0.07326147, -0.05481751,\n",
              "       -0.04502649, -0.03144479, -0.02857194, -0.02699604, -0.02917937,\n",
              "       -0.02709582, -0.02635802])"
            ]
          },
          "metadata": {},
          "execution_count": 50
        }
      ],
      "source": [
        "score = grid_model.cv_results_['mean_test_score']\n",
        "score"
      ]
    },
    {
      "cell_type": "code",
      "execution_count": 51,
      "metadata": {
        "id": "IYD7fZpcRMVH",
        "colab": {
          "base_uri": "https://localhost:8080/",
          "height": 896
        },
        "outputId": "78348a0f-f5a5-4988-8baa-6e0316d4f1aa"
      },
      "outputs": [
        {
          "output_type": "execute_result",
          "data": {
            "text/plain": [
              "    learning_rate  max_depth  n_estimators     score     RMSLE\n",
              "26          0.100         10           200 -0.026358  0.162352\n",
              "23          0.100          5           200 -0.026996  0.164305\n",
              "25          0.100         10           100 -0.027096  0.164608\n",
              "22          0.100          5           100 -0.028572  0.169032\n",
              "24          0.100         10            50 -0.029179  0.170820\n",
              "21          0.100          5            50 -0.031445  0.177327\n",
              "17          0.010         10           200 -0.043799  0.209282\n",
              "20          0.100          1           200 -0.045026  0.212194\n",
              "14          0.010          5           200 -0.046623  0.215924\n",
              "19          0.100          1           100 -0.054818  0.234131\n",
              "18          0.100          1            50 -0.073261  0.270669\n",
              "16          0.010         10           100 -0.081070  0.284728\n",
              "13          0.010          5           100 -0.083710  0.289326\n",
              "11          0.010          1           200 -0.118878  0.344787\n",
              "15          0.010         10            50 -0.138659  0.372370\n",
              "12          0.010          5            50 -0.140808  0.375244\n",
              "10          0.010          1           100 -0.166045  0.407486\n",
              "8           0.001         10           200 -0.207076  0.455056\n",
              "5           0.001          5           200 -0.208163  0.456249\n",
              "9           0.010          1            50 -0.209697  0.457927\n",
              "7           0.001         10           100 -0.239385  0.489269\n",
              "4           0.001          5           100 -0.239950  0.489847\n",
              "2           0.001          1           200 -0.247239  0.497232\n",
              "6           0.001         10            50 -0.258035  0.507972\n",
              "3           0.001          5            50 -0.258299  0.508232\n",
              "1           0.001          1           100 -0.262146  0.512002\n",
              "0           0.001          1            50 -0.270001  0.519616"
            ],
            "text/html": [
              "\n",
              "  <div id=\"df-8d9175b8-c4d7-401a-97bd-32211323db13\">\n",
              "    <div class=\"colab-df-container\">\n",
              "      <div>\n",
              "<style scoped>\n",
              "    .dataframe tbody tr th:only-of-type {\n",
              "        vertical-align: middle;\n",
              "    }\n",
              "\n",
              "    .dataframe tbody tr th {\n",
              "        vertical-align: top;\n",
              "    }\n",
              "\n",
              "    .dataframe thead th {\n",
              "        text-align: right;\n",
              "    }\n",
              "</style>\n",
              "<table border=\"1\" class=\"dataframe\">\n",
              "  <thead>\n",
              "    <tr style=\"text-align: right;\">\n",
              "      <th></th>\n",
              "      <th>learning_rate</th>\n",
              "      <th>max_depth</th>\n",
              "      <th>n_estimators</th>\n",
              "      <th>score</th>\n",
              "      <th>RMSLE</th>\n",
              "    </tr>\n",
              "  </thead>\n",
              "  <tbody>\n",
              "    <tr>\n",
              "      <th>26</th>\n",
              "      <td>0.100</td>\n",
              "      <td>10</td>\n",
              "      <td>200</td>\n",
              "      <td>-0.026358</td>\n",
              "      <td>0.162352</td>\n",
              "    </tr>\n",
              "    <tr>\n",
              "      <th>23</th>\n",
              "      <td>0.100</td>\n",
              "      <td>5</td>\n",
              "      <td>200</td>\n",
              "      <td>-0.026996</td>\n",
              "      <td>0.164305</td>\n",
              "    </tr>\n",
              "    <tr>\n",
              "      <th>25</th>\n",
              "      <td>0.100</td>\n",
              "      <td>10</td>\n",
              "      <td>100</td>\n",
              "      <td>-0.027096</td>\n",
              "      <td>0.164608</td>\n",
              "    </tr>\n",
              "    <tr>\n",
              "      <th>22</th>\n",
              "      <td>0.100</td>\n",
              "      <td>5</td>\n",
              "      <td>100</td>\n",
              "      <td>-0.028572</td>\n",
              "      <td>0.169032</td>\n",
              "    </tr>\n",
              "    <tr>\n",
              "      <th>24</th>\n",
              "      <td>0.100</td>\n",
              "      <td>10</td>\n",
              "      <td>50</td>\n",
              "      <td>-0.029179</td>\n",
              "      <td>0.170820</td>\n",
              "    </tr>\n",
              "    <tr>\n",
              "      <th>21</th>\n",
              "      <td>0.100</td>\n",
              "      <td>5</td>\n",
              "      <td>50</td>\n",
              "      <td>-0.031445</td>\n",
              "      <td>0.177327</td>\n",
              "    </tr>\n",
              "    <tr>\n",
              "      <th>17</th>\n",
              "      <td>0.010</td>\n",
              "      <td>10</td>\n",
              "      <td>200</td>\n",
              "      <td>-0.043799</td>\n",
              "      <td>0.209282</td>\n",
              "    </tr>\n",
              "    <tr>\n",
              "      <th>20</th>\n",
              "      <td>0.100</td>\n",
              "      <td>1</td>\n",
              "      <td>200</td>\n",
              "      <td>-0.045026</td>\n",
              "      <td>0.212194</td>\n",
              "    </tr>\n",
              "    <tr>\n",
              "      <th>14</th>\n",
              "      <td>0.010</td>\n",
              "      <td>5</td>\n",
              "      <td>200</td>\n",
              "      <td>-0.046623</td>\n",
              "      <td>0.215924</td>\n",
              "    </tr>\n",
              "    <tr>\n",
              "      <th>19</th>\n",
              "      <td>0.100</td>\n",
              "      <td>1</td>\n",
              "      <td>100</td>\n",
              "      <td>-0.054818</td>\n",
              "      <td>0.234131</td>\n",
              "    </tr>\n",
              "    <tr>\n",
              "      <th>18</th>\n",
              "      <td>0.100</td>\n",
              "      <td>1</td>\n",
              "      <td>50</td>\n",
              "      <td>-0.073261</td>\n",
              "      <td>0.270669</td>\n",
              "    </tr>\n",
              "    <tr>\n",
              "      <th>16</th>\n",
              "      <td>0.010</td>\n",
              "      <td>10</td>\n",
              "      <td>100</td>\n",
              "      <td>-0.081070</td>\n",
              "      <td>0.284728</td>\n",
              "    </tr>\n",
              "    <tr>\n",
              "      <th>13</th>\n",
              "      <td>0.010</td>\n",
              "      <td>5</td>\n",
              "      <td>100</td>\n",
              "      <td>-0.083710</td>\n",
              "      <td>0.289326</td>\n",
              "    </tr>\n",
              "    <tr>\n",
              "      <th>11</th>\n",
              "      <td>0.010</td>\n",
              "      <td>1</td>\n",
              "      <td>200</td>\n",
              "      <td>-0.118878</td>\n",
              "      <td>0.344787</td>\n",
              "    </tr>\n",
              "    <tr>\n",
              "      <th>15</th>\n",
              "      <td>0.010</td>\n",
              "      <td>10</td>\n",
              "      <td>50</td>\n",
              "      <td>-0.138659</td>\n",
              "      <td>0.372370</td>\n",
              "    </tr>\n",
              "    <tr>\n",
              "      <th>12</th>\n",
              "      <td>0.010</td>\n",
              "      <td>5</td>\n",
              "      <td>50</td>\n",
              "      <td>-0.140808</td>\n",
              "      <td>0.375244</td>\n",
              "    </tr>\n",
              "    <tr>\n",
              "      <th>10</th>\n",
              "      <td>0.010</td>\n",
              "      <td>1</td>\n",
              "      <td>100</td>\n",
              "      <td>-0.166045</td>\n",
              "      <td>0.407486</td>\n",
              "    </tr>\n",
              "    <tr>\n",
              "      <th>8</th>\n",
              "      <td>0.001</td>\n",
              "      <td>10</td>\n",
              "      <td>200</td>\n",
              "      <td>-0.207076</td>\n",
              "      <td>0.455056</td>\n",
              "    </tr>\n",
              "    <tr>\n",
              "      <th>5</th>\n",
              "      <td>0.001</td>\n",
              "      <td>5</td>\n",
              "      <td>200</td>\n",
              "      <td>-0.208163</td>\n",
              "      <td>0.456249</td>\n",
              "    </tr>\n",
              "    <tr>\n",
              "      <th>9</th>\n",
              "      <td>0.010</td>\n",
              "      <td>1</td>\n",
              "      <td>50</td>\n",
              "      <td>-0.209697</td>\n",
              "      <td>0.457927</td>\n",
              "    </tr>\n",
              "    <tr>\n",
              "      <th>7</th>\n",
              "      <td>0.001</td>\n",
              "      <td>10</td>\n",
              "      <td>100</td>\n",
              "      <td>-0.239385</td>\n",
              "      <td>0.489269</td>\n",
              "    </tr>\n",
              "    <tr>\n",
              "      <th>4</th>\n",
              "      <td>0.001</td>\n",
              "      <td>5</td>\n",
              "      <td>100</td>\n",
              "      <td>-0.239950</td>\n",
              "      <td>0.489847</td>\n",
              "    </tr>\n",
              "    <tr>\n",
              "      <th>2</th>\n",
              "      <td>0.001</td>\n",
              "      <td>1</td>\n",
              "      <td>200</td>\n",
              "      <td>-0.247239</td>\n",
              "      <td>0.497232</td>\n",
              "    </tr>\n",
              "    <tr>\n",
              "      <th>6</th>\n",
              "      <td>0.001</td>\n",
              "      <td>10</td>\n",
              "      <td>50</td>\n",
              "      <td>-0.258035</td>\n",
              "      <td>0.507972</td>\n",
              "    </tr>\n",
              "    <tr>\n",
              "      <th>3</th>\n",
              "      <td>0.001</td>\n",
              "      <td>5</td>\n",
              "      <td>50</td>\n",
              "      <td>-0.258299</td>\n",
              "      <td>0.508232</td>\n",
              "    </tr>\n",
              "    <tr>\n",
              "      <th>1</th>\n",
              "      <td>0.001</td>\n",
              "      <td>1</td>\n",
              "      <td>100</td>\n",
              "      <td>-0.262146</td>\n",
              "      <td>0.512002</td>\n",
              "    </tr>\n",
              "    <tr>\n",
              "      <th>0</th>\n",
              "      <td>0.001</td>\n",
              "      <td>1</td>\n",
              "      <td>50</td>\n",
              "      <td>-0.270001</td>\n",
              "      <td>0.519616</td>\n",
              "    </tr>\n",
              "  </tbody>\n",
              "</table>\n",
              "</div>\n",
              "      <button class=\"colab-df-convert\" onclick=\"convertToInteractive('df-8d9175b8-c4d7-401a-97bd-32211323db13')\"\n",
              "              title=\"Convert this dataframe to an interactive table.\"\n",
              "              style=\"display:none;\">\n",
              "        \n",
              "  <svg xmlns=\"http://www.w3.org/2000/svg\" height=\"24px\"viewBox=\"0 0 24 24\"\n",
              "       width=\"24px\">\n",
              "    <path d=\"M0 0h24v24H0V0z\" fill=\"none\"/>\n",
              "    <path d=\"M18.56 5.44l.94 2.06.94-2.06 2.06-.94-2.06-.94-.94-2.06-.94 2.06-2.06.94zm-11 1L8.5 8.5l.94-2.06 2.06-.94-2.06-.94L8.5 2.5l-.94 2.06-2.06.94zm10 10l.94 2.06.94-2.06 2.06-.94-2.06-.94-.94-2.06-.94 2.06-2.06.94z\"/><path d=\"M17.41 7.96l-1.37-1.37c-.4-.4-.92-.59-1.43-.59-.52 0-1.04.2-1.43.59L10.3 9.45l-7.72 7.72c-.78.78-.78 2.05 0 2.83L4 21.41c.39.39.9.59 1.41.59.51 0 1.02-.2 1.41-.59l7.78-7.78 2.81-2.81c.8-.78.8-2.07 0-2.86zM5.41 20L4 18.59l7.72-7.72 1.47 1.35L5.41 20z\"/>\n",
              "  </svg>\n",
              "      </button>\n",
              "      \n",
              "  <style>\n",
              "    .colab-df-container {\n",
              "      display:flex;\n",
              "      flex-wrap:wrap;\n",
              "      gap: 12px;\n",
              "    }\n",
              "\n",
              "    .colab-df-convert {\n",
              "      background-color: #E8F0FE;\n",
              "      border: none;\n",
              "      border-radius: 50%;\n",
              "      cursor: pointer;\n",
              "      display: none;\n",
              "      fill: #1967D2;\n",
              "      height: 32px;\n",
              "      padding: 0 0 0 0;\n",
              "      width: 32px;\n",
              "    }\n",
              "\n",
              "    .colab-df-convert:hover {\n",
              "      background-color: #E2EBFA;\n",
              "      box-shadow: 0px 1px 2px rgba(60, 64, 67, 0.3), 0px 1px 3px 1px rgba(60, 64, 67, 0.15);\n",
              "      fill: #174EA6;\n",
              "    }\n",
              "\n",
              "    [theme=dark] .colab-df-convert {\n",
              "      background-color: #3B4455;\n",
              "      fill: #D2E3FC;\n",
              "    }\n",
              "\n",
              "    [theme=dark] .colab-df-convert:hover {\n",
              "      background-color: #434B5C;\n",
              "      box-shadow: 0px 1px 3px 1px rgba(0, 0, 0, 0.15);\n",
              "      filter: drop-shadow(0px 1px 2px rgba(0, 0, 0, 0.3));\n",
              "      fill: #FFFFFF;\n",
              "    }\n",
              "  </style>\n",
              "\n",
              "      <script>\n",
              "        const buttonEl =\n",
              "          document.querySelector('#df-8d9175b8-c4d7-401a-97bd-32211323db13 button.colab-df-convert');\n",
              "        buttonEl.style.display =\n",
              "          google.colab.kernel.accessAllowed ? 'block' : 'none';\n",
              "\n",
              "        async function convertToInteractive(key) {\n",
              "          const element = document.querySelector('#df-8d9175b8-c4d7-401a-97bd-32211323db13');\n",
              "          const dataTable =\n",
              "            await google.colab.kernel.invokeFunction('convertToInteractive',\n",
              "                                                     [key], {});\n",
              "          if (!dataTable) return;\n",
              "\n",
              "          const docLinkHtml = 'Like what you see? Visit the ' +\n",
              "            '<a target=\"_blank\" href=https://colab.research.google.com/notebooks/data_table.ipynb>data table notebook</a>'\n",
              "            + ' to learn more about interactive tables.';\n",
              "          element.innerHTML = '';\n",
              "          dataTable['output_type'] = 'display_data';\n",
              "          await google.colab.output.renderOutput(dataTable, element);\n",
              "          const docLink = document.createElement('div');\n",
              "          docLink.innerHTML = docLinkHtml;\n",
              "          element.appendChild(docLink);\n",
              "        }\n",
              "      </script>\n",
              "    </div>\n",
              "  </div>\n",
              "  "
            ]
          },
          "metadata": {},
          "execution_count": 51
        }
      ],
      "source": [
        "results = pd.DataFrame(params)\n",
        "results['score'] = score\n",
        "results['RMSLE'] = np.sqrt(-1 * results['score'])\n",
        "results.sort_values('RMSLE')\n"
      ]
    },
    {
      "cell_type": "code",
      "source": [
        ""
      ],
      "metadata": {
        "id": "0b-GotIEwwtg"
      },
      "execution_count": null,
      "outputs": []
    },
    {
      "cell_type": "markdown",
      "source": [
        "## 5. 제출하기"
      ],
      "metadata": {
        "id": "lyBXi6O8SsKS"
      }
    },
    {
      "cell_type": "code",
      "source": [
        "model = LGBMRegressor(learning_rate = 0.1, max_depth=10, n_estimators=200, random_state=random_state)\n",
        "model.fit(x, y)\n",
        "prediction = model.predict(sub_x)\n",
        "prediction = np.expm1(prediction)\n",
        "prediction"
      ],
      "metadata": {
        "colab": {
          "base_uri": "https://localhost:8080/"
        },
        "id": "ez-8juvrRxAA",
        "outputId": "d6d8f257-2d6b-46ab-b802-e56b7db24adc"
      },
      "execution_count": 52,
      "outputs": [
        {
          "output_type": "execute_result",
          "data": {
            "text/plain": [
              "array([ 491233.10410878,  504830.7553523 , 1477457.8945877 , ...,\n",
              "        473199.17348776,  332518.58980576,  436129.1580789 ])"
            ]
          },
          "metadata": {},
          "execution_count": 52
        }
      ]
    },
    {
      "cell_type": "code",
      "source": [
        "def save_submission(model, train, y, test, model_name, rmsle=None):\n",
        "    model.fit(train, y)\n",
        "    prediction = model.predict(test)\n",
        "    prediction = np.expm1(prediction)\n",
        "    submission_path = join(data_dir, 'sample_submission.csv')\n",
        "    submission = pd.read_csv(submission_path)\n",
        "    submission['price'] = prediction\n",
        "    submission_csv_path = '{}/submission_{}_RMSLE_{}.csv'.format(data_dir, model_name, rmsle)\n",
        "    submission.to_csv(submission_csv_path, index=False)\n",
        "    print('{} saved!'.format(submission_csv_path))"
      ],
      "metadata": {
        "id": "T544zZewVYx6"
      },
      "execution_count": 53,
      "outputs": []
    },
    {
      "cell_type": "code",
      "source": [
        "save_submission(model, x, y, sub_x, 'lgbm', rmsle='0.16231')"
      ],
      "metadata": {
        "colab": {
          "base_uri": "https://localhost:8080/"
        },
        "id": "OHEQDNIoVUJe",
        "outputId": "04ad6024-5c71-4cb1-fde3-b7d7b594ccd5"
      },
      "execution_count": 55,
      "outputs": [
        {
          "output_type": "stream",
          "name": "stdout",
          "text": [
            "/content/drive/MyDrive/0.AIFFEL/LMS node/Exp 04/data/submission_lgbm_RMSLE_0.16231.csv saved!\n"
          ]
        }
      ]
    },
    {
      "cell_type": "markdown",
      "source": [
        "Light GBM 사용 \n",
        "learning_rate = 0.1, max_depth=10, n_estimators=200, random_state=10\n",
        "\n",
        "![image.png](data:image/png;base64,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)"
      ],
      "metadata": {
        "id": "_jl6nrw6yK9_"
      }
    },
    {
      "cell_type": "code",
      "source": [
        "from sklearn.model_selection import RandomizedSearchCV\n",
        "\n",
        "def my_RandomSearch(model, train, y, param, n_iter= 5, verbose=1, n_jobs=5):\n",
        "  \n",
        "    # 1. GridSearchCV 모델로 `model`을 초기화\n",
        "    random_model = RandomizedSearchCV(model, param_distributions=param, \\\n",
        "                        scoring='neg_mean_squared_error', \\\n",
        "                              n_iter =  n_iter, \\\n",
        "                        cv=10, verbose=1, n_jobs=-1)\n",
        "    \n",
        "    # 2. 모델을 fitting\n",
        "    random_model.fit(train, y)\n",
        "    \n",
        "    # 3. params, score에 각 조합에 대한 결과를 저장\n",
        "    params = random_model.cv_results_['params']\n",
        "    score = random_model.cv_results_['mean_test_score']\n",
        "    \n",
        "    # 4. 데이터 프레임을 생성\n",
        "    results = pd.DataFrame(params)\n",
        "    results[\"score\"] = score\n",
        "    \n",
        "    # 5. RMSLE 값을 추가한 후 점수가 높은 순서로 정렬한 `results`를 반환\n",
        "    results['RMSLE'] = np.sqrt(-1 * results['score'])\n",
        "    \n",
        "    results = results.sort_values(\"RMSLE\")\n",
        "    return results"
      ],
      "metadata": {
        "id": "_lituvm716Fx"
      },
      "execution_count": 62,
      "outputs": []
    },
    {
      "cell_type": "code",
      "source": [
        "param = {\n",
        "    'n_estimators': [int(x) for x in range(370,390,2)],\n",
        "    'max_depth': [int(x) for x in range(8,10)],\n",
        "}\n",
        "n_iter = 100\n",
        "\n",
        "model = LGBMRegressor(learning_rate = 0.1, max_depth=10, n_estimators=200, random_state=random_state)\n",
        "my_RandomSearch(model, x, y, param, n_iter, verbose=1)"
      ],
      "metadata": {
        "colab": {
          "base_uri": "https://localhost:8080/",
          "height": 694
        },
        "id": "mNOzXAHd3BHY",
        "outputId": "f54374e9-4904-40d1-c9f9-2fb9403d706e"
      },
      "execution_count": 65,
      "outputs": [
        {
          "output_type": "stream",
          "name": "stdout",
          "text": [
            "Fitting 10 folds for each of 20 candidates, totalling 200 fits\n"
          ]
        },
        {
          "output_type": "execute_result",
          "data": {
            "text/plain": [
              "    n_estimators  max_depth     score     RMSLE\n",
              "10           370          9 -0.025881  0.160876\n",
              "11           372          9 -0.025885  0.160888\n",
              "9            388          8 -0.025887  0.160893\n",
              "2            374          8 -0.025888  0.160898\n",
              "8            386          8 -0.025889  0.160901\n",
              "7            384          8 -0.025892  0.160910\n",
              "3            376          8 -0.025892  0.160911\n",
              "13           376          9 -0.025893  0.160912\n",
              "12           374          9 -0.025894  0.160917\n",
              "1            372          8 -0.025897  0.160924\n",
              "6            382          8 -0.025899  0.160932\n",
              "14           378          9 -0.025899  0.160932\n",
              "5            380          8 -0.025900  0.160934\n",
              "0            370          8 -0.025900  0.160936\n",
              "18           386          9 -0.025902  0.160941\n",
              "4            378          8 -0.025904  0.160946\n",
              "15           380          9 -0.025905  0.160949\n",
              "17           384          9 -0.025905  0.160950\n",
              "19           388          9 -0.025906  0.160954\n",
              "16           382          9 -0.025912  0.160973"
            ],
            "text/html": [
              "\n",
              "  <div id=\"df-e84f9610-685d-4aa9-a9f8-374e7b11989f\">\n",
              "    <div class=\"colab-df-container\">\n",
              "      <div>\n",
              "<style scoped>\n",
              "    .dataframe tbody tr th:only-of-type {\n",
              "        vertical-align: middle;\n",
              "    }\n",
              "\n",
              "    .dataframe tbody tr th {\n",
              "        vertical-align: top;\n",
              "    }\n",
              "\n",
              "    .dataframe thead th {\n",
              "        text-align: right;\n",
              "    }\n",
              "</style>\n",
              "<table border=\"1\" class=\"dataframe\">\n",
              "  <thead>\n",
              "    <tr style=\"text-align: right;\">\n",
              "      <th></th>\n",
              "      <th>n_estimators</th>\n",
              "      <th>max_depth</th>\n",
              "      <th>score</th>\n",
              "      <th>RMSLE</th>\n",
              "    </tr>\n",
              "  </thead>\n",
              "  <tbody>\n",
              "    <tr>\n",
              "      <th>10</th>\n",
              "      <td>370</td>\n",
              "      <td>9</td>\n",
              "      <td>-0.025881</td>\n",
              "      <td>0.160876</td>\n",
              "    </tr>\n",
              "    <tr>\n",
              "      <th>11</th>\n",
              "      <td>372</td>\n",
              "      <td>9</td>\n",
              "      <td>-0.025885</td>\n",
              "      <td>0.160888</td>\n",
              "    </tr>\n",
              "    <tr>\n",
              "      <th>9</th>\n",
              "      <td>388</td>\n",
              "      <td>8</td>\n",
              "      <td>-0.025887</td>\n",
              "      <td>0.160893</td>\n",
              "    </tr>\n",
              "    <tr>\n",
              "      <th>2</th>\n",
              "      <td>374</td>\n",
              "      <td>8</td>\n",
              "      <td>-0.025888</td>\n",
              "      <td>0.160898</td>\n",
              "    </tr>\n",
              "    <tr>\n",
              "      <th>8</th>\n",
              "      <td>386</td>\n",
              "      <td>8</td>\n",
              "      <td>-0.025889</td>\n",
              "      <td>0.160901</td>\n",
              "    </tr>\n",
              "    <tr>\n",
              "      <th>7</th>\n",
              "      <td>384</td>\n",
              "      <td>8</td>\n",
              "      <td>-0.025892</td>\n",
              "      <td>0.160910</td>\n",
              "    </tr>\n",
              "    <tr>\n",
              "      <th>3</th>\n",
              "      <td>376</td>\n",
              "      <td>8</td>\n",
              "      <td>-0.025892</td>\n",
              "      <td>0.160911</td>\n",
              "    </tr>\n",
              "    <tr>\n",
              "      <th>13</th>\n",
              "      <td>376</td>\n",
              "      <td>9</td>\n",
              "      <td>-0.025893</td>\n",
              "      <td>0.160912</td>\n",
              "    </tr>\n",
              "    <tr>\n",
              "      <th>12</th>\n",
              "      <td>374</td>\n",
              "      <td>9</td>\n",
              "      <td>-0.025894</td>\n",
              "      <td>0.160917</td>\n",
              "    </tr>\n",
              "    <tr>\n",
              "      <th>1</th>\n",
              "      <td>372</td>\n",
              "      <td>8</td>\n",
              "      <td>-0.025897</td>\n",
              "      <td>0.160924</td>\n",
              "    </tr>\n",
              "    <tr>\n",
              "      <th>6</th>\n",
              "      <td>382</td>\n",
              "      <td>8</td>\n",
              "      <td>-0.025899</td>\n",
              "      <td>0.160932</td>\n",
              "    </tr>\n",
              "    <tr>\n",
              "      <th>14</th>\n",
              "      <td>378</td>\n",
              "      <td>9</td>\n",
              "      <td>-0.025899</td>\n",
              "      <td>0.160932</td>\n",
              "    </tr>\n",
              "    <tr>\n",
              "      <th>5</th>\n",
              "      <td>380</td>\n",
              "      <td>8</td>\n",
              "      <td>-0.025900</td>\n",
              "      <td>0.160934</td>\n",
              "    </tr>\n",
              "    <tr>\n",
              "      <th>0</th>\n",
              "      <td>370</td>\n",
              "      <td>8</td>\n",
              "      <td>-0.025900</td>\n",
              "      <td>0.160936</td>\n",
              "    </tr>\n",
              "    <tr>\n",
              "      <th>18</th>\n",
              "      <td>386</td>\n",
              "      <td>9</td>\n",
              "      <td>-0.025902</td>\n",
              "      <td>0.160941</td>\n",
              "    </tr>\n",
              "    <tr>\n",
              "      <th>4</th>\n",
              "      <td>378</td>\n",
              "      <td>8</td>\n",
              "      <td>-0.025904</td>\n",
              "      <td>0.160946</td>\n",
              "    </tr>\n",
              "    <tr>\n",
              "      <th>15</th>\n",
              "      <td>380</td>\n",
              "      <td>9</td>\n",
              "      <td>-0.025905</td>\n",
              "      <td>0.160949</td>\n",
              "    </tr>\n",
              "    <tr>\n",
              "      <th>17</th>\n",
              "      <td>384</td>\n",
              "      <td>9</td>\n",
              "      <td>-0.025905</td>\n",
              "      <td>0.160950</td>\n",
              "    </tr>\n",
              "    <tr>\n",
              "      <th>19</th>\n",
              "      <td>388</td>\n",
              "      <td>9</td>\n",
              "      <td>-0.025906</td>\n",
              "      <td>0.160954</td>\n",
              "    </tr>\n",
              "    <tr>\n",
              "      <th>16</th>\n",
              "      <td>382</td>\n",
              "      <td>9</td>\n",
              "      <td>-0.025912</td>\n",
              "      <td>0.160973</td>\n",
              "    </tr>\n",
              "  </tbody>\n",
              "</table>\n",
              "</div>\n",
              "      <button class=\"colab-df-convert\" onclick=\"convertToInteractive('df-e84f9610-685d-4aa9-a9f8-374e7b11989f')\"\n",
              "              title=\"Convert this dataframe to an interactive table.\"\n",
              "              style=\"display:none;\">\n",
              "        \n",
              "  <svg xmlns=\"http://www.w3.org/2000/svg\" height=\"24px\"viewBox=\"0 0 24 24\"\n",
              "       width=\"24px\">\n",
              "    <path d=\"M0 0h24v24H0V0z\" fill=\"none\"/>\n",
              "    <path d=\"M18.56 5.44l.94 2.06.94-2.06 2.06-.94-2.06-.94-.94-2.06-.94 2.06-2.06.94zm-11 1L8.5 8.5l.94-2.06 2.06-.94-2.06-.94L8.5 2.5l-.94 2.06-2.06.94zm10 10l.94 2.06.94-2.06 2.06-.94-2.06-.94-.94-2.06-.94 2.06-2.06.94z\"/><path d=\"M17.41 7.96l-1.37-1.37c-.4-.4-.92-.59-1.43-.59-.52 0-1.04.2-1.43.59L10.3 9.45l-7.72 7.72c-.78.78-.78 2.05 0 2.83L4 21.41c.39.39.9.59 1.41.59.51 0 1.02-.2 1.41-.59l7.78-7.78 2.81-2.81c.8-.78.8-2.07 0-2.86zM5.41 20L4 18.59l7.72-7.72 1.47 1.35L5.41 20z\"/>\n",
              "  </svg>\n",
              "      </button>\n",
              "      \n",
              "  <style>\n",
              "    .colab-df-container {\n",
              "      display:flex;\n",
              "      flex-wrap:wrap;\n",
              "      gap: 12px;\n",
              "    }\n",
              "\n",
              "    .colab-df-convert {\n",
              "      background-color: #E8F0FE;\n",
              "      border: none;\n",
              "      border-radius: 50%;\n",
              "      cursor: pointer;\n",
              "      display: none;\n",
              "      fill: #1967D2;\n",
              "      height: 32px;\n",
              "      padding: 0 0 0 0;\n",
              "      width: 32px;\n",
              "    }\n",
              "\n",
              "    .colab-df-convert:hover {\n",
              "      background-color: #E2EBFA;\n",
              "      box-shadow: 0px 1px 2px rgba(60, 64, 67, 0.3), 0px 1px 3px 1px rgba(60, 64, 67, 0.15);\n",
              "      fill: #174EA6;\n",
              "    }\n",
              "\n",
              "    [theme=dark] .colab-df-convert {\n",
              "      background-color: #3B4455;\n",
              "      fill: #D2E3FC;\n",
              "    }\n",
              "\n",
              "    [theme=dark] .colab-df-convert:hover {\n",
              "      background-color: #434B5C;\n",
              "      box-shadow: 0px 1px 3px 1px rgba(0, 0, 0, 0.15);\n",
              "      filter: drop-shadow(0px 1px 2px rgba(0, 0, 0, 0.3));\n",
              "      fill: #FFFFFF;\n",
              "    }\n",
              "  </style>\n",
              "\n",
              "      <script>\n",
              "        const buttonEl =\n",
              "          document.querySelector('#df-e84f9610-685d-4aa9-a9f8-374e7b11989f button.colab-df-convert');\n",
              "        buttonEl.style.display =\n",
              "          google.colab.kernel.accessAllowed ? 'block' : 'none';\n",
              "\n",
              "        async function convertToInteractive(key) {\n",
              "          const element = document.querySelector('#df-e84f9610-685d-4aa9-a9f8-374e7b11989f');\n",
              "          const dataTable =\n",
              "            await google.colab.kernel.invokeFunction('convertToInteractive',\n",
              "                                                     [key], {});\n",
              "          if (!dataTable) return;\n",
              "\n",
              "          const docLinkHtml = 'Like what you see? Visit the ' +\n",
              "            '<a target=\"_blank\" href=https://colab.research.google.com/notebooks/data_table.ipynb>data table notebook</a>'\n",
              "            + ' to learn more about interactive tables.';\n",
              "          element.innerHTML = '';\n",
              "          dataTable['output_type'] = 'display_data';\n",
              "          await google.colab.output.renderOutput(dataTable, element);\n",
              "          const docLink = document.createElement('div');\n",
              "          docLink.innerHTML = docLinkHtml;\n",
              "          element.appendChild(docLink);\n",
              "        }\n",
              "      </script>\n",
              "    </div>\n",
              "  </div>\n",
              "  "
            ]
          },
          "metadata": {},
          "execution_count": 65
        }
      ]
    },
    {
      "cell_type": "code",
      "source": [
        "param = {\n",
        "    'n_estimators': [int(x) for x in range(100,1000,10)],\n",
        "    'max_depth': [int(x) for x in range(5,20,5)],\n",
        "}\n",
        "n_iter = 100\n",
        "\n",
        "model = LGBMRegressor(learning_rate = 0.1, max_depth=10, n_estimators=200, random_state=random_state)\n",
        "my_RandomSearch(model, x, y, param, n_iter, verbose=1)"
      ],
      "metadata": {
        "colab": {
          "base_uri": "https://localhost:8080/",
          "height": 441
        },
        "id": "lvF-0I0U3DUf",
        "outputId": "91bf4a2e-fb62-41ab-fc7e-af1985af4542"
      },
      "execution_count": 67,
      "outputs": [
        {
          "output_type": "stream",
          "name": "stdout",
          "text": [
            "Fitting 10 folds for each of 100 candidates, totalling 1000 fits\n"
          ]
        },
        {
          "output_type": "execute_result",
          "data": {
            "text/plain": [
              "    n_estimators  max_depth     score     RMSLE\n",
              "22           380         10 -0.025783  0.160570\n",
              "68           350         10 -0.025794  0.160607\n",
              "90           360         10 -0.025799  0.160621\n",
              "97           330         10 -0.025812  0.160662\n",
              "32           300         10 -0.025846  0.160766\n",
              "..           ...        ...       ...       ...\n",
              "46           110         10 -0.026774  0.163626\n",
              "89           180          5 -0.027221  0.164988\n",
              "1            150          5 -0.027532  0.165929\n",
              "13           140          5 -0.027652  0.166290\n",
              "41           130          5 -0.027806  0.166753\n",
              "\n",
              "[100 rows x 4 columns]"
            ],
            "text/html": [
              "\n",
              "  <div id=\"df-30fe25fa-646b-471d-940a-4fc3eec46480\">\n",
              "    <div class=\"colab-df-container\">\n",
              "      <div>\n",
              "<style scoped>\n",
              "    .dataframe tbody tr th:only-of-type {\n",
              "        vertical-align: middle;\n",
              "    }\n",
              "\n",
              "    .dataframe tbody tr th {\n",
              "        vertical-align: top;\n",
              "    }\n",
              "\n",
              "    .dataframe thead th {\n",
              "        text-align: right;\n",
              "    }\n",
              "</style>\n",
              "<table border=\"1\" class=\"dataframe\">\n",
              "  <thead>\n",
              "    <tr style=\"text-align: right;\">\n",
              "      <th></th>\n",
              "      <th>n_estimators</th>\n",
              "      <th>max_depth</th>\n",
              "      <th>score</th>\n",
              "      <th>RMSLE</th>\n",
              "    </tr>\n",
              "  </thead>\n",
              "  <tbody>\n",
              "    <tr>\n",
              "      <th>22</th>\n",
              "      <td>380</td>\n",
              "      <td>10</td>\n",
              "      <td>-0.025783</td>\n",
              "      <td>0.160570</td>\n",
              "    </tr>\n",
              "    <tr>\n",
              "      <th>68</th>\n",
              "      <td>350</td>\n",
              "      <td>10</td>\n",
              "      <td>-0.025794</td>\n",
              "      <td>0.160607</td>\n",
              "    </tr>\n",
              "    <tr>\n",
              "      <th>90</th>\n",
              "      <td>360</td>\n",
              "      <td>10</td>\n",
              "      <td>-0.025799</td>\n",
              "      <td>0.160621</td>\n",
              "    </tr>\n",
              "    <tr>\n",
              "      <th>97</th>\n",
              "      <td>330</td>\n",
              "      <td>10</td>\n",
              "      <td>-0.025812</td>\n",
              "      <td>0.160662</td>\n",
              "    </tr>\n",
              "    <tr>\n",
              "      <th>32</th>\n",
              "      <td>300</td>\n",
              "      <td>10</td>\n",
              "      <td>-0.025846</td>\n",
              "      <td>0.160766</td>\n",
              "    </tr>\n",
              "    <tr>\n",
              "      <th>...</th>\n",
              "      <td>...</td>\n",
              "      <td>...</td>\n",
              "      <td>...</td>\n",
              "      <td>...</td>\n",
              "    </tr>\n",
              "    <tr>\n",
              "      <th>46</th>\n",
              "      <td>110</td>\n",
              "      <td>10</td>\n",
              "      <td>-0.026774</td>\n",
              "      <td>0.163626</td>\n",
              "    </tr>\n",
              "    <tr>\n",
              "      <th>89</th>\n",
              "      <td>180</td>\n",
              "      <td>5</td>\n",
              "      <td>-0.027221</td>\n",
              "      <td>0.164988</td>\n",
              "    </tr>\n",
              "    <tr>\n",
              "      <th>1</th>\n",
              "      <td>150</td>\n",
              "      <td>5</td>\n",
              "      <td>-0.027532</td>\n",
              "      <td>0.165929</td>\n",
              "    </tr>\n",
              "    <tr>\n",
              "      <th>13</th>\n",
              "      <td>140</td>\n",
              "      <td>5</td>\n",
              "      <td>-0.027652</td>\n",
              "      <td>0.166290</td>\n",
              "    </tr>\n",
              "    <tr>\n",
              "      <th>41</th>\n",
              "      <td>130</td>\n",
              "      <td>5</td>\n",
              "      <td>-0.027806</td>\n",
              "      <td>0.166753</td>\n",
              "    </tr>\n",
              "  </tbody>\n",
              "</table>\n",
              "<p>100 rows × 4 columns</p>\n",
              "</div>\n",
              "      <button class=\"colab-df-convert\" onclick=\"convertToInteractive('df-30fe25fa-646b-471d-940a-4fc3eec46480')\"\n",
              "              title=\"Convert this dataframe to an interactive table.\"\n",
              "              style=\"display:none;\">\n",
              "        \n",
              "  <svg xmlns=\"http://www.w3.org/2000/svg\" height=\"24px\"viewBox=\"0 0 24 24\"\n",
              "       width=\"24px\">\n",
              "    <path d=\"M0 0h24v24H0V0z\" fill=\"none\"/>\n",
              "    <path d=\"M18.56 5.44l.94 2.06.94-2.06 2.06-.94-2.06-.94-.94-2.06-.94 2.06-2.06.94zm-11 1L8.5 8.5l.94-2.06 2.06-.94-2.06-.94L8.5 2.5l-.94 2.06-2.06.94zm10 10l.94 2.06.94-2.06 2.06-.94-2.06-.94-.94-2.06-.94 2.06-2.06.94z\"/><path d=\"M17.41 7.96l-1.37-1.37c-.4-.4-.92-.59-1.43-.59-.52 0-1.04.2-1.43.59L10.3 9.45l-7.72 7.72c-.78.78-.78 2.05 0 2.83L4 21.41c.39.39.9.59 1.41.59.51 0 1.02-.2 1.41-.59l7.78-7.78 2.81-2.81c.8-.78.8-2.07 0-2.86zM5.41 20L4 18.59l7.72-7.72 1.47 1.35L5.41 20z\"/>\n",
              "  </svg>\n",
              "      </button>\n",
              "      \n",
              "  <style>\n",
              "    .colab-df-container {\n",
              "      display:flex;\n",
              "      flex-wrap:wrap;\n",
              "      gap: 12px;\n",
              "    }\n",
              "\n",
              "    .colab-df-convert {\n",
              "      background-color: #E8F0FE;\n",
              "      border: none;\n",
              "      border-radius: 50%;\n",
              "      cursor: pointer;\n",
              "      display: none;\n",
              "      fill: #1967D2;\n",
              "      height: 32px;\n",
              "      padding: 0 0 0 0;\n",
              "      width: 32px;\n",
              "    }\n",
              "\n",
              "    .colab-df-convert:hover {\n",
              "      background-color: #E2EBFA;\n",
              "      box-shadow: 0px 1px 2px rgba(60, 64, 67, 0.3), 0px 1px 3px 1px rgba(60, 64, 67, 0.15);\n",
              "      fill: #174EA6;\n",
              "    }\n",
              "\n",
              "    [theme=dark] .colab-df-convert {\n",
              "      background-color: #3B4455;\n",
              "      fill: #D2E3FC;\n",
              "    }\n",
              "\n",
              "    [theme=dark] .colab-df-convert:hover {\n",
              "      background-color: #434B5C;\n",
              "      box-shadow: 0px 1px 3px 1px rgba(0, 0, 0, 0.15);\n",
              "      filter: drop-shadow(0px 1px 2px rgba(0, 0, 0, 0.3));\n",
              "      fill: #FFFFFF;\n",
              "    }\n",
              "  </style>\n",
              "\n",
              "      <script>\n",
              "        const buttonEl =\n",
              "          document.querySelector('#df-30fe25fa-646b-471d-940a-4fc3eec46480 button.colab-df-convert');\n",
              "        buttonEl.style.display =\n",
              "          google.colab.kernel.accessAllowed ? 'block' : 'none';\n",
              "\n",
              "        async function convertToInteractive(key) {\n",
              "          const element = document.querySelector('#df-30fe25fa-646b-471d-940a-4fc3eec46480');\n",
              "          const dataTable =\n",
              "            await google.colab.kernel.invokeFunction('convertToInteractive',\n",
              "                                                     [key], {});\n",
              "          if (!dataTable) return;\n",
              "\n",
              "          const docLinkHtml = 'Like what you see? Visit the ' +\n",
              "            '<a target=\"_blank\" href=https://colab.research.google.com/notebooks/data_table.ipynb>data table notebook</a>'\n",
              "            + ' to learn more about interactive tables.';\n",
              "          element.innerHTML = '';\n",
              "          dataTable['output_type'] = 'display_data';\n",
              "          await google.colab.output.renderOutput(dataTable, element);\n",
              "          const docLink = document.createElement('div');\n",
              "          docLink.innerHTML = docLinkHtml;\n",
              "          element.appendChild(docLink);\n",
              "        }\n",
              "      </script>\n",
              "    </div>\n",
              "  </div>\n",
              "  "
            ]
          },
          "metadata": {},
          "execution_count": 67
        }
      ]
    },
    {
      "cell_type": "code",
      "source": [
        "model = LGBMRegressor(n_estimators=380, learning_rate = 0.1, max_depth=10, random_state=random_state)\n",
        "model.fit(x, y)\n",
        "prediction = model.predict(sub_x)\n",
        "prediction = np.expm1(prediction)\n",
        "prediction"
      ],
      "metadata": {
        "colab": {
          "base_uri": "https://localhost:8080/"
        },
        "id": "aYFnS_Wm_drc",
        "outputId": "39636a0d-56cb-4984-f0e6-b50a167c93fd"
      },
      "execution_count": 72,
      "outputs": [
        {
          "output_type": "execute_result",
          "data": {
            "text/plain": [
              "array([ 504023.2114756 ,  517684.07014949, 1499177.45959869, ...,\n",
              "        477018.81451046,  331215.8350166 ,  455273.38389104])"
            ]
          },
          "metadata": {},
          "execution_count": 72
        }
      ]
    },
    {
      "cell_type": "code",
      "source": [
        "save_submission(model, x, y, sub_x, 'lgbm', rmsle='0.1605')"
      ],
      "metadata": {
        "colab": {
          "base_uri": "https://localhost:8080/"
        },
        "id": "WIRub8Lw5LbS",
        "outputId": "79dc1c80-ebd9-4b2a-821b-20277ea981e8"
      },
      "execution_count": 73,
      "outputs": [
        {
          "output_type": "stream",
          "name": "stdout",
          "text": [
            "/content/drive/MyDrive/0.AIFFEL/LMS node/Exp 04/data/submission_lgbm_RMSLE_0.1605.csv saved!\n"
          ]
        }
      ]
    },
    {
      "cell_type": "markdown",
      "source": [
        "- 걸린 시간에 비해서 파라미터 조절로는 큰 효과를 보지 못했다.\n",
        "\n",
        "\n",
        "![image.png](data:image/png;base64,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)"
      ],
      "metadata": {
        "id": "TcBjfm67AS9K"
      }
    },
    {
      "cell_type": "code",
      "source": [
        "Lgbm_prediction = model.predict(sub_x)"
      ],
      "metadata": {
        "id": "--oEMYdyAjUI"
      },
      "execution_count": 74,
      "outputs": []
    },
    {
      "cell_type": "markdown",
      "source": [
        "회고\n"
      ],
      "metadata": {
        "id": "ANKHZsgE_DQu"
      }
    },
    {
      "cell_type": "code",
      "source": [
        "import xgboost \n",
        "\n",
        "regressor = xgboost.XGBRegressor(colsample_bytree = 0.4603, learning_rate = 0.06, min_child_weight = 1.8, max_depth= 3, subsample = 0.52, n_estimators = 2000, random_state= 7, ntrhead = -1) \n",
        "regressor.fit(x,y)\n",
        "\n"
      ],
      "metadata": {
        "colab": {
          "base_uri": "https://localhost:8080/"
        },
        "id": "bkdXO5d__zeQ",
        "outputId": "2deced35-5eb4-4c93-b451-36920d33316d"
      },
      "execution_count": 88,
      "outputs": [
        {
          "output_type": "stream",
          "name": "stdout",
          "text": [
            "[13:01:13] WARNING: /workspace/src/objective/regression_obj.cu:152: reg:linear is now deprecated in favor of reg:squarederror.\n"
          ]
        },
        {
          "output_type": "execute_result",
          "data": {
            "text/plain": [
              "XGBRegressor(colsample_bytree=0.4603, learning_rate=0.06, min_child_weight=1.8,\n",
              "             n_estimators=2000, ntrhead=-1, random_state=7, subsample=0.52)"
            ]
          },
          "metadata": {},
          "execution_count": 88
        }
      ]
    },
    {
      "cell_type": "code",
      "source": [
        "param = {\n",
        "    'n_estimators': [int(x) for x in range(1,3000,1000)],\n",
        "    'max_depth': [int(x) for x in range(1,10,5)],\n",
        "}\n",
        "n_iter = 50\n",
        "\n",
        "my_RandomSearch(regressor, x, y, param, n_iter, verbose=1)"
      ],
      "metadata": {
        "colab": {
          "base_uri": "https://localhost:8080/",
          "height": 292
        },
        "id": "Z_mV-jUOEgjA",
        "outputId": "0411c85c-a62b-4b59-8d18-f55639ff7cfd"
      },
      "execution_count": 93,
      "outputs": [
        {
          "output_type": "stream",
          "name": "stdout",
          "text": [
            "Fitting 10 folds for each of 6 candidates, totalling 60 fits\n",
            "[13:14:22] WARNING: /workspace/src/objective/regression_obj.cu:152: reg:linear is now deprecated in favor of reg:squarederror.\n"
          ]
        },
        {
          "output_type": "execute_result",
          "data": {
            "text/plain": [
              "   n_estimators  max_depth       score      RMSLE\n",
              "4          1001          6   -0.025552   0.159849\n",
              "5          2001          6   -0.026012   0.161284\n",
              "2          2001          1   -0.035073   0.187278\n",
              "1          1001          1   -0.037108   0.192633\n",
              "0             1          1 -139.396091  11.806612\n",
              "3             1          6 -139.404381  11.806963"
            ],
            "text/html": [
              "\n",
              "  <div id=\"df-c3143117-15ee-46b8-93e8-9dd3f29ae377\">\n",
              "    <div class=\"colab-df-container\">\n",
              "      <div>\n",
              "<style scoped>\n",
              "    .dataframe tbody tr th:only-of-type {\n",
              "        vertical-align: middle;\n",
              "    }\n",
              "\n",
              "    .dataframe tbody tr th {\n",
              "        vertical-align: top;\n",
              "    }\n",
              "\n",
              "    .dataframe thead th {\n",
              "        text-align: right;\n",
              "    }\n",
              "</style>\n",
              "<table border=\"1\" class=\"dataframe\">\n",
              "  <thead>\n",
              "    <tr style=\"text-align: right;\">\n",
              "      <th></th>\n",
              "      <th>n_estimators</th>\n",
              "      <th>max_depth</th>\n",
              "      <th>score</th>\n",
              "      <th>RMSLE</th>\n",
              "    </tr>\n",
              "  </thead>\n",
              "  <tbody>\n",
              "    <tr>\n",
              "      <th>4</th>\n",
              "      <td>1001</td>\n",
              "      <td>6</td>\n",
              "      <td>-0.025552</td>\n",
              "      <td>0.159849</td>\n",
              "    </tr>\n",
              "    <tr>\n",
              "      <th>5</th>\n",
              "      <td>2001</td>\n",
              "      <td>6</td>\n",
              "      <td>-0.026012</td>\n",
              "      <td>0.161284</td>\n",
              "    </tr>\n",
              "    <tr>\n",
              "      <th>2</th>\n",
              "      <td>2001</td>\n",
              "      <td>1</td>\n",
              "      <td>-0.035073</td>\n",
              "      <td>0.187278</td>\n",
              "    </tr>\n",
              "    <tr>\n",
              "      <th>1</th>\n",
              "      <td>1001</td>\n",
              "      <td>1</td>\n",
              "      <td>-0.037108</td>\n",
              "      <td>0.192633</td>\n",
              "    </tr>\n",
              "    <tr>\n",
              "      <th>0</th>\n",
              "      <td>1</td>\n",
              "      <td>1</td>\n",
              "      <td>-139.396091</td>\n",
              "      <td>11.806612</td>\n",
              "    </tr>\n",
              "    <tr>\n",
              "      <th>3</th>\n",
              "      <td>1</td>\n",
              "      <td>6</td>\n",
              "      <td>-139.404381</td>\n",
              "      <td>11.806963</td>\n",
              "    </tr>\n",
              "  </tbody>\n",
              "</table>\n",
              "</div>\n",
              "      <button class=\"colab-df-convert\" onclick=\"convertToInteractive('df-c3143117-15ee-46b8-93e8-9dd3f29ae377')\"\n",
              "              title=\"Convert this dataframe to an interactive table.\"\n",
              "              style=\"display:none;\">\n",
              "        \n",
              "  <svg xmlns=\"http://www.w3.org/2000/svg\" height=\"24px\"viewBox=\"0 0 24 24\"\n",
              "       width=\"24px\">\n",
              "    <path d=\"M0 0h24v24H0V0z\" fill=\"none\"/>\n",
              "    <path d=\"M18.56 5.44l.94 2.06.94-2.06 2.06-.94-2.06-.94-.94-2.06-.94 2.06-2.06.94zm-11 1L8.5 8.5l.94-2.06 2.06-.94-2.06-.94L8.5 2.5l-.94 2.06-2.06.94zm10 10l.94 2.06.94-2.06 2.06-.94-2.06-.94-.94-2.06-.94 2.06-2.06.94z\"/><path d=\"M17.41 7.96l-1.37-1.37c-.4-.4-.92-.59-1.43-.59-.52 0-1.04.2-1.43.59L10.3 9.45l-7.72 7.72c-.78.78-.78 2.05 0 2.83L4 21.41c.39.39.9.59 1.41.59.51 0 1.02-.2 1.41-.59l7.78-7.78 2.81-2.81c.8-.78.8-2.07 0-2.86zM5.41 20L4 18.59l7.72-7.72 1.47 1.35L5.41 20z\"/>\n",
              "  </svg>\n",
              "      </button>\n",
              "      \n",
              "  <style>\n",
              "    .colab-df-container {\n",
              "      display:flex;\n",
              "      flex-wrap:wrap;\n",
              "      gap: 12px;\n",
              "    }\n",
              "\n",
              "    .colab-df-convert {\n",
              "      background-color: #E8F0FE;\n",
              "      border: none;\n",
              "      border-radius: 50%;\n",
              "      cursor: pointer;\n",
              "      display: none;\n",
              "      fill: #1967D2;\n",
              "      height: 32px;\n",
              "      padding: 0 0 0 0;\n",
              "      width: 32px;\n",
              "    }\n",
              "\n",
              "    .colab-df-convert:hover {\n",
              "      background-color: #E2EBFA;\n",
              "      box-shadow: 0px 1px 2px rgba(60, 64, 67, 0.3), 0px 1px 3px 1px rgba(60, 64, 67, 0.15);\n",
              "      fill: #174EA6;\n",
              "    }\n",
              "\n",
              "    [theme=dark] .colab-df-convert {\n",
              "      background-color: #3B4455;\n",
              "      fill: #D2E3FC;\n",
              "    }\n",
              "\n",
              "    [theme=dark] .colab-df-convert:hover {\n",
              "      background-color: #434B5C;\n",
              "      box-shadow: 0px 1px 3px 1px rgba(0, 0, 0, 0.15);\n",
              "      filter: drop-shadow(0px 1px 2px rgba(0, 0, 0, 0.3));\n",
              "      fill: #FFFFFF;\n",
              "    }\n",
              "  </style>\n",
              "\n",
              "      <script>\n",
              "        const buttonEl =\n",
              "          document.querySelector('#df-c3143117-15ee-46b8-93e8-9dd3f29ae377 button.colab-df-convert');\n",
              "        buttonEl.style.display =\n",
              "          google.colab.kernel.accessAllowed ? 'block' : 'none';\n",
              "\n",
              "        async function convertToInteractive(key) {\n",
              "          const element = document.querySelector('#df-c3143117-15ee-46b8-93e8-9dd3f29ae377');\n",
              "          const dataTable =\n",
              "            await google.colab.kernel.invokeFunction('convertToInteractive',\n",
              "                                                     [key], {});\n",
              "          if (!dataTable) return;\n",
              "\n",
              "          const docLinkHtml = 'Like what you see? Visit the ' +\n",
              "            '<a target=\"_blank\" href=https://colab.research.google.com/notebooks/data_table.ipynb>data table notebook</a>'\n",
              "            + ' to learn more about interactive tables.';\n",
              "          element.innerHTML = '';\n",
              "          dataTable['output_type'] = 'display_data';\n",
              "          await google.colab.output.renderOutput(dataTable, element);\n",
              "          const docLink = document.createElement('div');\n",
              "          docLink.innerHTML = docLinkHtml;\n",
              "          element.appendChild(docLink);\n",
              "        }\n",
              "      </script>\n",
              "    </div>\n",
              "  </div>\n",
              "  "
            ]
          },
          "metadata": {},
          "execution_count": 93
        }
      ]
    },
    {
      "cell_type": "code",
      "source": [
        "regressor = xgboost.XGBRegressor(colsample_bytree = 0.4603, learning_rate = 0.06, min_child_weight = 1.8, max_depth= 6, subsample = 0.52, n_estimators = 1001, random_state= 7, ntrhead = -1) \n",
        "regressor.fit(x,y)\n",
        "\n",
        "xgb_prediction = regressor.predict(sub_x)\n",
        "\n",
        "xgb_prediction = np.expm1(xgb_prediction)\n",
        "xgb_prediction"
      ],
      "metadata": {
        "colab": {
          "base_uri": "https://localhost:8080/"
        },
        "id": "V8w4NtteDqhN",
        "outputId": "80aa1446-bb05-469b-dc23-1fd958d26681"
      },
      "execution_count": 96,
      "outputs": [
        {
          "output_type": "stream",
          "name": "stdout",
          "text": [
            "[13:16:56] WARNING: /workspace/src/objective/regression_obj.cu:152: reg:linear is now deprecated in favor of reg:squarederror.\n"
          ]
        },
        {
          "output_type": "execute_result",
          "data": {
            "text/plain": [
              "array([ 526163.1 ,  485788.5 , 1370157.4 , ...,  473356.84,  324074.62,\n",
              "        426848.88], dtype=float32)"
            ]
          },
          "metadata": {},
          "execution_count": 96
        }
      ]
    },
    {
      "cell_type": "code",
      "source": [
        "save_submission(regressor, x, y, sub_x, 'xgb', rmsle='0.1598')"
      ],
      "metadata": {
        "colab": {
          "base_uri": "https://localhost:8080/"
        },
        "id": "GVjYcSJ2EGXW",
        "outputId": "8d192a63-aefc-4a2c-ac75-965e31ea2877"
      },
      "execution_count": 98,
      "outputs": [
        {
          "output_type": "stream",
          "name": "stdout",
          "text": [
            "[13:17:46] WARNING: /workspace/src/objective/regression_obj.cu:152: reg:linear is now deprecated in favor of reg:squarederror.\n",
            "/content/drive/MyDrive/0.AIFFEL/LMS node/Exp 04/data/submission_xgb_RMSLE_0.1598.csv saved!\n"
          ]
        }
      ]
    },
    {
      "cell_type": "markdown",
      "source": [
        "- 모델을 바꿔보니 조금 더 값이 떨어졌다. puplic score 는 110000점이하로 떨어졌다.\n",
        "\n",
        "![image.png](data:image/png;base64,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)"
      ],
      "metadata": {
        "id": "qQS736h9H6wZ"
      }
    },
    {
      "cell_type": "markdown",
      "source": [
        "- 비율을 바꿔가면서 도전했지만 500000부터 150000까지 숫자가 안좋아지기만 했다."
      ],
      "metadata": {
        "id": "It-EWFCOKP0b"
      }
    },
    {
      "cell_type": "code",
      "source": [
        "prediction = 0.9 * Lgbm_prediction + 0.1 * xgb_prediction\n",
        "submission_path = join(data_dir, 'sample_submission.csv')\n",
        "submission = pd.read_csv(submission_path)\n",
        "submission['price'] = prediction\n",
        "submission_csv_path = '{}/submission_{}_RMSLE_{}.csv'.format(data_dir, '0.9l0.1x', '0')\n",
        "submission.to_csv(submission_csv_path, index=False)\n",
        "print('{} saved!'.format(submission_csv_path))"
      ],
      "metadata": {
        "colab": {
          "base_uri": "https://localhost:8080/"
        },
        "id": "9_A2HO8fISWb",
        "outputId": "04b611a7-acb9-4c6e-f72e-3b5567ffc2f7"
      },
      "execution_count": 108,
      "outputs": [
        {
          "output_type": "stream",
          "name": "stdout",
          "text": [
            "/content/drive/MyDrive/0.AIFFEL/LMS node/Exp 04/data/submission_0.9l0.1x_RMSLE_0.csv saved!\n"
          ]
        }
      ]
    },
    {
      "cell_type": "markdown",
      "source": [
        "# 회고\n",
        "- 이번 노드를 진행하면서 모델들이 어떤 종류가 있고 어떻게 하이파파라미터를 튜닝하는지 공부할 수 있었다. grid search 와 random search 두 기법을 사용했는데, 시간이 오래걸렸다. \n",
        "\n",
        "- 단일 모델을 통한 학습은 하이퍼 파라미터를 조절해도 목표 점수에 도달하지 못했다. 검색결과 데이터 전처리 과정을 세밀하게 진행하면 단일 모델로도 목표 점수에 도달하는 사례들도 확인했지만, 전처리 과정이 부실해서인지 점수에 도달하지 못했다. \n",
        "\n",
        "- 다른 분들의 조언을 바탕으로 두개의 모델을 합쳐서 학습결과를 합쳐서 진행하면 목표점수에 도달할수 있다고 했다. 하지만 아직까지 원리가 이해되지는 않아서 추가 공부가 필요하다. \n",
        "\n",
        "- 각 모델들을 공부하고 하이퍼 파라미터를 어떻게 쓰는지 이해하는데에 생각보다 많은 시간이 들었다. 이전 노드들과는 다르게 학습자체에도 상당한 시간이 소요되어 생각보다 시간이 오래걸렸다. 후반부에는 시간관계로 노드를 진행하면서 estimator와 depth 만을 변수로 하이퍼파라미터 튜닝을 진행할 수 밖에 없어서 아쉬웠다."
      ],
      "metadata": {
        "id": "QuTmlg5cE_Zf"
      }
    }
  ],
  "metadata": {
    "colab": {
      "name": "[E-04].ipynb",
      "provenance": []
    },
    "kernelspec": {
      "display_name": "Python 3",
      "name": "python3"
    },
    "language_info": {
      "name": "python"
    }
  },
  "nbformat": 4,
  "nbformat_minor": 0
}