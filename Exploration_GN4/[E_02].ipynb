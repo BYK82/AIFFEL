{
  "nbformat": 4,
  "nbformat_minor": 0,
  "metadata": {
    "colab": {
      "name": "[E-02].ipynb",
      "provenance": [],
      "collapsed_sections": [
        "s2nwXAUm3gMu",
        "X8JA6ismGqbN"
      ]
    },
    "kernelspec": {
      "name": "python3",
      "display_name": "Python 3"
    },
    "language_info": {
      "name": "python"
    }
  },
  "cells": [
    {
      "cell_type": "markdown",
      "source": [
        "# 프로젝트 1. 당뇨병 수치를 맞춰보자!\n",
        "\n",
        "## (1) 데이터 가져오기"
      ],
      "metadata": {
        "id": "P6-4lQ900fVb"
      }
    },
    {
      "cell_type": "code",
      "execution_count": 32,
      "metadata": {
        "id": "6L1mqGee0ULO"
      },
      "outputs": [],
      "source": [
        "from sklearn.datasets import load_diabetes\n",
        "\n",
        "# diabetes 변수에 데이터를 가져오기\n",
        "diabetes = load_diabetes()\n",
        "\n",
        "# diabetes 의 data를 np_x에 target 을 np_y 에 저장\n",
        "np_x = diabetes.data\n",
        "np_y = diabetes.target\n"
      ]
    },
    {
      "cell_type": "markdown",
      "source": [
        "## (2) 모델에 예측할 데이터 x 준비하기\n",
        "\n",
        "## (3) 모델에 예측할 데이터 y 준비하기\n",
        "\n",
        "* 데이터를 바로 불러오게 되면 numpy array로 변환해서 저장하지 않아도 numpy array 로 이미 변환되어 있습니다. "
      ],
      "metadata": {
        "id": "s2nwXAUm3gMu"
      }
    },
    {
      "cell_type": "code",
      "source": [
        "## 데이터 프레임으로 받은 경우.\n",
        "\n",
        "import pandas as pd\n",
        "# (1) 데이터 가져오기\n",
        "df_x = pd.DataFrame(diabetes['data'], columns=diabetes['feature_names'])\n",
        "df_y = pd.DataFrame(diabetes['target'])\n",
        "\n",
        "# (2) 모델에 예측할 데이터 x 준비하기\n",
        "np_x = df_x.values\n",
        "print(df_x)\n",
        "\n",
        "# (3) 모델에 예측할 데이터 y 준비하기\n",
        "np_y = df_y.values.squeeze()\n",
        "print(df_y)"
      ],
      "metadata": {
        "colab": {
          "base_uri": "https://localhost:8080/"
        },
        "id": "TlHbEB9i0_If",
        "outputId": "0eeb06ce-583d-4098-9d1c-5a31bd410d22"
      },
      "execution_count": 42,
      "outputs": [
        {
          "output_type": "stream",
          "name": "stdout",
          "text": [
            "          age       sex       bmi        bp        s1        s2        s3  \\\n",
            "0    0.038076  0.050680  0.061696  0.021872 -0.044223 -0.034821 -0.043401   \n",
            "1   -0.001882 -0.044642 -0.051474 -0.026328 -0.008449 -0.019163  0.074412   \n",
            "2    0.085299  0.050680  0.044451 -0.005671 -0.045599 -0.034194 -0.032356   \n",
            "3   -0.089063 -0.044642 -0.011595 -0.036656  0.012191  0.024991 -0.036038   \n",
            "4    0.005383 -0.044642 -0.036385  0.021872  0.003935  0.015596  0.008142   \n",
            "..        ...       ...       ...       ...       ...       ...       ...   \n",
            "437  0.041708  0.050680  0.019662  0.059744 -0.005697 -0.002566 -0.028674   \n",
            "438 -0.005515  0.050680 -0.015906 -0.067642  0.049341  0.079165 -0.028674   \n",
            "439  0.041708  0.050680 -0.015906  0.017282 -0.037344 -0.013840 -0.024993   \n",
            "440 -0.045472 -0.044642  0.039062  0.001215  0.016318  0.015283 -0.028674   \n",
            "441 -0.045472 -0.044642 -0.073030 -0.081414  0.083740  0.027809  0.173816   \n",
            "\n",
            "           s4        s5        s6  \n",
            "0   -0.002592  0.019908 -0.017646  \n",
            "1   -0.039493 -0.068330 -0.092204  \n",
            "2   -0.002592  0.002864 -0.025930  \n",
            "3    0.034309  0.022692 -0.009362  \n",
            "4   -0.002592 -0.031991 -0.046641  \n",
            "..        ...       ...       ...  \n",
            "437 -0.002592  0.031193  0.007207  \n",
            "438  0.034309 -0.018118  0.044485  \n",
            "439 -0.011080 -0.046879  0.015491  \n",
            "440  0.026560  0.044528 -0.025930  \n",
            "441 -0.039493 -0.004220  0.003064  \n",
            "\n",
            "[442 rows x 10 columns]\n",
            "         0\n",
            "0    151.0\n",
            "1     75.0\n",
            "2    141.0\n",
            "3    206.0\n",
            "4    135.0\n",
            "..     ...\n",
            "437  178.0\n",
            "438  104.0\n",
            "439  132.0\n",
            "440  220.0\n",
            "441   57.0\n",
            "\n",
            "[442 rows x 1 columns]\n"
          ]
        }
      ]
    },
    {
      "cell_type": "markdown",
      "source": [
        "## (4) train 데이터와 test 데이터로 분리하기\n"
      ],
      "metadata": {
        "id": "KMsx9nQq6wdA"
      }
    },
    {
      "cell_type": "code",
      "source": [
        "# x와 y 데이터를 각각 train 데이터와 test 데이터로 분리하기\n",
        "\n",
        "from sklearn.model_selection import train_test_split\n",
        "\n",
        "X_train, X_test, y_train, y_test = train_test_split(np_x, \n",
        "                                                    np_y, \n",
        "                                                    test_size = 0.2, \n",
        "                                                    random_state = 77)"
      ],
      "metadata": {
        "id": "NtWKNyju5FW_"
      },
      "execution_count": 44,
      "outputs": []
    },
    {
      "cell_type": "code",
      "source": [
        "# 데이터 확인\n",
        "print(X_train.shape, y_train.shape)\n",
        "print(X_test.shape, y_test.shape)"
      ],
      "metadata": {
        "colab": {
          "base_uri": "https://localhost:8080/"
        },
        "id": "2Po9WyRV7W3B",
        "outputId": "5604bf83-b22f-4b71-dce4-785e7bcb6415"
      },
      "execution_count": 45,
      "outputs": [
        {
          "output_type": "stream",
          "name": "stdout",
          "text": [
            "(353, 10) (353,)\n",
            "(89, 10) (89,)\n"
          ]
        }
      ]
    },
    {
      "cell_type": "markdown",
      "source": [
        "## (5) 모델 준비하기\n"
      ],
      "metadata": {
        "id": "Rc6vnyxr7GLE"
      }
    },
    {
      "cell_type": "code",
      "source": [
        "# 입력 데이터 개수에 맞는 가중치 w와 b 준비하기\n",
        "import numpy as np\n",
        "\n",
        "W = np.random.rand(10)\n",
        "b = np.random.rand()\n"
      ],
      "metadata": {
        "id": "lxfjoial7lLa"
      },
      "execution_count": 46,
      "outputs": []
    },
    {
      "cell_type": "code",
      "source": [
        "# 모델 함수 구현하기\n",
        "\n",
        "def model(X, W, b, N):\n",
        "    predictions = 0\n",
        "    for i in range(N):\n",
        "        predictions += X[:, i] * W[i]\n",
        "    predictions += b\n",
        "    return predictions"
      ],
      "metadata": {
        "id": "Y0zN1G3j7E1I"
      },
      "execution_count": 47,
      "outputs": []
    },
    {
      "cell_type": "markdown",
      "source": [
        "## (6) 손실함수 Loss 정의하기"
      ],
      "metadata": {
        "id": "gsPJ6f2j8AC3"
      }
    },
    {
      "cell_type": "code",
      "source": [
        "# 손실함수를 MSE 함수로 정의하기\n",
        "\n",
        "def MSE(a, b):\n",
        "    mse = ((a - b) ** 2).mean()  # 두 값의 차이의 제곱의 평균\n",
        "    return mse\n",
        "\n",
        "def loss(X, W, b, y):\n",
        "      # N은 가중치의 개수\n",
        "    N = len(W)\n",
        "    \n",
        "    predictions = model(X, W, b, N)\n",
        "    L = MSE(predictions, y)\n",
        "    return L\n"
      ],
      "metadata": {
        "id": "RoM02m7p8D2I"
      },
      "execution_count": 48,
      "outputs": []
    },
    {
      "cell_type": "markdown",
      "source": [
        "## (7) 기울기를 구하는 gradient 함수 구현하기"
      ],
      "metadata": {
        "id": "3wn_6QkQ8VYm"
      }
    },
    {
      "cell_type": "code",
      "source": [
        "def gradient(X, W, b, y):\n",
        "    # N은 가중치의 개수\n",
        "    N = len(W)\n",
        "    \n",
        "    # y_pred 준비\n",
        "    y_pred = model(X, W, b, N)\n",
        "    \n",
        "    # 공식에 맞게 gradient 계산\n",
        "    dW = 1/N * 2 * X.T.dot(y_pred - y)\n",
        "        \n",
        "    # b의 gradient 계산\n",
        "    db = 2 * (y_pred - y).mean()\n",
        "    return dW, db"
      ],
      "metadata": {
        "id": "y-06QfIK8KFc"
      },
      "execution_count": 49,
      "outputs": []
    },
    {
      "cell_type": "markdown",
      "source": [
        "## (8) 하이퍼 파라미터인 학습률 설정하기\n",
        "\n"
      ],
      "metadata": {
        "id": "bsxO8uBZ-B5A"
      }
    },
    {
      "cell_type": "code",
      "source": [
        "LEARNING_RATE = 0.01\n",
        "\n",
        "losses = []\n",
        "\n",
        "np.random.seed(seed=1) \n",
        "\n",
        "W = np.random.rand(10)\n",
        "b = np.random.rand()"
      ],
      "metadata": {
        "id": "HWqZaFul-HJn"
      },
      "execution_count": 50,
      "outputs": []
    },
    {
      "cell_type": "markdown",
      "source": [
        "## (9) 모델 학습하기"
      ],
      "metadata": {
        "id": "Hun7CYYj-Ldu"
      }
    },
    {
      "cell_type": "code",
      "source": [
        "for i in range(1, 100001):\n",
        "    dW, db = gradient(X_train, W, b, y_train)\n",
        "    W -= LEARNING_RATE * dW\n",
        "    b -= LEARNING_RATE * db\n",
        "    L = loss(X_train, W, b, y_train)\n",
        "    losses.append(L)\n",
        "    if i % 5000 == 0:\n",
        "        print('Iteration %d : Loss %0.4f' % (i, L))"
      ],
      "metadata": {
        "colab": {
          "base_uri": "https://localhost:8080/"
        },
        "id": "sGSR9tpX-K_s",
        "outputId": "febb4182-1f53-4570-9274-fa7ba6a171ed"
      },
      "execution_count": 51,
      "outputs": [
        {
          "output_type": "stream",
          "name": "stdout",
          "text": [
            "Iteration 5000 : Loss 2820.0356\n",
            "Iteration 10000 : Loss 2818.7898\n",
            "Iteration 15000 : Loss 2818.1142\n",
            "Iteration 20000 : Loss 2817.6384\n",
            "Iteration 25000 : Loss 2817.2559\n",
            "Iteration 30000 : Loss 2816.9305\n",
            "Iteration 35000 : Loss 2816.6481\n",
            "Iteration 40000 : Loss 2816.4011\n",
            "Iteration 45000 : Loss 2816.1846\n",
            "Iteration 50000 : Loss 2815.9947\n",
            "Iteration 55000 : Loss 2815.8279\n",
            "Iteration 60000 : Loss 2815.6816\n",
            "Iteration 65000 : Loss 2815.5531\n",
            "Iteration 70000 : Loss 2815.4404\n",
            "Iteration 75000 : Loss 2815.3414\n",
            "Iteration 80000 : Loss 2815.2545\n",
            "Iteration 85000 : Loss 2815.1782\n",
            "Iteration 90000 : Loss 2815.1113\n",
            "Iteration 95000 : Loss 2815.0525\n",
            "Iteration 100000 : Loss 2815.0009\n"
          ]
        }
      ]
    },
    {
      "cell_type": "code",
      "source": [
        "import matplotlib.pyplot as plt\n",
        "\n",
        "plt.plot(losses)\n",
        "plt.xlabel('Iteration')\n",
        "plt.ylabel('Loss')\n",
        "plt.show()"
      ],
      "metadata": {
        "colab": {
          "base_uri": "https://localhost:8080/",
          "height": 279
        },
        "id": "9rFh9iTUFssT",
        "outputId": "6f3a528e-4a20-4722-d181-df2c002a32f3"
      },
      "execution_count": 52,
      "outputs": [
        {
          "output_type": "display_data",
          "data": {
            "text/plain": [
              "<Figure size 432x288 with 1 Axes>"
            ],
            "image/png": "[encoded data removed]"
          },
          "metadata": {
            "needs_background": "light"
          }
        }
      ]
    },
    {
      "cell_type": "markdown",
      "source": [
        "## (10) test 데이터에 대한 성능 확인하기"
      ],
      "metadata": {
        "id": "vd-ESeKgGVch"
      }
    },
    {
      "cell_type": "code",
      "source": [
        "prediction = model(X_test, W, b, len(W))\n",
        "mse = loss(X_test, W, b, y_test)\n",
        "mse"
      ],
      "metadata": {
        "colab": {
          "base_uri": "https://localhost:8080/"
        },
        "id": "9nnZIRpsGLdN",
        "outputId": "3d9bd4ca-33d3-4f96-f353-645865e949d7"
      },
      "execution_count": 53,
      "outputs": [
        {
          "output_type": "execute_result",
          "data": {
            "text/plain": [
              "3150.2544639035473"
            ]
          },
          "metadata": {},
          "execution_count": 53
        }
      ]
    },
    {
      "cell_type": "markdown",
      "source": [
        "## (11) 정답 데이터와 예측한 데이터 시각화하기"
      ],
      "metadata": {
        "id": "IVN8ytIjGZBg"
      }
    },
    {
      "cell_type": "code",
      "source": [
        "plt.scatter(X_test[:, 0], y_test)\n",
        "plt.scatter(X_test[:, 0], prediction)\n",
        "plt.show()"
      ],
      "metadata": {
        "colab": {
          "base_uri": "https://localhost:8080/",
          "height": 265
        },
        "id": "XMU15kkIGO5H",
        "outputId": "5acbceba-901e-4de2-f2ff-88cbfef7a032"
      },
      "execution_count": 12,
      "outputs": [
        {
          "output_type": "display_data",
          "data": {
            "text/plain": [
              "<Figure size 432x288 with 1 Axes>"
            ],
            "image/png": "[encoded data removed]"
          },
          "metadata": {
            "needs_background": "light"
          }
        }
      ]
    },
    {
      "cell_type": "markdown",
      "source": [
        "* 앞 부분 노드들에서 배운 코드를 단순히 활용했을 때는 손실함수 값이 3000이상이 나왔습니다. \n",
        "\n",
        "## 시도1. 데이터들과 타겟의 상관관계를 비교 후 학습시킬 특성 값들을 선택하여 학습을 진행해보았습니다."
      ],
      "metadata": {
        "id": "Gv1Q4SgFQp_Q"
      }
    },
    {
      "cell_type": "code",
      "source": [
        "fig, ax = plt.subplots(5, 2,figsize=(20, 20))\n",
        "\n",
        "ax[0, 0].scatter(np_x[:, 0], np_y) \n",
        "ax[0, 1].scatter(np_x[:, 1], np_y) \n",
        "ax[1, 0].scatter(np_x[:, 2], np_y) \n",
        "ax[1, 1].scatter(np_x[:, 3], np_y) \n",
        "ax[2, 0].scatter(np_x[:, 4], np_y) \n",
        "ax[2, 1].scatter(np_x[:, 5], np_y) \n",
        "ax[3, 0].scatter(np_x[:, 6], np_y) \n",
        "ax[3, 1].scatter(np_x[:, 7], np_y) \n",
        "ax[4, 0].scatter(np_x[:, 8], np_y) \n",
        "ax[4, 1].scatter(np_x[:, 9], np_y) \n",
        "\n",
        "ax[0, 0].set_title(\"age\")\n",
        "ax[0, 1].set_title(\"sex\")\n",
        "ax[1, 0].set_title(\"bmi\")\n",
        "ax[1, 1].set_title(\"bp\")\n",
        "ax[2, 0].set_title(\"s1\")\n",
        "ax[2, 1].set_title(\"s2\")\n",
        "ax[3, 0].set_title(\"s3\")\n",
        "ax[3, 1].set_title(\"s4\")\n",
        "ax[4, 0].set_title(\"s5\")\n",
        "ax[4, 1].set_title(\"s6\")\n",
        "\n",
        "plt.show()\n"
      ],
      "metadata": {
        "colab": {
          "base_uri": "https://localhost:8080/",
          "height": 839
        },
        "id": "mTzVbEJpQpvE",
        "outputId": "a98bedbc-e8cf-451c-d710-c0a86e9db72a"
      },
      "execution_count": 13,
      "outputs": [
        {
          "output_type": "display_data",
          "data": {
            "text/plain": [
              "<Figure size 1440x1440 with 10 Axes>"
            ],
            "image/png": "[encoded data removed]"
          },
          "metadata": {
            "needs_background": "light"
          }
        }
      ]
    },
    {
      "cell_type": "code",
      "source": [
        "print(np.corrcoef(np_x[:, 0], np_y))\n",
        "print(np.corrcoef(np_x[:, 1], np_y))\n",
        "print(np.corrcoef(np_x[:, 2], np_y))\n",
        "print(np.corrcoef(np_x[:, 3], np_y))\n",
        "print(np.corrcoef(np_x[:, 4], np_y))\n",
        "print(np.corrcoef(np_x[:, 5], np_y))\n",
        "print(np.corrcoef(np_x[:, 6], np_y))\n",
        "print(np.corrcoef(np_x[:, 7], np_y))\n",
        "print(np.corrcoef(np_x[:, 8], np_y))\n",
        "print(np.corrcoef(np_x[:, 9], np_y))\n"
      ],
      "metadata": {
        "colab": {
          "base_uri": "https://localhost:8080/"
        },
        "id": "TAlvbiEWUpKr",
        "outputId": "cc772ca8-1872-4346-a6eb-84ff7ba76f42"
      },
      "execution_count": 14,
      "outputs": [
        {
          "output_type": "stream",
          "name": "stdout",
          "text": [
            "[[1.         0.18788875]\n",
            " [0.18788875 1.        ]]\n",
            "[[1.       0.043062]\n",
            " [0.043062 1.      ]]\n",
            "[[1.         0.58645013]\n",
            " [0.58645013 1.        ]]\n",
            "[[1.         0.44148385]\n",
            " [0.44148385 1.        ]]\n",
            "[[1.         0.21202248]\n",
            " [0.21202248 1.        ]]\n",
            "[[1.         0.17405359]\n",
            " [0.17405359 1.        ]]\n",
            "[[ 1.         -0.39478925]\n",
            " [-0.39478925  1.        ]]\n",
            "[[1.         0.43045288]\n",
            " [0.43045288 1.        ]]\n",
            "[[1.         0.56588343]\n",
            " [0.56588343 1.        ]]\n",
            "[[1.         0.38248348]\n",
            " [0.38248348 1.        ]]\n"
          ]
        }
      ]
    },
    {
      "cell_type": "markdown",
      "source": [
        "* 상관관계를 그래프로만 봤을 때는 정량적 비교가 어려워서 검색을 했고 np.corrcoef 함수를 쓰면 Pearson 유사도를 구할 수 있다고 해서 응용했습니다. 값이 1과 -1에 가까울수록 강한 선형 관계가 있다고 해석한다고 합니다. \n",
        "\n",
        "\n",
        "\n",
        " "
      ],
      "metadata": {
        "id": "ZyZM_Np8ash_"
      }
    },
    {
      "cell_type": "code",
      "source": [
        "W = np.random.rand(9)\n",
        "b = np.random.rand()\n",
        "\n",
        "LEARNING_RATE = 0.01\n",
        "\n",
        "losses = []"
      ],
      "metadata": {
        "id": "94w6ATUxgH64"
      },
      "execution_count": 15,
      "outputs": []
    },
    {
      "cell_type": "code",
      "source": [
        "# Pearson 유사도가 0.1 이상인 경우 \n",
        "sie_np_x = np.stack([np_x[:,0], np_x[:,5], np_x[:,2], np_x[:,3], np_x[:,4], np_x[:,6], np_x[:,7], np_x[:,8], np_x[:,9]],1)\n",
        "\n",
        "from sklearn.model_selection import train_test_split\n",
        "\n",
        "X_train, X_test, y_train, y_test = train_test_split(sie_np_x, \n",
        "                                                    np_y, \n",
        "                                                    test_size = 0.2, \n",
        "                                                    random_state = 77)\n",
        "\n",
        "\n",
        "for i in range(1, 100001):\n",
        "    dW, db = gradient(X_train, W, b, y_train)\n",
        "    W -= LEARNING_RATE * dW\n",
        "    b -= LEARNING_RATE * db\n",
        "    L = loss(X_train, W, b, y_train)\n",
        "    losses.append(L)\n",
        "    if i % 5000 == 0:\n",
        "        print('Iteration %d : Loss %0.4f' % (i, L))\n",
        "\n"
      ],
      "metadata": {
        "colab": {
          "base_uri": "https://localhost:8080/"
        },
        "id": "3uNTg2s3b0p0",
        "outputId": "7bdeb2b2-0907-4564-fed3-764bdd8ee9a8"
      },
      "execution_count": 16,
      "outputs": [
        {
          "output_type": "stream",
          "name": "stdout",
          "text": [
            "Iteration 5000 : Loss 2958.1657\n",
            "Iteration 10000 : Loss 2957.1718\n",
            "Iteration 15000 : Loss 2956.6884\n",
            "Iteration 20000 : Loss 2956.3611\n",
            "Iteration 25000 : Loss 2956.1017\n",
            "Iteration 30000 : Loss 2955.8836\n",
            "Iteration 35000 : Loss 2955.6965\n",
            "Iteration 40000 : Loss 2955.5351\n",
            "Iteration 45000 : Loss 2955.3957\n",
            "Iteration 50000 : Loss 2955.2750\n",
            "Iteration 55000 : Loss 2955.1707\n",
            "Iteration 60000 : Loss 2955.0804\n",
            "Iteration 65000 : Loss 2955.0024\n",
            "Iteration 70000 : Loss 2954.9349\n",
            "Iteration 75000 : Loss 2954.8764\n",
            "Iteration 80000 : Loss 2954.8259\n",
            "Iteration 85000 : Loss 2954.7822\n",
            "Iteration 90000 : Loss 2954.7444\n",
            "Iteration 95000 : Loss 2954.7117\n",
            "Iteration 100000 : Loss 2954.6834\n"
          ]
        }
      ]
    },
    {
      "cell_type": "code",
      "source": [
        "prediction = model(X_test, W, b, len(W))\n",
        "mse = loss(X_test, W, b, y_test)\n",
        "mse"
      ],
      "metadata": {
        "colab": {
          "base_uri": "https://localhost:8080/"
        },
        "id": "YBOmarQhhJYy",
        "outputId": "2d4bcdc4-41b5-4274-f234-c5abecc4b905"
      },
      "execution_count": 17,
      "outputs": [
        {
          "output_type": "execute_result",
          "data": {
            "text/plain": [
              "3072.5433979348477"
            ]
          },
          "metadata": {},
          "execution_count": 17
        }
      ]
    },
    {
      "cell_type": "code",
      "source": [
        "plt.scatter(X_test[:, 0], y_test)\n",
        "plt.scatter(X_test[:, 0], prediction)\n",
        "plt.show()"
      ],
      "metadata": {
        "colab": {
          "base_uri": "https://localhost:8080/",
          "height": 265
        },
        "id": "oFWQDpyahQYJ",
        "outputId": "6db2a786-bdd1-40db-b491-5edb50baa0da"
      },
      "execution_count": 72,
      "outputs": [
        {
          "output_type": "display_data",
          "data": {
            "text/plain": [
              "<Figure size 432x288 with 1 Axes>"
            ],
            "image/png": "[encoded data removed]"
          },
          "metadata": {
            "needs_background": "light"
          }
        }
      ]
    },
    {
      "cell_type": "code",
      "source": [
        "W = np.random.rand(4)\n",
        "b = np.random.rand()\n",
        "\n",
        "LEARNING_RATE = 0.001\n",
        "\n",
        "losses = []"
      ],
      "metadata": {
        "id": "wAmrRV5UkmFB"
      },
      "execution_count": 18,
      "outputs": []
    },
    {
      "cell_type": "code",
      "source": [
        "# Pearson 유사도가 0.4 이상인 경우 \n",
        "sie_np_x = np.stack([np_x[:,2], np_x[:,3], np_x[:,7], np_x[:,8]],1)\n",
        "\n",
        "from sklearn.model_selection import train_test_split\n",
        "\n",
        "X_train, X_test, y_train, y_test = train_test_split(sie_np_x, \n",
        "                                                    np_y, \n",
        "                                                    test_size = 0.2, \n",
        "                                                    random_state = 77)\n",
        "\n",
        "\n",
        "for i in range(1, 100001):\n",
        "    dW, db = gradient(X_train, W, b, y_train)\n",
        "    W -= LEARNING_RATE * dW\n",
        "    b -= LEARNING_RATE * db\n",
        "    L = loss(X_train, W, b, y_train)\n",
        "    losses.append(L)\n",
        "    if i % 5000 == 0:\n",
        "        print('Iteration %d : Loss %0.4f' % (i, L))\n"
      ],
      "metadata": {
        "colab": {
          "base_uri": "https://localhost:8080/"
        },
        "id": "VE_PPQjpkW-B",
        "outputId": "e0bbc20e-ba12-4d64-9607-ed2c29c658de"
      },
      "execution_count": 19,
      "outputs": [
        {
          "output_type": "stream",
          "name": "stdout",
          "text": [
            "Iteration 5000 : Loss 3090.1046\n",
            "Iteration 10000 : Loss 3066.6383\n",
            "Iteration 15000 : Loss 3061.5977\n",
            "Iteration 20000 : Loss 3060.3373\n",
            "Iteration 25000 : Loss 3060.0080\n",
            "Iteration 30000 : Loss 3059.9209\n",
            "Iteration 35000 : Loss 3059.8977\n",
            "Iteration 40000 : Loss 3059.8915\n",
            "Iteration 45000 : Loss 3059.8899\n",
            "Iteration 50000 : Loss 3059.8894\n",
            "Iteration 55000 : Loss 3059.8893\n",
            "Iteration 60000 : Loss 3059.8893\n",
            "Iteration 65000 : Loss 3059.8893\n",
            "Iteration 70000 : Loss 3059.8893\n",
            "Iteration 75000 : Loss 3059.8893\n",
            "Iteration 80000 : Loss 3059.8893\n",
            "Iteration 85000 : Loss 3059.8893\n",
            "Iteration 90000 : Loss 3059.8893\n",
            "Iteration 95000 : Loss 3059.8893\n",
            "Iteration 100000 : Loss 3059.8893\n"
          ]
        }
      ]
    },
    {
      "cell_type": "code",
      "source": [
        "prediction = model(X_test, W, b, len(W))\n",
        "mse = loss(X_test, W, b, y_test)\n",
        "mse"
      ],
      "metadata": {
        "colab": {
          "base_uri": "https://localhost:8080/"
        },
        "id": "pY-9uoBlkz4W",
        "outputId": "d8dc4886-6a72-4410-864a-0a0a15aeee56"
      },
      "execution_count": 20,
      "outputs": [
        {
          "output_type": "execute_result",
          "data": {
            "text/plain": [
              "3175.960920106291"
            ]
          },
          "metadata": {},
          "execution_count": 20
        }
      ]
    },
    {
      "cell_type": "markdown",
      "source": [
        "* 특성과 결과의 상관관계를 보고 특성을 선택해서 학습을 진행했는데 mse 값은 유의미하게 나아지지 않았습니다.\n",
        "\n",
        "## 시도 2. 특성값 자체를 정규화 시켜서 진행했습니다. "
      ],
      "metadata": {
        "id": "UEOBof0KlL3Z"
      }
    },
    {
      "cell_type": "code",
      "source": [
        "import pandas as pd\n",
        "from sklearn.preprocessing import MinMaxScaler\n",
        "\n",
        "transformer = MinMaxScaler()\n",
        "transformer.fit(np_x) \n",
        "np_x = transformer.transform(np_x)\n",
        "\n",
        "print(np_x)"
      ],
      "metadata": {
        "colab": {
          "base_uri": "https://localhost:8080/"
        },
        "id": "HiqbHg3tlcrr",
        "outputId": "617b40c9-3914-48fe-ebd9-7aaf4cf5748c"
      },
      "execution_count": 21,
      "outputs": [
        {
          "output_type": "stream",
          "name": "stdout",
          "text": [
            "[[0.66666667 1.         0.58264463 ... 0.28208745 0.56221737 0.43939394]\n",
            " [0.48333333 0.         0.14876033 ... 0.14104372 0.22244301 0.16666667]\n",
            " [0.88333333 1.         0.51652893 ... 0.28208745 0.49658437 0.40909091]\n",
            " ...\n",
            " [0.68333333 1.         0.28512397 ... 0.24964739 0.30504048 0.56060606]\n",
            " [0.28333333 0.         0.49586777 ... 0.39351199 0.65702021 0.40909091]\n",
            " [0.28333333 0.         0.0661157  ... 0.14104372 0.46930778 0.51515152]]\n"
          ]
        }
      ]
    },
    {
      "cell_type": "code",
      "source": [
        "X_train, X_test, y_train, y_test = train_test_split(np_x, \n",
        "                                                    np_y, \n",
        "                                                    test_size = 0.2, \n",
        "                                                    random_state = 77)"
      ],
      "metadata": {
        "id": "qvyV1lWloyL6"
      },
      "execution_count": 22,
      "outputs": []
    },
    {
      "cell_type": "code",
      "source": [
        "W = np.random.rand(10)\n",
        "b = np.random.rand()\n",
        "\n",
        "LEARNING_RATE = 0.0001\n",
        "\n",
        "losses = []"
      ],
      "metadata": {
        "id": "XRyJZWB9oMAy"
      },
      "execution_count": 27,
      "outputs": []
    },
    {
      "cell_type": "code",
      "source": [
        "for i in range(1, 100001):\n",
        "    dW, db = gradient(X_train, W, b, y_train)\n",
        "    W -= LEARNING_RATE * dW\n",
        "    b -= LEARNING_RATE * db\n",
        "    L = loss(X_train, W, b, y_train)\n",
        "    losses.append(L)\n",
        "    if i % 1000 == 0:\n",
        "        print('Iteration %d : Loss %0.4f' % (i, L))"
      ],
      "metadata": {
        "colab": {
          "base_uri": "https://localhost:8080/"
        },
        "id": "ppd0hn13oSh5",
        "outputId": "752f1620-b01b-4a7c-81ba-e87e8971766b"
      },
      "execution_count": 29,
      "outputs": [
        {
          "output_type": "stream",
          "name": "stdout",
          "text": [
            "Iteration 1000 : Loss 2837.2665\n",
            "Iteration 2000 : Loss 2836.8314\n",
            "Iteration 3000 : Loss 2836.4073\n",
            "Iteration 4000 : Loss 2835.9940\n",
            "Iteration 5000 : Loss 2835.5909\n",
            "Iteration 6000 : Loss 2835.1976\n",
            "Iteration 7000 : Loss 2834.8139\n",
            "Iteration 8000 : Loss 2834.4393\n",
            "Iteration 9000 : Loss 2834.0736\n",
            "Iteration 10000 : Loss 2833.7164\n",
            "Iteration 11000 : Loss 2833.3675\n",
            "Iteration 12000 : Loss 2833.0265\n",
            "Iteration 13000 : Loss 2832.6933\n",
            "Iteration 14000 : Loss 2832.3675\n",
            "Iteration 15000 : Loss 2832.0489\n",
            "Iteration 16000 : Loss 2831.7373\n",
            "Iteration 17000 : Loss 2831.4324\n",
            "Iteration 18000 : Loss 2831.1342\n",
            "Iteration 19000 : Loss 2830.8423\n",
            "Iteration 20000 : Loss 2830.5565\n",
            "Iteration 21000 : Loss 2830.2768\n",
            "Iteration 22000 : Loss 2830.0028\n",
            "Iteration 23000 : Loss 2829.7345\n",
            "Iteration 24000 : Loss 2829.4717\n",
            "Iteration 25000 : Loss 2829.2143\n",
            "Iteration 26000 : Loss 2828.9620\n",
            "Iteration 27000 : Loss 2828.7147\n",
            "Iteration 28000 : Loss 2828.4724\n",
            "Iteration 29000 : Loss 2828.2348\n",
            "Iteration 30000 : Loss 2828.0019\n",
            "Iteration 31000 : Loss 2827.7736\n",
            "Iteration 32000 : Loss 2827.5496\n",
            "Iteration 33000 : Loss 2827.3300\n",
            "Iteration 34000 : Loss 2827.1146\n",
            "Iteration 35000 : Loss 2826.9032\n",
            "Iteration 36000 : Loss 2826.6959\n",
            "Iteration 37000 : Loss 2826.4924\n",
            "Iteration 38000 : Loss 2826.2928\n",
            "Iteration 39000 : Loss 2826.0969\n",
            "Iteration 40000 : Loss 2825.9046\n",
            "Iteration 41000 : Loss 2825.7159\n",
            "Iteration 42000 : Loss 2825.5306\n",
            "Iteration 43000 : Loss 2825.3487\n",
            "Iteration 44000 : Loss 2825.1702\n",
            "Iteration 45000 : Loss 2824.9948\n",
            "Iteration 46000 : Loss 2824.8227\n",
            "Iteration 47000 : Loss 2824.6536\n",
            "Iteration 48000 : Loss 2824.4876\n",
            "Iteration 49000 : Loss 2824.3246\n",
            "Iteration 50000 : Loss 2824.1645\n",
            "Iteration 51000 : Loss 2824.0072\n",
            "Iteration 52000 : Loss 2823.8527\n",
            "Iteration 53000 : Loss 2823.7009\n",
            "Iteration 54000 : Loss 2823.5518\n",
            "Iteration 55000 : Loss 2823.4053\n",
            "Iteration 56000 : Loss 2823.2614\n",
            "Iteration 57000 : Loss 2823.1201\n",
            "Iteration 58000 : Loss 2822.9811\n",
            "Iteration 59000 : Loss 2822.8447\n",
            "Iteration 60000 : Loss 2822.7105\n",
            "Iteration 61000 : Loss 2822.5787\n",
            "Iteration 62000 : Loss 2822.4492\n",
            "Iteration 63000 : Loss 2822.3219\n",
            "Iteration 64000 : Loss 2822.1968\n",
            "Iteration 65000 : Loss 2822.0739\n",
            "Iteration 66000 : Loss 2821.9531\n",
            "Iteration 67000 : Loss 2821.8343\n",
            "Iteration 68000 : Loss 2821.7176\n",
            "Iteration 69000 : Loss 2821.6028\n",
            "Iteration 70000 : Loss 2821.4901\n",
            "Iteration 71000 : Loss 2821.3792\n",
            "Iteration 72000 : Loss 2821.2703\n",
            "Iteration 73000 : Loss 2821.1631\n",
            "Iteration 74000 : Loss 2821.0579\n",
            "Iteration 75000 : Loss 2820.9543\n",
            "Iteration 76000 : Loss 2820.8526\n",
            "Iteration 77000 : Loss 2820.7526\n",
            "Iteration 78000 : Loss 2820.6542\n",
            "Iteration 79000 : Loss 2820.5575\n",
            "Iteration 80000 : Loss 2820.4625\n",
            "Iteration 81000 : Loss 2820.3690\n",
            "Iteration 82000 : Loss 2820.2771\n",
            "Iteration 83000 : Loss 2820.1868\n",
            "Iteration 84000 : Loss 2820.0980\n",
            "Iteration 85000 : Loss 2820.0107\n",
            "Iteration 86000 : Loss 2819.9248\n",
            "Iteration 87000 : Loss 2819.8404\n",
            "Iteration 88000 : Loss 2819.7574\n",
            "Iteration 89000 : Loss 2819.6758\n",
            "Iteration 90000 : Loss 2819.5955\n",
            "Iteration 91000 : Loss 2819.5166\n",
            "Iteration 92000 : Loss 2819.4390\n",
            "Iteration 93000 : Loss 2819.3627\n",
            "Iteration 94000 : Loss 2819.2877\n",
            "Iteration 95000 : Loss 2819.2139\n",
            "Iteration 96000 : Loss 2819.1414\n",
            "Iteration 97000 : Loss 2819.0700\n",
            "Iteration 98000 : Loss 2818.9999\n",
            "Iteration 99000 : Loss 2818.9309\n",
            "Iteration 100000 : Loss 2818.8631\n"
          ]
        }
      ]
    },
    {
      "cell_type": "code",
      "source": [
        "prediction = model(X_test, W, b, len(W))\n",
        "mse = loss(X_test, W, b, y_test)\n",
        "mse"
      ],
      "metadata": {
        "colab": {
          "base_uri": "https://localhost:8080/"
        },
        "id": "j7bSqibjofqI",
        "outputId": "c6a05417-6574-40ce-cf4f-0e70e46e6cd3"
      },
      "execution_count": 30,
      "outputs": [
        {
          "output_type": "execute_result",
          "data": {
            "text/plain": [
              "3112.9212438396316"
            ]
          },
          "metadata": {},
          "execution_count": 30
        }
      ]
    },
    {
      "cell_type": "markdown",
      "source": [
        "* 여전히 유의미한 차이없이 3000 이상이 나왔습니다.\n",
        "\n",
        "## 시도 3. train과 test split 의 랜덤 스테이트를 바꿔보았습니다. "
      ],
      "metadata": {
        "id": "jqMtn0prua0l"
      }
    },
    {
      "cell_type": "code",
      "source": [
        "# x와 y 데이터를 각각 train 데이터와 test 데이터로 분리하기\n",
        "\n",
        "from sklearn.model_selection import train_test_split\n",
        "\n",
        "X_train, X_test, y_train, y_test = train_test_split(np_x, \n",
        "                                                    np_y, \n",
        "                                                    test_size = 0.2, \n",
        "                                                    random_state = 7)"
      ],
      "metadata": {
        "id": "ff9xyVSJuaX-"
      },
      "execution_count": 54,
      "outputs": []
    },
    {
      "cell_type": "code",
      "source": [
        "W = np.random.rand(10)\n",
        "b = np.random.rand()\n",
        "\n",
        "LEARNING_RATE = 0.01\n",
        "\n",
        "losses = []"
      ],
      "metadata": {
        "id": "1iJ-wEJIuX1J"
      },
      "execution_count": 56,
      "outputs": []
    },
    {
      "cell_type": "code",
      "source": [
        "for i in range(1, 100001):\n",
        "    dW, db = gradient(X_train, W, b, y_train)\n",
        "    W -= LEARNING_RATE * dW\n",
        "    b -= LEARNING_RATE * db\n",
        "    L = loss(X_train, W, b, y_train)\n",
        "    losses.append(L)\n",
        "    if i % 1000 == 0:\n",
        "        print('Iteration %d : Loss %0.4f' % (i, L))"
      ],
      "metadata": {
        "colab": {
          "base_uri": "https://localhost:8080/"
        },
        "id": "CeSRv5jwuxw7",
        "outputId": "4d19e45c-fc6b-466e-be31-9a291bfbf592"
      },
      "execution_count": 57,
      "outputs": [
        {
          "output_type": "stream",
          "name": "stdout",
          "text": [
            "Iteration 1000 : Loss 2946.8671\n",
            "Iteration 2000 : Loss 2885.7905\n",
            "Iteration 3000 : Loss 2880.4784\n",
            "Iteration 4000 : Loss 2879.1282\n",
            "Iteration 5000 : Loss 2878.2178\n",
            "Iteration 6000 : Loss 2877.3945\n",
            "Iteration 7000 : Loss 2876.6090\n",
            "Iteration 8000 : Loss 2875.8516\n",
            "Iteration 9000 : Loss 2875.1192\n",
            "Iteration 10000 : Loss 2874.4097\n",
            "Iteration 11000 : Loss 2873.7219\n",
            "Iteration 12000 : Loss 2873.0546\n",
            "Iteration 13000 : Loss 2872.4067\n",
            "Iteration 14000 : Loss 2871.7774\n",
            "Iteration 15000 : Loss 2871.1659\n",
            "Iteration 16000 : Loss 2870.5715\n",
            "Iteration 17000 : Loss 2869.9936\n",
            "Iteration 18000 : Loss 2869.4315\n",
            "Iteration 19000 : Loss 2868.8849\n",
            "Iteration 20000 : Loss 2868.3531\n",
            "Iteration 21000 : Loss 2867.8357\n",
            "Iteration 22000 : Loss 2867.3324\n",
            "Iteration 23000 : Loss 2866.8425\n",
            "Iteration 24000 : Loss 2866.3659\n",
            "Iteration 25000 : Loss 2865.9021\n",
            "Iteration 26000 : Loss 2865.4507\n",
            "Iteration 27000 : Loss 2865.0113\n",
            "Iteration 28000 : Loss 2864.5838\n",
            "Iteration 29000 : Loss 2864.1677\n",
            "Iteration 30000 : Loss 2863.7627\n",
            "Iteration 31000 : Loss 2863.3685\n",
            "Iteration 32000 : Loss 2862.9849\n",
            "Iteration 33000 : Loss 2862.6115\n",
            "Iteration 34000 : Loss 2862.2480\n",
            "Iteration 35000 : Loss 2861.8943\n",
            "Iteration 36000 : Loss 2861.5500\n",
            "Iteration 37000 : Loss 2861.2149\n",
            "Iteration 38000 : Loss 2860.8887\n",
            "Iteration 39000 : Loss 2860.5713\n",
            "Iteration 40000 : Loss 2860.2623\n",
            "Iteration 41000 : Loss 2859.9615\n",
            "Iteration 42000 : Loss 2859.6688\n",
            "Iteration 43000 : Loss 2859.3838\n",
            "Iteration 44000 : Loss 2859.1065\n",
            "Iteration 45000 : Loss 2858.8366\n",
            "Iteration 46000 : Loss 2858.5738\n",
            "Iteration 47000 : Loss 2858.3181\n",
            "Iteration 48000 : Loss 2858.0692\n",
            "Iteration 49000 : Loss 2857.8269\n",
            "Iteration 50000 : Loss 2857.5911\n",
            "Iteration 51000 : Loss 2857.3616\n",
            "Iteration 52000 : Loss 2857.1382\n",
            "Iteration 53000 : Loss 2856.9208\n",
            "Iteration 54000 : Loss 2856.7091\n",
            "Iteration 55000 : Loss 2856.5031\n",
            "Iteration 56000 : Loss 2856.3026\n",
            "Iteration 57000 : Loss 2856.1075\n",
            "Iteration 58000 : Loss 2855.9175\n",
            "Iteration 59000 : Loss 2855.7326\n",
            "Iteration 60000 : Loss 2855.5527\n",
            "Iteration 61000 : Loss 2855.3775\n",
            "Iteration 62000 : Loss 2855.2070\n",
            "Iteration 63000 : Loss 2855.0411\n",
            "Iteration 64000 : Loss 2854.8796\n",
            "Iteration 65000 : Loss 2854.7224\n",
            "Iteration 66000 : Loss 2854.5694\n",
            "Iteration 67000 : Loss 2854.4204\n",
            "Iteration 68000 : Loss 2854.2755\n",
            "Iteration 69000 : Loss 2854.1344\n",
            "Iteration 70000 : Loss 2853.9971\n",
            "Iteration 71000 : Loss 2853.8634\n",
            "Iteration 72000 : Loss 2853.7333\n",
            "Iteration 73000 : Loss 2853.6066\n",
            "Iteration 74000 : Loss 2853.4834\n",
            "Iteration 75000 : Loss 2853.3634\n",
            "Iteration 76000 : Loss 2853.2466\n",
            "Iteration 77000 : Loss 2853.1330\n",
            "Iteration 78000 : Loss 2853.0223\n",
            "Iteration 79000 : Loss 2852.9147\n",
            "Iteration 80000 : Loss 2852.8099\n",
            "Iteration 81000 : Loss 2852.7079\n",
            "Iteration 82000 : Loss 2852.6086\n",
            "Iteration 83000 : Loss 2852.5119\n",
            "Iteration 84000 : Loss 2852.4179\n",
            "Iteration 85000 : Loss 2852.3263\n",
            "Iteration 86000 : Loss 2852.2372\n",
            "Iteration 87000 : Loss 2852.1504\n",
            "Iteration 88000 : Loss 2852.0660\n",
            "Iteration 89000 : Loss 2851.9838\n",
            "Iteration 90000 : Loss 2851.9039\n",
            "Iteration 91000 : Loss 2851.8260\n",
            "Iteration 92000 : Loss 2851.7502\n",
            "Iteration 93000 : Loss 2851.6765\n",
            "Iteration 94000 : Loss 2851.6047\n",
            "Iteration 95000 : Loss 2851.5348\n",
            "Iteration 96000 : Loss 2851.4668\n",
            "Iteration 97000 : Loss 2851.4006\n",
            "Iteration 98000 : Loss 2851.3362\n",
            "Iteration 99000 : Loss 2851.2735\n",
            "Iteration 100000 : Loss 2851.2124\n"
          ]
        }
      ]
    },
    {
      "cell_type": "code",
      "source": [
        "prediction = model(X_test, W, b, len(W))\n",
        "mse = loss(X_test, W, b, y_test)\n",
        "mse"
      ],
      "metadata": {
        "colab": {
          "base_uri": "https://localhost:8080/"
        },
        "id": "QDWmt8UrvBK1",
        "outputId": "c73a653a-7dc9-4130-b4cf-e806025d1e9c"
      },
      "execution_count": 58,
      "outputs": [
        {
          "output_type": "execute_result",
          "data": {
            "text/plain": [
              "2953.76707221399"
            ]
          },
          "metadata": {},
          "execution_count": 58
        }
      ]
    },
    {
      "cell_type": "code",
      "source": [
        "plt.scatter(X_test[:, 0], y_test, alpha = 0.5)\n",
        "plt.scatter(X_test[:, 0], prediction, alpha = 0.5)\n",
        "plt.show()"
      ],
      "metadata": {
        "colab": {
          "base_uri": "https://localhost:8080/",
          "height": 269
        },
        "id": "xXyNJQPQvvHS",
        "outputId": "c3768590-aeda-44f8-9baf-e6573c39fbe8"
      },
      "execution_count": 62,
      "outputs": [
        {
          "output_type": "display_data",
          "data": {
            "text/plain": [
              "<Figure size 432x288 with 1 Axes>"
            ],
            "image/png": "[encoded data removed]"
          },
          "metadata": {
            "needs_background": "light"
          }
        }
      ]
    },
    {
      "cell_type": "markdown",
      "source": [
        "# **결론**\n",
        "\n",
        "- 주어진 모델을 활용하여 Learning late 와 epoch 가 학습에 끼치는 영향에 대해서 학습할 수 있었습니다. 학습을 위해서는 적절한 하이퍼 파라미터를 선택하는 것이 중요한 것 같습니다.\n",
        "\n",
        "- 또한, 데이터를 train 과 test 로 분류하는 것 역시 학습에 영향을 끼친다는 것을 확인할 수 있었습니다. \n"
      ],
      "metadata": {
        "id": "HGACW5_Yv7lD"
      }
    },
    {
      "cell_type": "markdown",
      "source": [
        "# 프로젝트 2. 날씨 좋은 월요일 오후 세 시, 자전거 타는 사람은 몇 명? "
      ],
      "metadata": {
        "id": "X8JA6ismGqbN"
      }
    },
    {
      "cell_type": "markdown",
      "source": [
        "# (1) 데이터 가져오기"
      ],
      "metadata": {
        "id": "xs6lpmS4jHbN"
      }
    },
    {
      "cell_type": "code",
      "source": [
        "import os\n",
        "from os.path import join\n",
        "\n",
        "import pandas as pd\n",
        "import numpy as np\n",
        "\n",
        "data_dir = '/content/drive/MyDrive/0.AIFFEL/LMS node/Exp 02'\n",
        "\n",
        "train_data_path = join(data_dir, 'train.csv')\n",
        "df = pd.read_csv(train_data_path)\n",
        "\n",
        "df"
      ],
      "metadata": {
        "colab": {
          "base_uri": "https://localhost:8080/",
          "height": 661
        },
        "id": "-WmVjkvvjGcd",
        "outputId": "4acc45df-9b67-4552-c490-d1c6adba72ea"
      },
      "execution_count": 63,
      "outputs": [
        {
          "output_type": "execute_result",
          "data": {
            "text/plain": [
              "                  datetime  season  holiday  workingday  weather   temp  \\\n",
              "0      2011-01-01 00:00:00       1        0           0        1   9.84   \n",
              "1      2011-01-01 01:00:00       1        0           0        1   9.02   \n",
              "2      2011-01-01 02:00:00       1        0           0        1   9.02   \n",
              "3      2011-01-01 03:00:00       1        0           0        1   9.84   \n",
              "4      2011-01-01 04:00:00       1        0           0        1   9.84   \n",
              "...                    ...     ...      ...         ...      ...    ...   \n",
              "10881  2012-12-19 19:00:00       4        0           1        1  15.58   \n",
              "10882  2012-12-19 20:00:00       4        0           1        1  14.76   \n",
              "10883  2012-12-19 21:00:00       4        0           1        1  13.94   \n",
              "10884  2012-12-19 22:00:00       4        0           1        1  13.94   \n",
              "10885  2012-12-19 23:00:00       4        0           1        1  13.12   \n",
              "\n",
              "        atemp  humidity  windspeed  casual  registered  count  \n",
              "0      14.395        81     0.0000       3          13     16  \n",
              "1      13.635        80     0.0000       8          32     40  \n",
              "2      13.635        80     0.0000       5          27     32  \n",
              "3      14.395        75     0.0000       3          10     13  \n",
              "4      14.395        75     0.0000       0           1      1  \n",
              "...       ...       ...        ...     ...         ...    ...  \n",
              "10881  19.695        50    26.0027       7         329    336  \n",
              "10882  17.425        57    15.0013      10         231    241  \n",
              "10883  15.910        61    15.0013       4         164    168  \n",
              "10884  17.425        61     6.0032      12         117    129  \n",
              "10885  16.665        66     8.9981       4          84     88  \n",
              "\n",
              "[10886 rows x 12 columns]"
            ],
            "text/html": [
              "\n",
              "  <div id=\"df-bd0a365a-b63b-449c-a6f4-1dee17e09844\">\n",
              "    <div class=\"colab-df-container\">\n",
              "      <div>\n",
              "<style scoped>\n",
              "    .dataframe tbody tr th:only-of-type {\n",
              "        vertical-align: middle;\n",
              "    }\n",
              "\n",
              "    .dataframe tbody tr th {\n",
              "        vertical-align: top;\n",
              "    }\n",
              "\n",
              "    .dataframe thead th {\n",
              "        text-align: right;\n",
              "    }\n",
              "</style>\n",
              "<table border=\"1\" class=\"dataframe\">\n",
              "  <thead>\n",
              "    <tr style=\"text-align: right;\">\n",
              "      <th></th>\n",
              "      <th>datetime</th>\n",
              "      <th>season</th>\n",
              "      <th>holiday</th>\n",
              "      <th>workingday</th>\n",
              "      <th>weather</th>\n",
              "      <th>temp</th>\n",
              "      <th>atemp</th>\n",
              "      <th>humidity</th>\n",
              "      <th>windspeed</th>\n",
              "      <th>casual</th>\n",
              "      <th>registered</th>\n",
              "      <th>count</th>\n",
              "    </tr>\n",
              "  </thead>\n",
              "  <tbody>\n",
              "    <tr>\n",
              "      <th>0</th>\n",
              "      <td>2011-01-01 00:00:00</td>\n",
              "      <td>1</td>\n",
              "      <td>0</td>\n",
              "      <td>0</td>\n",
              "      <td>1</td>\n",
              "      <td>9.84</td>\n",
              "      <td>14.395</td>\n",
              "      <td>81</td>\n",
              "      <td>0.0000</td>\n",
              "      <td>3</td>\n",
              "      <td>13</td>\n",
              "      <td>16</td>\n",
              "    </tr>\n",
              "    <tr>\n",
              "      <th>1</th>\n",
              "      <td>2011-01-01 01:00:00</td>\n",
              "      <td>1</td>\n",
              "      <td>0</td>\n",
              "      <td>0</td>\n",
              "      <td>1</td>\n",
              "      <td>9.02</td>\n",
              "      <td>13.635</td>\n",
              "      <td>80</td>\n",
              "      <td>0.0000</td>\n",
              "      <td>8</td>\n",
              "      <td>32</td>\n",
              "      <td>40</td>\n",
              "    </tr>\n",
              "    <tr>\n",
              "      <th>2</th>\n",
              "      <td>2011-01-01 02:00:00</td>\n",
              "      <td>1</td>\n",
              "      <td>0</td>\n",
              "      <td>0</td>\n",
              "      <td>1</td>\n",
              "      <td>9.02</td>\n",
              "      <td>13.635</td>\n",
              "      <td>80</td>\n",
              "      <td>0.0000</td>\n",
              "      <td>5</td>\n",
              "      <td>27</td>\n",
              "      <td>32</td>\n",
              "    </tr>\n",
              "    <tr>\n",
              "      <th>3</th>\n",
              "      <td>2011-01-01 03:00:00</td>\n",
              "      <td>1</td>\n",
              "      <td>0</td>\n",
              "      <td>0</td>\n",
              "      <td>1</td>\n",
              "      <td>9.84</td>\n",
              "      <td>14.395</td>\n",
              "      <td>75</td>\n",
              "      <td>0.0000</td>\n",
              "      <td>3</td>\n",
              "      <td>10</td>\n",
              "      <td>13</td>\n",
              "    </tr>\n",
              "    <tr>\n",
              "      <th>4</th>\n",
              "      <td>2011-01-01 04:00:00</td>\n",
              "      <td>1</td>\n",
              "      <td>0</td>\n",
              "      <td>0</td>\n",
              "      <td>1</td>\n",
              "      <td>9.84</td>\n",
              "      <td>14.395</td>\n",
              "      <td>75</td>\n",
              "      <td>0.0000</td>\n",
              "      <td>0</td>\n",
              "      <td>1</td>\n",
              "      <td>1</td>\n",
              "    </tr>\n",
              "    <tr>\n",
              "      <th>...</th>\n",
              "      <td>...</td>\n",
              "      <td>...</td>\n",
              "      <td>...</td>\n",
              "      <td>...</td>\n",
              "      <td>...</td>\n",
              "      <td>...</td>\n",
              "      <td>...</td>\n",
              "      <td>...</td>\n",
              "      <td>...</td>\n",
              "      <td>...</td>\n",
              "      <td>...</td>\n",
              "      <td>...</td>\n",
              "    </tr>\n",
              "    <tr>\n",
              "      <th>10881</th>\n",
              "      <td>2012-12-19 19:00:00</td>\n",
              "      <td>4</td>\n",
              "      <td>0</td>\n",
              "      <td>1</td>\n",
              "      <td>1</td>\n",
              "      <td>15.58</td>\n",
              "      <td>19.695</td>\n",
              "      <td>50</td>\n",
              "      <td>26.0027</td>\n",
              "      <td>7</td>\n",
              "      <td>329</td>\n",
              "      <td>336</td>\n",
              "    </tr>\n",
              "    <tr>\n",
              "      <th>10882</th>\n",
              "      <td>2012-12-19 20:00:00</td>\n",
              "      <td>4</td>\n",
              "      <td>0</td>\n",
              "      <td>1</td>\n",
              "      <td>1</td>\n",
              "      <td>14.76</td>\n",
              "      <td>17.425</td>\n",
              "      <td>57</td>\n",
              "      <td>15.0013</td>\n",
              "      <td>10</td>\n",
              "      <td>231</td>\n",
              "      <td>241</td>\n",
              "    </tr>\n",
              "    <tr>\n",
              "      <th>10883</th>\n",
              "      <td>2012-12-19 21:00:00</td>\n",
              "      <td>4</td>\n",
              "      <td>0</td>\n",
              "      <td>1</td>\n",
              "      <td>1</td>\n",
              "      <td>13.94</td>\n",
              "      <td>15.910</td>\n",
              "      <td>61</td>\n",
              "      <td>15.0013</td>\n",
              "      <td>4</td>\n",
              "      <td>164</td>\n",
              "      <td>168</td>\n",
              "    </tr>\n",
              "    <tr>\n",
              "      <th>10884</th>\n",
              "      <td>2012-12-19 22:00:00</td>\n",
              "      <td>4</td>\n",
              "      <td>0</td>\n",
              "      <td>1</td>\n",
              "      <td>1</td>\n",
              "      <td>13.94</td>\n",
              "      <td>17.425</td>\n",
              "      <td>61</td>\n",
              "      <td>6.0032</td>\n",
              "      <td>12</td>\n",
              "      <td>117</td>\n",
              "      <td>129</td>\n",
              "    </tr>\n",
              "    <tr>\n",
              "      <th>10885</th>\n",
              "      <td>2012-12-19 23:00:00</td>\n",
              "      <td>4</td>\n",
              "      <td>0</td>\n",
              "      <td>1</td>\n",
              "      <td>1</td>\n",
              "      <td>13.12</td>\n",
              "      <td>16.665</td>\n",
              "      <td>66</td>\n",
              "      <td>8.9981</td>\n",
              "      <td>4</td>\n",
              "      <td>84</td>\n",
              "      <td>88</td>\n",
              "    </tr>\n",
              "  </tbody>\n",
              "</table>\n",
              "<p>10886 rows × 12 columns</p>\n",
              "</div>\n",
              "      <button class=\"colab-df-convert\" onclick=\"convertToInteractive('df-bd0a365a-b63b-449c-a6f4-1dee17e09844')\"\n",
              "              title=\"Convert this dataframe to an interactive table.\"\n",
              "              style=\"display:none;\">\n",
              "        \n",
              "  <svg xmlns=\"http://www.w3.org/2000/svg\" height=\"24px\"viewBox=\"0 0 24 24\"\n",
              "       width=\"24px\">\n",
              "    <path d=\"M0 0h24v24H0V0z\" fill=\"none\"/>\n",
              "    <path d=\"M18.56 5.44l.94 2.06.94-2.06 2.06-.94-2.06-.94-.94-2.06-.94 2.06-2.06.94zm-11 1L8.5 8.5l.94-2.06 2.06-.94-2.06-.94L8.5 2.5l-.94 2.06-2.06.94zm10 10l.94 2.06.94-2.06 2.06-.94-2.06-.94-.94-2.06-.94 2.06-2.06.94z\"/><path d=\"M17.41 7.96l-1.37-1.37c-.4-.4-.92-.59-1.43-.59-.52 0-1.04.2-1.43.59L10.3 9.45l-7.72 7.72c-.78.78-.78 2.05 0 2.83L4 21.41c.39.39.9.59 1.41.59.51 0 1.02-.2 1.41-.59l7.78-7.78 2.81-2.81c.8-.78.8-2.07 0-2.86zM5.41 20L4 18.59l7.72-7.72 1.47 1.35L5.41 20z\"/>\n",
              "  </svg>\n",
              "      </button>\n",
              "      \n",
              "  <style>\n",
              "    .colab-df-container {\n",
              "      display:flex;\n",
              "      flex-wrap:wrap;\n",
              "      gap: 12px;\n",
              "    }\n",
              "\n",
              "    .colab-df-convert {\n",
              "      background-color: #E8F0FE;\n",
              "      border: none;\n",
              "      border-radius: 50%;\n",
              "      cursor: pointer;\n",
              "      display: none;\n",
              "      fill: #1967D2;\n",
              "      height: 32px;\n",
              "      padding: 0 0 0 0;\n",
              "      width: 32px;\n",
              "    }\n",
              "\n",
              "    .colab-df-convert:hover {\n",
              "      background-color: #E2EBFA;\n",
              "      box-shadow: 0px 1px 2px rgba(60, 64, 67, 0.3), 0px 1px 3px 1px rgba(60, 64, 67, 0.15);\n",
              "      fill: #174EA6;\n",
              "    }\n",
              "\n",
              "    [theme=dark] .colab-df-convert {\n",
              "      background-color: #3B4455;\n",
              "      fill: #D2E3FC;\n",
              "    }\n",
              "\n",
              "    [theme=dark] .colab-df-convert:hover {\n",
              "      background-color: #434B5C;\n",
              "      box-shadow: 0px 1px 3px 1px rgba(0, 0, 0, 0.15);\n",
              "      filter: drop-shadow(0px 1px 2px rgba(0, 0, 0, 0.3));\n",
              "      fill: #FFFFFF;\n",
              "    }\n",
              "  </style>\n",
              "\n",
              "      <script>\n",
              "        const buttonEl =\n",
              "          document.querySelector('#df-bd0a365a-b63b-449c-a6f4-1dee17e09844 button.colab-df-convert');\n",
              "        buttonEl.style.display =\n",
              "          google.colab.kernel.accessAllowed ? 'block' : 'none';\n",
              "\n",
              "        async function convertToInteractive(key) {\n",
              "          const element = document.querySelector('#df-bd0a365a-b63b-449c-a6f4-1dee17e09844');\n",
              "          const dataTable =\n",
              "            await google.colab.kernel.invokeFunction('convertToInteractive',\n",
              "                                                     [key], {});\n",
              "          if (!dataTable) return;\n",
              "\n",
              "          const docLinkHtml = 'Like what you see? Visit the ' +\n",
              "            '<a target=\"_blank\" href=https://colab.research.google.com/notebooks/data_table.ipynb>data table notebook</a>'\n",
              "            + ' to learn more about interactive tables.';\n",
              "          element.innerHTML = '';\n",
              "          dataTable['output_type'] = 'display_data';\n",
              "          await google.colab.output.renderOutput(dataTable, element);\n",
              "          const docLink = document.createElement('div');\n",
              "          docLink.innerHTML = docLinkHtml;\n",
              "          element.appendChild(docLink);\n",
              "        }\n",
              "      </script>\n",
              "    </div>\n",
              "  </div>\n",
              "  "
            ]
          },
          "metadata": {},
          "execution_count": 63
        }
      ]
    },
    {
      "cell_type": "markdown",
      "source": [
        "# (2) datetime 컬럼을 datetime 자료형으로 변환하고 연, 월, 일, 시, 분, 초까지 6가지 컬럼 생성하기"
      ],
      "metadata": {
        "id": "geQ95vdLjLwV"
      }
    },
    {
      "cell_type": "code",
      "source": [
        "df['datetime'] = pd.to_datetime(df['datetime'])\n",
        "df['datetime']"
      ],
      "metadata": {
        "colab": {
          "base_uri": "https://localhost:8080/"
        },
        "id": "quwMk4OyjKq2",
        "outputId": "22b725b4-c82d-4fc1-a8c9-a0a88c714d0b"
      },
      "execution_count": 64,
      "outputs": [
        {
          "output_type": "execute_result",
          "data": {
            "text/plain": [
              "0       2011-01-01 00:00:00\n",
              "1       2011-01-01 01:00:00\n",
              "2       2011-01-01 02:00:00\n",
              "3       2011-01-01 03:00:00\n",
              "4       2011-01-01 04:00:00\n",
              "                ...        \n",
              "10881   2012-12-19 19:00:00\n",
              "10882   2012-12-19 20:00:00\n",
              "10883   2012-12-19 21:00:00\n",
              "10884   2012-12-19 22:00:00\n",
              "10885   2012-12-19 23:00:00\n",
              "Name: datetime, Length: 10886, dtype: datetime64[ns]"
            ]
          },
          "metadata": {},
          "execution_count": 64
        }
      ]
    },
    {
      "cell_type": "code",
      "source": [
        "df['year']=df['datetime'].dt.year\n",
        "df['month']=df['datetime'].dt.month\n",
        "df['day']=df['datetime'].dt.day\n",
        "df['hour']=df['datetime'].dt.hour\n",
        "df['min']=df['datetime'].dt.minute\n",
        "df['sec']=df['datetime'].dt.second\n"
      ],
      "metadata": {
        "id": "2fLVTQ2ior3I"
      },
      "execution_count": 65,
      "outputs": []
    },
    {
      "cell_type": "code",
      "source": [
        "df"
      ],
      "metadata": {
        "colab": {
          "base_uri": "https://localhost:8080/",
          "height": 661
        },
        "id": "t3lYgo40pQro",
        "outputId": "2e9a9ed1-3390-4e31-f2cd-562aa0584e4c"
      },
      "execution_count": 66,
      "outputs": [
        {
          "output_type": "execute_result",
          "data": {
            "text/plain": [
              "                 datetime  season  holiday  workingday  weather   temp  \\\n",
              "0     2011-01-01 00:00:00       1        0           0        1   9.84   \n",
              "1     2011-01-01 01:00:00       1        0           0        1   9.02   \n",
              "2     2011-01-01 02:00:00       1        0           0        1   9.02   \n",
              "3     2011-01-01 03:00:00       1        0           0        1   9.84   \n",
              "4     2011-01-01 04:00:00       1        0           0        1   9.84   \n",
              "...                   ...     ...      ...         ...      ...    ...   \n",
              "10881 2012-12-19 19:00:00       4        0           1        1  15.58   \n",
              "10882 2012-12-19 20:00:00       4        0           1        1  14.76   \n",
              "10883 2012-12-19 21:00:00       4        0           1        1  13.94   \n",
              "10884 2012-12-19 22:00:00       4        0           1        1  13.94   \n",
              "10885 2012-12-19 23:00:00       4        0           1        1  13.12   \n",
              "\n",
              "        atemp  humidity  windspeed  casual  registered  count  year  month  \\\n",
              "0      14.395        81     0.0000       3          13     16  2011      1   \n",
              "1      13.635        80     0.0000       8          32     40  2011      1   \n",
              "2      13.635        80     0.0000       5          27     32  2011      1   \n",
              "3      14.395        75     0.0000       3          10     13  2011      1   \n",
              "4      14.395        75     0.0000       0           1      1  2011      1   \n",
              "...       ...       ...        ...     ...         ...    ...   ...    ...   \n",
              "10881  19.695        50    26.0027       7         329    336  2012     12   \n",
              "10882  17.425        57    15.0013      10         231    241  2012     12   \n",
              "10883  15.910        61    15.0013       4         164    168  2012     12   \n",
              "10884  17.425        61     6.0032      12         117    129  2012     12   \n",
              "10885  16.665        66     8.9981       4          84     88  2012     12   \n",
              "\n",
              "       day  hour  min  sec  \n",
              "0        1     0    0    0  \n",
              "1        1     1    0    0  \n",
              "2        1     2    0    0  \n",
              "3        1     3    0    0  \n",
              "4        1     4    0    0  \n",
              "...    ...   ...  ...  ...  \n",
              "10881   19    19    0    0  \n",
              "10882   19    20    0    0  \n",
              "10883   19    21    0    0  \n",
              "10884   19    22    0    0  \n",
              "10885   19    23    0    0  \n",
              "\n",
              "[10886 rows x 18 columns]"
            ],
            "text/html": [
              "\n",
              "  <div id=\"df-57f805f0-10f8-458c-8b4c-7f5db7a38257\">\n",
              "    <div class=\"colab-df-container\">\n",
              "      <div>\n",
              "<style scoped>\n",
              "    .dataframe tbody tr th:only-of-type {\n",
              "        vertical-align: middle;\n",
              "    }\n",
              "\n",
              "    .dataframe tbody tr th {\n",
              "        vertical-align: top;\n",
              "    }\n",
              "\n",
              "    .dataframe thead th {\n",
              "        text-align: right;\n",
              "    }\n",
              "</style>\n",
              "<table border=\"1\" class=\"dataframe\">\n",
              "  <thead>\n",
              "    <tr style=\"text-align: right;\">\n",
              "      <th></th>\n",
              "      <th>datetime</th>\n",
              "      <th>season</th>\n",
              "      <th>holiday</th>\n",
              "      <th>workingday</th>\n",
              "      <th>weather</th>\n",
              "      <th>temp</th>\n",
              "      <th>atemp</th>\n",
              "      <th>humidity</th>\n",
              "      <th>windspeed</th>\n",
              "      <th>casual</th>\n",
              "      <th>registered</th>\n",
              "      <th>count</th>\n",
              "      <th>year</th>\n",
              "      <th>month</th>\n",
              "      <th>day</th>\n",
              "      <th>hour</th>\n",
              "      <th>min</th>\n",
              "      <th>sec</th>\n",
              "    </tr>\n",
              "  </thead>\n",
              "  <tbody>\n",
              "    <tr>\n",
              "      <th>0</th>\n",
              "      <td>2011-01-01 00:00:00</td>\n",
              "      <td>1</td>\n",
              "      <td>0</td>\n",
              "      <td>0</td>\n",
              "      <td>1</td>\n",
              "      <td>9.84</td>\n",
              "      <td>14.395</td>\n",
              "      <td>81</td>\n",
              "      <td>0.0000</td>\n",
              "      <td>3</td>\n",
              "      <td>13</td>\n",
              "      <td>16</td>\n",
              "      <td>2011</td>\n",
              "      <td>1</td>\n",
              "      <td>1</td>\n",
              "      <td>0</td>\n",
              "      <td>0</td>\n",
              "      <td>0</td>\n",
              "    </tr>\n",
              "    <tr>\n",
              "      <th>1</th>\n",
              "      <td>2011-01-01 01:00:00</td>\n",
              "      <td>1</td>\n",
              "      <td>0</td>\n",
              "      <td>0</td>\n",
              "      <td>1</td>\n",
              "      <td>9.02</td>\n",
              "      <td>13.635</td>\n",
              "      <td>80</td>\n",
              "      <td>0.0000</td>\n",
              "      <td>8</td>\n",
              "      <td>32</td>\n",
              "      <td>40</td>\n",
              "      <td>2011</td>\n",
              "      <td>1</td>\n",
              "      <td>1</td>\n",
              "      <td>1</td>\n",
              "      <td>0</td>\n",
              "      <td>0</td>\n",
              "    </tr>\n",
              "    <tr>\n",
              "      <th>2</th>\n",
              "      <td>2011-01-01 02:00:00</td>\n",
              "      <td>1</td>\n",
              "      <td>0</td>\n",
              "      <td>0</td>\n",
              "      <td>1</td>\n",
              "      <td>9.02</td>\n",
              "      <td>13.635</td>\n",
              "      <td>80</td>\n",
              "      <td>0.0000</td>\n",
              "      <td>5</td>\n",
              "      <td>27</td>\n",
              "      <td>32</td>\n",
              "      <td>2011</td>\n",
              "      <td>1</td>\n",
              "      <td>1</td>\n",
              "      <td>2</td>\n",
              "      <td>0</td>\n",
              "      <td>0</td>\n",
              "    </tr>\n",
              "    <tr>\n",
              "      <th>3</th>\n",
              "      <td>2011-01-01 03:00:00</td>\n",
              "      <td>1</td>\n",
              "      <td>0</td>\n",
              "      <td>0</td>\n",
              "      <td>1</td>\n",
              "      <td>9.84</td>\n",
              "      <td>14.395</td>\n",
              "      <td>75</td>\n",
              "      <td>0.0000</td>\n",
              "      <td>3</td>\n",
              "      <td>10</td>\n",
              "      <td>13</td>\n",
              "      <td>2011</td>\n",
              "      <td>1</td>\n",
              "      <td>1</td>\n",
              "      <td>3</td>\n",
              "      <td>0</td>\n",
              "      <td>0</td>\n",
              "    </tr>\n",
              "    <tr>\n",
              "      <th>4</th>\n",
              "      <td>2011-01-01 04:00:00</td>\n",
              "      <td>1</td>\n",
              "      <td>0</td>\n",
              "      <td>0</td>\n",
              "      <td>1</td>\n",
              "      <td>9.84</td>\n",
              "      <td>14.395</td>\n",
              "      <td>75</td>\n",
              "      <td>0.0000</td>\n",
              "      <td>0</td>\n",
              "      <td>1</td>\n",
              "      <td>1</td>\n",
              "      <td>2011</td>\n",
              "      <td>1</td>\n",
              "      <td>1</td>\n",
              "      <td>4</td>\n",
              "      <td>0</td>\n",
              "      <td>0</td>\n",
              "    </tr>\n",
              "    <tr>\n",
              "      <th>...</th>\n",
              "      <td>...</td>\n",
              "      <td>...</td>\n",
              "      <td>...</td>\n",
              "      <td>...</td>\n",
              "      <td>...</td>\n",
              "      <td>...</td>\n",
              "      <td>...</td>\n",
              "      <td>...</td>\n",
              "      <td>...</td>\n",
              "      <td>...</td>\n",
              "      <td>...</td>\n",
              "      <td>...</td>\n",
              "      <td>...</td>\n",
              "      <td>...</td>\n",
              "      <td>...</td>\n",
              "      <td>...</td>\n",
              "      <td>...</td>\n",
              "      <td>...</td>\n",
              "    </tr>\n",
              "    <tr>\n",
              "      <th>10881</th>\n",
              "      <td>2012-12-19 19:00:00</td>\n",
              "      <td>4</td>\n",
              "      <td>0</td>\n",
              "      <td>1</td>\n",
              "      <td>1</td>\n",
              "      <td>15.58</td>\n",
              "      <td>19.695</td>\n",
              "      <td>50</td>\n",
              "      <td>26.0027</td>\n",
              "      <td>7</td>\n",
              "      <td>329</td>\n",
              "      <td>336</td>\n",
              "      <td>2012</td>\n",
              "      <td>12</td>\n",
              "      <td>19</td>\n",
              "      <td>19</td>\n",
              "      <td>0</td>\n",
              "      <td>0</td>\n",
              "    </tr>\n",
              "    <tr>\n",
              "      <th>10882</th>\n",
              "      <td>2012-12-19 20:00:00</td>\n",
              "      <td>4</td>\n",
              "      <td>0</td>\n",
              "      <td>1</td>\n",
              "      <td>1</td>\n",
              "      <td>14.76</td>\n",
              "      <td>17.425</td>\n",
              "      <td>57</td>\n",
              "      <td>15.0013</td>\n",
              "      <td>10</td>\n",
              "      <td>231</td>\n",
              "      <td>241</td>\n",
              "      <td>2012</td>\n",
              "      <td>12</td>\n",
              "      <td>19</td>\n",
              "      <td>20</td>\n",
              "      <td>0</td>\n",
              "      <td>0</td>\n",
              "    </tr>\n",
              "    <tr>\n",
              "      <th>10883</th>\n",
              "      <td>2012-12-19 21:00:00</td>\n",
              "      <td>4</td>\n",
              "      <td>0</td>\n",
              "      <td>1</td>\n",
              "      <td>1</td>\n",
              "      <td>13.94</td>\n",
              "      <td>15.910</td>\n",
              "      <td>61</td>\n",
              "      <td>15.0013</td>\n",
              "      <td>4</td>\n",
              "      <td>164</td>\n",
              "      <td>168</td>\n",
              "      <td>2012</td>\n",
              "      <td>12</td>\n",
              "      <td>19</td>\n",
              "      <td>21</td>\n",
              "      <td>0</td>\n",
              "      <td>0</td>\n",
              "    </tr>\n",
              "    <tr>\n",
              "      <th>10884</th>\n",
              "      <td>2012-12-19 22:00:00</td>\n",
              "      <td>4</td>\n",
              "      <td>0</td>\n",
              "      <td>1</td>\n",
              "      <td>1</td>\n",
              "      <td>13.94</td>\n",
              "      <td>17.425</td>\n",
              "      <td>61</td>\n",
              "      <td>6.0032</td>\n",
              "      <td>12</td>\n",
              "      <td>117</td>\n",
              "      <td>129</td>\n",
              "      <td>2012</td>\n",
              "      <td>12</td>\n",
              "      <td>19</td>\n",
              "      <td>22</td>\n",
              "      <td>0</td>\n",
              "      <td>0</td>\n",
              "    </tr>\n",
              "    <tr>\n",
              "      <th>10885</th>\n",
              "      <td>2012-12-19 23:00:00</td>\n",
              "      <td>4</td>\n",
              "      <td>0</td>\n",
              "      <td>1</td>\n",
              "      <td>1</td>\n",
              "      <td>13.12</td>\n",
              "      <td>16.665</td>\n",
              "      <td>66</td>\n",
              "      <td>8.9981</td>\n",
              "      <td>4</td>\n",
              "      <td>84</td>\n",
              "      <td>88</td>\n",
              "      <td>2012</td>\n",
              "      <td>12</td>\n",
              "      <td>19</td>\n",
              "      <td>23</td>\n",
              "      <td>0</td>\n",
              "      <td>0</td>\n",
              "    </tr>\n",
              "  </tbody>\n",
              "</table>\n",
              "<p>10886 rows × 18 columns</p>\n",
              "</div>\n",
              "      <button class=\"colab-df-convert\" onclick=\"convertToInteractive('df-57f805f0-10f8-458c-8b4c-7f5db7a38257')\"\n",
              "              title=\"Convert this dataframe to an interactive table.\"\n",
              "              style=\"display:none;\">\n",
              "        \n",
              "  <svg xmlns=\"http://www.w3.org/2000/svg\" height=\"24px\"viewBox=\"0 0 24 24\"\n",
              "       width=\"24px\">\n",
              "    <path d=\"M0 0h24v24H0V0z\" fill=\"none\"/>\n",
              "    <path d=\"M18.56 5.44l.94 2.06.94-2.06 2.06-.94-2.06-.94-.94-2.06-.94 2.06-2.06.94zm-11 1L8.5 8.5l.94-2.06 2.06-.94-2.06-.94L8.5 2.5l-.94 2.06-2.06.94zm10 10l.94 2.06.94-2.06 2.06-.94-2.06-.94-.94-2.06-.94 2.06-2.06.94z\"/><path d=\"M17.41 7.96l-1.37-1.37c-.4-.4-.92-.59-1.43-.59-.52 0-1.04.2-1.43.59L10.3 9.45l-7.72 7.72c-.78.78-.78 2.05 0 2.83L4 21.41c.39.39.9.59 1.41.59.51 0 1.02-.2 1.41-.59l7.78-7.78 2.81-2.81c.8-.78.8-2.07 0-2.86zM5.41 20L4 18.59l7.72-7.72 1.47 1.35L5.41 20z\"/>\n",
              "  </svg>\n",
              "      </button>\n",
              "      \n",
              "  <style>\n",
              "    .colab-df-container {\n",
              "      display:flex;\n",
              "      flex-wrap:wrap;\n",
              "      gap: 12px;\n",
              "    }\n",
              "\n",
              "    .colab-df-convert {\n",
              "      background-color: #E8F0FE;\n",
              "      border: none;\n",
              "      border-radius: 50%;\n",
              "      cursor: pointer;\n",
              "      display: none;\n",
              "      fill: #1967D2;\n",
              "      height: 32px;\n",
              "      padding: 0 0 0 0;\n",
              "      width: 32px;\n",
              "    }\n",
              "\n",
              "    .colab-df-convert:hover {\n",
              "      background-color: #E2EBFA;\n",
              "      box-shadow: 0px 1px 2px rgba(60, 64, 67, 0.3), 0px 1px 3px 1px rgba(60, 64, 67, 0.15);\n",
              "      fill: #174EA6;\n",
              "    }\n",
              "\n",
              "    [theme=dark] .colab-df-convert {\n",
              "      background-color: #3B4455;\n",
              "      fill: #D2E3FC;\n",
              "    }\n",
              "\n",
              "    [theme=dark] .colab-df-convert:hover {\n",
              "      background-color: #434B5C;\n",
              "      box-shadow: 0px 1px 3px 1px rgba(0, 0, 0, 0.15);\n",
              "      filter: drop-shadow(0px 1px 2px rgba(0, 0, 0, 0.3));\n",
              "      fill: #FFFFFF;\n",
              "    }\n",
              "  </style>\n",
              "\n",
              "      <script>\n",
              "        const buttonEl =\n",
              "          document.querySelector('#df-57f805f0-10f8-458c-8b4c-7f5db7a38257 button.colab-df-convert');\n",
              "        buttonEl.style.display =\n",
              "          google.colab.kernel.accessAllowed ? 'block' : 'none';\n",
              "\n",
              "        async function convertToInteractive(key) {\n",
              "          const element = document.querySelector('#df-57f805f0-10f8-458c-8b4c-7f5db7a38257');\n",
              "          const dataTable =\n",
              "            await google.colab.kernel.invokeFunction('convertToInteractive',\n",
              "                                                     [key], {});\n",
              "          if (!dataTable) return;\n",
              "\n",
              "          const docLinkHtml = 'Like what you see? Visit the ' +\n",
              "            '<a target=\"_blank\" href=https://colab.research.google.com/notebooks/data_table.ipynb>data table notebook</a>'\n",
              "            + ' to learn more about interactive tables.';\n",
              "          element.innerHTML = '';\n",
              "          dataTable['output_type'] = 'display_data';\n",
              "          await google.colab.output.renderOutput(dataTable, element);\n",
              "          const docLink = document.createElement('div');\n",
              "          docLink.innerHTML = docLinkHtml;\n",
              "          element.appendChild(docLink);\n",
              "        }\n",
              "      </script>\n",
              "    </div>\n",
              "  </div>\n",
              "  "
            ]
          },
          "metadata": {},
          "execution_count": 66
        }
      ]
    },
    {
      "cell_type": "code",
      "source": [
        "df['year']"
      ],
      "metadata": {
        "colab": {
          "base_uri": "https://localhost:8080/"
        },
        "id": "rtG3uOwxr3LJ",
        "outputId": "1d9a5042-bf81-4943-c16d-9f9981318383"
      },
      "execution_count": 67,
      "outputs": [
        {
          "output_type": "execute_result",
          "data": {
            "text/plain": [
              "0        2011\n",
              "1        2011\n",
              "2        2011\n",
              "3        2011\n",
              "4        2011\n",
              "         ... \n",
              "10881    2012\n",
              "10882    2012\n",
              "10883    2012\n",
              "10884    2012\n",
              "10885    2012\n",
              "Name: year, Length: 10886, dtype: int64"
            ]
          },
          "metadata": {},
          "execution_count": 67
        }
      ]
    },
    {
      "cell_type": "markdown",
      "source": [
        "# (3) year, month, day, hour, minute, second 데이터 개수 시각화하기"
      ],
      "metadata": {
        "id": "fbbDPlmcjQ1r"
      }
    },
    {
      "cell_type": "code",
      "source": [
        "import seaborn as sns\n",
        "\n",
        "fig, ax = plt.subplots(3, 2, figsize=(10,10))\n",
        "\n",
        "sns.countplot(x=\"year\", data = df, ax=ax[0,0])\n",
        "sns.countplot(x=\"month\", data = df, ax=ax[0,1])\n",
        "sns.countplot(x=\"day\", data = df, ax=ax[1,0])\n",
        "sns.countplot(x=\"hour\", data = df, ax=ax[1,1])\n",
        "sns.countplot(x=\"min\", data = df, ax=ax[2,0])\n",
        "sns.countplot(x=\"sec\", data = df, ax=ax[2,1])\n",
        "\n",
        "plt.show()"
      ],
      "metadata": {
        "colab": {
          "base_uri": "https://localhost:8080/",
          "height": 606
        },
        "id": "U-1zgw20sgiP",
        "outputId": "ea77bc4b-0ed1-4b50-d972-6d774d13346d"
      },
      "execution_count": 68,
      "outputs": [
        {
          "output_type": "display_data",
          "data": {
            "text/plain": [
              "<Figure size 720x720 with 6 Axes>"
            ],
            "image/png": "[encoded data removed]"
          },
          "metadata": {
            "needs_background": "light"
          }
        }
      ]
    },
    {
      "cell_type": "markdown",
      "source": [
        "# (4) X, y 컬럼 선택 및 train/test 데이터 분리\n"
      ],
      "metadata": {
        "id": "MfgnzQ9rjUjJ"
      }
    },
    {
      "cell_type": "code",
      "source": [
        "# 다른 데이터 확인\n",
        "\n",
        "fig, ax = plt.subplots(3, 2, figsize=(10,10))\n",
        "\n",
        "sns.countplot(x=\"season\", data = df, ax=ax[0,0])\n",
        "sns.countplot(x=\"holiday\", data = df, ax=ax[0,1])\n",
        "sns.countplot(x=\"workingday\", data = df, ax=ax[1,0])\n",
        "sns.countplot(x=\"weather\", data = df, ax=ax[1,1])\n",
        "sns.countplot(x=\"windspeed\", data = df, ax=ax[2,0])\n",
        "\n",
        "plt.show()"
      ],
      "metadata": {
        "colab": {
          "base_uri": "https://localhost:8080/",
          "height": 606
        },
        "id": "hH97_OYVveeq",
        "outputId": "ed1e0ed9-1343-40c4-adb9-94c4956bd84f"
      },
      "execution_count": 69,
      "outputs": [
        {
          "output_type": "display_data",
          "data": {
            "text/plain": [
              "<Figure size 720x720 with 6 Axes>"
            ],
            "image/png": "[encoded data removed]"
          },
          "metadata": {
            "needs_background": "light"
          }
        }
      ]
    },
    {
      "cell_type": "code",
      "source": [
        "df.head()"
      ],
      "metadata": {
        "colab": {
          "base_uri": "https://localhost:8080/",
          "height": 357
        },
        "id": "YwaY0CV9v51B",
        "outputId": "fababa38-837f-4991-b8a0-c94c28bd6573"
      },
      "execution_count": 70,
      "outputs": [
        {
          "output_type": "execute_result",
          "data": {
            "text/plain": [
              "             datetime  season  holiday  workingday  weather  temp   atemp  \\\n",
              "0 2011-01-01 00:00:00       1        0           0        1  9.84  14.395   \n",
              "1 2011-01-01 01:00:00       1        0           0        1  9.02  13.635   \n",
              "2 2011-01-01 02:00:00       1        0           0        1  9.02  13.635   \n",
              "3 2011-01-01 03:00:00       1        0           0        1  9.84  14.395   \n",
              "4 2011-01-01 04:00:00       1        0           0        1  9.84  14.395   \n",
              "\n",
              "   humidity  windspeed  casual  registered  count  year  month  day  hour  \\\n",
              "0        81        0.0       3          13     16  2011      1    1     0   \n",
              "1        80        0.0       8          32     40  2011      1    1     1   \n",
              "2        80        0.0       5          27     32  2011      1    1     2   \n",
              "3        75        0.0       3          10     13  2011      1    1     3   \n",
              "4        75        0.0       0           1      1  2011      1    1     4   \n",
              "\n",
              "   min  sec  \n",
              "0    0    0  \n",
              "1    0    0  \n",
              "2    0    0  \n",
              "3    0    0  \n",
              "4    0    0  "
            ],
            "text/html": [
              "\n",
              "  <div id=\"df-c0457703-f808-439c-959f-1e46d56e7e70\">\n",
              "    <div class=\"colab-df-container\">\n",
              "      <div>\n",
              "<style scoped>\n",
              "    .dataframe tbody tr th:only-of-type {\n",
              "        vertical-align: middle;\n",
              "    }\n",
              "\n",
              "    .dataframe tbody tr th {\n",
              "        vertical-align: top;\n",
              "    }\n",
              "\n",
              "    .dataframe thead th {\n",
              "        text-align: right;\n",
              "    }\n",
              "</style>\n",
              "<table border=\"1\" class=\"dataframe\">\n",
              "  <thead>\n",
              "    <tr style=\"text-align: right;\">\n",
              "      <th></th>\n",
              "      <th>datetime</th>\n",
              "      <th>season</th>\n",
              "      <th>holiday</th>\n",
              "      <th>workingday</th>\n",
              "      <th>weather</th>\n",
              "      <th>temp</th>\n",
              "      <th>atemp</th>\n",
              "      <th>humidity</th>\n",
              "      <th>windspeed</th>\n",
              "      <th>casual</th>\n",
              "      <th>registered</th>\n",
              "      <th>count</th>\n",
              "      <th>year</th>\n",
              "      <th>month</th>\n",
              "      <th>day</th>\n",
              "      <th>hour</th>\n",
              "      <th>min</th>\n",
              "      <th>sec</th>\n",
              "    </tr>\n",
              "  </thead>\n",
              "  <tbody>\n",
              "    <tr>\n",
              "      <th>0</th>\n",
              "      <td>2011-01-01 00:00:00</td>\n",
              "      <td>1</td>\n",
              "      <td>0</td>\n",
              "      <td>0</td>\n",
              "      <td>1</td>\n",
              "      <td>9.84</td>\n",
              "      <td>14.395</td>\n",
              "      <td>81</td>\n",
              "      <td>0.0</td>\n",
              "      <td>3</td>\n",
              "      <td>13</td>\n",
              "      <td>16</td>\n",
              "      <td>2011</td>\n",
              "      <td>1</td>\n",
              "      <td>1</td>\n",
              "      <td>0</td>\n",
              "      <td>0</td>\n",
              "      <td>0</td>\n",
              "    </tr>\n",
              "    <tr>\n",
              "      <th>1</th>\n",
              "      <td>2011-01-01 01:00:00</td>\n",
              "      <td>1</td>\n",
              "      <td>0</td>\n",
              "      <td>0</td>\n",
              "      <td>1</td>\n",
              "      <td>9.02</td>\n",
              "      <td>13.635</td>\n",
              "      <td>80</td>\n",
              "      <td>0.0</td>\n",
              "      <td>8</td>\n",
              "      <td>32</td>\n",
              "      <td>40</td>\n",
              "      <td>2011</td>\n",
              "      <td>1</td>\n",
              "      <td>1</td>\n",
              "      <td>1</td>\n",
              "      <td>0</td>\n",
              "      <td>0</td>\n",
              "    </tr>\n",
              "    <tr>\n",
              "      <th>2</th>\n",
              "      <td>2011-01-01 02:00:00</td>\n",
              "      <td>1</td>\n",
              "      <td>0</td>\n",
              "      <td>0</td>\n",
              "      <td>1</td>\n",
              "      <td>9.02</td>\n",
              "      <td>13.635</td>\n",
              "      <td>80</td>\n",
              "      <td>0.0</td>\n",
              "      <td>5</td>\n",
              "      <td>27</td>\n",
              "      <td>32</td>\n",
              "      <td>2011</td>\n",
              "      <td>1</td>\n",
              "      <td>1</td>\n",
              "      <td>2</td>\n",
              "      <td>0</td>\n",
              "      <td>0</td>\n",
              "    </tr>\n",
              "    <tr>\n",
              "      <th>3</th>\n",
              "      <td>2011-01-01 03:00:00</td>\n",
              "      <td>1</td>\n",
              "      <td>0</td>\n",
              "      <td>0</td>\n",
              "      <td>1</td>\n",
              "      <td>9.84</td>\n",
              "      <td>14.395</td>\n",
              "      <td>75</td>\n",
              "      <td>0.0</td>\n",
              "      <td>3</td>\n",
              "      <td>10</td>\n",
              "      <td>13</td>\n",
              "      <td>2011</td>\n",
              "      <td>1</td>\n",
              "      <td>1</td>\n",
              "      <td>3</td>\n",
              "      <td>0</td>\n",
              "      <td>0</td>\n",
              "    </tr>\n",
              "    <tr>\n",
              "      <th>4</th>\n",
              "      <td>2011-01-01 04:00:00</td>\n",
              "      <td>1</td>\n",
              "      <td>0</td>\n",
              "      <td>0</td>\n",
              "      <td>1</td>\n",
              "      <td>9.84</td>\n",
              "      <td>14.395</td>\n",
              "      <td>75</td>\n",
              "      <td>0.0</td>\n",
              "      <td>0</td>\n",
              "      <td>1</td>\n",
              "      <td>1</td>\n",
              "      <td>2011</td>\n",
              "      <td>1</td>\n",
              "      <td>1</td>\n",
              "      <td>4</td>\n",
              "      <td>0</td>\n",
              "      <td>0</td>\n",
              "    </tr>\n",
              "  </tbody>\n",
              "</table>\n",
              "</div>\n",
              "      <button class=\"colab-df-convert\" onclick=\"convertToInteractive('df-c0457703-f808-439c-959f-1e46d56e7e70')\"\n",
              "              title=\"Convert this dataframe to an interactive table.\"\n",
              "              style=\"display:none;\">\n",
              "        \n",
              "  <svg xmlns=\"http://www.w3.org/2000/svg\" height=\"24px\"viewBox=\"0 0 24 24\"\n",
              "       width=\"24px\">\n",
              "    <path d=\"M0 0h24v24H0V0z\" fill=\"none\"/>\n",
              "    <path d=\"M18.56 5.44l.94 2.06.94-2.06 2.06-.94-2.06-.94-.94-2.06-.94 2.06-2.06.94zm-11 1L8.5 8.5l.94-2.06 2.06-.94-2.06-.94L8.5 2.5l-.94 2.06-2.06.94zm10 10l.94 2.06.94-2.06 2.06-.94-2.06-.94-.94-2.06-.94 2.06-2.06.94z\"/><path d=\"M17.41 7.96l-1.37-1.37c-.4-.4-.92-.59-1.43-.59-.52 0-1.04.2-1.43.59L10.3 9.45l-7.72 7.72c-.78.78-.78 2.05 0 2.83L4 21.41c.39.39.9.59 1.41.59.51 0 1.02-.2 1.41-.59l7.78-7.78 2.81-2.81c.8-.78.8-2.07 0-2.86zM5.41 20L4 18.59l7.72-7.72 1.47 1.35L5.41 20z\"/>\n",
              "  </svg>\n",
              "      </button>\n",
              "      \n",
              "  <style>\n",
              "    .colab-df-container {\n",
              "      display:flex;\n",
              "      flex-wrap:wrap;\n",
              "      gap: 12px;\n",
              "    }\n",
              "\n",
              "    .colab-df-convert {\n",
              "      background-color: #E8F0FE;\n",
              "      border: none;\n",
              "      border-radius: 50%;\n",
              "      cursor: pointer;\n",
              "      display: none;\n",
              "      fill: #1967D2;\n",
              "      height: 32px;\n",
              "      padding: 0 0 0 0;\n",
              "      width: 32px;\n",
              "    }\n",
              "\n",
              "    .colab-df-convert:hover {\n",
              "      background-color: #E2EBFA;\n",
              "      box-shadow: 0px 1px 2px rgba(60, 64, 67, 0.3), 0px 1px 3px 1px rgba(60, 64, 67, 0.15);\n",
              "      fill: #174EA6;\n",
              "    }\n",
              "\n",
              "    [theme=dark] .colab-df-convert {\n",
              "      background-color: #3B4455;\n",
              "      fill: #D2E3FC;\n",
              "    }\n",
              "\n",
              "    [theme=dark] .colab-df-convert:hover {\n",
              "      background-color: #434B5C;\n",
              "      box-shadow: 0px 1px 3px 1px rgba(0, 0, 0, 0.15);\n",
              "      filter: drop-shadow(0px 1px 2px rgba(0, 0, 0, 0.3));\n",
              "      fill: #FFFFFF;\n",
              "    }\n",
              "  </style>\n",
              "\n",
              "      <script>\n",
              "        const buttonEl =\n",
              "          document.querySelector('#df-c0457703-f808-439c-959f-1e46d56e7e70 button.colab-df-convert');\n",
              "        buttonEl.style.display =\n",
              "          google.colab.kernel.accessAllowed ? 'block' : 'none';\n",
              "\n",
              "        async function convertToInteractive(key) {\n",
              "          const element = document.querySelector('#df-c0457703-f808-439c-959f-1e46d56e7e70');\n",
              "          const dataTable =\n",
              "            await google.colab.kernel.invokeFunction('convertToInteractive',\n",
              "                                                     [key], {});\n",
              "          if (!dataTable) return;\n",
              "\n",
              "          const docLinkHtml = 'Like what you see? Visit the ' +\n",
              "            '<a target=\"_blank\" href=https://colab.research.google.com/notebooks/data_table.ipynb>data table notebook</a>'\n",
              "            + ' to learn more about interactive tables.';\n",
              "          element.innerHTML = '';\n",
              "          dataTable['output_type'] = 'display_data';\n",
              "          await google.colab.output.renderOutput(dataTable, element);\n",
              "          const docLink = document.createElement('div');\n",
              "          docLink.innerHTML = docLinkHtml;\n",
              "          element.appendChild(docLink);\n",
              "        }\n",
              "      </script>\n",
              "    </div>\n",
              "  </div>\n",
              "  "
            ]
          },
          "metadata": {},
          "execution_count": 70
        }
      ]
    },
    {
      "cell_type": "code",
      "source": [
        "y = df['count'].values\n",
        "df_1 = df.drop(['datetime', 'min', 'sec','count','casual','registered'], axis=1)\n",
        "df_1.head()"
      ],
      "metadata": {
        "colab": {
          "base_uri": "https://localhost:8080/",
          "height": 250
        },
        "id": "RSEuMxsljWSV",
        "outputId": "2bde21c3-b027-430c-c35c-426e51586a50"
      },
      "execution_count": 72,
      "outputs": [
        {
          "output_type": "execute_result",
          "data": {
            "text/plain": [
              "   season  holiday  workingday  weather  temp   atemp  humidity  windspeed  \\\n",
              "0       1        0           0        1  9.84  14.395        81        0.0   \n",
              "1       1        0           0        1  9.02  13.635        80        0.0   \n",
              "2       1        0           0        1  9.02  13.635        80        0.0   \n",
              "3       1        0           0        1  9.84  14.395        75        0.0   \n",
              "4       1        0           0        1  9.84  14.395        75        0.0   \n",
              "\n",
              "   year  month  day  hour  \n",
              "0  2011      1    1     0  \n",
              "1  2011      1    1     1  \n",
              "2  2011      1    1     2  \n",
              "3  2011      1    1     3  \n",
              "4  2011      1    1     4  "
            ],
            "text/html": [
              "\n",
              "  <div id=\"df-0adae001-f976-4e72-bc0a-b87f423ae0ac\">\n",
              "    <div class=\"colab-df-container\">\n",
              "      <div>\n",
              "<style scoped>\n",
              "    .dataframe tbody tr th:only-of-type {\n",
              "        vertical-align: middle;\n",
              "    }\n",
              "\n",
              "    .dataframe tbody tr th {\n",
              "        vertical-align: top;\n",
              "    }\n",
              "\n",
              "    .dataframe thead th {\n",
              "        text-align: right;\n",
              "    }\n",
              "</style>\n",
              "<table border=\"1\" class=\"dataframe\">\n",
              "  <thead>\n",
              "    <tr style=\"text-align: right;\">\n",
              "      <th></th>\n",
              "      <th>season</th>\n",
              "      <th>holiday</th>\n",
              "      <th>workingday</th>\n",
              "      <th>weather</th>\n",
              "      <th>temp</th>\n",
              "      <th>atemp</th>\n",
              "      <th>humidity</th>\n",
              "      <th>windspeed</th>\n",
              "      <th>year</th>\n",
              "      <th>month</th>\n",
              "      <th>day</th>\n",
              "      <th>hour</th>\n",
              "    </tr>\n",
              "  </thead>\n",
              "  <tbody>\n",
              "    <tr>\n",
              "      <th>0</th>\n",
              "      <td>1</td>\n",
              "      <td>0</td>\n",
              "      <td>0</td>\n",
              "      <td>1</td>\n",
              "      <td>9.84</td>\n",
              "      <td>14.395</td>\n",
              "      <td>81</td>\n",
              "      <td>0.0</td>\n",
              "      <td>2011</td>\n",
              "      <td>1</td>\n",
              "      <td>1</td>\n",
              "      <td>0</td>\n",
              "    </tr>\n",
              "    <tr>\n",
              "      <th>1</th>\n",
              "      <td>1</td>\n",
              "      <td>0</td>\n",
              "      <td>0</td>\n",
              "      <td>1</td>\n",
              "      <td>9.02</td>\n",
              "      <td>13.635</td>\n",
              "      <td>80</td>\n",
              "      <td>0.0</td>\n",
              "      <td>2011</td>\n",
              "      <td>1</td>\n",
              "      <td>1</td>\n",
              "      <td>1</td>\n",
              "    </tr>\n",
              "    <tr>\n",
              "      <th>2</th>\n",
              "      <td>1</td>\n",
              "      <td>0</td>\n",
              "      <td>0</td>\n",
              "      <td>1</td>\n",
              "      <td>9.02</td>\n",
              "      <td>13.635</td>\n",
              "      <td>80</td>\n",
              "      <td>0.0</td>\n",
              "      <td>2011</td>\n",
              "      <td>1</td>\n",
              "      <td>1</td>\n",
              "      <td>2</td>\n",
              "    </tr>\n",
              "    <tr>\n",
              "      <th>3</th>\n",
              "      <td>1</td>\n",
              "      <td>0</td>\n",
              "      <td>0</td>\n",
              "      <td>1</td>\n",
              "      <td>9.84</td>\n",
              "      <td>14.395</td>\n",
              "      <td>75</td>\n",
              "      <td>0.0</td>\n",
              "      <td>2011</td>\n",
              "      <td>1</td>\n",
              "      <td>1</td>\n",
              "      <td>3</td>\n",
              "    </tr>\n",
              "    <tr>\n",
              "      <th>4</th>\n",
              "      <td>1</td>\n",
              "      <td>0</td>\n",
              "      <td>0</td>\n",
              "      <td>1</td>\n",
              "      <td>9.84</td>\n",
              "      <td>14.395</td>\n",
              "      <td>75</td>\n",
              "      <td>0.0</td>\n",
              "      <td>2011</td>\n",
              "      <td>1</td>\n",
              "      <td>1</td>\n",
              "      <td>4</td>\n",
              "    </tr>\n",
              "  </tbody>\n",
              "</table>\n",
              "</div>\n",
              "      <button class=\"colab-df-convert\" onclick=\"convertToInteractive('df-0adae001-f976-4e72-bc0a-b87f423ae0ac')\"\n",
              "              title=\"Convert this dataframe to an interactive table.\"\n",
              "              style=\"display:none;\">\n",
              "        \n",
              "  <svg xmlns=\"http://www.w3.org/2000/svg\" height=\"24px\"viewBox=\"0 0 24 24\"\n",
              "       width=\"24px\">\n",
              "    <path d=\"M0 0h24v24H0V0z\" fill=\"none\"/>\n",
              "    <path d=\"M18.56 5.44l.94 2.06.94-2.06 2.06-.94-2.06-.94-.94-2.06-.94 2.06-2.06.94zm-11 1L8.5 8.5l.94-2.06 2.06-.94-2.06-.94L8.5 2.5l-.94 2.06-2.06.94zm10 10l.94 2.06.94-2.06 2.06-.94-2.06-.94-.94-2.06-.94 2.06-2.06.94z\"/><path d=\"M17.41 7.96l-1.37-1.37c-.4-.4-.92-.59-1.43-.59-.52 0-1.04.2-1.43.59L10.3 9.45l-7.72 7.72c-.78.78-.78 2.05 0 2.83L4 21.41c.39.39.9.59 1.41.59.51 0 1.02-.2 1.41-.59l7.78-7.78 2.81-2.81c.8-.78.8-2.07 0-2.86zM5.41 20L4 18.59l7.72-7.72 1.47 1.35L5.41 20z\"/>\n",
              "  </svg>\n",
              "      </button>\n",
              "      \n",
              "  <style>\n",
              "    .colab-df-container {\n",
              "      display:flex;\n",
              "      flex-wrap:wrap;\n",
              "      gap: 12px;\n",
              "    }\n",
              "\n",
              "    .colab-df-convert {\n",
              "      background-color: #E8F0FE;\n",
              "      border: none;\n",
              "      border-radius: 50%;\n",
              "      cursor: pointer;\n",
              "      display: none;\n",
              "      fill: #1967D2;\n",
              "      height: 32px;\n",
              "      padding: 0 0 0 0;\n",
              "      width: 32px;\n",
              "    }\n",
              "\n",
              "    .colab-df-convert:hover {\n",
              "      background-color: #E2EBFA;\n",
              "      box-shadow: 0px 1px 2px rgba(60, 64, 67, 0.3), 0px 1px 3px 1px rgba(60, 64, 67, 0.15);\n",
              "      fill: #174EA6;\n",
              "    }\n",
              "\n",
              "    [theme=dark] .colab-df-convert {\n",
              "      background-color: #3B4455;\n",
              "      fill: #D2E3FC;\n",
              "    }\n",
              "\n",
              "    [theme=dark] .colab-df-convert:hover {\n",
              "      background-color: #434B5C;\n",
              "      box-shadow: 0px 1px 3px 1px rgba(0, 0, 0, 0.15);\n",
              "      filter: drop-shadow(0px 1px 2px rgba(0, 0, 0, 0.3));\n",
              "      fill: #FFFFFF;\n",
              "    }\n",
              "  </style>\n",
              "\n",
              "      <script>\n",
              "        const buttonEl =\n",
              "          document.querySelector('#df-0adae001-f976-4e72-bc0a-b87f423ae0ac button.colab-df-convert');\n",
              "        buttonEl.style.display =\n",
              "          google.colab.kernel.accessAllowed ? 'block' : 'none';\n",
              "\n",
              "        async function convertToInteractive(key) {\n",
              "          const element = document.querySelector('#df-0adae001-f976-4e72-bc0a-b87f423ae0ac');\n",
              "          const dataTable =\n",
              "            await google.colab.kernel.invokeFunction('convertToInteractive',\n",
              "                                                     [key], {});\n",
              "          if (!dataTable) return;\n",
              "\n",
              "          const docLinkHtml = 'Like what you see? Visit the ' +\n",
              "            '<a target=\"_blank\" href=https://colab.research.google.com/notebooks/data_table.ipynb>data table notebook</a>'\n",
              "            + ' to learn more about interactive tables.';\n",
              "          element.innerHTML = '';\n",
              "          dataTable['output_type'] = 'display_data';\n",
              "          await google.colab.output.renderOutput(dataTable, element);\n",
              "          const docLink = document.createElement('div');\n",
              "          docLink.innerHTML = docLinkHtml;\n",
              "          element.appendChild(docLink);\n",
              "        }\n",
              "      </script>\n",
              "    </div>\n",
              "  </div>\n",
              "  "
            ]
          },
          "metadata": {},
          "execution_count": 72
        }
      ]
    },
    {
      "cell_type": "code",
      "source": [
        "y"
      ],
      "metadata": {
        "colab": {
          "base_uri": "https://localhost:8080/"
        },
        "id": "StkjlQ8zwkQw",
        "outputId": "45af2f0f-b066-4319-97d4-4557449d1afc"
      },
      "execution_count": 73,
      "outputs": [
        {
          "output_type": "execute_result",
          "data": {
            "text/plain": [
              "array([ 16,  40,  32, ..., 168, 129,  88])"
            ]
          },
          "metadata": {},
          "execution_count": 73
        }
      ]
    },
    {
      "cell_type": "code",
      "source": [
        "from sklearn.model_selection import train_test_split\n",
        "\n",
        "X_train, X_test, y_train, y_test = train_test_split(df_1, \n",
        "                                                    y, \n",
        "                                                    test_size = 0.2, \n",
        "                                                    random_state = 77)"
      ],
      "metadata": {
        "id": "j7ZuuN0KxJMX"
      },
      "execution_count": 74,
      "outputs": []
    },
    {
      "cell_type": "markdown",
      "source": [
        "# (5) LinearRegression 모델 학습\n"
      ],
      "metadata": {
        "id": "TUzfP-6HjZeY"
      }
    },
    {
      "cell_type": "code",
      "source": [
        "from sklearn.linear_model import LinearRegression\n",
        "\n",
        "LR_model = LinearRegression()\n",
        "LR_model.fit(X_train, y_train)\n",
        "\n"
      ],
      "metadata": {
        "colab": {
          "base_uri": "https://localhost:8080/"
        },
        "id": "43dWKlIQjXq9",
        "outputId": "25a90684-2445-4bad-f5c7-612e4d7b080d"
      },
      "execution_count": 75,
      "outputs": [
        {
          "output_type": "execute_result",
          "data": {
            "text/plain": [
              "LinearRegression()"
            ]
          },
          "metadata": {},
          "execution_count": 75
        }
      ]
    },
    {
      "cell_type": "markdown",
      "source": [
        "# (6) 학습된 모델로 X_test에 대한 예측값 출력 및 손실함수값 계산"
      ],
      "metadata": {
        "id": "hNCGsHbGjb0V"
      }
    },
    {
      "cell_type": "code",
      "source": [
        "y_pred_LR = LR_model.predict(X_test)"
      ],
      "metadata": {
        "id": "SFjHM6hVjdc_"
      },
      "execution_count": 76,
      "outputs": []
    },
    {
      "cell_type": "code",
      "source": [
        "def MSE(a, b):\n",
        "    mse = ((a - b) ** 2).mean()  # 두 값의 차이의 제곱의 평균\n",
        "    return mse\n",
        "\n",
        "loss = MSE(y_pred_LR, y_test)\n",
        "print(loss)"
      ],
      "metadata": {
        "colab": {
          "base_uri": "https://localhost:8080/"
        },
        "id": "m8W0K5tny_9R",
        "outputId": "75e821be-647e-4f92-e22e-f2794f8fa27c"
      },
      "execution_count": 77,
      "outputs": [
        {
          "output_type": "stream",
          "name": "stdout",
          "text": [
            "19957.165412754155\n"
          ]
        }
      ]
    },
    {
      "cell_type": "code",
      "source": [
        "def RMSE(a, b):\n",
        "    mse = ((a - b) ** 2).mean()  # 두 값의 차이의 제곱의 평균\n",
        "    rmse = mse ** 0.5        # MSE의 제곱근\n",
        "    return rmse\n",
        "\n",
        "print(RMSE(y_pred_LR, y_test))"
      ],
      "metadata": {
        "colab": {
          "base_uri": "https://localhost:8080/"
        },
        "id": "QwbZyOaRzmOF",
        "outputId": "f6f5c34f-b009-4a56-f704-1876e272e34b"
      },
      "execution_count": 78,
      "outputs": [
        {
          "output_type": "stream",
          "name": "stdout",
          "text": [
            "141.26983192725245\n"
          ]
        }
      ]
    },
    {
      "cell_type": "markdown",
      "source": [
        "# (7) x축은 temp 또는 humidity로, y축은 count로 예측 결과 시각화하기"
      ],
      "metadata": {
        "id": "YPmwaWfzjd6s"
      }
    },
    {
      "cell_type": "code",
      "source": [
        "# x축에 X 데이터 중 temp 데이터를, y축에는 count 데이터를 넣어서 시각화하기 \n",
        "\n",
        "plt.scatter(X_test.iloc[:,4], y_test, s=2, alpha = 0.5)\n",
        "plt.scatter(X_test.iloc[:,4], y_pred_LR, s=2, alpha = 0.5)\n",
        "plt.xlabel('Temperature')\n",
        "plt.ylabel('Count')\n",
        "plt.show()"
      ],
      "metadata": {
        "colab": {
          "base_uri": "https://localhost:8080/",
          "height": 279
        },
        "id": "NYppQzMSjgG0",
        "outputId": "e86eb247-958d-40be-d232-e92aadcd8108"
      },
      "execution_count": 90,
      "outputs": [
        {
          "output_type": "display_data",
          "data": {
            "text/plain": [
              "<Figure size 432x288 with 1 Axes>"
            ],
            "image/png": "[encoded data removed]"
          },
          "metadata": {
            "needs_background": "light"
          }
        }
      ]
    },
    {
      "cell_type": "code",
      "source": [
        "# x축에 X 데이터 중 humidity 데이터를, y축에는 count 데이터를 넣어서 시각화하기 \n",
        "\n",
        "plt.scatter(X_test.iloc[:,6], y_test, s=2, alpha = 0.5)\n",
        "plt.scatter(X_test.iloc[:,6], y_pred_LR, s=2, alpha = 0.5)\n",
        "plt.xlabel('Humidity')\n",
        "plt.ylabel('Count')\n",
        "plt.show()"
      ],
      "metadata": {
        "colab": {
          "base_uri": "https://localhost:8080/",
          "height": 279
        },
        "id": "CpFHkCq-0KKp",
        "outputId": "2634bf4e-b79c-4ede-969b-70873965f0ad"
      },
      "execution_count": 91,
      "outputs": [
        {
          "output_type": "display_data",
          "data": {
            "text/plain": [
              "<Figure size 432x288 with 1 Axes>"
            ],
            "image/png": "[encoded data removed]"
          },
          "metadata": {
            "needs_background": "light"
          }
        }
      ]
    },
    {
      "cell_type": "markdown",
      "source": [
        "# **결론**\n",
        "\n",
        "- 본 프로젝트는 학습하기 전 특성들을 살펴보고 어떤 특성을 필요로 하는지 파악하고 전처리를 하는 과정을 잘 진행해야 하는 프로젝트였다. \n",
        "\n",
        "- 온도와 습도, 날짜, 시간, 계정 등의 다양한 특성들을 바탕으로 자전거 대여량을 예측할 때 LinearRegression 모델을 활용하면 목표 오차값 이하를 얻을 수 있었다. \n"
      ],
      "metadata": {
        "id": "GlG0_g1_1L_z"
      }
    },
    {
      "cell_type": "markdown",
      "source": [
        "# **회고**\n",
        "\n",
        "- 첫번째 노드에 비해서 난이도가 갑자기 어려워져서 생각보다 시간이 많이 소요됨.\n",
        "\n",
        "- 특히 첫번째 문제에서는 모델을 변경하지 않고 하이퍼파라미터와 입력 데이터만을 통해서 오차를 줄이는 것이 생소해서 어려웠음.\n",
        "\n"
      ],
      "metadata": {
        "id": "we9eRXjL2TAG"
      }
    }
  ]
}