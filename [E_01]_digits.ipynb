{
  "nbformat": 4,
  "nbformat_minor": 0,
  "metadata": {
    "colab": {
      "name": "[E-01] digits.ipynb",
      "provenance": [],
      "authorship_tag": "ABX9TyPkhkigTZEffcrvU0Bnoj0v",
      "include_colab_link": true
    },
    "kernelspec": {
      "name": "python3",
      "display_name": "Python 3"
    },
    "language_info": {
      "name": "python"
    }
  },
  "cells": [
    {
      "cell_type": "markdown",
      "metadata": {
        "id": "view-in-github",
        "colab_type": "text"
      },
      "source": [
        "<a href=\"https://colab.research.google.com/github/BYK82/AIFFEL/blob/main/%5BE_01%5D_digits.ipynb\" target=\"_parent\"><img src=\"https://colab.research.google.com/assets/colab-badge.svg\" alt=\"Open In Colab\"/></a>"
      ]
    },
    {
      "cell_type": "markdown",
      "source": [
        "프로젝트 (1) load_digits\n",
        "1. 필요한 모듈 Import 하기\n"
      ],
      "metadata": {
        "id": "UM55pCkA9jKi"
      }
    },
    {
      "cell_type": "code",
      "execution_count": 1,
      "metadata": {
        "id": "rs2E2fVZ9eS2"
      },
      "outputs": [],
      "source": [
        "from sklearn.datasets import load_digits\n",
        "from sklearn.model_selection import train_test_split\n",
        "from sklearn.metrics import classification_report"
      ]
    },
    {
      "cell_type": "markdown",
      "source": [
        "2. 데이터 준비"
      ],
      "metadata": {
        "id": "CHe9TP2L99JC"
      }
    },
    {
      "cell_type": "code",
      "source": [
        "digits = load_digits()"
      ],
      "metadata": {
        "id": "Xsuu_p5e98er"
      },
      "execution_count": 4,
      "outputs": []
    },
    {
      "cell_type": "markdown",
      "source": [
        "3. 데이터 이해하기"
      ],
      "metadata": {
        "id": "2m0NXkGj911W"
      }
    },
    {
      "cell_type": "code",
      "source": [
        "### Feature Data 지정하기\n",
        "digits_data = digits.data\n",
        "\n",
        "### Label Data 지정하기\n",
        "digits_label = digits.target\n",
        "\n",
        "### Target Names 출력해 보기\n",
        "print(digits.target_names)\n",
        "\n",
        "### 데이터 Describe 해보기\n",
        "digits.DESCR"
      ],
      "metadata": {
        "colab": {
          "base_uri": "https://localhost:8080/",
          "height": 232
        },
        "id": "1nd4ntDM94Sb",
        "outputId": "3d28c180-70cb-485e-d905-6e91ec5dd533"
      },
      "execution_count": 10,
      "outputs": [
        {
          "output_type": "stream",
          "name": "stdout",
          "text": [
            "[0 1 2 3 4 5 6 7 8 9]\n"
          ]
        },
        {
          "output_type": "execute_result",
          "data": {
            "text/plain": [
              "\".. _digits_dataset:\\n\\nOptical recognition of handwritten digits dataset\\n--------------------------------------------------\\n\\n**Data Set Characteristics:**\\n\\n    :Number of Instances: 1797\\n    :Number of Attributes: 64\\n    :Attribute Information: 8x8 image of integer pixels in the range 0..16.\\n    :Missing Attribute Values: None\\n    :Creator: E. Alpaydin (alpaydin '@' boun.edu.tr)\\n    :Date: July; 1998\\n\\nThis is a copy of the test set of the UCI ML hand-written digits datasets\\nhttps://archive.ics.uci.edu/ml/datasets/Optical+Recognition+of+Handwritten+Digits\\n\\nThe data set contains images of hand-written digits: 10 classes where\\neach class refers to a digit.\\n\\nPreprocessing programs made available by NIST were used to extract\\nnormalized bitmaps of handwritten digits from a preprinted form. From a\\ntotal of 43 people, 30 contributed to the training set and different 13\\nto the test set. 32x32 bitmaps are divided into nonoverlapping blocks of\\n4x4 and the number of on pixels are counted in each block. This generates\\nan input matrix of 8x8 where each element is an integer in the range\\n0..16. This reduces dimensionality and gives invariance to small\\ndistortions.\\n\\nFor info on NIST preprocessing routines, see M. D. Garris, J. L. Blue, G.\\nT. Candela, D. L. Dimmick, J. Geist, P. J. Grother, S. A. Janet, and C.\\nL. Wilson, NIST Form-Based Handprint Recognition System, NISTIR 5469,\\n1994.\\n\\n.. topic:: References\\n\\n  - C. Kaynak (1995) Methods of Combining Multiple Classifiers and Their\\n    Applications to Handwritten Digit Recognition, MSc Thesis, Institute of\\n    Graduate Studies in Science and Engineering, Bogazici University.\\n  - E. Alpaydin, C. Kaynak (1998) Cascading Classifiers, Kybernetika.\\n  - Ken Tang and Ponnuthurai N. Suganthan and Xi Yao and A. Kai Qin.\\n    Linear dimensionalityreduction using relevance weighted LDA. School of\\n    Electrical and Electronic Engineering Nanyang Technological University.\\n    2005.\\n  - Claudio Gentile. A New Approximate Maximal Margin Classification\\n    Algorithm. NIPS. 2000.\\n\""
            ],
            "application/vnd.google.colaboratory.intrinsic+json": {
              "type": "string"
            }
          },
          "metadata": {},
          "execution_count": 10
        }
      ]
    },
    {
      "cell_type": "markdown",
      "source": [
        "4. train, test 데이터 분리"
      ],
      "metadata": {
        "id": "7PV0gUyc_RRL"
      }
    },
    {
      "cell_type": "code",
      "source": [
        "X_train, X_test, y_train, y_test = train_test_split(digits_data, \n",
        "                                                    digits_label, \n",
        "                                                    test_size = 0.2, \n",
        "                                                    random_state = 77)"
      ],
      "metadata": {
        "id": "m4j95NBq9zRp"
      },
      "execution_count": null,
      "outputs": []
    },
    {
      "cell_type": "markdown",
      "source": [
        "5. 다양한 모델로 학습시켜보기, 6. 모델을 평가해 보기\n",
        "\n",
        "  \n",
        "\n",
        "> (1) Decision Tree 사용 및 모델 평가\n",
        "\n"
      ],
      "metadata": {
        "id": "TxDqeiFJ_WHC"
      }
    },
    {
      "cell_type": "code",
      "source": [
        "from sklearn.tree import DecisionTreeClassifier\n",
        "\n",
        "decision_tree = DecisionTreeClassifier(random_state = 7)\n",
        "decision_tree.fit(X_train, y_train)\n",
        "y_pred_dtree = decision_tree.predict(X_test)\n",
        "\n",
        "print(classification_report(y_test, y_pred_dtree))"
      ],
      "metadata": {
        "colab": {
          "base_uri": "https://localhost:8080/"
        },
        "id": "aFU7od8aAAX7",
        "outputId": "e2beecbc-1901-4440-895c-abc567d24322"
      },
      "execution_count": 31,
      "outputs": [
        {
          "output_type": "stream",
          "name": "stdout",
          "text": [
            "              precision    recall  f1-score   support\n",
            "\n",
            "           0       0.88      0.97      0.92        31\n",
            "           1       0.90      0.90      0.90        48\n",
            "           2       0.88      0.88      0.88        34\n",
            "           3       0.84      0.89      0.86        35\n",
            "           4       0.89      0.91      0.90        43\n",
            "           5       0.97      0.94      0.95        32\n",
            "           6       1.00      0.89      0.94        38\n",
            "           7       0.89      0.89      0.89        38\n",
            "           8       0.84      0.78      0.81        27\n",
            "           9       0.80      0.82      0.81        34\n",
            "\n",
            "    accuracy                           0.89       360\n",
            "   macro avg       0.89      0.89      0.89       360\n",
            "weighted avg       0.89      0.89      0.89       360\n",
            "\n"
          ]
        }
      ]
    },
    {
      "cell_type": "markdown",
      "source": [
        "> (2) Random Forest 사용 및 모델 평가\n"
      ],
      "metadata": {
        "id": "Yd8UReGmAB45"
      }
    },
    {
      "cell_type": "code",
      "source": [
        "from sklearn.ensemble import RandomForestClassifier\n",
        "\n",
        "random_forest = RandomForestClassifier(random_state=7)\n",
        "random_forest.fit(X_train, y_train)\n",
        "y_pred_rforest = random_forest.predict(X_test)\n",
        "\n",
        "print(classification_report(y_test, y_pred_rforest))"
      ],
      "metadata": {
        "colab": {
          "base_uri": "https://localhost:8080/"
        },
        "id": "RRIk-Xvb_6m3",
        "outputId": "d5426264-0109-451a-cc74-0196fd6de7be"
      },
      "execution_count": 30,
      "outputs": [
        {
          "output_type": "stream",
          "name": "stdout",
          "text": [
            "              precision    recall  f1-score   support\n",
            "\n",
            "           0       1.00      0.97      0.98        31\n",
            "           1       0.98      0.98      0.98        48\n",
            "           2       1.00      1.00      1.00        34\n",
            "           3       0.97      0.97      0.97        35\n",
            "           4       0.98      1.00      0.99        43\n",
            "           5       0.97      0.94      0.95        32\n",
            "           6       1.00      0.97      0.99        38\n",
            "           7       0.95      1.00      0.97        38\n",
            "           8       0.96      0.89      0.92        27\n",
            "           9       0.92      0.97      0.94        34\n",
            "\n",
            "    accuracy                           0.97       360\n",
            "   macro avg       0.97      0.97      0.97       360\n",
            "weighted avg       0.97      0.97      0.97       360\n",
            "\n"
          ]
        }
      ]
    },
    {
      "cell_type": "markdown",
      "source": [
        "\n",
        "> (3) \bSVM 사용 및 모델 평가\n",
        "\n",
        "\n"
      ],
      "metadata": {
        "id": "8gMPHH5o_gFO"
      }
    },
    {
      "cell_type": "code",
      "source": [
        "from sklearn import svm\n",
        "\n",
        "svm_model = svm.SVC(random_state=7)\n",
        "svm_model.fit(X_train, y_train)\n",
        "y_pred_svm = svm_model.predict(X_test)\n",
        "\n",
        "print(classification_report(y_test, y_pred_svm))"
      ],
      "metadata": {
        "colab": {
          "base_uri": "https://localhost:8080/"
        },
        "id": "VyZfcYGV_cFq",
        "outputId": "1f272435-ed73-45f4-b30a-d36065e2a625"
      },
      "execution_count": 29,
      "outputs": [
        {
          "output_type": "stream",
          "name": "stdout",
          "text": [
            "              precision    recall  f1-score   support\n",
            "\n",
            "           0       1.00      1.00      1.00        31\n",
            "           1       1.00      1.00      1.00        48\n",
            "           2       1.00      1.00      1.00        34\n",
            "           3       1.00      1.00      1.00        35\n",
            "           4       1.00      0.98      0.99        43\n",
            "           5       1.00      1.00      1.00        32\n",
            "           6       1.00      1.00      1.00        38\n",
            "           7       1.00      1.00      1.00        38\n",
            "           8       0.96      0.96      0.96        27\n",
            "           9       0.97      1.00      0.99        34\n",
            "\n",
            "    accuracy                           0.99       360\n",
            "   macro avg       0.99      0.99      0.99       360\n",
            "weighted avg       0.99      0.99      0.99       360\n",
            "\n"
          ]
        }
      ]
    },
    {
      "cell_type": "markdown",
      "source": [
        "> (4) SGD Classifier 사용 및 모델 평가\n"
      ],
      "metadata": {
        "id": "r0t3Dq6-_vy7"
      }
    },
    {
      "cell_type": "code",
      "source": [
        "from sklearn.linear_model import SGDClassifier\n",
        "\n",
        "sgd_model = SGDClassifier(random_state=7)\n",
        "sgd_model.fit(X_train, y_train)\n",
        "y_pred_sgd = sgd_model.predict(X_test)\n",
        "\n",
        "print(classification_report(y_test, y_pred_sgd))"
      ],
      "metadata": {
        "colab": {
          "base_uri": "https://localhost:8080/"
        },
        "id": "RD5MimzdAOTj",
        "outputId": "5904e8fc-029c-416d-927a-fd194ee91d09"
      },
      "execution_count": 28,
      "outputs": [
        {
          "output_type": "stream",
          "name": "stdout",
          "text": [
            "              precision    recall  f1-score   support\n",
            "\n",
            "           0       1.00      1.00      1.00        31\n",
            "           1       0.87      0.96      0.91        48\n",
            "           2       1.00      0.97      0.99        34\n",
            "           3       0.94      0.94      0.94        35\n",
            "           4       0.98      0.95      0.96        43\n",
            "           5       0.96      0.78      0.86        32\n",
            "           6       1.00      0.97      0.99        38\n",
            "           7       0.97      0.95      0.96        38\n",
            "           8       0.88      0.78      0.82        27\n",
            "           9       0.81      1.00      0.89        34\n",
            "\n",
            "    accuracy                           0.94       360\n",
            "   macro avg       0.94      0.93      0.93       360\n",
            "weighted avg       0.94      0.94      0.94       360\n",
            "\n"
          ]
        }
      ]
    },
    {
      "cell_type": "markdown",
      "source": [
        "> (5) Logisitic Regression 사용 및 모델 평가\n"
      ],
      "metadata": {
        "id": "9_8J9nfrAO_b"
      }
    },
    {
      "cell_type": "code",
      "source": [
        "from sklearn.linear_model import LogisticRegression\n",
        "\n",
        "logistic_model = LogisticRegression(max_iter = 10000, random_state=7)\n",
        "logistic_model.fit(X_train, y_train)\n",
        "y_pred_logisitic = logistic_model.predict(X_test)\n",
        "\n",
        "print(classification_report(y_test, y_pred_logisitic))"
      ],
      "metadata": {
        "colab": {
          "base_uri": "https://localhost:8080/"
        },
        "id": "1e0k1XODAPpt",
        "outputId": "b1e8cfd4-fc41-4ded-8b74-314f54a3b61c"
      },
      "execution_count": 27,
      "outputs": [
        {
          "output_type": "stream",
          "name": "stdout",
          "text": [
            "              precision    recall  f1-score   support\n",
            "\n",
            "           0       1.00      1.00      1.00        31\n",
            "           1       0.94      0.94      0.94        48\n",
            "           2       1.00      1.00      1.00        34\n",
            "           3       0.97      0.97      0.97        35\n",
            "           4       0.98      0.93      0.95        43\n",
            "           5       0.97      0.97      0.97        32\n",
            "           6       1.00      0.97      0.99        38\n",
            "           7       0.97      0.97      0.97        38\n",
            "           8       0.90      0.96      0.93        27\n",
            "           9       0.97      1.00      0.99        34\n",
            "\n",
            "    accuracy                           0.97       360\n",
            "   macro avg       0.97      0.97      0.97       360\n",
            "weighted avg       0.97      0.97      0.97       360\n",
            "\n"
          ]
        }
      ]
    },
    {
      "cell_type": "code",
      "source": [
        "from sklearn.metrics import accuracy_score\n",
        "\n",
        "scoring = {'Decision Tree accuracy':accuracy_score(y_test, y_pred_dtree), \n",
        "           'Random Forest accuracy':accuracy_score(y_test, y_pred_rforest),\n",
        "           'SVM accuracy':accuracy_score(y_test, y_pred_svm),\n",
        "           'SGD Classifier accuracy':accuracy_score(y_test, y_pred_sgd),\n",
        "           'Logistic accuracy':accuracy_score(y_test, y_pred_logisitic)}\n",
        "\n",
        "print(scoring)"
      ],
      "metadata": {
        "colab": {
          "base_uri": "https://localhost:8080/"
        },
        "id": "6BdmN3xHHkUg",
        "outputId": "3ce3ed6b-b5b6-4204-d78b-5eb8979d7d48"
      },
      "execution_count": 36,
      "outputs": [
        {
          "output_type": "stream",
          "name": "stdout",
          "text": [
            "{'Decision Tree accuracy': 0.8888888888888888, 'Random Forest accuracy': 0.9722222222222222, 'SVM accuracy': 0.9944444444444445, 'SGD Classifier accuracy': 0.9361111111111111, 'Logistic accuracy': 0.9694444444444444}\n"
          ]
        }
      ]
    },
    {
      "cell_type": "markdown",
      "source": [
        "결론 \n",
        "\n",
        "-> SVM Model 을 사용했을 때 가장 정확도가 높게 나왔습니다. \n",
        "\n",
        "-> 오차행렬을 바탕으로 계산되는 성능지표는  Recall, Specificity, Precision, Negative Predictive value, Accuracy 가 있습니다. 그 중 classification report 에서는 precision, Recall, f1-score를 한 번에 확인할 수 있습니다. digits 데이터의 경우 총 10개의 label로 분류되기 때문에 모델을 평가하는 지표로는 True positive 와 True negative를 같이 평가하는 accuracy로 판단하는 것이 적절한 것 같습니다. "
      ],
      "metadata": {
        "id": "45qTzMNECxH1"
      }
    },
    {
      "cell_type": "code",
      "source": [
        ""
      ],
      "metadata": {
        "id": "jfaKhJjAIDc4"
      },
      "execution_count": null,
      "outputs": []
    }
  ]
}